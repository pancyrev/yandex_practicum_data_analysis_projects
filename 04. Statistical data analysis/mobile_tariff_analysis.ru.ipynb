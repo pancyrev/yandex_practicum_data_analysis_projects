{
 "cells": [
  {
   "cell_type": "markdown",
   "metadata": {},
   "source": [
    "# Определение перспективного тарифа для телеком-компании"
   ]
  },
  {
   "cell_type": "markdown",
   "metadata": {
    "toc": true
   },
   "source": [
    "<h1>Оглавление<span class=\"tocSkip\"></span></h1>\n",
    "<div class=\"toc\"><ul class=\"toc-item\"><li><span><a href=\"#Общая-информация\" data-toc-modified-id=\"Общая-информация-1\"><span class=\"toc-item-num\">1&nbsp;&nbsp;</span>Общая информация</a></span></li><li><span><a href=\"#Обзор-данных\" data-toc-modified-id=\"Обзор-данных-2\"><span class=\"toc-item-num\">2&nbsp;&nbsp;</span>Обзор данных</a></span></li><li><span><a href=\"#Предобработка-данных\" data-toc-modified-id=\"Предобработка-данных-3\"><span class=\"toc-item-num\">3&nbsp;&nbsp;</span>Предобработка данных</a></span><ul class=\"toc-item\"><li><span><a href=\"#Поиск-ошибок-в-данных-и-приведение-к-нужному-типу\" data-toc-modified-id=\"Поиск-ошибок-в-данных-и-приведение-к-нужному-типу-3.1\"><span class=\"toc-item-num\">3.1&nbsp;&nbsp;</span>Поиск ошибок в данных и приведение к нужному типу</a></span></li><li><span><a href=\"#Kоличество-сделанных-звонков-и-израсходованных-минут-разговора-по-месяцам\" data-toc-modified-id=\"Kоличество-сделанных-звонков-и-израсходованных-минут-разговора-по-месяцам-3.2\"><span class=\"toc-item-num\">3.2&nbsp;&nbsp;</span>Kоличество сделанных звонков и израсходованных минут разговора по месяцам</a></span></li><li><span><a href=\"#Количество-отправленных-сообщений-по-месяцам\" data-toc-modified-id=\"Количество-отправленных-сообщений-по-месяцам-3.3\"><span class=\"toc-item-num\">3.3&nbsp;&nbsp;</span>Количество отправленных сообщений по месяцам</a></span></li><li><span><a href=\"#Объем-израсходованного-интернет-трафика-по-месяцам\" data-toc-modified-id=\"Объем-израсходованного-интернет-трафика-по-месяцам-3.4\"><span class=\"toc-item-num\">3.4&nbsp;&nbsp;</span>Объем израсходованного интернет-трафика по месяцам</a></span></li><li><span><a href=\"#Помесячная-выручка-с-каждого-пользователя\" data-toc-modified-id=\"Помесячная-выручка-с-каждого-пользователя-3.5\"><span class=\"toc-item-num\">3.5&nbsp;&nbsp;</span>Помесячная выручка с каждого пользователя</a></span></li><li><span><a href=\"#Выводы\" data-toc-modified-id=\"Выводы-3.6\"><span class=\"toc-item-num\">3.6&nbsp;&nbsp;</span>Выводы</a></span></li></ul></li><li><span><a href=\"#Анализ-данных\" data-toc-modified-id=\"Анализ-данных-4\"><span class=\"toc-item-num\">4&nbsp;&nbsp;</span>Анализ данных</a></span><ul class=\"toc-item\"><li><span><a href=\"#Анализ-длительности-звонков-в-месяц\" data-toc-modified-id=\"Анализ-длительности-звонков-в-месяц-4.1\"><span class=\"toc-item-num\">4.1&nbsp;&nbsp;</span>Анализ длительности звонков в месяц</a></span></li><li><span><a href=\"#Анализ-количества-сообщений-в-месяц\" data-toc-modified-id=\"Анализ-количества-сообщений-в-месяц-4.2\"><span class=\"toc-item-num\">4.2&nbsp;&nbsp;</span>Анализ количества сообщений в месяц</a></span></li><li><span><a href=\"#Анализ-интернет-трафика-в-месяц\" data-toc-modified-id=\"Анализ-интернет-трафика-в-месяц-4.3\"><span class=\"toc-item-num\">4.3&nbsp;&nbsp;</span>Анализ интернет-трафика в месяц</a></span></li><li><span><a href=\"#Анализ-выручки\" data-toc-modified-id=\"Анализ-выручки-4.4\"><span class=\"toc-item-num\">4.4&nbsp;&nbsp;</span>Анализ выручки</a></span></li><li><span><a href=\"#Выводы\" data-toc-modified-id=\"Выводы-4.5\"><span class=\"toc-item-num\">4.5&nbsp;&nbsp;</span>Выводы</a></span></li></ul></li><li><span><a href=\"#Проверка-гипотезы\" data-toc-modified-id=\"Проверка-гипотезы-5\"><span class=\"toc-item-num\">5&nbsp;&nbsp;</span>Проверка гипотезы</a></span></li><li><span><a href=\"#Общий-вывод\" data-toc-modified-id=\"Общий-вывод-6\"><span class=\"toc-item-num\">6&nbsp;&nbsp;</span>Общий вывод</a></span></li></ul></div>"
   ]
  },
  {
   "cell_type": "markdown",
   "metadata": {},
   "source": [
    "## Общая информация"
   ]
  },
  {
   "cell_type": "markdown",
   "metadata": {},
   "source": [
    "[*Вернуться к оглавлению*](#Оглавление)"
   ]
  },
  {
   "cell_type": "markdown",
   "metadata": {},
   "source": [
    "**Входные данные**: описание тарифов \"Смарт\" и \"Ультра\", данные пользователей \"Мегалайна\".\n",
    "\n",
    "Описание тарифов  \n",
    "Тариф «Смарт»\n",
    "\n",
    "    Ежемесячная плата: 550 рублей\n",
    "    Включено 500 минут разговора, 50 сообщений и 15 Гб интернет-трафика\n",
    "    Стоимость услуг сверх тарифного пакета:\n",
    "        минута разговора: 3 рубля\n",
    "        сообщение: 3 рубля\n",
    "        1 Гб интернет-трафика: 200 рублей\n",
    "\n",
    "Тариф «Ультра»\n",
    "\n",
    "    Ежемесячная плата: 1950 рублей\n",
    "    Включено 3000 минут разговора, 1000 сообщений и 30 Гб интернет-трафика\n",
    "    Стоимость услуг сверх тарифного пакета:\n",
    "        минута разговора: 1 рубль\n",
    "        сообщение: 1 рубль\n",
    "        1 Гб интернет-трафика: 150 рублей\n",
    "        \n",
    "Данные пользователей: кто они, откуда, каким тарифом пользуются, сколько звонков и сообщений каждый отправил за 2018 год.\n",
    "\n",
    "    «Мегалайн» всегда округляет секунды до минут, а мегабайты — до гигабайт. Каждый звонок округляется отдельно: даже если он длился всего 1 секунду, будет засчитан как 1 минута.\n",
    "    Для веб-трафика отдельные сессии не считаются. Вместо этого общая сумма за месяц округляется в бо́льшую сторону. Если абонент использует 1025 мегабайт в этом месяце, с него возьмут плату за 2 гигабайта.\n",
    "    \n",
    "**Цель:** проанализировать поведение клиентов оператора сотовой связи \"Мегалайн\" и сделать вывод — какой тариф лучше \"Смарт\" или \"Ультра\".\n",
    "\n",
    "**Задачи:**  \n",
    "Шаг 1. Откройте файл с данными и изучите общую информацию\n",
    "Путь к файлам:\n",
    "\n",
    "* /datasets/calls.csv.\n",
    "* /datasets/internet.csv.\n",
    "* /datasets/messages.csv.\n",
    "* /datasets/tariffs.csv.\n",
    "* /datasets/users.csv.\n",
    "\n",
    "Шаг 2. Подготовьте данные\n",
    "\n",
    "* Приведите данные к нужным типам;\n",
    "* Найдите и исправьте ошибки в данных, если они есть.\n",
    "\n",
    "Поясните, какие ошибки вы нашли и как их исправили. В данных вы найдёте звонки с нулевой продолжительностью. Это не ошибка: нулями обозначены пропущенные звонки, поэтому их не нужно удалять.\n",
    "Посчитайте для каждого пользователя:\n",
    "\n",
    "* количество сделанных звонков и израсходованных минут разговора по месяцам;\n",
    "* количество отправленных сообщений по месяцам;\n",
    "* объем израсходованного интернет-трафика по месяцам;\n",
    "* помесячную выручку с каждого пользователя (вычтите бесплатный лимит из суммарного количества звонков, сообщений и интернет-трафика; остаток умножьте на значение из тарифного плана; прибавьте абонентскую плату, соответствующую тарифному плану).\n",
    "\n",
    "Шаг 3. Проанализируйте данные\n",
    "Опишите поведение клиентов оператора, исходя из выборки. Сколько минут разговора, сколько сообщений и какой объём интернет-трафика требуется пользователям каждого тарифа в месяц? Посчитайте среднее количество, дисперсию и стандартное отклонение. Постройте гистограммы. Опишите распределения.  \n",
    "Шаг 4. Проверьте гипотезы\n",
    "\n",
    "* средняя выручка пользователей тарифов «Ультра» и «Смарт» различаются;\n",
    "* средняя выручка пользователей из Москвы отличается от выручки пользователей из других регионов.\n",
    "\n",
    "Пороговое значение alpha задайте самостоятельно.\n",
    "Поясните:\n",
    "\n",
    "* как вы формулировали нулевую и альтернативную гипотезы;\n",
    "* какой критерий использовали для проверки гипотез и почему.\n",
    "\n",
    "Шаг 5. Напишите общий вывод\n",
    "Оформление: Задание выполните в Jupyter Notebook. Программный код заполните в ячейках типа code, текстовые пояснения — в ячейках типа markdown. Примените форматирование и заголовки."
   ]
  },
  {
   "cell_type": "markdown",
   "metadata": {},
   "source": [
    "## Обзор данных"
   ]
  },
  {
   "cell_type": "markdown",
   "metadata": {},
   "source": [
    "[*Вернуться к оглавлению*](#Оглавление)"
   ]
  },
  {
   "cell_type": "code",
   "execution_count": 58,
   "metadata": {},
   "outputs": [],
   "source": [
    "import pandas as pd\n",
    "import numpy as np\n",
    "import matplotlib.pyplot as plt\n",
    "from scipy import stats as st"
   ]
  },
  {
   "cell_type": "code",
   "execution_count": 59,
   "metadata": {},
   "outputs": [],
   "source": [
    "# Чтение данных\n",
    "calls_df = pd.read_csv('calls.csv')\n",
    "internet_df = pd.read_csv('internet.csv')\n",
    "messages_df = pd.read_csv('messages.csv')\n",
    "tariffs_df = pd.read_csv('tariffs.csv')\n",
    "users_df = pd.read_csv('users.csv')"
   ]
  },
  {
   "cell_type": "markdown",
   "metadata": {},
   "source": [
    "1. Информация о звонках"
   ]
  },
  {
   "cell_type": "code",
   "execution_count": 60,
   "metadata": {},
   "outputs": [
    {
     "data": {
      "text/html": [
       "<div>\n",
       "<style scoped>\n",
       "    .dataframe tbody tr th:only-of-type {\n",
       "        vertical-align: middle;\n",
       "    }\n",
       "\n",
       "    .dataframe tbody tr th {\n",
       "        vertical-align: top;\n",
       "    }\n",
       "\n",
       "    .dataframe thead th {\n",
       "        text-align: right;\n",
       "    }\n",
       "</style>\n",
       "<table border=\"1\" class=\"dataframe\">\n",
       "  <thead>\n",
       "    <tr style=\"text-align: right;\">\n",
       "      <th></th>\n",
       "      <th>id</th>\n",
       "      <th>call_date</th>\n",
       "      <th>duration</th>\n",
       "      <th>user_id</th>\n",
       "    </tr>\n",
       "  </thead>\n",
       "  <tbody>\n",
       "    <tr>\n",
       "      <th>0</th>\n",
       "      <td>1000_0</td>\n",
       "      <td>2018-07-25</td>\n",
       "      <td>0.00</td>\n",
       "      <td>1000</td>\n",
       "    </tr>\n",
       "    <tr>\n",
       "      <th>1</th>\n",
       "      <td>1000_1</td>\n",
       "      <td>2018-08-17</td>\n",
       "      <td>0.00</td>\n",
       "      <td>1000</td>\n",
       "    </tr>\n",
       "    <tr>\n",
       "      <th>2</th>\n",
       "      <td>1000_2</td>\n",
       "      <td>2018-06-11</td>\n",
       "      <td>2.85</td>\n",
       "      <td>1000</td>\n",
       "    </tr>\n",
       "    <tr>\n",
       "      <th>3</th>\n",
       "      <td>1000_3</td>\n",
       "      <td>2018-09-21</td>\n",
       "      <td>13.80</td>\n",
       "      <td>1000</td>\n",
       "    </tr>\n",
       "    <tr>\n",
       "      <th>4</th>\n",
       "      <td>1000_4</td>\n",
       "      <td>2018-12-15</td>\n",
       "      <td>5.18</td>\n",
       "      <td>1000</td>\n",
       "    </tr>\n",
       "  </tbody>\n",
       "</table>\n",
       "</div>"
      ],
      "text/plain": [
       "       id   call_date  duration  user_id\n",
       "0  1000_0  2018-07-25      0.00     1000\n",
       "1  1000_1  2018-08-17      0.00     1000\n",
       "2  1000_2  2018-06-11      2.85     1000\n",
       "3  1000_3  2018-09-21     13.80     1000\n",
       "4  1000_4  2018-12-15      5.18     1000"
      ]
     },
     "execution_count": 60,
     "metadata": {},
     "output_type": "execute_result"
    }
   ],
   "source": [
    "calls_df.head()"
   ]
  },
  {
   "cell_type": "code",
   "execution_count": 61,
   "metadata": {},
   "outputs": [
    {
     "name": "stdout",
     "output_type": "stream",
     "text": [
      "<class 'pandas.core.frame.DataFrame'>\n",
      "RangeIndex: 202607 entries, 0 to 202606\n",
      "Data columns (total 4 columns):\n",
      " #   Column     Non-Null Count   Dtype  \n",
      "---  ------     --------------   -----  \n",
      " 0   id         202607 non-null  object \n",
      " 1   call_date  202607 non-null  object \n",
      " 2   duration   202607 non-null  float64\n",
      " 3   user_id    202607 non-null  int64  \n",
      "dtypes: float64(1), int64(1), object(2)\n",
      "memory usage: 6.2+ MB\n"
     ]
    }
   ],
   "source": [
    "calls_df.info()"
   ]
  },
  {
   "cell_type": "markdown",
   "metadata": {},
   "source": [
    "Описание полей:\n",
    "* `id` — уникальный номер звонка\n",
    "* `call_date` — дата звонка\n",
    "* `duration` — длительность звонка в минутах\n",
    "* `user_id` — идентификатор пользователя, сделавшего звонок\n",
    "\n",
    "Всего записей 202607. Пропусков не обнаружено. Имена столбцов заданы стилистически верно.  \n",
    "Необходимо в столбце `call_date` изменить тип данных на `datetime`."
   ]
  },
  {
   "cell_type": "markdown",
   "metadata": {},
   "source": [
    "2. Информация об интернет-сессиях"
   ]
  },
  {
   "cell_type": "code",
   "execution_count": 62,
   "metadata": {},
   "outputs": [
    {
     "data": {
      "text/html": [
       "<div>\n",
       "<style scoped>\n",
       "    .dataframe tbody tr th:only-of-type {\n",
       "        vertical-align: middle;\n",
       "    }\n",
       "\n",
       "    .dataframe tbody tr th {\n",
       "        vertical-align: top;\n",
       "    }\n",
       "\n",
       "    .dataframe thead th {\n",
       "        text-align: right;\n",
       "    }\n",
       "</style>\n",
       "<table border=\"1\" class=\"dataframe\">\n",
       "  <thead>\n",
       "    <tr style=\"text-align: right;\">\n",
       "      <th></th>\n",
       "      <th>Unnamed: 0</th>\n",
       "      <th>id</th>\n",
       "      <th>mb_used</th>\n",
       "      <th>session_date</th>\n",
       "      <th>user_id</th>\n",
       "    </tr>\n",
       "  </thead>\n",
       "  <tbody>\n",
       "    <tr>\n",
       "      <th>0</th>\n",
       "      <td>0</td>\n",
       "      <td>1000_0</td>\n",
       "      <td>112.95</td>\n",
       "      <td>2018-11-25</td>\n",
       "      <td>1000</td>\n",
       "    </tr>\n",
       "    <tr>\n",
       "      <th>1</th>\n",
       "      <td>1</td>\n",
       "      <td>1000_1</td>\n",
       "      <td>1052.81</td>\n",
       "      <td>2018-09-07</td>\n",
       "      <td>1000</td>\n",
       "    </tr>\n",
       "    <tr>\n",
       "      <th>2</th>\n",
       "      <td>2</td>\n",
       "      <td>1000_2</td>\n",
       "      <td>1197.26</td>\n",
       "      <td>2018-06-25</td>\n",
       "      <td>1000</td>\n",
       "    </tr>\n",
       "    <tr>\n",
       "      <th>3</th>\n",
       "      <td>3</td>\n",
       "      <td>1000_3</td>\n",
       "      <td>550.27</td>\n",
       "      <td>2018-08-22</td>\n",
       "      <td>1000</td>\n",
       "    </tr>\n",
       "    <tr>\n",
       "      <th>4</th>\n",
       "      <td>4</td>\n",
       "      <td>1000_4</td>\n",
       "      <td>302.56</td>\n",
       "      <td>2018-09-24</td>\n",
       "      <td>1000</td>\n",
       "    </tr>\n",
       "  </tbody>\n",
       "</table>\n",
       "</div>"
      ],
      "text/plain": [
       "   Unnamed: 0      id  mb_used session_date  user_id\n",
       "0           0  1000_0   112.95   2018-11-25     1000\n",
       "1           1  1000_1  1052.81   2018-09-07     1000\n",
       "2           2  1000_2  1197.26   2018-06-25     1000\n",
       "3           3  1000_3   550.27   2018-08-22     1000\n",
       "4           4  1000_4   302.56   2018-09-24     1000"
      ]
     },
     "execution_count": 62,
     "metadata": {},
     "output_type": "execute_result"
    }
   ],
   "source": [
    "internet_df.head()"
   ]
  },
  {
   "cell_type": "code",
   "execution_count": 63,
   "metadata": {},
   "outputs": [
    {
     "name": "stdout",
     "output_type": "stream",
     "text": [
      "<class 'pandas.core.frame.DataFrame'>\n",
      "RangeIndex: 149396 entries, 0 to 149395\n",
      "Data columns (total 5 columns):\n",
      " #   Column        Non-Null Count   Dtype  \n",
      "---  ------        --------------   -----  \n",
      " 0   Unnamed: 0    149396 non-null  int64  \n",
      " 1   id            149396 non-null  object \n",
      " 2   mb_used       149396 non-null  float64\n",
      " 3   session_date  149396 non-null  object \n",
      " 4   user_id       149396 non-null  int64  \n",
      "dtypes: float64(1), int64(2), object(2)\n",
      "memory usage: 5.7+ MB\n"
     ]
    }
   ],
   "source": [
    "internet_df.info()"
   ]
  },
  {
   "cell_type": "markdown",
   "metadata": {},
   "source": [
    "Описание полей:\n",
    "* `id` — уникальный номер сессии\n",
    "* `mb_used` — объём потраченного за сессию интернет-трафика (в мегабайтах)\n",
    "* `session_date` — дата интернет-сессии\n",
    "* `user_id` — идентификатор пользователя\n",
    "\n",
    "Всего записей 149396. Пропусков не обнаружено. В таблице обнаружена ошибка в виде столбца `Unnamed: 0`, дублирующего индексы. Имена столбцов заданы стилистически верно.  \n",
    "Необходимо в столбце `session_date` изменить тип данных на `datetime`."
   ]
  },
  {
   "cell_type": "markdown",
   "metadata": {},
   "source": [
    "3. Информация о сообщениях"
   ]
  },
  {
   "cell_type": "code",
   "execution_count": 64,
   "metadata": {},
   "outputs": [
    {
     "data": {
      "text/html": [
       "<div>\n",
       "<style scoped>\n",
       "    .dataframe tbody tr th:only-of-type {\n",
       "        vertical-align: middle;\n",
       "    }\n",
       "\n",
       "    .dataframe tbody tr th {\n",
       "        vertical-align: top;\n",
       "    }\n",
       "\n",
       "    .dataframe thead th {\n",
       "        text-align: right;\n",
       "    }\n",
       "</style>\n",
       "<table border=\"1\" class=\"dataframe\">\n",
       "  <thead>\n",
       "    <tr style=\"text-align: right;\">\n",
       "      <th></th>\n",
       "      <th>id</th>\n",
       "      <th>message_date</th>\n",
       "      <th>user_id</th>\n",
       "    </tr>\n",
       "  </thead>\n",
       "  <tbody>\n",
       "    <tr>\n",
       "      <th>0</th>\n",
       "      <td>1000_0</td>\n",
       "      <td>2018-06-27</td>\n",
       "      <td>1000</td>\n",
       "    </tr>\n",
       "    <tr>\n",
       "      <th>1</th>\n",
       "      <td>1000_1</td>\n",
       "      <td>2018-10-08</td>\n",
       "      <td>1000</td>\n",
       "    </tr>\n",
       "    <tr>\n",
       "      <th>2</th>\n",
       "      <td>1000_2</td>\n",
       "      <td>2018-08-04</td>\n",
       "      <td>1000</td>\n",
       "    </tr>\n",
       "    <tr>\n",
       "      <th>3</th>\n",
       "      <td>1000_3</td>\n",
       "      <td>2018-06-16</td>\n",
       "      <td>1000</td>\n",
       "    </tr>\n",
       "    <tr>\n",
       "      <th>4</th>\n",
       "      <td>1000_4</td>\n",
       "      <td>2018-12-05</td>\n",
       "      <td>1000</td>\n",
       "    </tr>\n",
       "  </tbody>\n",
       "</table>\n",
       "</div>"
      ],
      "text/plain": [
       "       id message_date  user_id\n",
       "0  1000_0   2018-06-27     1000\n",
       "1  1000_1   2018-10-08     1000\n",
       "2  1000_2   2018-08-04     1000\n",
       "3  1000_3   2018-06-16     1000\n",
       "4  1000_4   2018-12-05     1000"
      ]
     },
     "execution_count": 64,
     "metadata": {},
     "output_type": "execute_result"
    }
   ],
   "source": [
    "messages_df.head()"
   ]
  },
  {
   "cell_type": "code",
   "execution_count": 65,
   "metadata": {},
   "outputs": [
    {
     "name": "stdout",
     "output_type": "stream",
     "text": [
      "<class 'pandas.core.frame.DataFrame'>\n",
      "RangeIndex: 123036 entries, 0 to 123035\n",
      "Data columns (total 3 columns):\n",
      " #   Column        Non-Null Count   Dtype \n",
      "---  ------        --------------   ----- \n",
      " 0   id            123036 non-null  object\n",
      " 1   message_date  123036 non-null  object\n",
      " 2   user_id       123036 non-null  int64 \n",
      "dtypes: int64(1), object(2)\n",
      "memory usage: 2.8+ MB\n"
     ]
    }
   ],
   "source": [
    "messages_df.info()"
   ]
  },
  {
   "cell_type": "markdown",
   "metadata": {},
   "source": [
    "Описание полей:\n",
    "* `id` — уникальный номер сообщения\n",
    "* `message_date` — дата сообщения\n",
    "* `user_id` — идентификатор пользователя, отправившего сообщение\n",
    "\n",
    "Всего записей 123036. Пропусков не обнаружено. Имена столбцов заданы стилистически верно.  \n",
    "Необходимо в столбце `message_date` изменить тип данных на `datetime`."
   ]
  },
  {
   "cell_type": "markdown",
   "metadata": {},
   "source": [
    "4. Информация о тарифах"
   ]
  },
  {
   "cell_type": "code",
   "execution_count": 66,
   "metadata": {},
   "outputs": [
    {
     "data": {
      "text/html": [
       "<div>\n",
       "<style scoped>\n",
       "    .dataframe tbody tr th:only-of-type {\n",
       "        vertical-align: middle;\n",
       "    }\n",
       "\n",
       "    .dataframe tbody tr th {\n",
       "        vertical-align: top;\n",
       "    }\n",
       "\n",
       "    .dataframe thead th {\n",
       "        text-align: right;\n",
       "    }\n",
       "</style>\n",
       "<table border=\"1\" class=\"dataframe\">\n",
       "  <thead>\n",
       "    <tr style=\"text-align: right;\">\n",
       "      <th></th>\n",
       "      <th>messages_included</th>\n",
       "      <th>mb_per_month_included</th>\n",
       "      <th>minutes_included</th>\n",
       "      <th>rub_monthly_fee</th>\n",
       "      <th>rub_per_gb</th>\n",
       "      <th>rub_per_message</th>\n",
       "      <th>rub_per_minute</th>\n",
       "      <th>tariff_name</th>\n",
       "    </tr>\n",
       "  </thead>\n",
       "  <tbody>\n",
       "    <tr>\n",
       "      <th>0</th>\n",
       "      <td>50</td>\n",
       "      <td>15360</td>\n",
       "      <td>500</td>\n",
       "      <td>550</td>\n",
       "      <td>200</td>\n",
       "      <td>3</td>\n",
       "      <td>3</td>\n",
       "      <td>smart</td>\n",
       "    </tr>\n",
       "    <tr>\n",
       "      <th>1</th>\n",
       "      <td>1000</td>\n",
       "      <td>30720</td>\n",
       "      <td>3000</td>\n",
       "      <td>1950</td>\n",
       "      <td>150</td>\n",
       "      <td>1</td>\n",
       "      <td>1</td>\n",
       "      <td>ultra</td>\n",
       "    </tr>\n",
       "  </tbody>\n",
       "</table>\n",
       "</div>"
      ],
      "text/plain": [
       "   messages_included  mb_per_month_included  minutes_included  \\\n",
       "0                 50                  15360               500   \n",
       "1               1000                  30720              3000   \n",
       "\n",
       "   rub_monthly_fee  rub_per_gb  rub_per_message  rub_per_minute tariff_name  \n",
       "0              550         200                3               3       smart  \n",
       "1             1950         150                1               1       ultra  "
      ]
     },
     "execution_count": 66,
     "metadata": {},
     "output_type": "execute_result"
    }
   ],
   "source": [
    "tariffs_df.head()"
   ]
  },
  {
   "cell_type": "code",
   "execution_count": 67,
   "metadata": {},
   "outputs": [
    {
     "name": "stdout",
     "output_type": "stream",
     "text": [
      "<class 'pandas.core.frame.DataFrame'>\n",
      "RangeIndex: 2 entries, 0 to 1\n",
      "Data columns (total 8 columns):\n",
      " #   Column                 Non-Null Count  Dtype \n",
      "---  ------                 --------------  ----- \n",
      " 0   messages_included      2 non-null      int64 \n",
      " 1   mb_per_month_included  2 non-null      int64 \n",
      " 2   minutes_included       2 non-null      int64 \n",
      " 3   rub_monthly_fee        2 non-null      int64 \n",
      " 4   rub_per_gb             2 non-null      int64 \n",
      " 5   rub_per_message        2 non-null      int64 \n",
      " 6   rub_per_minute         2 non-null      int64 \n",
      " 7   tariff_name            2 non-null      object\n",
      "dtypes: int64(7), object(1)\n",
      "memory usage: 256.0+ bytes\n"
     ]
    }
   ],
   "source": [
    "tariffs_df.info()"
   ]
  },
  {
   "cell_type": "markdown",
   "metadata": {},
   "source": [
    "Описание полей:\n",
    "* `tariff_name` — название тарифа\n",
    "* `rub_monthly_fee` — ежемесячная абонентская плата в рублях\n",
    "* `minutes_included` — количество минут разговора в месяц, включённых в абонентскую плату\n",
    "* `messages_included` — количество сообщений в месяц, включённых в абонентскую плату\n",
    "* `mb_per_month_included` — объём интернет-трафика, включённого в абонентскую плату (в мегабайтах)\n",
    "* `rub_per_minute` — стоимость минуты разговора сверх тарифного пакета (например, если в тарифе 100 минут разговора в месяц, то со 101 минуты будет взиматься плата)\n",
    "* `rub_per_message` — стоимость отправки сообщения сверх тарифного пакета\n",
    "* `rub_per_gb` — стоимость дополнительного гигабайта интернет-трафика сверх тарифного пакета (1 гигабайт = 1024 мегабайта)\n",
    "\n",
    "Всего записей две. Пропусков не обнаружено. Имена столбцов заданы стилистически верно."
   ]
  },
  {
   "cell_type": "markdown",
   "metadata": {},
   "source": [
    "5. Информация о пользователях"
   ]
  },
  {
   "cell_type": "code",
   "execution_count": 68,
   "metadata": {},
   "outputs": [
    {
     "data": {
      "text/html": [
       "<div>\n",
       "<style scoped>\n",
       "    .dataframe tbody tr th:only-of-type {\n",
       "        vertical-align: middle;\n",
       "    }\n",
       "\n",
       "    .dataframe tbody tr th {\n",
       "        vertical-align: top;\n",
       "    }\n",
       "\n",
       "    .dataframe thead th {\n",
       "        text-align: right;\n",
       "    }\n",
       "</style>\n",
       "<table border=\"1\" class=\"dataframe\">\n",
       "  <thead>\n",
       "    <tr style=\"text-align: right;\">\n",
       "      <th></th>\n",
       "      <th>user_id</th>\n",
       "      <th>age</th>\n",
       "      <th>churn_date</th>\n",
       "      <th>city</th>\n",
       "      <th>first_name</th>\n",
       "      <th>last_name</th>\n",
       "      <th>reg_date</th>\n",
       "      <th>tariff</th>\n",
       "    </tr>\n",
       "  </thead>\n",
       "  <tbody>\n",
       "    <tr>\n",
       "      <th>0</th>\n",
       "      <td>1000</td>\n",
       "      <td>52</td>\n",
       "      <td>NaN</td>\n",
       "      <td>Краснодар</td>\n",
       "      <td>Рафаил</td>\n",
       "      <td>Верещагин</td>\n",
       "      <td>2018-05-25</td>\n",
       "      <td>ultra</td>\n",
       "    </tr>\n",
       "    <tr>\n",
       "      <th>1</th>\n",
       "      <td>1001</td>\n",
       "      <td>41</td>\n",
       "      <td>NaN</td>\n",
       "      <td>Москва</td>\n",
       "      <td>Иван</td>\n",
       "      <td>Ежов</td>\n",
       "      <td>2018-11-01</td>\n",
       "      <td>smart</td>\n",
       "    </tr>\n",
       "    <tr>\n",
       "      <th>2</th>\n",
       "      <td>1002</td>\n",
       "      <td>59</td>\n",
       "      <td>NaN</td>\n",
       "      <td>Стерлитамак</td>\n",
       "      <td>Евгений</td>\n",
       "      <td>Абрамович</td>\n",
       "      <td>2018-06-17</td>\n",
       "      <td>smart</td>\n",
       "    </tr>\n",
       "    <tr>\n",
       "      <th>3</th>\n",
       "      <td>1003</td>\n",
       "      <td>23</td>\n",
       "      <td>NaN</td>\n",
       "      <td>Москва</td>\n",
       "      <td>Белла</td>\n",
       "      <td>Белякова</td>\n",
       "      <td>2018-08-17</td>\n",
       "      <td>ultra</td>\n",
       "    </tr>\n",
       "    <tr>\n",
       "      <th>4</th>\n",
       "      <td>1004</td>\n",
       "      <td>68</td>\n",
       "      <td>NaN</td>\n",
       "      <td>Новокузнецк</td>\n",
       "      <td>Татьяна</td>\n",
       "      <td>Авдеенко</td>\n",
       "      <td>2018-05-14</td>\n",
       "      <td>ultra</td>\n",
       "    </tr>\n",
       "  </tbody>\n",
       "</table>\n",
       "</div>"
      ],
      "text/plain": [
       "   user_id  age churn_date         city first_name  last_name    reg_date  \\\n",
       "0     1000   52        NaN    Краснодар     Рафаил  Верещагин  2018-05-25   \n",
       "1     1001   41        NaN       Москва       Иван       Ежов  2018-11-01   \n",
       "2     1002   59        NaN  Стерлитамак    Евгений  Абрамович  2018-06-17   \n",
       "3     1003   23        NaN       Москва      Белла   Белякова  2018-08-17   \n",
       "4     1004   68        NaN  Новокузнецк    Татьяна   Авдеенко  2018-05-14   \n",
       "\n",
       "  tariff  \n",
       "0  ultra  \n",
       "1  smart  \n",
       "2  smart  \n",
       "3  ultra  \n",
       "4  ultra  "
      ]
     },
     "execution_count": 68,
     "metadata": {},
     "output_type": "execute_result"
    }
   ],
   "source": [
    "users_df.head()"
   ]
  },
  {
   "cell_type": "code",
   "execution_count": 69,
   "metadata": {},
   "outputs": [
    {
     "name": "stdout",
     "output_type": "stream",
     "text": [
      "<class 'pandas.core.frame.DataFrame'>\n",
      "RangeIndex: 500 entries, 0 to 499\n",
      "Data columns (total 8 columns):\n",
      " #   Column      Non-Null Count  Dtype \n",
      "---  ------      --------------  ----- \n",
      " 0   user_id     500 non-null    int64 \n",
      " 1   age         500 non-null    int64 \n",
      " 2   churn_date  38 non-null     object\n",
      " 3   city        500 non-null    object\n",
      " 4   first_name  500 non-null    object\n",
      " 5   last_name   500 non-null    object\n",
      " 6   reg_date    500 non-null    object\n",
      " 7   tariff      500 non-null    object\n",
      "dtypes: int64(2), object(6)\n",
      "memory usage: 31.4+ KB\n"
     ]
    }
   ],
   "source": [
    "users_df.info()"
   ]
  },
  {
   "cell_type": "markdown",
   "metadata": {},
   "source": [
    "Описание полей:\n",
    "* user_id — уникальный идентификатор пользователя\n",
    "* first_name — имя пользователя\n",
    "* last_name — фамилия пользователя\n",
    "* age — возраст пользователя (годы)\n",
    "* reg_date — дата подключения тарифа (день, месяц, год)\n",
    "* churn_date — дата прекращения пользования тарифом (если значение пропущено, то тариф ещё действовал на момент выгрузки данных)\n",
    "* city — город проживания пользователя\n",
    "* tariff — название тарифного плана\n",
    "\n",
    "Всего записей 500.  Имена столбцов заданы стилистически верно.  \n",
    "Пропуски в столбце `churn_date` обусловлены, тем что это действующий тариф.  \n",
    "Необходимо в столбцах `churn_date` и `reg_date` изменить тип данных на `datetime`."
   ]
  },
  {
   "cell_type": "markdown",
   "metadata": {},
   "source": [
    "## Предобработка данных"
   ]
  },
  {
   "cell_type": "markdown",
   "metadata": {},
   "source": [
    "### Поиск ошибок в данных и приведение к нужному типу"
   ]
  },
  {
   "cell_type": "markdown",
   "metadata": {},
   "source": [
    "[*Вернуться к оглавлению*](#Оглавление)"
   ]
  },
  {
   "cell_type": "markdown",
   "metadata": {},
   "source": [
    "1. Информация о звонках"
   ]
  },
  {
   "cell_type": "code",
   "execution_count": 70,
   "metadata": {},
   "outputs": [
    {
     "data": {
      "text/html": [
       "<div>\n",
       "<style scoped>\n",
       "    .dataframe tbody tr th:only-of-type {\n",
       "        vertical-align: middle;\n",
       "    }\n",
       "\n",
       "    .dataframe tbody tr th {\n",
       "        vertical-align: top;\n",
       "    }\n",
       "\n",
       "    .dataframe thead th {\n",
       "        text-align: right;\n",
       "    }\n",
       "</style>\n",
       "<table border=\"1\" class=\"dataframe\">\n",
       "  <thead>\n",
       "    <tr style=\"text-align: right;\">\n",
       "      <th></th>\n",
       "      <th>duration</th>\n",
       "      <th>user_id</th>\n",
       "    </tr>\n",
       "  </thead>\n",
       "  <tbody>\n",
       "    <tr>\n",
       "      <th>count</th>\n",
       "      <td>202607.000000</td>\n",
       "      <td>202607.000000</td>\n",
       "    </tr>\n",
       "    <tr>\n",
       "      <th>mean</th>\n",
       "      <td>6.755887</td>\n",
       "      <td>1253.940619</td>\n",
       "    </tr>\n",
       "    <tr>\n",
       "      <th>std</th>\n",
       "      <td>5.843365</td>\n",
       "      <td>144.722751</td>\n",
       "    </tr>\n",
       "    <tr>\n",
       "      <th>min</th>\n",
       "      <td>0.000000</td>\n",
       "      <td>1000.000000</td>\n",
       "    </tr>\n",
       "    <tr>\n",
       "      <th>25%</th>\n",
       "      <td>1.300000</td>\n",
       "      <td>1126.000000</td>\n",
       "    </tr>\n",
       "    <tr>\n",
       "      <th>50%</th>\n",
       "      <td>6.000000</td>\n",
       "      <td>1260.000000</td>\n",
       "    </tr>\n",
       "    <tr>\n",
       "      <th>75%</th>\n",
       "      <td>10.700000</td>\n",
       "      <td>1379.000000</td>\n",
       "    </tr>\n",
       "    <tr>\n",
       "      <th>max</th>\n",
       "      <td>38.000000</td>\n",
       "      <td>1499.000000</td>\n",
       "    </tr>\n",
       "  </tbody>\n",
       "</table>\n",
       "</div>"
      ],
      "text/plain": [
       "            duration        user_id\n",
       "count  202607.000000  202607.000000\n",
       "mean        6.755887    1253.940619\n",
       "std         5.843365     144.722751\n",
       "min         0.000000    1000.000000\n",
       "25%         1.300000    1126.000000\n",
       "50%         6.000000    1260.000000\n",
       "75%        10.700000    1379.000000\n",
       "max        38.000000    1499.000000"
      ]
     },
     "execution_count": 70,
     "metadata": {},
     "output_type": "execute_result"
    }
   ],
   "source": [
    "calls_df.describe()"
   ]
  },
  {
   "cell_type": "code",
   "execution_count": 71,
   "metadata": {},
   "outputs": [
    {
     "data": {
      "image/png": "[encoded data removed]",
      "text/plain": [
       "<Figure size 432x288 with 1 Axes>"
      ]
     },
     "metadata": {
      "needs_background": "light"
     },
     "output_type": "display_data"
    }
   ],
   "source": [
    "# Построим гистограмму звонков\n",
    "calls_df['duration'].hist(bins=50, edgecolor='black')\n",
    "plt.xlabel('calls duration, min')\n",
    "plt.ylabel('number of users')\n",
    "plt.title('calls duration histogram');"
   ]
  },
  {
   "cell_type": "markdown",
   "metadata": {},
   "source": [
    "<p style='text-align: justify;'>Длительность звонков распределена от ноля до 38 минут. На гистограмме длительность звонков имеет распределение Пуассона. Выброс в нуле означает, что в данных много неотвеченных звонков. Аномальных данных не обнаружено.</p>\n"
   ]
  },
  {
   "cell_type": "code",
   "execution_count": 72,
   "metadata": {},
   "outputs": [
    {
     "name": "stdout",
     "output_type": "stream",
     "text": [
      "Количество уникальных пользователей: 492\n"
     ]
    }
   ],
   "source": [
    "# Проверим число уникальных пользователей\n",
    "print('Количество уникальных пользователей:', len(calls_df['user_id'].unique()))"
   ]
  },
  {
   "cell_type": "markdown",
   "metadata": {},
   "source": [
    "<p style='text-align: justify;'>Номера пользователей распределены от 1000 до 1499. Восемь пользователей звонки не совершали. Аномальных данных не обнаружено.</p>"
   ]
  },
  {
   "cell_type": "code",
   "execution_count": 73,
   "metadata": {},
   "outputs": [
    {
     "name": "stdout",
     "output_type": "stream",
     "text": [
      "2018-01-01 2018-12-31\n"
     ]
    }
   ],
   "source": [
    "# Проверим диапазон дат\n",
    "print(calls_df['call_date'].min(), calls_df['call_date'].max())"
   ]
  },
  {
   "cell_type": "markdown",
   "metadata": {},
   "source": [
    "Данные по звонкам от 2018-01-01 до 2018-12-31."
   ]
  },
  {
   "cell_type": "markdown",
   "metadata": {},
   "source": [
    "2. Информация об интернет-сессиях"
   ]
  },
  {
   "cell_type": "code",
   "execution_count": 74,
   "metadata": {},
   "outputs": [
    {
     "data": {
      "text/html": [
       "<div>\n",
       "<style scoped>\n",
       "    .dataframe tbody tr th:only-of-type {\n",
       "        vertical-align: middle;\n",
       "    }\n",
       "\n",
       "    .dataframe tbody tr th {\n",
       "        vertical-align: top;\n",
       "    }\n",
       "\n",
       "    .dataframe thead th {\n",
       "        text-align: right;\n",
       "    }\n",
       "</style>\n",
       "<table border=\"1\" class=\"dataframe\">\n",
       "  <thead>\n",
       "    <tr style=\"text-align: right;\">\n",
       "      <th></th>\n",
       "      <th>Unnamed: 0</th>\n",
       "      <th>mb_used</th>\n",
       "      <th>user_id</th>\n",
       "    </tr>\n",
       "  </thead>\n",
       "  <tbody>\n",
       "    <tr>\n",
       "      <th>count</th>\n",
       "      <td>149396.000000</td>\n",
       "      <td>149396.000000</td>\n",
       "      <td>149396.000000</td>\n",
       "    </tr>\n",
       "    <tr>\n",
       "      <th>mean</th>\n",
       "      <td>74697.500000</td>\n",
       "      <td>370.192426</td>\n",
       "      <td>1252.099842</td>\n",
       "    </tr>\n",
       "    <tr>\n",
       "      <th>std</th>\n",
       "      <td>43127.054745</td>\n",
       "      <td>278.300951</td>\n",
       "      <td>144.050823</td>\n",
       "    </tr>\n",
       "    <tr>\n",
       "      <th>min</th>\n",
       "      <td>0.000000</td>\n",
       "      <td>0.000000</td>\n",
       "      <td>1000.000000</td>\n",
       "    </tr>\n",
       "    <tr>\n",
       "      <th>25%</th>\n",
       "      <td>37348.750000</td>\n",
       "      <td>138.187500</td>\n",
       "      <td>1130.000000</td>\n",
       "    </tr>\n",
       "    <tr>\n",
       "      <th>50%</th>\n",
       "      <td>74697.500000</td>\n",
       "      <td>348.015000</td>\n",
       "      <td>1251.000000</td>\n",
       "    </tr>\n",
       "    <tr>\n",
       "      <th>75%</th>\n",
       "      <td>112046.250000</td>\n",
       "      <td>559.552500</td>\n",
       "      <td>1380.000000</td>\n",
       "    </tr>\n",
       "    <tr>\n",
       "      <th>max</th>\n",
       "      <td>149395.000000</td>\n",
       "      <td>1724.830000</td>\n",
       "      <td>1499.000000</td>\n",
       "    </tr>\n",
       "  </tbody>\n",
       "</table>\n",
       "</div>"
      ],
      "text/plain": [
       "          Unnamed: 0        mb_used        user_id\n",
       "count  149396.000000  149396.000000  149396.000000\n",
       "mean    74697.500000     370.192426    1252.099842\n",
       "std     43127.054745     278.300951     144.050823\n",
       "min         0.000000       0.000000    1000.000000\n",
       "25%     37348.750000     138.187500    1130.000000\n",
       "50%     74697.500000     348.015000    1251.000000\n",
       "75%    112046.250000     559.552500    1380.000000\n",
       "max    149395.000000    1724.830000    1499.000000"
      ]
     },
     "execution_count": 74,
     "metadata": {},
     "output_type": "execute_result"
    }
   ],
   "source": [
    "internet_df.describe()"
   ]
  },
  {
   "cell_type": "code",
   "execution_count": 75,
   "metadata": {},
   "outputs": [],
   "source": [
    "# Удалим столбец Unnamed: 0\n",
    "internet_df = internet_df.drop(['Unnamed: 0'], axis=1);"
   ]
  },
  {
   "cell_type": "code",
   "execution_count": 76,
   "metadata": {},
   "outputs": [
    {
     "data": {
      "image/png": "[encoded data removed]",
      "text/plain": [
       "<Figure size 432x288 with 1 Axes>"
      ]
     },
     "metadata": {
      "needs_background": "light"
     },
     "output_type": "display_data"
    }
   ],
   "source": [
    "# Построим гистограмму по трафику\n",
    "internet_df['mb_used'].hist(bins=50, edgecolor='black');\n",
    "plt.xlabel('number of messages')\n",
    "plt.ylabel('number of users')\n",
    "plt.title('number of messages histogram');"
   ]
  },
  {
   "cell_type": "markdown",
   "metadata": {},
   "source": [
    "<p style='text-align: justify;'>Используемый трафик распределен от 0 Мб до 1725 Мб. На гистограмме трафик представлен распределением Пуассона. Наблюдается выброс в нуле, но это объясняется тем, что пользователь не смог подключиться к сети. Аномальных данных не обнаружено.</p>"
   ]
  },
  {
   "cell_type": "code",
   "execution_count": 77,
   "metadata": {},
   "outputs": [
    {
     "name": "stdout",
     "output_type": "stream",
     "text": [
      "Количество уникальных пользователей: 497\n"
     ]
    }
   ],
   "source": [
    "# Проверим число уникальных пользователей\n",
    "print('Количество уникальных пользователей:', len(internet_df['user_id'].unique()))"
   ]
  },
  {
   "cell_type": "markdown",
   "metadata": {},
   "source": [
    "<p style='text-align: justify;'>Номера пользователей распределены от 1000 до 1499. Три пользователя интернетом не пользовались. Аномальных данных не обнаружено.</p>"
   ]
  },
  {
   "cell_type": "code",
   "execution_count": 78,
   "metadata": {},
   "outputs": [
    {
     "name": "stdout",
     "output_type": "stream",
     "text": [
      "2018-01-01 2018-12-31\n"
     ]
    }
   ],
   "source": [
    "# Проверим диапазон дат\n",
    "print(internet_df['session_date'].min(), internet_df['session_date'].max())"
   ]
  },
  {
   "cell_type": "markdown",
   "metadata": {},
   "source": [
    "Данные по трафику от 2018-01-01 до 2018-12-31."
   ]
  },
  {
   "cell_type": "markdown",
   "metadata": {},
   "source": [
    "3. Информация о сообщениях."
   ]
  },
  {
   "cell_type": "code",
   "execution_count": 79,
   "metadata": {},
   "outputs": [
    {
     "data": {
      "text/html": [
       "<div>\n",
       "<style scoped>\n",
       "    .dataframe tbody tr th:only-of-type {\n",
       "        vertical-align: middle;\n",
       "    }\n",
       "\n",
       "    .dataframe tbody tr th {\n",
       "        vertical-align: top;\n",
       "    }\n",
       "\n",
       "    .dataframe thead th {\n",
       "        text-align: right;\n",
       "    }\n",
       "</style>\n",
       "<table border=\"1\" class=\"dataframe\">\n",
       "  <thead>\n",
       "    <tr style=\"text-align: right;\">\n",
       "      <th></th>\n",
       "      <th>user_id</th>\n",
       "    </tr>\n",
       "  </thead>\n",
       "  <tbody>\n",
       "    <tr>\n",
       "      <th>count</th>\n",
       "      <td>123036.000000</td>\n",
       "    </tr>\n",
       "    <tr>\n",
       "      <th>mean</th>\n",
       "      <td>1256.989410</td>\n",
       "    </tr>\n",
       "    <tr>\n",
       "      <th>std</th>\n",
       "      <td>143.523967</td>\n",
       "    </tr>\n",
       "    <tr>\n",
       "      <th>min</th>\n",
       "      <td>1000.000000</td>\n",
       "    </tr>\n",
       "    <tr>\n",
       "      <th>25%</th>\n",
       "      <td>1134.000000</td>\n",
       "    </tr>\n",
       "    <tr>\n",
       "      <th>50%</th>\n",
       "      <td>1271.000000</td>\n",
       "    </tr>\n",
       "    <tr>\n",
       "      <th>75%</th>\n",
       "      <td>1381.000000</td>\n",
       "    </tr>\n",
       "    <tr>\n",
       "      <th>max</th>\n",
       "      <td>1499.000000</td>\n",
       "    </tr>\n",
       "  </tbody>\n",
       "</table>\n",
       "</div>"
      ],
      "text/plain": [
       "             user_id\n",
       "count  123036.000000\n",
       "mean     1256.989410\n",
       "std       143.523967\n",
       "min      1000.000000\n",
       "25%      1134.000000\n",
       "50%      1271.000000\n",
       "75%      1381.000000\n",
       "max      1499.000000"
      ]
     },
     "execution_count": 79,
     "metadata": {},
     "output_type": "execute_result"
    }
   ],
   "source": [
    "messages_df.describe()"
   ]
  },
  {
   "cell_type": "code",
   "execution_count": 80,
   "metadata": {},
   "outputs": [
    {
     "name": "stdout",
     "output_type": "stream",
     "text": [
      "Количество уникальных пользователей: 426\n"
     ]
    }
   ],
   "source": [
    "# Проверим число уникальных пользователей\n",
    "print('Количество уникальных пользователей:', len(messages_df['user_id'].unique()))"
   ]
  },
  {
   "cell_type": "markdown",
   "metadata": {},
   "source": [
    "<p style='text-align: justify;'>Номера пользователей распределены от 1000 до 1499. 74 пользователя сообщения не отправляли. Аномальных данных не обнаружено.</p>"
   ]
  },
  {
   "cell_type": "code",
   "execution_count": 81,
   "metadata": {},
   "outputs": [
    {
     "name": "stdout",
     "output_type": "stream",
     "text": [
      "2018-01-02 2018-12-31\n"
     ]
    }
   ],
   "source": [
    "# Проверим диапазон дат\n",
    "print(messages_df['message_date'].min(), messages_df['message_date'].max())"
   ]
  },
  {
   "cell_type": "markdown",
   "metadata": {},
   "source": [
    "Данные по сообщениям от 2018-01-02 до 2018-12-31."
   ]
  },
  {
   "cell_type": "markdown",
   "metadata": {},
   "source": [
    "4. Информация о тарифах.\n",
    "\n",
    "В таблице с тарифами две строки записи. Аномальных данных не обнаружено."
   ]
  },
  {
   "cell_type": "markdown",
   "metadata": {},
   "source": [
    "5. Информация о пользователях"
   ]
  },
  {
   "cell_type": "code",
   "execution_count": 82,
   "metadata": {},
   "outputs": [
    {
     "data": {
      "text/html": [
       "<div>\n",
       "<style scoped>\n",
       "    .dataframe tbody tr th:only-of-type {\n",
       "        vertical-align: middle;\n",
       "    }\n",
       "\n",
       "    .dataframe tbody tr th {\n",
       "        vertical-align: top;\n",
       "    }\n",
       "\n",
       "    .dataframe thead th {\n",
       "        text-align: right;\n",
       "    }\n",
       "</style>\n",
       "<table border=\"1\" class=\"dataframe\">\n",
       "  <thead>\n",
       "    <tr style=\"text-align: right;\">\n",
       "      <th></th>\n",
       "      <th>user_id</th>\n",
       "      <th>age</th>\n",
       "    </tr>\n",
       "  </thead>\n",
       "  <tbody>\n",
       "    <tr>\n",
       "      <th>count</th>\n",
       "      <td>500.000000</td>\n",
       "      <td>500.00000</td>\n",
       "    </tr>\n",
       "    <tr>\n",
       "      <th>mean</th>\n",
       "      <td>1249.500000</td>\n",
       "      <td>46.58800</td>\n",
       "    </tr>\n",
       "    <tr>\n",
       "      <th>std</th>\n",
       "      <td>144.481833</td>\n",
       "      <td>16.66763</td>\n",
       "    </tr>\n",
       "    <tr>\n",
       "      <th>min</th>\n",
       "      <td>1000.000000</td>\n",
       "      <td>18.00000</td>\n",
       "    </tr>\n",
       "    <tr>\n",
       "      <th>25%</th>\n",
       "      <td>1124.750000</td>\n",
       "      <td>32.00000</td>\n",
       "    </tr>\n",
       "    <tr>\n",
       "      <th>50%</th>\n",
       "      <td>1249.500000</td>\n",
       "      <td>46.00000</td>\n",
       "    </tr>\n",
       "    <tr>\n",
       "      <th>75%</th>\n",
       "      <td>1374.250000</td>\n",
       "      <td>62.00000</td>\n",
       "    </tr>\n",
       "    <tr>\n",
       "      <th>max</th>\n",
       "      <td>1499.000000</td>\n",
       "      <td>75.00000</td>\n",
       "    </tr>\n",
       "  </tbody>\n",
       "</table>\n",
       "</div>"
      ],
      "text/plain": [
       "           user_id        age\n",
       "count   500.000000  500.00000\n",
       "mean   1249.500000   46.58800\n",
       "std     144.481833   16.66763\n",
       "min    1000.000000   18.00000\n",
       "25%    1124.750000   32.00000\n",
       "50%    1249.500000   46.00000\n",
       "75%    1374.250000   62.00000\n",
       "max    1499.000000   75.00000"
      ]
     },
     "execution_count": 82,
     "metadata": {},
     "output_type": "execute_result"
    }
   ],
   "source": [
    "users_df.describe()"
   ]
  },
  {
   "cell_type": "code",
   "execution_count": 83,
   "metadata": {},
   "outputs": [
    {
     "data": {
      "image/png": "[encoded data removed]",
      "text/plain": [
       "<Figure size 432x288 with 1 Axes>"
      ]
     },
     "metadata": {
      "needs_background": "light"
     },
     "output_type": "display_data"
    }
   ],
   "source": [
    "# Построим гистограмму по возрасту\n",
    "users_df['age'].hist(bins=50, edgecolor='black');\n",
    "plt.xlabel('age of users, years')\n",
    "plt.ylabel('number of users')\n",
    "plt.title('age of users histogram');"
   ]
  },
  {
   "cell_type": "markdown",
   "metadata": {},
   "source": [
    "Возраст пользователей распределен от 18 до 75 лет. На гистограмме выбросов не обнаружено. Аномальных данных не обнаружено."
   ]
  },
  {
   "cell_type": "code",
   "execution_count": 84,
   "metadata": {},
   "outputs": [
    {
     "name": "stdout",
     "output_type": "stream",
     "text": [
      "Количество уникальных пользователей: 500\n"
     ]
    }
   ],
   "source": [
    "# Проверим число уникальных пользователей\n",
    "print('Количество уникальных пользователей:', len(users_df['user_id'].unique()))"
   ]
  },
  {
   "cell_type": "markdown",
   "metadata": {},
   "source": [
    "Номера пользователей распределены от 1000 до 1499. Аномальных данных не обнаружено."
   ]
  },
  {
   "cell_type": "code",
   "execution_count": 85,
   "metadata": {},
   "outputs": [
    {
     "name": "stdout",
     "output_type": "stream",
     "text": [
      "2018-01-01 2018-12-31\n"
     ]
    }
   ],
   "source": [
    "# Проверим диапазон дат регистрации\n",
    "print(users_df['reg_date'].min(), users_df['reg_date'].max())"
   ]
  },
  {
   "cell_type": "markdown",
   "metadata": {},
   "source": [
    "Данные по регистрации от 2018-01-02 до 2018-12-31."
   ]
  },
  {
   "cell_type": "code",
   "execution_count": 86,
   "metadata": {},
   "outputs": [
    {
     "name": "stdout",
     "output_type": "stream",
     "text": [
      "2018-08-17 2018-12-30\n"
     ]
    }
   ],
   "source": [
    "# Проверим диапазон дат окончания тарифа\n",
    "print(\n",
    "    users_df[users_df['churn_date'].notna()]['churn_date'].min(),\n",
    "    users_df[users_df['churn_date'].notna()]['churn_date'].max()\n",
    ")"
   ]
  },
  {
   "cell_type": "markdown",
   "metadata": {},
   "source": [
    "Данные по срокам тарифов от 2018-08-17 до 2018-12-30."
   ]
  },
  {
   "cell_type": "markdown",
   "metadata": {},
   "source": [
    "6. Преобразование типа данных"
   ]
  },
  {
   "cell_type": "code",
   "execution_count": 87,
   "metadata": {},
   "outputs": [],
   "source": [
    "# Преобразуем даты в таблице о звонках в столбце call_date\n",
    "calls_df['call_date'] = pd.to_datetime(calls_df['call_date'], format='%Y-%m-%d')\n",
    "\n",
    "# Преобразуем даты в таблице о интернет-сессиях в столбце session_date\n",
    "internet_df['session_date'] = pd.to_datetime(internet_df['session_date'], format='%Y-%m-%d')\n",
    "\n",
    "# Преобразуем даты в таблице о сообщениях в столбце message_date\n",
    "messages_df['message_date'] = pd.to_datetime(messages_df['message_date'], format='%Y-%m-%d')\n",
    "\n",
    "# Преобразуем даты в таблице о пользователях в столбце reg_date\n",
    "users_df['reg_date'] = pd.to_datetime(users_df['reg_date'], format='%Y-%m-%d')\n",
    "\n",
    "# Преобразуем даты в таблице о пользователях в столбце churn_date\n",
    "users_df['churn_date'] = pd.to_datetime(users_df['churn_date'], format='%Y-%m-%d')"
   ]
  },
  {
   "cell_type": "markdown",
   "metadata": {},
   "source": [
    "### Kоличество сделанных звонков и израсходованных минут разговора по месяцам"
   ]
  },
  {
   "cell_type": "markdown",
   "metadata": {},
   "source": [
    "[*Вернуться к оглавлению*](#Оглавление)"
   ]
  },
  {
   "cell_type": "code",
   "execution_count": 88,
   "metadata": {},
   "outputs": [],
   "source": [
    "# Округлим секунды до минут\n",
    "calls_df['duration'] = np.ceil(calls_df['duration'])\n",
    "\n",
    "# Преобразуем тип данных на int в столбце duration, так как длительность в минутах - целые числа\n",
    "calls_df['duration'] = calls_df['duration'].astype('int')\n",
    "\n",
    "# Добавим в calls_df столбец с месяцем\n",
    "calls_df['month'] = calls_df['call_date'].dt.month\n",
    "\n",
    "# Соберем таблицу с количесвтом и длительностью звонков по месяцам\n",
    "calls_clc_df = (calls_df.\n",
    "                pivot_table(\n",
    "                    index=['user_id', 'month'],\n",
    "                    values='duration',\n",
    "                    aggfunc=['sum', 'count']).\n",
    "                reset_index()\n",
    "               )\n",
    "\n",
    "# Переименуем столбцы\n",
    "calls_clc_df.columns = ['user_id', 'month', 'total_duration', 'number_calls']"
   ]
  },
  {
   "cell_type": "markdown",
   "metadata": {},
   "source": [
    "### Количество отправленных сообщений по месяцам"
   ]
  },
  {
   "cell_type": "markdown",
   "metadata": {},
   "source": [
    "[*Вернуться к оглавлению*](#Оглавление)"
   ]
  },
  {
   "cell_type": "code",
   "execution_count": 89,
   "metadata": {},
   "outputs": [],
   "source": [
    "# Добавим в messages_df столбец с месяцем\n",
    "messages_df['month'] = messages_df['message_date'].dt.month\n",
    "\n",
    "# Соберем таблицу с количесвтом сообщений по месяцам\n",
    "messages_clc_df = (messages_df.\n",
    "                pivot_table(\n",
    "                    index=['user_id', 'month'],\n",
    "                    values='id',\n",
    "                    aggfunc=['count']).\n",
    "                reset_index()\n",
    "               )\n",
    "\n",
    "# Переименуем столбцы\n",
    "messages_clc_df.columns = ['user_id', 'month', 'number_messages']"
   ]
  },
  {
   "cell_type": "markdown",
   "metadata": {},
   "source": [
    "### Объем израсходованного интернет-трафика по месяцам"
   ]
  },
  {
   "cell_type": "markdown",
   "metadata": {},
   "source": [
    "[*Вернуться к оглавлению*](#Оглавление)"
   ]
  },
  {
   "cell_type": "code",
   "execution_count": 90,
   "metadata": {},
   "outputs": [],
   "source": [
    "# Добавим в internet_df столбец с месяцем\n",
    "internet_df['month'] = internet_df['session_date'].dt.month\n",
    "\n",
    "# Соберем таблицу с трафиком по месяцам\n",
    "internet_clc_df = (internet_df.\n",
    "                pivot_table(\n",
    "                    index=['user_id', 'month'],\n",
    "                    values='mb_used',\n",
    "                    aggfunc=['sum']).\n",
    "                reset_index()\n",
    "               )\n",
    "\n",
    "# Переименуем столбцы\n",
    "internet_clc_df.columns = ['user_id', 'month', 'total_traffic']\n",
    "\n",
    "# Округлим Мб до Гб\n",
    "internet_clc_df['total_traffic'] = np.ceil(internet_clc_df['total_traffic'] / 1024)\n",
    "\n",
    "# Преобразуем тип данных на int в столбце duration, так как трафик в Гб - целые числа\n",
    "internet_clc_df['total_traffic'] = internet_clc_df['total_traffic'].astype('int')"
   ]
  },
  {
   "cell_type": "markdown",
   "metadata": {},
   "source": [
    "### Помесячная выручка с каждого пользователя "
   ]
  },
  {
   "cell_type": "markdown",
   "metadata": {},
   "source": [
    "[*Вернуться к оглавлению*](#Оглавление)"
   ]
  },
  {
   "cell_type": "markdown",
   "metadata": {},
   "source": [
    "Вычтите бесплатный лимит из суммарного количества звонков, сообщений и интернет-трафика; остаток умножьте на значение из тарифного плана; прибавьте абонентскую плату, соответствующую тарифному плану"
   ]
  },
  {
   "cell_type": "markdown",
   "metadata": {},
   "source": [
    "1. Выручка  за звонки"
   ]
  },
  {
   "cell_type": "code",
   "execution_count": 91,
   "metadata": {},
   "outputs": [],
   "source": [
    "# Функция, которая считает выручку\n",
    "def calcs_revenue(row):\n",
    "    global tariffs_df\n",
    "    \n",
    "    # Лимиты для звонков\n",
    "    if 'number_calls' in row.index:\n",
    "        lim_smart = tariffs_df[tariffs_df['tariff_name'] == 'smart']['minutes_included'][0]\n",
    "        lim_ultra = tariffs_df[tariffs_df['tariff_name'] == 'ultra']['minutes_included'][1]\n",
    "        costs_smart = tariffs_df[tariffs_df['tariff_name'] == 'smart']['rub_per_minute'][0]\n",
    "        costs_ultra = tariffs_df[tariffs_df['tariff_name'] == 'ultra']['rub_per_minute'][1]\n",
    "        val = 'total_duration'\n",
    "   \n",
    "    # Лимиты для сообщений\n",
    "    if 'number_messages' in row.index:\n",
    "        lim_smart = tariffs_df[tariffs_df['tariff_name'] == 'smart']['messages_included'][0]\n",
    "        lim_ultra = tariffs_df[tariffs_df['tariff_name'] == 'ultra']['messages_included'][1]\n",
    "        costs_smart = tariffs_df[tariffs_df['tariff_name'] == 'smart']['rub_per_message'][0]\n",
    "        costs_ultra = tariffs_df[tariffs_df['tariff_name'] == 'ultra']['rub_per_message'][1]\n",
    "        val = 'number_messages'\n",
    "    \n",
    "    # Лимиты для интернет трафика\n",
    "    if 'total_traffic' in row.index:\n",
    "        lim_smart = tariffs_df[tariffs_df['tariff_name'] == 'smart']['mb_per_month_included'][0] / 1024\n",
    "        lim_ultra = tariffs_df[tariffs_df['tariff_name'] == 'ultra']['mb_per_month_included'][1] / 1024\n",
    "        costs_smart = tariffs_df[tariffs_df['tariff_name'] == 'smart']['rub_per_gb'][0]\n",
    "        costs_ultra = tariffs_df[tariffs_df['tariff_name'] == 'ultra']['rub_per_gb'][1]\n",
    "        val = 'total_traffic'    \n",
    "    \n",
    "    if row['tariff'] in 'smart':\n",
    "        if row[val] > lim_smart:\n",
    "            rev = (row[val] - lim_smart) * costs_smart\n",
    "        else:\n",
    "            rev = 0\n",
    "    if row['tariff'] in 'ultra':\n",
    "        if row[val] > lim_ultra:\n",
    "            rev = (row[val] - lim_ultra) * costs_ultra\n",
    "        else:\n",
    "            rev = 0\n",
    "    return rev"
   ]
  },
  {
   "cell_type": "code",
   "execution_count": 92,
   "metadata": {},
   "outputs": [],
   "source": [
    "# Добавим тариф в таблицу calls_clc_df\n",
    "calls_clc_df['tariff'] = calls_clc_df.merge(users_df, on='user_id')['tariff']\n",
    "\n",
    "# Помесячная выручка \n",
    "calls_clc_df['calls_revenue'] = calls_clc_df.apply(calcs_revenue, axis=1)"
   ]
  },
  {
   "cell_type": "markdown",
   "metadata": {},
   "source": [
    "2. Выручка за сообщения"
   ]
  },
  {
   "cell_type": "code",
   "execution_count": 93,
   "metadata": {},
   "outputs": [],
   "source": [
    "# Добавим тариф в таблицу messages_clc_df\n",
    "messages_clc_df['tariff'] = messages_clc_df.merge(users_df, on='user_id')['tariff']\n",
    "\n",
    "# Помесячная выручка \n",
    "messages_clc_df['messages_revenue'] = messages_clc_df.apply(calcs_revenue, axis=1)"
   ]
  },
  {
   "cell_type": "markdown",
   "metadata": {},
   "source": [
    "3. Выручка за интернет"
   ]
  },
  {
   "cell_type": "code",
   "execution_count": 94,
   "metadata": {
    "scrolled": false
   },
   "outputs": [],
   "source": [
    "# Добавим тариф в таблицу internet_clc_df\n",
    "internet_clc_df['tariff'] = internet_clc_df.merge(users_df, on='user_id')['tariff']\n",
    "\n",
    "# Помесячная выручка \n",
    "internet_clc_df['internet_revenue'] = internet_clc_df.apply(calcs_revenue, axis=1)"
   ]
  },
  {
   "cell_type": "markdown",
   "metadata": {},
   "source": [
    "4. Суммарная выручка"
   ]
  },
  {
   "cell_type": "code",
   "execution_count": 95,
   "metadata": {},
   "outputs": [],
   "source": [
    "# Создадим новую таблицу total_revenue. Скопируем данные из таблицы calls_clc_df\n",
    "total_revenue = calls_clc_df[['user_id', 'month', 'calls_revenue']].copy()\n",
    "\n",
    "# Добавим данные из таблицы messages_clc_df\n",
    "total_revenue = (\n",
    "    total_revenue.\n",
    "    merge(\n",
    "        messages_clc_df, \n",
    "        on=['user_id', 'month'], \n",
    "        how='outer'\n",
    "    )\n",
    ")\n",
    "\n",
    "# Удалим столбцы столбцы number_messages и tariff\n",
    "total_revenue = total_revenue.drop(['number_messages', 'tariff'], axis=1);\n",
    "\n",
    "# Добавим данные из таблицы internet_clc_df\n",
    "total_revenue = (\n",
    "    total_revenue.\n",
    "    merge(\n",
    "        internet_clc_df, \n",
    "        on=['user_id', 'month'], \n",
    "        how='outer'\n",
    "    )\n",
    ")\n",
    "\n",
    "# Удалим столбцы столбцы total_traffic и tariff\n",
    "total_revenue = total_revenue.drop(['total_traffic', 'tariff'], axis=1);\n",
    "\n",
    "# Добавим столбец tariff из датафрейма user_id\n",
    "total_revenue['tariff'] = total_revenue.merge(users_df, on='user_id')['tariff']\n",
    "\n",
    "# Функция, которая считает выручку за тариф\n",
    "def tariff_revenue(row):\n",
    "    global tariffs_df\n",
    "    \n",
    "    if row['tariff'] in 'smart':\n",
    "        rev = tariffs_df[tariffs_df['tariff_name']=='smart']['rub_monthly_fee'][0]\n",
    "    if row['tariff'] in 'ultra':\n",
    "        rev = tariffs_df[tariffs_df['tariff_name']=='ultra']['rub_monthly_fee'][1]\n",
    "    return rev\n",
    "\n",
    "# Помесячная выручка \n",
    "total_revenue['tariff_revenue'] = total_revenue.apply(tariff_revenue, axis=1)\n",
    "\n",
    "# Заполняем пропуски нулями\n",
    "total_revenue = total_revenue.fillna(0)\n",
    "\n",
    "# Считаем суммарную выручку\n",
    "total_revenue['total'] = (\n",
    "    total_revenue['calls_revenue'] +\n",
    "    total_revenue['messages_revenue'] +\n",
    "    total_revenue['internet_revenue'] +\n",
    "    total_revenue['tariff_revenue']\n",
    ")"
   ]
  },
  {
   "cell_type": "markdown",
   "metadata": {},
   "source": [
    "### Выводы"
   ]
  },
  {
   "cell_type": "markdown",
   "metadata": {},
   "source": [
    "[*Вернуться к оглавлению*](#Оглавление)"
   ]
  },
  {
   "cell_type": "markdown",
   "metadata": {},
   "source": [
    "В данном разделе был проведен поиск ошибок и приведение данных к нужному типу.  \n",
    "В данных о звонках, сообщениях, тарифах и пользователях аномальных значений не обнаружено.\n",
    "В данных об интернет-сессиях был удален лишний столбец.\n",
    "Во всех таблицах был изменен тип данных на datetime для данных с датами.  \n",
    "Для каждого пользователя были посчитаны:\n",
    "* количество сделанных звонков и израсходованных минут разговора по месяцам. Для данных по звонкам создана таблица `calls_clc_df`;\n",
    "* количество отправленных сообщений по месяцам. Для данных по сообщениям создана таблица `messages_clc_df`;\n",
    "* объем израсходованного интернет-трафика по месяцам. Для данных по интренет-трафику создана таблица `internet_clc_df`;\n",
    "* помесячная выручка с каждого пользователя. Расчет выручки выполнен в таблице `total_revenue`."
   ]
  },
  {
   "cell_type": "markdown",
   "metadata": {},
   "source": [
    "## Анализ данных"
   ]
  },
  {
   "cell_type": "markdown",
   "metadata": {},
   "source": [
    "[*Вернуться к оглавлению*](#Оглавление)"
   ]
  },
  {
   "cell_type": "markdown",
   "metadata": {},
   "source": [
    "Опишите поведение клиентов оператора, исходя из выборки. Сколько минут разговора, сколько сообщений и какой объём интернет-трафика требуется пользователям каждого тарифа в месяц? Посчитайте среднее количество, дисперсию и стандартное отклонение. Постройте гистограммы. Опишите распределения."
   ]
  },
  {
   "cell_type": "markdown",
   "metadata": {},
   "source": [
    "### Анализ длительности звонков в месяц"
   ]
  },
  {
   "cell_type": "markdown",
   "metadata": {},
   "source": [
    "[*Вернуться к оглавлению*](#Оглавление)"
   ]
  },
  {
   "cell_type": "code",
   "execution_count": 96,
   "metadata": {
    "scrolled": true
   },
   "outputs": [
    {
     "data": {
      "image/png": "[encoded data removed]",
      "text/plain": [
       "<Figure size 432x288 with 1 Axes>"
      ]
     },
     "metadata": {
      "needs_background": "light"
     },
     "output_type": "display_data"
    },
    {
     "data": {
      "image/png": "[encoded data removed]",
      "text/plain": [
       "<Figure size 432x288 with 1 Axes>"
      ]
     },
     "metadata": {
      "needs_background": "light"
     },
     "output_type": "display_data"
    },
    {
     "data": {
      "image/png": "[encoded data removed]",
      "text/plain": [
       "<Figure size 432x288 with 1 Axes>"
      ]
     },
     "metadata": {
      "needs_background": "light"
     },
     "output_type": "display_data"
    },
    {
     "data": {
      "image/png": "[encoded data removed]",
      "text/plain": [
       "<Figure size 432x288 with 1 Axes>"
      ]
     },
     "metadata": {
      "needs_background": "light"
     },
     "output_type": "display_data"
    },
    {
     "data": {
      "image/png": "[encoded data removed]",
      "text/plain": [
       "<Figure size 432x288 with 1 Axes>"
      ]
     },
     "metadata": {
      "needs_background": "light"
     },
     "output_type": "display_data"
    },
    {
     "data": {
      "image/png": "[encoded data removed]",
      "text/plain": [
       "<Figure size 432x288 with 1 Axes>"
      ]
     },
     "metadata": {
      "needs_background": "light"
     },
     "output_type": "display_data"
    },
    {
     "data": {
      "image/png": "[encoded data removed]",
      "text/plain": [
       "<Figure size 432x288 with 1 Axes>"
      ]
     },
     "metadata": {
      "needs_background": "light"
     },
     "output_type": "display_data"
    },
    {
     "data": {
      "image/png": "[encoded data removed]",
      "text/plain": [
       "<Figure size 432x288 with 1 Axes>"
      ]
     },
     "metadata": {
      "needs_background": "light"
     },
     "output_type": "display_data"
    },
    {
     "data": {
      "image/png": "[encoded data removed]",
      "text/plain": [
       "<Figure size 432x288 with 1 Axes>"
      ]
     },
     "metadata": {
      "needs_background": "light"
     },
     "output_type": "display_data"
    },
    {
     "data": {
      "image/png": "[encoded data removed]",
      "text/plain": [
       "<Figure size 432x288 with 1 Axes>"
      ]
     },
     "metadata": {
      "needs_background": "light"
     },
     "output_type": "display_data"
    },
    {
     "data": {
      "image/png": "[encoded data removed]",
      "text/plain": [
       "<Figure size 432x288 with 1 Axes>"
      ]
     },
     "metadata": {
      "needs_background": "light"
     },
     "output_type": "display_data"
    },
    {
     "data": {
      "image/png": "[encoded data removed]",
      "text/plain": [
       "<Figure size 432x288 with 1 Axes>"
      ]
     },
     "metadata": {
      "needs_background": "light"
     },
     "output_type": "display_data"
    }
   ],
   "source": [
    "# Гистограммы звонков для каждого месяца\n",
    "for i in range(1,13):\n",
    "    # Строим гистограмму всех звонков в месяц\n",
    "    (\n",
    "        calls_clc_df[calls_clc_df['month'] == i]['total_duration'].\n",
    "        hist(bins=30, alpha = 0.5, edgecolor='black').set_title(f'month {i}')\n",
    "    )\n",
    "    \n",
    "    # Строим гистограмму звонков по тарифу самрт\n",
    "    (\n",
    "        calls_clc_df[\n",
    "            (calls_clc_df['month'] == i) & \n",
    "            (calls_clc_df['tariff'] == 'smart')\n",
    "        ]\n",
    "        ['total_duration'].\n",
    "        hist(bins=30, alpha = 0.7)\n",
    "    )\n",
    "    \n",
    "    # Строим гистограмму звонков по тарифу ультра\n",
    "    (\n",
    "        calls_clc_df[\n",
    "            (calls_clc_df['month'] == i) & \n",
    "            (calls_clc_df['tariff'] == 'ultra')\n",
    "        ]\n",
    "        ['total_duration'].\n",
    "        hist(bins=30, alpha = 0.7)\n",
    "    )\n",
    "    plt.legend(['total_calls', 'smart_tariff', 'ultra_tariff'])\n",
    "    plt.xlabel('calls duration, min')\n",
    "    plt.ylabel('users')\n",
    "    plt.show()"
   ]
  },
  {
   "cell_type": "code",
   "execution_count": 97,
   "metadata": {},
   "outputs": [
    {
     "data": {
      "text/html": [
       "<div>\n",
       "<style scoped>\n",
       "    .dataframe tbody tr th:only-of-type {\n",
       "        vertical-align: middle;\n",
       "    }\n",
       "\n",
       "    .dataframe tbody tr th {\n",
       "        vertical-align: top;\n",
       "    }\n",
       "\n",
       "    .dataframe thead th {\n",
       "        text-align: right;\n",
       "    }\n",
       "</style>\n",
       "<table border=\"1\" class=\"dataframe\">\n",
       "  <thead>\n",
       "    <tr style=\"text-align: right;\">\n",
       "      <th></th>\n",
       "      <th>mean</th>\n",
       "      <th>var</th>\n",
       "      <th>std</th>\n",
       "    </tr>\n",
       "    <tr>\n",
       "      <th>month</th>\n",
       "      <th></th>\n",
       "      <th></th>\n",
       "      <th></th>\n",
       "    </tr>\n",
       "  </thead>\n",
       "  <tbody>\n",
       "    <tr>\n",
       "      <th>1</th>\n",
       "      <td>250.790698</td>\n",
       "      <td>41072.074197</td>\n",
       "      <td>202.662464</td>\n",
       "    </tr>\n",
       "    <tr>\n",
       "      <th>2</th>\n",
       "      <td>298.231707</td>\n",
       "      <td>50588.822192</td>\n",
       "      <td>224.919591</td>\n",
       "    </tr>\n",
       "    <tr>\n",
       "      <th>3</th>\n",
       "      <td>422.377193</td>\n",
       "      <td>62445.281245</td>\n",
       "      <td>249.890539</td>\n",
       "    </tr>\n",
       "    <tr>\n",
       "      <th>4</th>\n",
       "      <td>401.878788</td>\n",
       "      <td>47044.046194</td>\n",
       "      <td>216.896395</td>\n",
       "    </tr>\n",
       "    <tr>\n",
       "      <th>5</th>\n",
       "      <td>433.219512</td>\n",
       "      <td>51676.887853</td>\n",
       "      <td>227.325511</td>\n",
       "    </tr>\n",
       "    <tr>\n",
       "      <th>6</th>\n",
       "      <td>431.065574</td>\n",
       "      <td>50493.115024</td>\n",
       "      <td>224.706731</td>\n",
       "    </tr>\n",
       "    <tr>\n",
       "      <th>7</th>\n",
       "      <td>455.868512</td>\n",
       "      <td>53837.649318</td>\n",
       "      <td>232.029415</td>\n",
       "    </tr>\n",
       "    <tr>\n",
       "      <th>8</th>\n",
       "      <td>456.077151</td>\n",
       "      <td>53829.380935</td>\n",
       "      <td>232.011597</td>\n",
       "    </tr>\n",
       "    <tr>\n",
       "      <th>9</th>\n",
       "      <td>468.851351</td>\n",
       "      <td>55914.186516</td>\n",
       "      <td>236.461808</td>\n",
       "    </tr>\n",
       "    <tr>\n",
       "      <th>10</th>\n",
       "      <td>471.844282</td>\n",
       "      <td>57443.361059</td>\n",
       "      <td>239.673447</td>\n",
       "    </tr>\n",
       "    <tr>\n",
       "      <th>11</th>\n",
       "      <td>473.173423</td>\n",
       "      <td>50865.899879</td>\n",
       "      <td>225.534698</td>\n",
       "    </tr>\n",
       "    <tr>\n",
       "      <th>12</th>\n",
       "      <td>518.457447</td>\n",
       "      <td>62291.779635</td>\n",
       "      <td>249.583212</td>\n",
       "    </tr>\n",
       "  </tbody>\n",
       "</table>\n",
       "</div>"
      ],
      "text/plain": [
       "             mean           var         std\n",
       "month                                      \n",
       "1      250.790698  41072.074197  202.662464\n",
       "2      298.231707  50588.822192  224.919591\n",
       "3      422.377193  62445.281245  249.890539\n",
       "4      401.878788  47044.046194  216.896395\n",
       "5      433.219512  51676.887853  227.325511\n",
       "6      431.065574  50493.115024  224.706731\n",
       "7      455.868512  53837.649318  232.029415\n",
       "8      456.077151  53829.380935  232.011597\n",
       "9      468.851351  55914.186516  236.461808\n",
       "10     471.844282  57443.361059  239.673447\n",
       "11     473.173423  50865.899879  225.534698\n",
       "12     518.457447  62291.779635  249.583212"
      ]
     },
     "execution_count": 97,
     "metadata": {},
     "output_type": "execute_result"
    }
   ],
   "source": [
    "# Считаем среднее, дисперсию и стандартное отклонение\n",
    "calls_clc_df.groupby('month').total_duration.agg(['mean', 'var', 'std'])"
   ]
  },
  {
   "cell_type": "code",
   "execution_count": 98,
   "metadata": {},
   "outputs": [
    {
     "data": {
      "image/png": "[encoded data removed]",
      "text/plain": [
       "<Figure size 432x288 with 1 Axes>"
      ]
     },
     "metadata": {
      "needs_background": "light"
     },
     "output_type": "display_data"
    }
   ],
   "source": [
    "# Построим графики ежемесячной средней длительности звонков для каждого тарифа\n",
    "calls_clc_df[calls_clc_df['tariff']=='smart'].groupby('month').total_duration.agg('mean').plot()\n",
    "calls_clc_df[calls_clc_df['tariff']=='ultra'].groupby('month').total_duration.agg('mean').plot()\n",
    "plt.grid(True)\n",
    "plt.xlabel('month')\n",
    "plt.ylabel('calls duration, min')\n",
    "plt.title('mean calls duration per month')\n",
    "plt.legend(['smart', 'ultra']);"
   ]
  },
  {
   "cell_type": "code",
   "execution_count": 99,
   "metadata": {},
   "outputs": [
    {
     "data": {
      "text/html": [
       "<div>\n",
       "<style scoped>\n",
       "    .dataframe tbody tr th:only-of-type {\n",
       "        vertical-align: middle;\n",
       "    }\n",
       "\n",
       "    .dataframe tbody tr th {\n",
       "        vertical-align: top;\n",
       "    }\n",
       "\n",
       "    .dataframe thead th {\n",
       "        text-align: right;\n",
       "    }\n",
       "</style>\n",
       "<table border=\"1\" class=\"dataframe\">\n",
       "  <thead>\n",
       "    <tr style=\"text-align: right;\">\n",
       "      <th></th>\n",
       "      <th>mean</th>\n",
       "      <th>var</th>\n",
       "      <th>std</th>\n",
       "    </tr>\n",
       "    <tr>\n",
       "      <th>tariff</th>\n",
       "      <th></th>\n",
       "      <th></th>\n",
       "      <th></th>\n",
       "    </tr>\n",
       "  </thead>\n",
       "  <tbody>\n",
       "    <tr>\n",
       "      <th>smart</th>\n",
       "      <td>419.0</td>\n",
       "      <td>35844.0</td>\n",
       "      <td>189.0</td>\n",
       "    </tr>\n",
       "    <tr>\n",
       "      <th>ultra</th>\n",
       "      <td>545.0</td>\n",
       "      <td>94203.0</td>\n",
       "      <td>307.0</td>\n",
       "    </tr>\n",
       "  </tbody>\n",
       "</table>\n",
       "</div>"
      ],
      "text/plain": [
       "         mean      var    std\n",
       "tariff                       \n",
       "smart   419.0  35844.0  189.0\n",
       "ultra   545.0  94203.0  307.0"
      ]
     },
     "execution_count": 99,
     "metadata": {},
     "output_type": "execute_result"
    }
   ],
   "source": [
    "# Средняя длительность звонков за год для каждого тарифа\n",
    "calls_clc_df.groupby('tariff').total_duration.agg(['mean','var','std']).round()"
   ]
  },
  {
   "cell_type": "code",
   "execution_count": 100,
   "metadata": {},
   "outputs": [
    {
     "data": {
      "image/png": "[encoded data removed]",
      "text/plain": [
       "<Figure size 432x288 with 1 Axes>"
      ]
     },
     "metadata": {
      "needs_background": "light"
     },
     "output_type": "display_data"
    }
   ],
   "source": [
    "# Гистограммы длительности звонков за год\n",
    "calls_clc_df[calls_clc_df['tariff']=='smart']['total_duration'].hist(bins=30, alpha=0.7)\n",
    "calls_clc_df[calls_clc_df['tariff']=='ultra']['total_duration'].hist(bins=30, alpha=0.7)\n",
    "plt.xlabel('calls, min')\n",
    "plt.ylabel('users')\n",
    "plt.title('calls duration histogram')\n",
    "plt.legend(['smart', 'ultra']);"
   ]
  },
  {
   "cell_type": "markdown",
   "metadata": {},
   "source": [
    "Ежемесячная длительность звонков равна от нуля до 1600 минут. В среднем звонки составляют от 400 до 518 минут, без учета первых двух месяцев.  \n",
    "На гистограммах в период с марта по декабрь наблюдается нормальное распределение суммарных звонков. В январе и феврале распределения не имеют выраженной формы. Это связано с тем, что не все пользователи подключались к оператору с первых месяцев.  \n",
    "На гистограммах видно, что пользователи тарифа смарт соврешают больше звонков длительностью близких к среднему. Пользователей тарифа ультра меньше и они совершают более длительные звонки, формируя скос гистограммы вправо.\n",
    "\n",
    "Был построен график зависимости средней длительности звонков в течение года. Средняя длительность звонков тарифа \"ультра\" выше, чем тарифа \"смарт\"."
   ]
  },
  {
   "cell_type": "markdown",
   "metadata": {},
   "source": [
    "### Анализ количества сообщений в месяц"
   ]
  },
  {
   "cell_type": "markdown",
   "metadata": {},
   "source": [
    "[*Вернуться к оглавлению*](#Оглавление)"
   ]
  },
  {
   "cell_type": "code",
   "execution_count": 101,
   "metadata": {
    "scrolled": true
   },
   "outputs": [
    {
     "data": {
      "image/png": "[encoded data removed]",
      "text/plain": [
       "<Figure size 432x288 with 1 Axes>"
      ]
     },
     "metadata": {
      "needs_background": "light"
     },
     "output_type": "display_data"
    },
    {
     "data": {
      "image/png": "[encoded data removed]",
      "text/plain": [
       "<Figure size 432x288 with 1 Axes>"
      ]
     },
     "metadata": {
      "needs_background": "light"
     },
     "output_type": "display_data"
    },
    {
     "data": {
      "image/png": "[encoded data removed]",
      "text/plain": [
       "<Figure size 432x288 with 1 Axes>"
      ]
     },
     "metadata": {
      "needs_background": "light"
     },
     "output_type": "display_data"
    },
    {
     "data": {
      "image/png": "[encoded data removed]",
      "text/plain": [
       "<Figure size 432x288 with 1 Axes>"
      ]
     },
     "metadata": {
      "needs_background": "light"
     },
     "output_type": "display_data"
    },
    {
     "data": {
      "image/png": "[encoded data removed]",
      "text/plain": [
       "<Figure size 432x288 with 1 Axes>"
      ]
     },
     "metadata": {
      "needs_background": "light"
     },
     "output_type": "display_data"
    },
    {
     "data": {
      "image/png": "[encoded data removed]",
      "text/plain": [
       "<Figure size 432x288 with 1 Axes>"
      ]
     },
     "metadata": {
      "needs_background": "light"
     },
     "output_type": "display_data"
    },
    {
     "data": {
      "image/png": "[encoded data removed]",
      "text/plain": [
       "<Figure size 432x288 with 1 Axes>"
      ]
     },
     "metadata": {
      "needs_background": "light"
     },
     "output_type": "display_data"
    },
    {
     "data": {
      "image/png": "[encoded data removed]",
      "text/plain": [
       "<Figure size 432x288 with 1 Axes>"
      ]
     },
     "metadata": {
      "needs_background": "light"
     },
     "output_type": "display_data"
    },
    {
     "data": {
      "image/png": "[encoded data removed]",
      "text/plain": [
       "<Figure size 432x288 with 1 Axes>"
      ]
     },
     "metadata": {
      "needs_background": "light"
     },
     "output_type": "display_data"
    },
    {
     "data": {
      "image/png": "[encoded data removed]",
      "text/plain": [
       "<Figure size 432x288 with 1 Axes>"
      ]
     },
     "metadata": {
      "needs_background": "light"
     },
     "output_type": "display_data"
    },
    {
     "data": {
      "image/png": "[encoded data removed]",
      "text/plain": [
       "<Figure size 432x288 with 1 Axes>"
      ]
     },
     "metadata": {
      "needs_background": "light"
     },
     "output_type": "display_data"
    },
    {
     "data": {
      "image/png": "[encoded data removed]",
      "text/plain": [
       "<Figure size 432x288 with 1 Axes>"
      ]
     },
     "metadata": {
      "needs_background": "light"
     },
     "output_type": "display_data"
    }
   ],
   "source": [
    "# Гистограммы сообщений для каждого месяца\n",
    "for i in range(1,13):\n",
    "    # Строим гистограмму всех сообщений в месяц\n",
    "    (\n",
    "        messages_clc_df[messages_clc_df['month'] == i]['number_messages'].\n",
    "        hist(bins=30, alpha=0.5, edgecolor='black').set_title(f'month {i}')\n",
    "    )\n",
    "    \n",
    "    # Строим гистограмму сообщений по тарифу смарт\n",
    "    (\n",
    "        messages_clc_df[\n",
    "            (messages_clc_df['month'] == i) & \n",
    "            (messages_clc_df['tariff'] == 'smart')\n",
    "        ]\n",
    "        ['number_messages'].\n",
    "        hist(bins=30, alpha = 0.7)\n",
    "    )\n",
    "    \n",
    "    # Строим гистограмму сообщений по тарифу ультра\n",
    "    (\n",
    "        messages_clc_df[\n",
    "            (messages_clc_df['month'] == i) & \n",
    "            (messages_clc_df['tariff'] == 'ultra')\n",
    "        ]\n",
    "        ['number_messages'].\n",
    "        hist(bins=30, alpha = 0.7)\n",
    "    )\n",
    "    plt.legend(['total_messages', 'smart_tariff', 'ultra_tariff'])    \n",
    "    plt.xlabel('number of messages')\n",
    "    plt.ylabel('users')\n",
    "    plt.show()"
   ]
  },
  {
   "cell_type": "code",
   "execution_count": 102,
   "metadata": {},
   "outputs": [
    {
     "data": {
      "text/html": [
       "<div>\n",
       "<style scoped>\n",
       "    .dataframe tbody tr th:only-of-type {\n",
       "        vertical-align: middle;\n",
       "    }\n",
       "\n",
       "    .dataframe tbody tr th {\n",
       "        vertical-align: top;\n",
       "    }\n",
       "\n",
       "    .dataframe thead th {\n",
       "        text-align: right;\n",
       "    }\n",
       "</style>\n",
       "<table border=\"1\" class=\"dataframe\">\n",
       "  <thead>\n",
       "    <tr style=\"text-align: right;\">\n",
       "      <th></th>\n",
       "      <th>mean</th>\n",
       "      <th>var</th>\n",
       "      <th>std</th>\n",
       "    </tr>\n",
       "    <tr>\n",
       "      <th>month</th>\n",
       "      <th></th>\n",
       "      <th></th>\n",
       "      <th></th>\n",
       "    </tr>\n",
       "  </thead>\n",
       "  <tbody>\n",
       "    <tr>\n",
       "      <th>1</th>\n",
       "      <td>24.315789</td>\n",
       "      <td>413.248933</td>\n",
       "      <td>20.328525</td>\n",
       "    </tr>\n",
       "    <tr>\n",
       "      <th>2</th>\n",
       "      <td>29.151515</td>\n",
       "      <td>501.330536</td>\n",
       "      <td>22.390412</td>\n",
       "    </tr>\n",
       "    <tr>\n",
       "      <th>3</th>\n",
       "      <td>38.808511</td>\n",
       "      <td>990.737131</td>\n",
       "      <td>31.475977</td>\n",
       "    </tr>\n",
       "    <tr>\n",
       "      <th>4</th>\n",
       "      <td>38.362963</td>\n",
       "      <td>781.979215</td>\n",
       "      <td>27.963891</td>\n",
       "    </tr>\n",
       "    <tr>\n",
       "      <th>5</th>\n",
       "      <td>41.942529</td>\n",
       "      <td>926.505348</td>\n",
       "      <td>30.438550</td>\n",
       "    </tr>\n",
       "    <tr>\n",
       "      <th>6</th>\n",
       "      <td>42.980861</td>\n",
       "      <td>1151.461170</td>\n",
       "      <td>33.933187</td>\n",
       "    </tr>\n",
       "    <tr>\n",
       "      <th>7</th>\n",
       "      <td>45.829960</td>\n",
       "      <td>1259.092920</td>\n",
       "      <td>35.483699</td>\n",
       "    </tr>\n",
       "    <tr>\n",
       "      <th>8</th>\n",
       "      <td>44.821918</td>\n",
       "      <td>1225.768865</td>\n",
       "      <td>35.010982</td>\n",
       "    </tr>\n",
       "    <tr>\n",
       "      <th>9</th>\n",
       "      <td>46.411950</td>\n",
       "      <td>1179.195693</td>\n",
       "      <td>34.339419</td>\n",
       "    </tr>\n",
       "    <tr>\n",
       "      <th>10</th>\n",
       "      <td>47.938375</td>\n",
       "      <td>1412.614169</td>\n",
       "      <td>37.584760</td>\n",
       "    </tr>\n",
       "    <tr>\n",
       "      <th>11</th>\n",
       "      <td>47.634465</td>\n",
       "      <td>1304.410537</td>\n",
       "      <td>36.116624</td>\n",
       "    </tr>\n",
       "    <tr>\n",
       "      <th>12</th>\n",
       "      <td>50.878713</td>\n",
       "      <td>1453.362424</td>\n",
       "      <td>38.122991</td>\n",
       "    </tr>\n",
       "  </tbody>\n",
       "</table>\n",
       "</div>"
      ],
      "text/plain": [
       "            mean          var        std\n",
       "month                                   \n",
       "1      24.315789   413.248933  20.328525\n",
       "2      29.151515   501.330536  22.390412\n",
       "3      38.808511   990.737131  31.475977\n",
       "4      38.362963   781.979215  27.963891\n",
       "5      41.942529   926.505348  30.438550\n",
       "6      42.980861  1151.461170  33.933187\n",
       "7      45.829960  1259.092920  35.483699\n",
       "8      44.821918  1225.768865  35.010982\n",
       "9      46.411950  1179.195693  34.339419\n",
       "10     47.938375  1412.614169  37.584760\n",
       "11     47.634465  1304.410537  36.116624\n",
       "12     50.878713  1453.362424  38.122991"
      ]
     },
     "execution_count": 102,
     "metadata": {},
     "output_type": "execute_result"
    }
   ],
   "source": [
    "# Считаем среднее, дисперсию и стандартное отклонение\n",
    "messages_clc_df.groupby('month').number_messages.agg(['mean', 'var', 'std'])"
   ]
  },
  {
   "cell_type": "code",
   "execution_count": 103,
   "metadata": {},
   "outputs": [
    {
     "data": {
      "image/png": "[encoded data removed]",
      "text/plain": [
       "<Figure size 432x288 with 1 Axes>"
      ]
     },
     "metadata": {
      "needs_background": "light"
     },
     "output_type": "display_data"
    }
   ],
   "source": [
    "# Построим графики ежемесячной среднего количества сообщений для каждого тарифа\n",
    "messages_clc_df[messages_clc_df['tariff']=='smart'].groupby('month').number_messages.agg('mean').plot()\n",
    "messages_clc_df[messages_clc_df['tariff']=='ultra'].groupby('month').number_messages.agg('mean').plot()\n",
    "plt.grid(True)\n",
    "plt.xlabel('month')\n",
    "plt.ylabel('number of messages')\n",
    "plt.title('mean messages per month')\n",
    "plt.legend(['smart', 'ultra']);"
   ]
  },
  {
   "cell_type": "code",
   "execution_count": 104,
   "metadata": {},
   "outputs": [
    {
     "data": {
      "text/html": [
       "<div>\n",
       "<style scoped>\n",
       "    .dataframe tbody tr th:only-of-type {\n",
       "        vertical-align: middle;\n",
       "    }\n",
       "\n",
       "    .dataframe tbody tr th {\n",
       "        vertical-align: top;\n",
       "    }\n",
       "\n",
       "    .dataframe thead th {\n",
       "        text-align: right;\n",
       "    }\n",
       "</style>\n",
       "<table border=\"1\" class=\"dataframe\">\n",
       "  <thead>\n",
       "    <tr style=\"text-align: right;\">\n",
       "      <th></th>\n",
       "      <th>mean</th>\n",
       "      <th>var</th>\n",
       "      <th>std</th>\n",
       "    </tr>\n",
       "    <tr>\n",
       "      <th>tariff</th>\n",
       "      <th></th>\n",
       "      <th></th>\n",
       "      <th></th>\n",
       "    </tr>\n",
       "  </thead>\n",
       "  <tbody>\n",
       "    <tr>\n",
       "      <th>smart</th>\n",
       "      <td>39.0</td>\n",
       "      <td>718.0</td>\n",
       "      <td>27.0</td>\n",
       "    </tr>\n",
       "    <tr>\n",
       "      <th>ultra</th>\n",
       "      <td>61.0</td>\n",
       "      <td>2110.0</td>\n",
       "      <td>46.0</td>\n",
       "    </tr>\n",
       "  </tbody>\n",
       "</table>\n",
       "</div>"
      ],
      "text/plain": [
       "        mean     var   std\n",
       "tariff                    \n",
       "smart   39.0   718.0  27.0\n",
       "ultra   61.0  2110.0  46.0"
      ]
     },
     "execution_count": 104,
     "metadata": {},
     "output_type": "execute_result"
    }
   ],
   "source": [
    "# Среднее количество сообщений за год для каждого тарифа\n",
    "messages_clc_df.groupby('tariff').number_messages.agg(['mean','var','std']).round()"
   ]
  },
  {
   "cell_type": "code",
   "execution_count": 105,
   "metadata": {},
   "outputs": [
    {
     "data": {
      "image/png": "[encoded data removed]",
      "text/plain": [
       "<Figure size 432x288 with 1 Axes>"
      ]
     },
     "metadata": {
      "needs_background": "light"
     },
     "output_type": "display_data"
    }
   ],
   "source": [
    "# Гистограммы количества сообщений за год\n",
    "messages_clc_df[messages_clc_df['tariff']=='smart']['number_messages'].hist(bins=30, alpha=0.7)\n",
    "messages_clc_df[messages_clc_df['tariff']=='ultra']['number_messages'].hist(bins=30, alpha=0.7)\n",
    "plt.xlabel('messages')\n",
    "plt.ylabel('users')\n",
    "plt.title('messages histogram')\n",
    "plt.legend(['smart', 'ultra']);"
   ]
  },
  {
   "cell_type": "markdown",
   "metadata": {},
   "source": [
    "Количество сообщений в месяц равно от нуля до 220. В среднем ежемесячно отправляется от 38 до 50 сообщений, кроме первых двух месяцев.  \n",
    "На гистограммах в период с марта по декабрь наблюдается распределение Пуассона. Похожее распределение имеют пользователи тарифа смарт. Это связано с тем, что есть определенное количество пользователей, которые регулярно пользуются текстовыми сообщениями.  \n",
    "Количество сообщений тарифа ультра на гистограмме выраженного распределения не имеет. При этом некоторые пользователи тарифа ультра отправляют более 150 сообщений.\n",
    "\n",
    "Был построен график зависимости среднего ежемесячного количества сообщений в течение года. Среднее количество сообщений тарифа \"ультра\" выше, чем тарифа \"смарт\"."
   ]
  },
  {
   "cell_type": "markdown",
   "metadata": {},
   "source": [
    "### Анализ интернет-трафика в месяц"
   ]
  },
  {
   "cell_type": "markdown",
   "metadata": {},
   "source": [
    "[*Вернуться к оглавлению*](#Оглавление)"
   ]
  },
  {
   "cell_type": "code",
   "execution_count": 106,
   "metadata": {
    "scrolled": true
   },
   "outputs": [
    {
     "data": {
      "image/png": "[encoded data removed]",
      "text/plain": [
       "<Figure size 432x288 with 1 Axes>"
      ]
     },
     "metadata": {
      "needs_background": "light"
     },
     "output_type": "display_data"
    },
    {
     "data": {
      "image/png": "[encoded data removed]",
      "text/plain": [
       "<Figure size 432x288 with 1 Axes>"
      ]
     },
     "metadata": {
      "needs_background": "light"
     },
     "output_type": "display_data"
    },
    {
     "data": {
      "image/png": "[encoded data removed]",
      "text/plain": [
       "<Figure size 432x288 with 1 Axes>"
      ]
     },
     "metadata": {
      "needs_background": "light"
     },
     "output_type": "display_data"
    },
    {
     "data": {
      "image/png": "[encoded data removed]",
      "text/plain": [
       "<Figure size 432x288 with 1 Axes>"
      ]
     },
     "metadata": {
      "needs_background": "light"
     },
     "output_type": "display_data"
    },
    {
     "data": {
      "image/png": "[encoded data removed]",
      "text/plain": [
       "<Figure size 432x288 with 1 Axes>"
      ]
     },
     "metadata": {
      "needs_background": "light"
     },
     "output_type": "display_data"
    },
    {
     "data": {
      "image/png": "[encoded data removed]",
      "text/plain": [
       "<Figure size 432x288 with 1 Axes>"
      ]
     },
     "metadata": {
      "needs_background": "light"
     },
     "output_type": "display_data"
    },
    {
     "data": {
      "image/png": "[encoded data removed]",
      "text/plain": [
       "<Figure size 432x288 with 1 Axes>"
      ]
     },
     "metadata": {
      "needs_background": "light"
     },
     "output_type": "display_data"
    },
    {
     "data": {
      "image/png": "[encoded data removed]",
      "text/plain": [
       "<Figure size 432x288 with 1 Axes>"
      ]
     },
     "metadata": {
      "needs_background": "light"
     },
     "output_type": "display_data"
    },
    {
     "data": {
      "image/png": "[encoded data removed]",
      "text/plain": [
       "<Figure size 432x288 with 1 Axes>"
      ]
     },
     "metadata": {
      "needs_background": "light"
     },
     "output_type": "display_data"
    },
    {
     "data": {
      "image/png": "[encoded data removed]",
      "text/plain": [
       "<Figure size 432x288 with 1 Axes>"
      ]
     },
     "metadata": {
      "needs_background": "light"
     },
     "output_type": "display_data"
    },
    {
     "data": {
      "image/png": "[encoded data removed]",
      "text/plain": [
       "<Figure size 432x288 with 1 Axes>"
      ]
     },
     "metadata": {
      "needs_background": "light"
     },
     "output_type": "display_data"
    },
    {
     "data": {
      "image/png": "[encoded data removed]",
      "text/plain": [
       "<Figure size 432x288 with 1 Axes>"
      ]
     },
     "metadata": {
      "needs_background": "light"
     },
     "output_type": "display_data"
    }
   ],
   "source": [
    "# Гистограммы интернет траффика для каждого месяца\n",
    "for i in range(1,13):\n",
    "    # Строим гистограмму всего трафика в месяц\n",
    "    (\n",
    "        internet_clc_df[internet_clc_df['month'] == i]['total_traffic'].\n",
    "        hist(bins=30, alpha=0.5, edgecolor='black').set_title(f'month {i}')\n",
    "    )\n",
    "    \n",
    "    # Строим гистограмму тарфика по тарифу смарт\n",
    "    (\n",
    "        internet_clc_df[\n",
    "            (internet_clc_df['month'] == i) & \n",
    "            (internet_clc_df['tariff'] == 'smart')\n",
    "        ]\n",
    "        ['total_traffic'].\n",
    "        hist(bins=30, alpha = 0.7)\n",
    "    )\n",
    "    \n",
    "    # Строим гистограмму трафика по тарифу смарт\n",
    "    (\n",
    "        internet_clc_df[\n",
    "            (internet_clc_df['month'] == i) & \n",
    "            (internet_clc_df['tariff'] == 'ultra')\n",
    "        ]\n",
    "        ['total_traffic'].\n",
    "        hist(bins=30, alpha = 0.7)\n",
    "    )\n",
    "    plt.legend(['total_traffic', 'smart_tariff', 'ultra_tariff'])\n",
    "    plt.xlabel('internet traffic, Gb')\n",
    "    plt.ylabel('users')\n",
    "    plt.show()"
   ]
  },
  {
   "cell_type": "code",
   "execution_count": 107,
   "metadata": {},
   "outputs": [
    {
     "data": {
      "text/html": [
       "<div>\n",
       "<style scoped>\n",
       "    .dataframe tbody tr th:only-of-type {\n",
       "        vertical-align: middle;\n",
       "    }\n",
       "\n",
       "    .dataframe tbody tr th {\n",
       "        vertical-align: top;\n",
       "    }\n",
       "\n",
       "    .dataframe thead th {\n",
       "        text-align: right;\n",
       "    }\n",
       "</style>\n",
       "<table border=\"1\" class=\"dataframe\">\n",
       "  <thead>\n",
       "    <tr style=\"text-align: right;\">\n",
       "      <th></th>\n",
       "      <th>mean</th>\n",
       "      <th>var</th>\n",
       "      <th>std</th>\n",
       "    </tr>\n",
       "    <tr>\n",
       "      <th>month</th>\n",
       "      <th></th>\n",
       "      <th></th>\n",
       "      <th></th>\n",
       "    </tr>\n",
       "  </thead>\n",
       "  <tbody>\n",
       "    <tr>\n",
       "      <th>1</th>\n",
       "      <td>9.674419</td>\n",
       "      <td>42.843854</td>\n",
       "      <td>6.545522</td>\n",
       "    </tr>\n",
       "    <tr>\n",
       "      <th>2</th>\n",
       "      <td>12.187500</td>\n",
       "      <td>54.913766</td>\n",
       "      <td>7.410382</td>\n",
       "    </tr>\n",
       "    <tr>\n",
       "      <th>3</th>\n",
       "      <td>16.017544</td>\n",
       "      <td>59.610309</td>\n",
       "      <td>7.720771</td>\n",
       "    </tr>\n",
       "    <tr>\n",
       "      <th>4</th>\n",
       "      <td>14.724551</td>\n",
       "      <td>52.501984</td>\n",
       "      <td>7.245825</td>\n",
       "    </tr>\n",
       "    <tr>\n",
       "      <th>5</th>\n",
       "      <td>17.106280</td>\n",
       "      <td>55.231368</td>\n",
       "      <td>7.431781</td>\n",
       "    </tr>\n",
       "    <tr>\n",
       "      <th>6</th>\n",
       "      <td>17.032389</td>\n",
       "      <td>49.787565</td>\n",
       "      <td>7.056030</td>\n",
       "    </tr>\n",
       "    <tr>\n",
       "      <th>7</th>\n",
       "      <td>17.378007</td>\n",
       "      <td>56.566963</td>\n",
       "      <td>7.521101</td>\n",
       "    </tr>\n",
       "    <tr>\n",
       "      <th>8</th>\n",
       "      <td>17.735294</td>\n",
       "      <td>53.546243</td>\n",
       "      <td>7.317530</td>\n",
       "    </tr>\n",
       "    <tr>\n",
       "      <th>9</th>\n",
       "      <td>17.312834</td>\n",
       "      <td>45.271846</td>\n",
       "      <td>6.728436</td>\n",
       "    </tr>\n",
       "    <tr>\n",
       "      <th>10</th>\n",
       "      <td>17.862981</td>\n",
       "      <td>51.405277</td>\n",
       "      <td>7.169747</td>\n",
       "    </tr>\n",
       "    <tr>\n",
       "      <th>11</th>\n",
       "      <td>17.875278</td>\n",
       "      <td>47.899588</td>\n",
       "      <td>6.920953</td>\n",
       "    </tr>\n",
       "    <tr>\n",
       "      <th>12</th>\n",
       "      <td>19.275789</td>\n",
       "      <td>52.989181</td>\n",
       "      <td>7.279367</td>\n",
       "    </tr>\n",
       "  </tbody>\n",
       "</table>\n",
       "</div>"
      ],
      "text/plain": [
       "            mean        var       std\n",
       "month                                \n",
       "1       9.674419  42.843854  6.545522\n",
       "2      12.187500  54.913766  7.410382\n",
       "3      16.017544  59.610309  7.720771\n",
       "4      14.724551  52.501984  7.245825\n",
       "5      17.106280  55.231368  7.431781\n",
       "6      17.032389  49.787565  7.056030\n",
       "7      17.378007  56.566963  7.521101\n",
       "8      17.735294  53.546243  7.317530\n",
       "9      17.312834  45.271846  6.728436\n",
       "10     17.862981  51.405277  7.169747\n",
       "11     17.875278  47.899588  6.920953\n",
       "12     19.275789  52.989181  7.279367"
      ]
     },
     "execution_count": 107,
     "metadata": {},
     "output_type": "execute_result"
    }
   ],
   "source": [
    "# Считаем среднее, дисперсию и стандартное отклонение\n",
    "internet_clc_df.groupby('month').total_traffic.agg(['mean', 'var', 'std'])"
   ]
  },
  {
   "cell_type": "code",
   "execution_count": 108,
   "metadata": {},
   "outputs": [
    {
     "data": {
      "image/png": "[encoded data removed]",
      "text/plain": [
       "<Figure size 432x288 with 1 Axes>"
      ]
     },
     "metadata": {
      "needs_background": "light"
     },
     "output_type": "display_data"
    }
   ],
   "source": [
    "# Построим графики ежемесячной среднего трафика для каждого тарифа\n",
    "internet_clc_df[internet_clc_df['tariff']=='smart'].groupby('month').total_traffic.agg('mean').plot()\n",
    "internet_clc_df[internet_clc_df['tariff']=='ultra'].groupby('month').total_traffic.agg('mean').plot()\n",
    "plt.grid(True)\n",
    "plt.xlabel('month')\n",
    "plt.ylabel('internet traffic, Gb')\n",
    "plt.title('mean internet traffic per month')\n",
    "plt.legend(['smart', 'ultra']);"
   ]
  },
  {
   "cell_type": "code",
   "execution_count": 109,
   "metadata": {},
   "outputs": [
    {
     "data": {
      "text/html": [
       "<div>\n",
       "<style scoped>\n",
       "    .dataframe tbody tr th:only-of-type {\n",
       "        vertical-align: middle;\n",
       "    }\n",
       "\n",
       "    .dataframe tbody tr th {\n",
       "        vertical-align: top;\n",
       "    }\n",
       "\n",
       "    .dataframe thead th {\n",
       "        text-align: right;\n",
       "    }\n",
       "</style>\n",
       "<table border=\"1\" class=\"dataframe\">\n",
       "  <thead>\n",
       "    <tr style=\"text-align: right;\">\n",
       "      <th></th>\n",
       "      <th>mean</th>\n",
       "      <th>var</th>\n",
       "      <th>std</th>\n",
       "    </tr>\n",
       "    <tr>\n",
       "      <th>tariff</th>\n",
       "      <th></th>\n",
       "      <th></th>\n",
       "      <th></th>\n",
       "    </tr>\n",
       "  </thead>\n",
       "  <tbody>\n",
       "    <tr>\n",
       "      <th>smart</th>\n",
       "      <td>16.0</td>\n",
       "      <td>33.0</td>\n",
       "      <td>6.0</td>\n",
       "    </tr>\n",
       "    <tr>\n",
       "      <th>ultra</th>\n",
       "      <td>20.0</td>\n",
       "      <td>94.0</td>\n",
       "      <td>10.0</td>\n",
       "    </tr>\n",
       "  </tbody>\n",
       "</table>\n",
       "</div>"
      ],
      "text/plain": [
       "        mean   var   std\n",
       "tariff                  \n",
       "smart   16.0  33.0   6.0\n",
       "ultra   20.0  94.0  10.0"
      ]
     },
     "execution_count": 109,
     "metadata": {},
     "output_type": "execute_result"
    }
   ],
   "source": [
    "# Среднее количество трафика за год для каждого тарифа\n",
    "internet_clc_df.groupby('tariff').total_traffic.agg(['mean','var','std']).round()"
   ]
  },
  {
   "cell_type": "code",
   "execution_count": 110,
   "metadata": {},
   "outputs": [
    {
     "data": {
      "image/png": "[encoded data removed]",
      "text/plain": [
       "<Figure size 432x288 with 1 Axes>"
      ]
     },
     "metadata": {
      "needs_background": "light"
     },
     "output_type": "display_data"
    }
   ],
   "source": [
    "# Гистограммы интернет траффика за год\n",
    "internet_clc_df[internet_clc_df['tariff']=='smart']['total_traffic'].hist(bins=30, alpha=0.7)\n",
    "internet_clc_df[internet_clc_df['tariff']=='ultra']['total_traffic'].hist(bins=30, alpha=0.7)\n",
    "plt.xlabel('traffic, Gb')\n",
    "plt.ylabel('users')\n",
    "plt.title('internet traffic histogram')\n",
    "plt.legend(['smart', 'ultra']);"
   ]
  },
  {
   "cell_type": "markdown",
   "metadata": {},
   "source": [
    "Объем ежемесячного трафика равен от нуля до 50Гб. В среднем пользователи используют от 14Гб до 20Гб в месяц, кроме первых двух месяцев.  \n",
    "На гистограммах в период с марта по декабрь наблюдается нормальное распределение. Похожее распределение имеют пользователи тарифа смарт.  \n",
    "Трафик пользователей тарифа ультра на гистограмме выраженного распределения не имеет. При этом пользователи тарифа ультра используют большие объемы трафика, формируя скос гистограммы суммарного трафика вправо.\n",
    "\n",
    "Был построен график зависимости среднего ежемесячного интернет траффика в течение года. Средний объем трафика тарифа \"ультра\" выше, чем тарифа \"смарт\"."
   ]
  },
  {
   "cell_type": "markdown",
   "metadata": {},
   "source": [
    "### Анализ выручки"
   ]
  },
  {
   "cell_type": "markdown",
   "metadata": {},
   "source": [
    "[*Вернуться к оглавлению*](#Оглавление)"
   ]
  },
  {
   "cell_type": "code",
   "execution_count": 111,
   "metadata": {
    "scrolled": false
   },
   "outputs": [
    {
     "data": {
      "image/png": "[encoded data removed]",
      "text/plain": [
       "<Figure size 432x288 with 1 Axes>"
      ]
     },
     "metadata": {
      "needs_background": "light"
     },
     "output_type": "display_data"
    }
   ],
   "source": [
    "# Построим месячную выручку для каждого тарифа\n",
    "total_revenue[total_revenue['tariff']=='smart'].groupby('month').total.agg('sum').plot()\n",
    "total_revenue[total_revenue['tariff']=='ultra'].groupby('month').total.agg('sum').plot(grid=True)\n",
    "plt.xlabel('month')\n",
    "plt.ylabel('revenue, rub')\n",
    "plt.legend(['smart', 'ultra'])\n",
    "plt.title('tariff revenue per month');"
   ]
  },
  {
   "cell_type": "markdown",
   "metadata": {},
   "source": [
    "На графике видно, что выручка тарифа \"смарт\" выше, чем тарифа \"ультра\"."
   ]
  },
  {
   "cell_type": "markdown",
   "metadata": {},
   "source": [
    "### Выводы"
   ]
  },
  {
   "cell_type": "markdown",
   "metadata": {},
   "source": [
    "[*Вернуться к оглавлению*](#Оглавление)"
   ]
  },
  {
   "cell_type": "markdown",
   "metadata": {},
   "source": [
    "В данном разделе было посчитано: сколько минут разговора, сколько сообщений и какой объём интернет-трафика требуется пользователям каждого тарифа в месяц. Посчитаны среднее количество, дисперсия и стандартное отклонение. Построены гистограммы.  \n",
    "В первые два месяца распределения не имеют выраженной формы. Это связано с тем, что не все пользователи подключались к оператору с первых месяцев.  \n",
    "Гистограммы звонков и интернет-траффика имеют нормальное распределение.  \n",
    "Гистограммы сообщений имеют распределение Пуассона.\n",
    "Пользователи тарифа смарт формируют основную массу пользователей оператора и гистограммы пользователей тарифа смарт имеют похожее распределение суммарным гистограммам.  \n",
    "Пользователи тарифа ультра не формируют определенный тип распределения. При этом они используют больше звонков, сообщений и трафика.\n",
    "\n",
    "В среднем пользователи тарифа \"ультра\" совершают больше звонков, отправляют больше сообщений и расходуют больше интернет траффика. Однако, за счет большего количества пользователей, выручка тарифа \"смарт\" выше, чем тарифа \"ультра\"."
   ]
  },
  {
   "cell_type": "markdown",
   "metadata": {},
   "source": [
    "## Проверка гипотезы"
   ]
  },
  {
   "cell_type": "markdown",
   "metadata": {},
   "source": [
    "[*Вернуться к оглавлению*](#Оглавление)"
   ]
  },
  {
   "cell_type": "markdown",
   "metadata": {},
   "source": [
    "1. Средняя выручка пользователей тарифов «Ультра» и «Смарт» различаются."
   ]
  },
  {
   "cell_type": "markdown",
   "metadata": {},
   "source": [
    "Нулевая гипотеза: средняя выручка пользователей тарифов «Ультра» и «Смарт» равны.  \n",
    "Альтернативная гипотеза: Средняя выручка пользователей тарифов «Ультра» и «Смарт» различаются."
   ]
  },
  {
   "cell_type": "code",
   "execution_count": 112,
   "metadata": {
    "scrolled": true
   },
   "outputs": [
    {
     "name": "stdout",
     "output_type": "stream",
     "text": [
      "Средняя выручка тарифа смарт: 1284.875280394796\n",
      "Средняя выручка тарифа ультра: 2081.6893401015227\n",
      "p-значение: 2.760939824735491e-243\n",
      "Отвергаем нулевую гипотезу, статистически значимые различия есть\n"
     ]
    }
   ],
   "source": [
    "# критический уровень статистической значимости\n",
    "alpha = 0.05\n",
    "\n",
    "# Т-тест о равенстве средних двух выборок\n",
    "results = st.ttest_ind(\n",
    "    total_revenue[total_revenue['tariff'] == 'ultra']['total'],\n",
    "    total_revenue[total_revenue['tariff'] == 'smart']['total'],\n",
    "    equal_var = False \n",
    ")\n",
    "\n",
    "print(\n",
    "    'Средняя выручка тарифа смарт:', \n",
    "    total_revenue[total_revenue['tariff'] == 'smart']['total'].mean()\n",
    ")\n",
    "print(\n",
    "    'Средняя выручка тарифа ультра:', \n",
    "    total_revenue[total_revenue['tariff'] == 'ultra']['total'].mean()\n",
    ")\n",
    "\n",
    "print('p-значение:', results.pvalue)\n",
    "\n",
    "if results.pvalue < alpha:\n",
    "    print(\"Отвергаем нулевую гипотезу, статистически значимые различия есть\")\n",
    "else:\n",
    "    print(\"Не получилось отвергнуть нулевую гипотезу, статистически значимых различий нет\") "
   ]
  },
  {
   "cell_type": "markdown",
   "metadata": {},
   "source": [
    "Полученное значение p-value намного меньше уровня статистической значимости. Т.е. вероятность получить различие в выручке случайно очень мала, поэтому можно сделать вывод, что средняя выручка пользователей тарифов «Ультра» и «Смарт» различаются."
   ]
  },
  {
   "cell_type": "markdown",
   "metadata": {},
   "source": [
    "2. Средняя выручка пользователей из Москвы отличается от выручки пользователей из других регионов."
   ]
  },
  {
   "cell_type": "markdown",
   "metadata": {},
   "source": [
    "Нулевая гипотеза: средняя выручка пользователей из Москвы равна выручке пользователей из других регионов.  \n",
    "Альтернативная гипотеза: Средняя выручка пользователей из Москвы отличается от выручки пользователей из других регионов."
   ]
  },
  {
   "cell_type": "code",
   "execution_count": 113,
   "metadata": {},
   "outputs": [],
   "source": [
    "# Добавим город в таблицу calls_clc_df\n",
    "total_revenue['city'] = total_revenue.merge(users_df, on='user_id')['city']"
   ]
  },
  {
   "cell_type": "code",
   "execution_count": 114,
   "metadata": {
    "scrolled": true
   },
   "outputs": [
    {
     "name": "stdout",
     "output_type": "stream",
     "text": [
      "Средняя выручка пользователей из Москвы: 1547.2176759410802\n",
      "Средняя выручка пользователей из других регионов: 1524.8179024202843\n",
      "p-значение: 0.5208944682651637\n",
      "Не получилось отвергнуть нулевую гипотезу, статистически значимых различий нет\n"
     ]
    }
   ],
   "source": [
    "results = st.ttest_ind(\n",
    "    total_revenue[total_revenue['city'] == 'Москва']['total'],\n",
    "    total_revenue[total_revenue['city'] != 'Москва']['total'],\n",
    "    equal_var = False\n",
    ")\n",
    "\n",
    "print(\n",
    "    'Средняя выручка пользователей из Москвы:', \n",
    "    total_revenue[total_revenue['city'] == 'Москва']['total'].mean()\n",
    ")\n",
    "print(\n",
    "    'Средняя выручка пользователей из других регионов:', \n",
    "    total_revenue[total_revenue['city'] != 'Москва']['total'].mean()\n",
    ")\n",
    "\n",
    "print('p-значение:', results.pvalue)\n",
    "\n",
    "if results.pvalue < alpha:\n",
    "    print(\"Отвергаем нулевую гипотезу, статистически значимые различия есть\")\n",
    "else:\n",
    "    print(\"Не получилось отвергнуть нулевую гипотезу, статистически значимых различий нет\") "
   ]
  },
  {
   "cell_type": "markdown",
   "metadata": {},
   "source": [
    "Полученное значение p-value больше уровня статистической значимости. Т.е. с вероятностью 52% разлчичие в средней выручке могло быть получено случайно, значит нет оснований отвергнуть нулевую гипотезу."
   ]
  },
  {
   "cell_type": "markdown",
   "metadata": {},
   "source": [
    "## Общий вывод"
   ]
  },
  {
   "cell_type": "markdown",
   "metadata": {},
   "source": [
    "[*Вернуться к оглавлению*](#Оглавление)"
   ]
  },
  {
   "cell_type": "markdown",
   "metadata": {},
   "source": [
    "С целью проанализировать поведение клиентов оператора сотовой связи \"Мегалайн\" и сделать вывод — какой тариф лучше \"Смарт\" или \"Ультра\" были сделаны следующие задачи:\n",
    "* считаны и изучены данные из исходных файлов;\n",
    "* проведеен поиск ошибок в данных и приведение их к нужному типу;\n",
    "* посчитано количество сделанных звонков и израсходованных минут разговора по месяцам;\n",
    "* посчитано количество отправленных сообщений по месяцам;\n",
    "* посчитан объем израсходованного интернет-трафика по месяцам;\n",
    "* посчитана помесячную выручка с каждого пользователя;\n",
    "* посчитано сколько минут разговора, сколько сообщений и какой объём интернет-трафика требуется пользователям каждого тарифа в месяц? Посчитано среднее количество, дисперсия и стандартное отклонение. Построены гистограммы;\n",
    "* проверена гипотеза о различии средней выручки пользователей тарифов «Ультра» и «Смарт»;\n",
    "* проверена гипотеза о различии средней выручка пользователей из Москвы от выручки пользователей из других регионов.\n",
    "\n",
    "По результатам анализа звонков, сообщений и интернет-трафика и построенным гистограммам замечено, что в первые два месяца распределения не имеют выраженной формы. Это связано с тем, что не все пользователи подключались к оператору с первых месяцев.\n",
    "Гистограммы звонков и интернет-траффика имеют нормальное распределение.\n",
    "Гистограммы сообщений имеют распределение Пуассона. Пользователи тарифа \"смарт\" формируют основную массу пользователей оператора и гистограммы пользователей тарифа \"смарт\" имеют похожее распределение суммарным гистограммам.\n",
    "Пользователи тарифа \"ультра\" не формируют определенный тип распределения. При этом они используют больше звонков, сообщений и трафика.\n",
    "\n",
    "По результатам проверки гипотезы о различии средней выручки пользователей тарифов «Ультра» и «Смарт» было получено значение p-value намного меньше уровня статистической значимости. Т.е. вероятность получить различие в выручке случайно очень мала, поэтому можно сделать вывод, что средняя выручка пользователей тарифов «Ультра» и «Смарт» различаются.\n",
    "\n",
    "По результатам проверки гипотезы о различии средней выручка пользователей из Москвы от выручки пользователей из других регионов было получено значение p-value больше уровня статистической значимости. Т.е. с вероятностью 52% разлчичие в средней выручке могло быть получено случайно, значит нет оснований отвергнуть нулевую гипотезу.\n",
    "\n",
    "В среднем пользователи тарифа \"ультра\" совершают больше звонков, отправляют больше сообщений и расходуют больше интернет траффика. Однако, за счет большего количества пользователей, выручка тарифа \"смарт\" выше, чем тарифа \"ультра\". Тариф \"смарт\" приносит больше прибыли."
   ]
  }
 ],
 "metadata": {
  "ExecuteTimeLog": [
   {
    "duration": 1220,
    "start_time": "2022-05-02T20:39:14.328Z"
   },
   {
    "duration": 143,
    "start_time": "2022-05-02T20:39:15.550Z"
   },
   {
    "duration": 0,
    "start_time": "2022-05-02T20:39:15.696Z"
   },
   {
    "duration": 0,
    "start_time": "2022-05-02T20:39:15.697Z"
   },
   {
    "duration": 0,
    "start_time": "2022-05-02T20:39:15.698Z"
   },
   {
    "duration": 0,
    "start_time": "2022-05-02T20:39:15.699Z"
   },
   {
    "duration": 0,
    "start_time": "2022-05-02T20:39:15.700Z"
   },
   {
    "duration": 0,
    "start_time": "2022-05-02T20:39:15.701Z"
   },
   {
    "duration": 0,
    "start_time": "2022-05-02T20:39:15.702Z"
   },
   {
    "duration": 0,
    "start_time": "2022-05-02T20:39:15.703Z"
   },
   {
    "duration": 0,
    "start_time": "2022-05-02T20:39:15.704Z"
   },
   {
    "duration": 0,
    "start_time": "2022-05-02T20:39:15.704Z"
   },
   {
    "duration": 0,
    "start_time": "2022-05-02T20:39:15.705Z"
   },
   {
    "duration": 0,
    "start_time": "2022-05-02T20:39:15.706Z"
   },
   {
    "duration": 0,
    "start_time": "2022-05-02T20:39:15.723Z"
   },
   {
    "duration": 0,
    "start_time": "2022-05-02T20:39:15.724Z"
   },
   {
    "duration": 0,
    "start_time": "2022-05-02T20:39:15.725Z"
   },
   {
    "duration": 0,
    "start_time": "2022-05-02T20:39:15.726Z"
   },
   {
    "duration": 0,
    "start_time": "2022-05-02T20:39:15.727Z"
   },
   {
    "duration": 0,
    "start_time": "2022-05-02T20:39:15.728Z"
   },
   {
    "duration": 0,
    "start_time": "2022-05-02T20:39:15.729Z"
   },
   {
    "duration": 0,
    "start_time": "2022-05-02T20:39:15.730Z"
   },
   {
    "duration": 0,
    "start_time": "2022-05-02T20:39:15.730Z"
   },
   {
    "duration": 0,
    "start_time": "2022-05-02T20:39:15.731Z"
   },
   {
    "duration": 0,
    "start_time": "2022-05-02T20:39:15.732Z"
   },
   {
    "duration": 0,
    "start_time": "2022-05-02T20:39:15.733Z"
   },
   {
    "duration": 0,
    "start_time": "2022-05-02T20:39:15.734Z"
   },
   {
    "duration": 0,
    "start_time": "2022-05-02T20:39:15.735Z"
   },
   {
    "duration": 0,
    "start_time": "2022-05-02T20:39:15.736Z"
   },
   {
    "duration": 0,
    "start_time": "2022-05-02T20:39:15.736Z"
   },
   {
    "duration": 0,
    "start_time": "2022-05-02T20:39:15.737Z"
   },
   {
    "duration": 0,
    "start_time": "2022-05-02T20:39:15.738Z"
   },
   {
    "duration": 0,
    "start_time": "2022-05-02T20:39:15.739Z"
   },
   {
    "duration": 0,
    "start_time": "2022-05-02T20:39:15.740Z"
   },
   {
    "duration": 0,
    "start_time": "2022-05-02T20:39:15.741Z"
   },
   {
    "duration": 0,
    "start_time": "2022-05-02T20:39:15.742Z"
   },
   {
    "duration": 0,
    "start_time": "2022-05-02T20:39:15.743Z"
   },
   {
    "duration": 0,
    "start_time": "2022-05-02T20:39:15.744Z"
   },
   {
    "duration": 0,
    "start_time": "2022-05-02T20:39:15.745Z"
   },
   {
    "duration": 0,
    "start_time": "2022-05-02T20:39:15.745Z"
   },
   {
    "duration": 0,
    "start_time": "2022-05-02T20:39:15.747Z"
   },
   {
    "duration": 0,
    "start_time": "2022-05-02T20:39:15.747Z"
   },
   {
    "duration": 0,
    "start_time": "2022-05-02T20:39:15.748Z"
   },
   {
    "duration": 0,
    "start_time": "2022-05-02T20:39:15.749Z"
   },
   {
    "duration": 0,
    "start_time": "2022-05-02T20:39:15.750Z"
   },
   {
    "duration": 0,
    "start_time": "2022-05-02T20:39:15.751Z"
   },
   {
    "duration": 0,
    "start_time": "2022-05-02T20:39:15.752Z"
   },
   {
    "duration": 0,
    "start_time": "2022-05-02T20:39:15.753Z"
   },
   {
    "duration": 1040,
    "start_time": "2022-05-02T20:40:05.334Z"
   },
   {
    "duration": 345,
    "start_time": "2022-05-02T20:40:06.376Z"
   },
   {
    "duration": 15,
    "start_time": "2022-05-02T20:40:06.724Z"
   },
   {
    "duration": 22,
    "start_time": "2022-05-02T20:40:06.741Z"
   },
   {
    "duration": 9,
    "start_time": "2022-05-02T20:40:06.764Z"
   },
   {
    "duration": 21,
    "start_time": "2022-05-02T20:40:06.774Z"
   },
   {
    "duration": 32,
    "start_time": "2022-05-02T20:40:06.797Z"
   },
   {
    "duration": 21,
    "start_time": "2022-05-02T20:40:06.831Z"
   },
   {
    "duration": 8,
    "start_time": "2022-05-02T20:40:06.853Z"
   },
   {
    "duration": 10,
    "start_time": "2022-05-02T20:40:06.864Z"
   },
   {
    "duration": 12,
    "start_time": "2022-05-02T20:40:06.875Z"
   },
   {
    "duration": 36,
    "start_time": "2022-05-02T20:40:06.889Z"
   },
   {
    "duration": 28,
    "start_time": "2022-05-02T20:40:06.927Z"
   },
   {
    "duration": 186,
    "start_time": "2022-05-02T20:40:06.957Z"
   },
   {
    "duration": 5,
    "start_time": "2022-05-02T20:40:07.145Z"
   },
   {
    "duration": 25,
    "start_time": "2022-05-02T20:40:07.151Z"
   },
   {
    "duration": 48,
    "start_time": "2022-05-02T20:40:07.177Z"
   },
   {
    "duration": 7,
    "start_time": "2022-05-02T20:40:07.227Z"
   },
   {
    "duration": 175,
    "start_time": "2022-05-02T20:40:07.236Z"
   },
   {
    "duration": 5,
    "start_time": "2022-05-02T20:40:07.413Z"
   },
   {
    "duration": 20,
    "start_time": "2022-05-02T20:40:07.424Z"
   },
   {
    "duration": 13,
    "start_time": "2022-05-02T20:40:07.446Z"
   },
   {
    "duration": 4,
    "start_time": "2022-05-02T20:40:07.461Z"
   },
   {
    "duration": 15,
    "start_time": "2022-05-02T20:40:07.467Z"
   },
   {
    "duration": 48,
    "start_time": "2022-05-02T20:40:07.484Z"
   },
   {
    "duration": 175,
    "start_time": "2022-05-02T20:40:07.534Z"
   },
   {
    "duration": 4,
    "start_time": "2022-05-02T20:40:07.711Z"
   },
   {
    "duration": 4,
    "start_time": "2022-05-02T20:40:07.727Z"
   },
   {
    "duration": 8,
    "start_time": "2022-05-02T20:40:07.732Z"
   },
   {
    "duration": 90,
    "start_time": "2022-05-02T20:40:07.742Z"
   },
   {
    "duration": 79,
    "start_time": "2022-05-02T20:40:07.834Z"
   },
   {
    "duration": 42,
    "start_time": "2022-05-02T20:40:07.915Z"
   },
   {
    "duration": 38,
    "start_time": "2022-05-02T20:40:07.959Z"
   },
   {
    "duration": 67,
    "start_time": "2022-05-02T20:40:07.999Z"
   },
   {
    "duration": 44,
    "start_time": "2022-05-02T20:40:08.067Z"
   },
   {
    "duration": 47,
    "start_time": "2022-05-02T20:40:08.124Z"
   },
   {
    "duration": 63,
    "start_time": "2022-05-02T20:40:08.173Z"
   },
   {
    "duration": 3217,
    "start_time": "2022-05-02T20:40:08.238Z"
   },
   {
    "duration": 9,
    "start_time": "2022-05-02T20:40:11.457Z"
   },
   {
    "duration": 3317,
    "start_time": "2022-05-02T20:40:11.467Z"
   },
   {
    "duration": 8,
    "start_time": "2022-05-02T20:40:14.785Z"
   },
   {
    "duration": 3196,
    "start_time": "2022-05-02T20:40:14.794Z"
   },
   {
    "duration": 8,
    "start_time": "2022-05-02T20:40:17.991Z"
   },
   {
    "duration": 9,
    "start_time": "2022-05-02T20:40:18.001Z"
   },
   {
    "duration": 33,
    "start_time": "2022-05-02T20:40:18.023Z"
   },
   {
    "duration": 8,
    "start_time": "2022-05-02T20:40:18.058Z"
   },
   {
    "duration": 6,
    "start_time": "2022-05-02T20:40:18.068Z"
   },
   {
    "duration": 63,
    "start_time": "2022-05-02T20:40:18.076Z"
   },
   {
    "duration": 3,
    "start_time": "2022-05-02T20:41:14.073Z"
   },
   {
    "duration": 335,
    "start_time": "2022-05-02T20:41:15.451Z"
   },
   {
    "duration": 8,
    "start_time": "2022-05-02T20:41:16.943Z"
   },
   {
    "duration": 22,
    "start_time": "2022-05-02T20:41:18.257Z"
   },
   {
    "duration": 8,
    "start_time": "2022-05-02T20:41:20.573Z"
   },
   {
    "duration": 19,
    "start_time": "2022-05-02T20:41:21.187Z"
   },
   {
    "duration": 8,
    "start_time": "2022-05-02T20:41:23.244Z"
   },
   {
    "duration": 15,
    "start_time": "2022-05-02T20:41:23.842Z"
   },
   {
    "duration": 8,
    "start_time": "2022-05-02T20:41:25.675Z"
   },
   {
    "duration": 10,
    "start_time": "2022-05-02T20:41:26.315Z"
   },
   {
    "duration": 9,
    "start_time": "2022-05-02T20:41:28.296Z"
   },
   {
    "duration": 11,
    "start_time": "2022-05-02T20:41:28.955Z"
   },
   {
    "duration": 24,
    "start_time": "2022-05-02T20:41:32.350Z"
   },
   {
    "duration": 157,
    "start_time": "2022-05-02T20:41:32.901Z"
   },
   {
    "duration": 4,
    "start_time": "2022-05-02T20:41:34.368Z"
   },
   {
    "duration": 22,
    "start_time": "2022-05-02T20:41:35.450Z"
   },
   {
    "duration": 29,
    "start_time": "2022-05-02T20:41:37.426Z"
   },
   {
    "duration": 7,
    "start_time": "2022-05-02T20:41:37.920Z"
   },
   {
    "duration": 150,
    "start_time": "2022-05-02T20:41:38.449Z"
   },
   {
    "duration": 4,
    "start_time": "2022-05-02T20:41:39.684Z"
   },
   {
    "duration": 17,
    "start_time": "2022-05-02T20:41:40.677Z"
   },
   {
    "duration": 14,
    "start_time": "2022-05-02T20:41:42.069Z"
   },
   {
    "duration": 4,
    "start_time": "2022-05-02T20:41:42.626Z"
   },
   {
    "duration": 14,
    "start_time": "2022-05-02T20:41:43.964Z"
   },
   {
    "duration": 13,
    "start_time": "2022-05-02T20:41:47.561Z"
   },
   {
    "duration": 156,
    "start_time": "2022-05-02T20:41:48.582Z"
   },
   {
    "duration": 4,
    "start_time": "2022-05-02T20:41:49.966Z"
   },
   {
    "duration": 4,
    "start_time": "2022-05-02T20:41:51.395Z"
   },
   {
    "duration": 5,
    "start_time": "2022-05-02T20:41:52.180Z"
   },
   {
    "duration": 64,
    "start_time": "2022-05-02T20:41:53.348Z"
   },
   {
    "duration": 63,
    "start_time": "2022-05-02T20:41:54.677Z"
   },
   {
    "duration": 36,
    "start_time": "2022-05-02T20:41:55.595Z"
   },
   {
    "duration": 48,
    "start_time": "2022-05-02T20:41:56.769Z"
   },
   {
    "duration": 47,
    "start_time": "2022-05-02T20:41:59.166Z"
   },
   {
    "duration": 39,
    "start_time": "2022-05-02T20:42:00.119Z"
   },
   {
    "duration": 50,
    "start_time": "2022-05-02T20:42:01.082Z"
   },
   {
    "duration": 52,
    "start_time": "2022-05-02T20:42:02.044Z"
   },
   {
    "duration": 3138,
    "start_time": "2022-05-02T20:42:03.885Z"
   },
   {
    "duration": 8,
    "start_time": "2022-05-02T20:42:07.025Z"
   },
   {
    "duration": 3066,
    "start_time": "2022-05-02T20:42:07.034Z"
   },
   {
    "duration": 9,
    "start_time": "2022-05-02T20:42:10.102Z"
   },
   {
    "duration": 3169,
    "start_time": "2022-05-02T20:42:10.124Z"
   },
   {
    "duration": 28,
    "start_time": "2022-05-02T20:42:13.295Z"
   },
   {
    "duration": 8,
    "start_time": "2022-05-02T20:42:13.326Z"
   },
   {
    "duration": 37,
    "start_time": "2022-05-02T20:42:13.335Z"
   },
   {
    "duration": 9,
    "start_time": "2022-05-02T20:42:13.374Z"
   },
   {
    "duration": 41,
    "start_time": "2022-05-02T20:42:13.384Z"
   },
   {
    "duration": 37,
    "start_time": "2022-05-02T20:42:13.427Z"
   },
   {
    "duration": 4,
    "start_time": "2022-05-02T20:47:32.908Z"
   },
   {
    "duration": 3,
    "start_time": "2022-05-02T20:56:29.160Z"
   },
   {
    "duration": 337,
    "start_time": "2022-05-02T20:56:30.200Z"
   },
   {
    "duration": 1073,
    "start_time": "2022-05-02T20:56:36.417Z"
   },
   {
    "duration": 338,
    "start_time": "2022-05-02T20:56:37.492Z"
   },
   {
    "duration": 12,
    "start_time": "2022-05-02T20:56:37.832Z"
   },
   {
    "duration": 23,
    "start_time": "2022-05-02T20:56:37.846Z"
   },
   {
    "duration": 7,
    "start_time": "2022-05-02T20:56:37.871Z"
   },
   {
    "duration": 33,
    "start_time": "2022-05-02T20:56:37.880Z"
   },
   {
    "duration": 11,
    "start_time": "2022-05-02T20:56:37.915Z"
   },
   {
    "duration": 32,
    "start_time": "2022-05-02T20:56:37.927Z"
   },
   {
    "duration": 9,
    "start_time": "2022-05-02T20:56:37.961Z"
   },
   {
    "duration": 10,
    "start_time": "2022-05-02T20:56:37.972Z"
   },
   {
    "duration": 30,
    "start_time": "2022-05-02T20:56:37.984Z"
   },
   {
    "duration": 20,
    "start_time": "2022-05-02T20:56:38.016Z"
   },
   {
    "duration": 42,
    "start_time": "2022-05-02T20:56:38.038Z"
   },
   {
    "duration": 166,
    "start_time": "2022-05-02T20:56:38.081Z"
   },
   {
    "duration": 5,
    "start_time": "2022-05-02T20:56:38.248Z"
   },
   {
    "duration": 28,
    "start_time": "2022-05-02T20:56:38.254Z"
   },
   {
    "duration": 43,
    "start_time": "2022-05-02T20:56:38.284Z"
   },
   {
    "duration": 7,
    "start_time": "2022-05-02T20:56:38.328Z"
   },
   {
    "duration": 160,
    "start_time": "2022-05-02T20:56:38.336Z"
   },
   {
    "duration": 4,
    "start_time": "2022-05-02T20:56:38.498Z"
   },
   {
    "duration": 29,
    "start_time": "2022-05-02T20:56:38.503Z"
   },
   {
    "duration": 13,
    "start_time": "2022-05-02T20:56:38.534Z"
   },
   {
    "duration": 4,
    "start_time": "2022-05-02T20:56:38.548Z"
   },
   {
    "duration": 19,
    "start_time": "2022-05-02T20:56:38.553Z"
   },
   {
    "duration": 14,
    "start_time": "2022-05-02T20:56:38.574Z"
   },
   {
    "duration": 178,
    "start_time": "2022-05-02T20:56:38.590Z"
   },
   {
    "duration": 4,
    "start_time": "2022-05-02T20:56:38.770Z"
   },
   {
    "duration": 5,
    "start_time": "2022-05-02T20:56:38.777Z"
   },
   {
    "duration": 7,
    "start_time": "2022-05-02T20:56:38.783Z"
   },
   {
    "duration": 91,
    "start_time": "2022-05-02T20:56:38.791Z"
   },
   {
    "duration": 82,
    "start_time": "2022-05-02T20:56:38.884Z"
   },
   {
    "duration": 37,
    "start_time": "2022-05-02T20:56:38.968Z"
   },
   {
    "duration": 41,
    "start_time": "2022-05-02T20:56:39.007Z"
   },
   {
    "duration": 45,
    "start_time": "2022-05-02T20:56:39.049Z"
   },
   {
    "duration": 57,
    "start_time": "2022-05-02T20:56:39.096Z"
   },
   {
    "duration": 49,
    "start_time": "2022-05-02T20:56:39.154Z"
   },
   {
    "duration": 62,
    "start_time": "2022-05-02T20:56:39.205Z"
   },
   {
    "duration": 3165,
    "start_time": "2022-05-02T20:56:39.269Z"
   },
   {
    "duration": 8,
    "start_time": "2022-05-02T20:56:42.436Z"
   },
   {
    "duration": 3167,
    "start_time": "2022-05-02T20:56:42.445Z"
   },
   {
    "duration": 13,
    "start_time": "2022-05-02T20:56:45.614Z"
   },
   {
    "duration": 3151,
    "start_time": "2022-05-02T20:56:45.628Z"
   },
   {
    "duration": 7,
    "start_time": "2022-05-02T20:56:48.781Z"
   },
   {
    "duration": 9,
    "start_time": "2022-05-02T20:56:48.790Z"
   },
   {
    "duration": 48,
    "start_time": "2022-05-02T20:56:48.806Z"
   },
   {
    "duration": 9,
    "start_time": "2022-05-02T20:56:48.855Z"
   },
   {
    "duration": 7,
    "start_time": "2022-05-02T20:56:48.866Z"
   },
   {
    "duration": 63,
    "start_time": "2022-05-02T20:56:48.874Z"
   },
   {
    "duration": 3,
    "start_time": "2022-05-02T20:57:27.817Z"
   },
   {
    "duration": 3,
    "start_time": "2022-05-02T20:57:31.094Z"
   },
   {
    "duration": 397,
    "start_time": "2022-05-02T20:57:31.310Z"
   },
   {
    "duration": 324,
    "start_time": "2022-05-02T20:57:54.792Z"
   },
   {
    "duration": 9,
    "start_time": "2022-05-02T20:58:11.287Z"
   },
   {
    "duration": 23,
    "start_time": "2022-05-02T20:58:34.480Z"
   },
   {
    "duration": 8,
    "start_time": "2022-05-02T20:58:52.880Z"
   },
   {
    "duration": 21,
    "start_time": "2022-05-02T20:59:03.494Z"
   },
   {
    "duration": 9,
    "start_time": "2022-05-02T20:59:14.950Z"
   },
   {
    "duration": 8,
    "start_time": "2022-05-02T20:59:26.011Z"
   },
   {
    "duration": 8,
    "start_time": "2022-05-02T20:59:40.870Z"
   },
   {
    "duration": 19,
    "start_time": "2022-05-02T20:59:54.940Z"
   },
   {
    "duration": 9,
    "start_time": "2022-05-02T21:00:05.267Z"
   },
   {
    "duration": 11,
    "start_time": "2022-05-02T21:00:15.053Z"
   },
   {
    "duration": 13,
    "start_time": "2022-05-02T21:00:34.698Z"
   },
   {
    "duration": 11,
    "start_time": "2022-05-02T21:00:47.117Z"
   },
   {
    "duration": 25,
    "start_time": "2022-05-02T21:01:35.519Z"
   },
   {
    "duration": 156,
    "start_time": "2022-05-02T21:01:47.540Z"
   },
   {
    "duration": 5,
    "start_time": "2022-05-02T21:01:56.764Z"
   },
   {
    "duration": 24,
    "start_time": "2022-05-02T21:02:06.032Z"
   },
   {
    "duration": 27,
    "start_time": "2022-05-02T21:02:13.721Z"
   },
   {
    "duration": 7,
    "start_time": "2022-05-02T21:02:27.509Z"
   },
   {
    "duration": 155,
    "start_time": "2022-05-02T21:08:38.230Z"
   },
   {
    "duration": 5,
    "start_time": "2022-05-02T21:08:46.384Z"
   },
   {
    "duration": 20,
    "start_time": "2022-05-02T21:08:52.078Z"
   },
   {
    "duration": 14,
    "start_time": "2022-05-02T21:08:58.835Z"
   },
   {
    "duration": 4,
    "start_time": "2022-05-02T21:09:03.903Z"
   },
   {
    "duration": 15,
    "start_time": "2022-05-02T21:09:09.296Z"
   },
   {
    "duration": 13,
    "start_time": "2022-05-02T21:09:15.240Z"
   },
   {
    "duration": 152,
    "start_time": "2022-05-02T21:09:23.710Z"
   },
   {
    "duration": 4,
    "start_time": "2022-05-02T21:09:29.487Z"
   },
   {
    "duration": 4,
    "start_time": "2022-05-02T21:09:39.207Z"
   },
   {
    "duration": 8,
    "start_time": "2022-05-02T21:09:44.089Z"
   },
   {
    "duration": 68,
    "start_time": "2022-05-02T21:09:56.759Z"
   },
   {
    "duration": 68,
    "start_time": "2022-05-02T21:10:07.356Z"
   },
   {
    "duration": 34,
    "start_time": "2022-05-02T21:10:17.760Z"
   },
   {
    "duration": 36,
    "start_time": "2022-05-02T21:10:26.278Z"
   },
   {
    "duration": 50,
    "start_time": "2022-05-02T21:10:33.881Z"
   },
   {
    "duration": 42,
    "start_time": "2022-05-02T21:10:40.712Z"
   },
   {
    "duration": 49,
    "start_time": "2022-05-02T21:10:46.989Z"
   },
   {
    "duration": 77,
    "start_time": "2022-05-02T21:10:53.921Z"
   },
   {
    "duration": 3339,
    "start_time": "2022-05-02T21:11:07.447Z"
   },
   {
    "duration": 8,
    "start_time": "2022-05-02T21:11:21.345Z"
   },
   {
    "duration": 3020,
    "start_time": "2022-05-02T21:11:27.192Z"
   },
   {
    "duration": 9,
    "start_time": "2022-05-02T21:12:05.021Z"
   },
   {
    "duration": 3209,
    "start_time": "2022-05-02T21:12:14.608Z"
   },
   {
    "duration": 8,
    "start_time": "2022-05-02T21:12:26.617Z"
   },
   {
    "duration": 11,
    "start_time": "2022-05-02T21:12:36.354Z"
   },
   {
    "duration": 36,
    "start_time": "2022-05-02T21:12:47.396Z"
   },
   {
    "duration": 10,
    "start_time": "2022-05-02T21:12:59.410Z"
   },
   {
    "duration": 9,
    "start_time": "2022-05-02T21:13:04.399Z"
   },
   {
    "duration": 35,
    "start_time": "2022-05-02T21:13:15.295Z"
   },
   {
    "duration": 1037,
    "start_time": "2022-05-02T21:13:40.422Z"
   },
   {
    "duration": 339,
    "start_time": "2022-05-02T21:13:41.461Z"
   },
   {
    "duration": 12,
    "start_time": "2022-05-02T21:13:41.801Z"
   },
   {
    "duration": 20,
    "start_time": "2022-05-02T21:13:41.815Z"
   },
   {
    "duration": 7,
    "start_time": "2022-05-02T21:13:41.837Z"
   },
   {
    "duration": 17,
    "start_time": "2022-05-02T21:13:41.846Z"
   },
   {
    "duration": 6,
    "start_time": "2022-05-02T21:13:41.864Z"
   },
   {
    "duration": 17,
    "start_time": "2022-05-02T21:13:41.872Z"
   },
   {
    "duration": 7,
    "start_time": "2022-05-02T21:13:41.890Z"
   },
   {
    "duration": 10,
    "start_time": "2022-05-02T21:13:41.923Z"
   },
   {
    "duration": 11,
    "start_time": "2022-05-02T21:13:41.934Z"
   },
   {
    "duration": 12,
    "start_time": "2022-05-02T21:13:41.947Z"
   },
   {
    "duration": 30,
    "start_time": "2022-05-02T21:13:41.960Z"
   },
   {
    "duration": 194,
    "start_time": "2022-05-02T21:13:41.991Z"
   },
   {
    "duration": 5,
    "start_time": "2022-05-02T21:13:42.187Z"
   },
   {
    "duration": 37,
    "start_time": "2022-05-02T21:13:42.193Z"
   },
   {
    "duration": 27,
    "start_time": "2022-05-02T21:13:42.232Z"
   },
   {
    "duration": 7,
    "start_time": "2022-05-02T21:13:42.261Z"
   },
   {
    "duration": 170,
    "start_time": "2022-05-02T21:13:42.270Z"
   },
   {
    "duration": 5,
    "start_time": "2022-05-02T21:13:42.442Z"
   },
   {
    "duration": 19,
    "start_time": "2022-05-02T21:13:42.449Z"
   },
   {
    "duration": 14,
    "start_time": "2022-05-02T21:13:42.469Z"
   },
   {
    "duration": 4,
    "start_time": "2022-05-02T21:13:42.484Z"
   },
   {
    "duration": 49,
    "start_time": "2022-05-02T21:13:42.489Z"
   },
   {
    "duration": 15,
    "start_time": "2022-05-02T21:13:42.539Z"
   },
   {
    "duration": 167,
    "start_time": "2022-05-02T21:13:42.556Z"
   },
   {
    "duration": 3,
    "start_time": "2022-05-02T21:13:42.725Z"
   },
   {
    "duration": 5,
    "start_time": "2022-05-02T21:13:42.733Z"
   },
   {
    "duration": 8,
    "start_time": "2022-05-02T21:13:42.739Z"
   },
   {
    "duration": 93,
    "start_time": "2022-05-02T21:13:42.748Z"
   },
   {
    "duration": 83,
    "start_time": "2022-05-02T21:13:42.843Z"
   },
   {
    "duration": 39,
    "start_time": "2022-05-02T21:13:42.928Z"
   },
   {
    "duration": 35,
    "start_time": "2022-05-02T21:13:42.969Z"
   },
   {
    "duration": 64,
    "start_time": "2022-05-02T21:13:43.006Z"
   },
   {
    "duration": 54,
    "start_time": "2022-05-02T21:13:43.072Z"
   },
   {
    "duration": 49,
    "start_time": "2022-05-02T21:13:43.128Z"
   },
   {
    "duration": 71,
    "start_time": "2022-05-02T21:13:43.179Z"
   },
   {
    "duration": 3058,
    "start_time": "2022-05-02T21:13:43.252Z"
   },
   {
    "duration": 17,
    "start_time": "2022-05-02T21:13:46.312Z"
   },
   {
    "duration": 3083,
    "start_time": "2022-05-02T21:13:46.330Z"
   },
   {
    "duration": 13,
    "start_time": "2022-05-02T21:13:49.415Z"
   },
   {
    "duration": 3836,
    "start_time": "2022-05-02T21:13:49.429Z"
   },
   {
    "duration": 7,
    "start_time": "2022-05-02T21:13:53.267Z"
   },
   {
    "duration": 8,
    "start_time": "2022-05-02T21:13:53.276Z"
   },
   {
    "duration": 55,
    "start_time": "2022-05-02T21:13:53.286Z"
   },
   {
    "duration": 7,
    "start_time": "2022-05-02T21:13:53.343Z"
   },
   {
    "duration": 7,
    "start_time": "2022-05-02T21:13:53.352Z"
   },
   {
    "duration": 35,
    "start_time": "2022-05-02T21:13:53.360Z"
   },
   {
    "duration": 1862,
    "start_time": "2022-05-02T22:46:24.265Z"
   },
   {
    "duration": 72,
    "start_time": "2022-05-03T10:59:41.260Z"
   },
   {
    "duration": 1250,
    "start_time": "2022-05-03T10:59:47.199Z"
   },
   {
    "duration": 720,
    "start_time": "2022-05-03T10:59:48.450Z"
   },
   {
    "duration": 17,
    "start_time": "2022-05-03T10:59:49.172Z"
   },
   {
    "duration": 40,
    "start_time": "2022-05-03T10:59:49.191Z"
   },
   {
    "duration": 11,
    "start_time": "2022-05-03T10:59:49.234Z"
   },
   {
    "duration": 34,
    "start_time": "2022-05-03T10:59:49.247Z"
   },
   {
    "duration": 10,
    "start_time": "2022-05-03T10:59:49.283Z"
   },
   {
    "duration": 40,
    "start_time": "2022-05-03T10:59:49.296Z"
   },
   {
    "duration": 8,
    "start_time": "2022-05-03T10:59:49.339Z"
   },
   {
    "duration": 11,
    "start_time": "2022-05-03T10:59:49.350Z"
   },
   {
    "duration": 16,
    "start_time": "2022-05-03T10:59:49.363Z"
   },
   {
    "duration": 50,
    "start_time": "2022-05-03T10:59:49.381Z"
   },
   {
    "duration": 35,
    "start_time": "2022-05-03T10:59:49.433Z"
   },
   {
    "duration": 189,
    "start_time": "2022-05-03T10:59:49.470Z"
   },
   {
    "duration": 6,
    "start_time": "2022-05-03T10:59:49.662Z"
   },
   {
    "duration": 54,
    "start_time": "2022-05-03T10:59:49.670Z"
   },
   {
    "duration": 46,
    "start_time": "2022-05-03T10:59:49.726Z"
   },
   {
    "duration": 8,
    "start_time": "2022-05-03T10:59:49.774Z"
   },
   {
    "duration": 190,
    "start_time": "2022-05-03T10:59:49.784Z"
   },
   {
    "duration": 5,
    "start_time": "2022-05-03T10:59:49.975Z"
   },
   {
    "duration": 22,
    "start_time": "2022-05-03T10:59:49.981Z"
   },
   {
    "duration": 29,
    "start_time": "2022-05-03T10:59:50.005Z"
   },
   {
    "duration": 4,
    "start_time": "2022-05-03T10:59:50.036Z"
   },
   {
    "duration": 21,
    "start_time": "2022-05-03T10:59:50.041Z"
   },
   {
    "duration": 21,
    "start_time": "2022-05-03T10:59:50.064Z"
   },
   {
    "duration": 239,
    "start_time": "2022-05-03T10:59:50.087Z"
   },
   {
    "duration": 4,
    "start_time": "2022-05-03T10:59:50.328Z"
   },
   {
    "duration": 5,
    "start_time": "2022-05-03T10:59:50.336Z"
   },
   {
    "duration": 7,
    "start_time": "2022-05-03T10:59:50.342Z"
   },
   {
    "duration": 106,
    "start_time": "2022-05-03T10:59:50.351Z"
   },
   {
    "duration": 87,
    "start_time": "2022-05-03T10:59:50.459Z"
   },
   {
    "duration": 40,
    "start_time": "2022-05-03T10:59:50.548Z"
   },
   {
    "duration": 54,
    "start_time": "2022-05-03T10:59:50.589Z"
   },
   {
    "duration": 53,
    "start_time": "2022-05-03T10:59:50.644Z"
   },
   {
    "duration": 62,
    "start_time": "2022-05-03T10:59:50.699Z"
   },
   {
    "duration": 61,
    "start_time": "2022-05-03T10:59:50.763Z"
   },
   {
    "duration": 56,
    "start_time": "2022-05-03T10:59:50.826Z"
   },
   {
    "duration": 3596,
    "start_time": "2022-05-03T10:59:50.883Z"
   },
   {
    "duration": 8,
    "start_time": "2022-05-03T10:59:54.481Z"
   },
   {
    "duration": 3146,
    "start_time": "2022-05-03T10:59:54.491Z"
   },
   {
    "duration": 8,
    "start_time": "2022-05-03T10:59:57.639Z"
   },
   {
    "duration": 3290,
    "start_time": "2022-05-03T10:59:57.648Z"
   },
   {
    "duration": 8,
    "start_time": "2022-05-03T11:00:00.940Z"
   },
   {
    "duration": 25,
    "start_time": "2022-05-03T11:00:00.949Z"
   },
   {
    "duration": 54,
    "start_time": "2022-05-03T11:00:00.976Z"
   },
   {
    "duration": 9,
    "start_time": "2022-05-03T11:00:01.031Z"
   },
   {
    "duration": 19,
    "start_time": "2022-05-03T11:00:01.042Z"
   },
   {
    "duration": 60,
    "start_time": "2022-05-03T11:00:01.063Z"
   },
   {
    "duration": 45,
    "start_time": "2022-05-03T15:21:04.021Z"
   },
   {
    "duration": 1260,
    "start_time": "2022-05-03T15:21:14.409Z"
   },
   {
    "duration": 422,
    "start_time": "2022-05-03T15:21:15.671Z"
   },
   {
    "duration": 17,
    "start_time": "2022-05-03T15:21:16.095Z"
   },
   {
    "duration": 32,
    "start_time": "2022-05-03T15:21:16.115Z"
   },
   {
    "duration": 8,
    "start_time": "2022-05-03T15:21:16.148Z"
   },
   {
    "duration": 28,
    "start_time": "2022-05-03T15:21:16.158Z"
   },
   {
    "duration": 9,
    "start_time": "2022-05-03T15:21:16.203Z"
   },
   {
    "duration": 22,
    "start_time": "2022-05-03T15:21:16.214Z"
   },
   {
    "duration": 8,
    "start_time": "2022-05-03T15:21:16.238Z"
   },
   {
    "duration": 9,
    "start_time": "2022-05-03T15:21:16.249Z"
   },
   {
    "duration": 10,
    "start_time": "2022-05-03T15:21:16.259Z"
   },
   {
    "duration": 41,
    "start_time": "2022-05-03T15:21:16.271Z"
   },
   {
    "duration": 32,
    "start_time": "2022-05-03T15:21:16.313Z"
   },
   {
    "duration": 174,
    "start_time": "2022-05-03T15:21:16.346Z"
   },
   {
    "duration": 5,
    "start_time": "2022-05-03T15:21:16.521Z"
   },
   {
    "duration": 28,
    "start_time": "2022-05-03T15:21:16.527Z"
   },
   {
    "duration": 46,
    "start_time": "2022-05-03T15:21:16.556Z"
   },
   {
    "duration": 7,
    "start_time": "2022-05-03T15:21:16.603Z"
   },
   {
    "duration": 163,
    "start_time": "2022-05-03T15:21:16.612Z"
   },
   {
    "duration": 5,
    "start_time": "2022-05-03T15:21:16.777Z"
   },
   {
    "duration": 47,
    "start_time": "2022-05-03T15:21:16.784Z"
   },
   {
    "duration": 13,
    "start_time": "2022-05-03T15:21:16.833Z"
   },
   {
    "duration": 3,
    "start_time": "2022-05-03T15:21:16.848Z"
   },
   {
    "duration": 19,
    "start_time": "2022-05-03T15:21:16.852Z"
   },
   {
    "duration": 40,
    "start_time": "2022-05-03T15:21:16.872Z"
   },
   {
    "duration": 166,
    "start_time": "2022-05-03T15:21:16.914Z"
   },
   {
    "duration": 4,
    "start_time": "2022-05-03T15:21:17.082Z"
   },
   {
    "duration": 7,
    "start_time": "2022-05-03T15:21:17.101Z"
   },
   {
    "duration": 19,
    "start_time": "2022-05-03T15:21:17.110Z"
   },
   {
    "duration": 80,
    "start_time": "2022-05-03T15:21:17.131Z"
   },
   {
    "duration": 76,
    "start_time": "2022-05-03T15:21:17.215Z"
   },
   {
    "duration": 46,
    "start_time": "2022-05-03T15:21:17.292Z"
   },
   {
    "duration": 37,
    "start_time": "2022-05-03T15:21:17.339Z"
   },
   {
    "duration": 68,
    "start_time": "2022-05-03T15:21:17.377Z"
   },
   {
    "duration": 40,
    "start_time": "2022-05-03T15:21:17.446Z"
   },
   {
    "duration": 62,
    "start_time": "2022-05-03T15:21:17.487Z"
   },
   {
    "duration": 54,
    "start_time": "2022-05-03T15:21:17.551Z"
   },
   {
    "duration": 3174,
    "start_time": "2022-05-03T15:21:17.609Z"
   },
   {
    "duration": 7,
    "start_time": "2022-05-03T15:21:20.785Z"
   },
   {
    "duration": 3086,
    "start_time": "2022-05-03T15:21:20.800Z"
   },
   {
    "duration": 17,
    "start_time": "2022-05-03T15:21:23.887Z"
   },
   {
    "duration": 3313,
    "start_time": "2022-05-03T15:21:23.906Z"
   },
   {
    "duration": 7,
    "start_time": "2022-05-03T15:21:27.221Z"
   },
   {
    "duration": 14,
    "start_time": "2022-05-03T15:21:27.230Z"
   },
   {
    "duration": 9,
    "start_time": "2022-05-03T15:21:27.245Z"
   },
   {
    "duration": 7,
    "start_time": "2022-05-03T15:21:27.256Z"
   },
   {
    "duration": 64,
    "start_time": "2022-05-03T15:21:27.264Z"
   },
   {
    "duration": 9,
    "start_time": "2022-05-03T15:22:18.220Z"
   },
   {
    "duration": 140,
    "start_time": "2022-05-03T15:23:07.814Z"
   },
   {
    "duration": 10,
    "start_time": "2022-05-03T15:23:18.390Z"
   },
   {
    "duration": 972,
    "start_time": "2022-05-03T15:23:53.069Z"
   },
   {
    "duration": 16,
    "start_time": "2022-05-03T15:24:25.046Z"
   },
   {
    "duration": 5,
    "start_time": "2022-05-03T15:25:21.671Z"
   },
   {
    "duration": 12,
    "start_time": "2022-05-03T15:25:54.647Z"
   },
   {
    "duration": 18,
    "start_time": "2022-05-03T15:26:13.852Z"
   },
   {
    "duration": 12,
    "start_time": "2022-05-03T15:26:18.443Z"
   },
   {
    "duration": 9,
    "start_time": "2022-05-03T15:27:11.921Z"
   },
   {
    "duration": 6,
    "start_time": "2022-05-03T15:27:16.234Z"
   },
   {
    "duration": 17,
    "start_time": "2022-05-03T15:28:07.913Z"
   },
   {
    "duration": 8,
    "start_time": "2022-05-03T15:29:06.497Z"
   },
   {
    "duration": 7,
    "start_time": "2022-05-03T15:29:11.063Z"
   },
   {
    "duration": 10,
    "start_time": "2022-05-03T15:30:15.145Z"
   },
   {
    "duration": 167,
    "start_time": "2022-05-03T15:36:33.190Z"
   },
   {
    "duration": 193,
    "start_time": "2022-05-03T15:36:40.832Z"
   },
   {
    "duration": 141,
    "start_time": "2022-05-03T15:37:38.517Z"
   },
   {
    "duration": 145,
    "start_time": "2022-05-03T15:37:48.744Z"
   },
   {
    "duration": 208,
    "start_time": "2022-05-03T15:37:58.446Z"
   },
   {
    "duration": 175,
    "start_time": "2022-05-03T15:38:06.777Z"
   },
   {
    "duration": 164,
    "start_time": "2022-05-03T15:38:26.380Z"
   },
   {
    "duration": 148,
    "start_time": "2022-05-03T15:38:32.119Z"
   },
   {
    "duration": 252,
    "start_time": "2022-05-03T15:53:59.683Z"
   },
   {
    "duration": 223,
    "start_time": "2022-05-03T15:54:10.046Z"
   },
   {
    "duration": 13,
    "start_time": "2022-05-03T16:13:42.526Z"
   },
   {
    "duration": 14,
    "start_time": "2022-05-03T16:14:15.600Z"
   },
   {
    "duration": 8,
    "start_time": "2022-05-03T21:25:05.222Z"
   },
   {
    "duration": 18,
    "start_time": "2022-05-03T21:25:13.657Z"
   },
   {
    "duration": 1105,
    "start_time": "2022-05-03T21:48:52.522Z"
   },
   {
    "duration": 381,
    "start_time": "2022-05-03T21:48:53.629Z"
   },
   {
    "duration": 11,
    "start_time": "2022-05-03T21:48:54.012Z"
   },
   {
    "duration": 25,
    "start_time": "2022-05-03T21:48:54.024Z"
   },
   {
    "duration": 7,
    "start_time": "2022-05-03T21:48:54.051Z"
   },
   {
    "duration": 18,
    "start_time": "2022-05-03T21:48:54.059Z"
   },
   {
    "duration": 6,
    "start_time": "2022-05-03T21:48:54.078Z"
   },
   {
    "duration": 16,
    "start_time": "2022-05-03T21:48:54.100Z"
   },
   {
    "duration": 7,
    "start_time": "2022-05-03T21:48:54.117Z"
   },
   {
    "duration": 9,
    "start_time": "2022-05-03T21:48:54.126Z"
   },
   {
    "duration": 9,
    "start_time": "2022-05-03T21:48:54.136Z"
   },
   {
    "duration": 10,
    "start_time": "2022-05-03T21:48:54.146Z"
   },
   {
    "duration": 54,
    "start_time": "2022-05-03T21:48:54.157Z"
   },
   {
    "duration": 161,
    "start_time": "2022-05-03T21:48:54.212Z"
   },
   {
    "duration": 4,
    "start_time": "2022-05-03T21:48:54.375Z"
   },
   {
    "duration": 35,
    "start_time": "2022-05-03T21:48:54.381Z"
   },
   {
    "duration": 25,
    "start_time": "2022-05-03T21:48:54.417Z"
   },
   {
    "duration": 5,
    "start_time": "2022-05-03T21:48:54.444Z"
   },
   {
    "duration": 162,
    "start_time": "2022-05-03T21:48:54.451Z"
   },
   {
    "duration": 4,
    "start_time": "2022-05-03T21:48:54.615Z"
   },
   {
    "duration": 21,
    "start_time": "2022-05-03T21:48:54.621Z"
   },
   {
    "duration": 13,
    "start_time": "2022-05-03T21:48:54.644Z"
   },
   {
    "duration": 5,
    "start_time": "2022-05-03T21:48:54.658Z"
   },
   {
    "duration": 46,
    "start_time": "2022-05-03T21:48:54.664Z"
   },
   {
    "duration": 13,
    "start_time": "2022-05-03T21:48:54.712Z"
   },
   {
    "duration": 158,
    "start_time": "2022-05-03T21:48:54.727Z"
   },
   {
    "duration": 4,
    "start_time": "2022-05-03T21:48:54.886Z"
   },
   {
    "duration": 4,
    "start_time": "2022-05-03T21:48:54.902Z"
   },
   {
    "duration": 7,
    "start_time": "2022-05-03T21:48:54.908Z"
   },
   {
    "duration": 87,
    "start_time": "2022-05-03T21:48:54.916Z"
   },
   {
    "duration": 76,
    "start_time": "2022-05-03T21:48:55.005Z"
   },
   {
    "duration": 50,
    "start_time": "2022-05-03T21:48:55.082Z"
   },
   {
    "duration": 35,
    "start_time": "2022-05-03T21:48:55.134Z"
   },
   {
    "duration": 59,
    "start_time": "2022-05-03T21:48:55.171Z"
   },
   {
    "duration": 39,
    "start_time": "2022-05-03T21:48:55.231Z"
   },
   {
    "duration": 51,
    "start_time": "2022-05-03T21:48:55.271Z"
   },
   {
    "duration": 45,
    "start_time": "2022-05-03T21:48:55.324Z"
   },
   {
    "duration": 2880,
    "start_time": "2022-05-03T21:48:55.370Z"
   },
   {
    "duration": 7,
    "start_time": "2022-05-03T21:48:58.251Z"
   },
   {
    "duration": 3029,
    "start_time": "2022-05-03T21:48:58.260Z"
   },
   {
    "duration": 11,
    "start_time": "2022-05-03T21:49:01.291Z"
   },
   {
    "duration": 4248,
    "start_time": "2022-05-03T21:49:01.304Z"
   },
   {
    "duration": 7,
    "start_time": "2022-05-03T21:49:05.553Z"
   },
   {
    "duration": 10,
    "start_time": "2022-05-03T21:49:05.562Z"
   },
   {
    "duration": 27,
    "start_time": "2022-05-03T21:49:05.573Z"
   },
   {
    "duration": 10,
    "start_time": "2022-05-03T21:49:05.602Z"
   },
   {
    "duration": 1594,
    "start_time": "2022-05-04T09:43:04.901Z"
   },
   {
    "duration": 474,
    "start_time": "2022-05-04T09:43:06.498Z"
   },
   {
    "duration": 17,
    "start_time": "2022-05-04T09:43:06.974Z"
   },
   {
    "duration": 44,
    "start_time": "2022-05-04T09:43:06.993Z"
   },
   {
    "duration": 11,
    "start_time": "2022-05-04T09:43:07.040Z"
   },
   {
    "duration": 54,
    "start_time": "2022-05-04T09:43:07.053Z"
   },
   {
    "duration": 10,
    "start_time": "2022-05-04T09:43:07.109Z"
   },
   {
    "duration": 35,
    "start_time": "2022-05-04T09:43:07.121Z"
   },
   {
    "duration": 12,
    "start_time": "2022-05-04T09:43:07.159Z"
   },
   {
    "duration": 16,
    "start_time": "2022-05-04T09:43:07.175Z"
   },
   {
    "duration": 18,
    "start_time": "2022-05-04T09:43:07.194Z"
   },
   {
    "duration": 45,
    "start_time": "2022-05-04T09:43:07.215Z"
   },
   {
    "duration": 52,
    "start_time": "2022-05-04T09:43:07.262Z"
   },
   {
    "duration": 312,
    "start_time": "2022-05-04T09:43:07.316Z"
   },
   {
    "duration": 6,
    "start_time": "2022-05-04T09:43:07.630Z"
   },
   {
    "duration": 46,
    "start_time": "2022-05-04T09:43:07.638Z"
   },
   {
    "duration": 36,
    "start_time": "2022-05-04T09:43:07.686Z"
   },
   {
    "duration": 31,
    "start_time": "2022-05-04T09:43:07.724Z"
   },
   {
    "duration": 295,
    "start_time": "2022-05-04T09:43:07.757Z"
   },
   {
    "duration": 8,
    "start_time": "2022-05-04T09:43:08.054Z"
   },
   {
    "duration": 33,
    "start_time": "2022-05-04T09:43:08.064Z"
   },
   {
    "duration": 17,
    "start_time": "2022-05-04T09:43:08.099Z"
   },
   {
    "duration": 36,
    "start_time": "2022-05-04T09:43:08.118Z"
   },
   {
    "duration": 24,
    "start_time": "2022-05-04T09:43:08.156Z"
   },
   {
    "duration": 30,
    "start_time": "2022-05-04T09:43:08.182Z"
   },
   {
    "duration": 343,
    "start_time": "2022-05-04T09:43:08.215Z"
   },
   {
    "duration": 5,
    "start_time": "2022-05-04T09:43:08.560Z"
   },
   {
    "duration": 8,
    "start_time": "2022-05-04T09:43:08.572Z"
   },
   {
    "duration": 20,
    "start_time": "2022-05-04T09:43:08.583Z"
   },
   {
    "duration": 142,
    "start_time": "2022-05-04T09:43:08.606Z"
   },
   {
    "duration": 114,
    "start_time": "2022-05-04T09:43:08.752Z"
   },
   {
    "duration": 54,
    "start_time": "2022-05-04T09:43:08.869Z"
   },
   {
    "duration": 75,
    "start_time": "2022-05-04T09:43:08.925Z"
   },
   {
    "duration": 95,
    "start_time": "2022-05-04T09:43:09.003Z"
   },
   {
    "duration": 84,
    "start_time": "2022-05-04T09:43:09.100Z"
   },
   {
    "duration": 96,
    "start_time": "2022-05-04T09:43:09.186Z"
   },
   {
    "duration": 92,
    "start_time": "2022-05-04T09:43:09.284Z"
   },
   {
    "duration": 5396,
    "start_time": "2022-05-04T09:43:09.378Z"
   },
   {
    "duration": 12,
    "start_time": "2022-05-04T09:43:14.777Z"
   },
   {
    "duration": 5592,
    "start_time": "2022-05-04T09:43:14.792Z"
   },
   {
    "duration": 14,
    "start_time": "2022-05-04T09:43:20.387Z"
   },
   {
    "duration": 5566,
    "start_time": "2022-05-04T09:43:20.404Z"
   },
   {
    "duration": 12,
    "start_time": "2022-05-04T09:43:25.972Z"
   },
   {
    "duration": 16,
    "start_time": "2022-05-04T09:43:25.986Z"
   },
   {
    "duration": 14,
    "start_time": "2022-05-04T09:43:26.004Z"
   },
   {
    "duration": 17,
    "start_time": "2022-05-04T09:43:26.053Z"
   },
   {
    "duration": 1157,
    "start_time": "2022-05-06T20:14:36.806Z"
   },
   {
    "duration": 371,
    "start_time": "2022-05-06T20:14:37.966Z"
   },
   {
    "duration": 13,
    "start_time": "2022-05-06T20:14:38.339Z"
   },
   {
    "duration": 24,
    "start_time": "2022-05-06T20:14:38.354Z"
   },
   {
    "duration": 9,
    "start_time": "2022-05-06T20:14:38.380Z"
   },
   {
    "duration": 34,
    "start_time": "2022-05-06T20:14:38.390Z"
   },
   {
    "duration": 16,
    "start_time": "2022-05-06T20:14:38.425Z"
   },
   {
    "duration": 22,
    "start_time": "2022-05-06T20:14:38.447Z"
   },
   {
    "duration": 9,
    "start_time": "2022-05-06T20:14:38.470Z"
   },
   {
    "duration": 10,
    "start_time": "2022-05-06T20:14:38.481Z"
   },
   {
    "duration": 31,
    "start_time": "2022-05-06T20:14:38.493Z"
   },
   {
    "duration": 19,
    "start_time": "2022-05-06T20:14:38.531Z"
   },
   {
    "duration": 29,
    "start_time": "2022-05-06T20:14:38.552Z"
   },
   {
    "duration": 201,
    "start_time": "2022-05-06T20:14:38.583Z"
   },
   {
    "duration": 5,
    "start_time": "2022-05-06T20:14:38.786Z"
   },
   {
    "duration": 43,
    "start_time": "2022-05-06T20:14:38.793Z"
   },
   {
    "duration": 28,
    "start_time": "2022-05-06T20:14:38.838Z"
   },
   {
    "duration": 7,
    "start_time": "2022-05-06T20:14:38.867Z"
   },
   {
    "duration": 189,
    "start_time": "2022-05-06T20:14:38.875Z"
   },
   {
    "duration": 4,
    "start_time": "2022-05-06T20:14:39.066Z"
   },
   {
    "duration": 19,
    "start_time": "2022-05-06T20:14:39.072Z"
   },
   {
    "duration": 13,
    "start_time": "2022-05-06T20:14:39.093Z"
   },
   {
    "duration": 5,
    "start_time": "2022-05-06T20:14:39.124Z"
   },
   {
    "duration": 23,
    "start_time": "2022-05-06T20:14:39.131Z"
   },
   {
    "duration": 14,
    "start_time": "2022-05-06T20:14:39.156Z"
   },
   {
    "duration": 196,
    "start_time": "2022-05-06T20:14:39.172Z"
   },
   {
    "duration": 4,
    "start_time": "2022-05-06T20:14:39.370Z"
   },
   {
    "duration": 6,
    "start_time": "2022-05-06T20:14:39.378Z"
   },
   {
    "duration": 9,
    "start_time": "2022-05-06T20:14:39.386Z"
   },
   {
    "duration": 103,
    "start_time": "2022-05-06T20:14:39.396Z"
   },
   {
    "duration": 89,
    "start_time": "2022-05-06T20:14:39.501Z"
   },
   {
    "duration": 57,
    "start_time": "2022-05-06T20:14:39.591Z"
   },
   {
    "duration": 38,
    "start_time": "2022-05-06T20:14:39.649Z"
   },
   {
    "duration": 71,
    "start_time": "2022-05-06T20:14:39.688Z"
   },
   {
    "duration": 41,
    "start_time": "2022-05-06T20:14:39.760Z"
   },
   {
    "duration": 89,
    "start_time": "2022-05-06T20:14:39.803Z"
   },
   {
    "duration": 70,
    "start_time": "2022-05-06T20:14:39.894Z"
   },
   {
    "duration": 3529,
    "start_time": "2022-05-06T20:14:39.966Z"
   },
   {
    "duration": 9,
    "start_time": "2022-05-06T20:14:43.496Z"
   },
   {
    "duration": 4637,
    "start_time": "2022-05-06T20:14:43.523Z"
   },
   {
    "duration": 12,
    "start_time": "2022-05-06T20:14:48.162Z"
   },
   {
    "duration": 5292,
    "start_time": "2022-05-06T20:14:48.176Z"
   },
   {
    "duration": 11,
    "start_time": "2022-05-06T20:14:53.470Z"
   },
   {
    "duration": 15,
    "start_time": "2022-05-06T20:14:53.483Z"
   },
   {
    "duration": 35,
    "start_time": "2022-05-06T20:14:53.500Z"
   },
   {
    "duration": 14,
    "start_time": "2022-05-06T20:14:53.538Z"
   },
   {
    "duration": 131,
    "start_time": "2022-05-06T20:16:43.437Z"
   },
   {
    "duration": 148,
    "start_time": "2022-05-06T20:16:54.417Z"
   },
   {
    "duration": 139,
    "start_time": "2022-05-06T20:17:01.762Z"
   },
   {
    "duration": 88,
    "start_time": "2022-05-06T20:19:59.151Z"
   },
   {
    "duration": 8,
    "start_time": "2022-05-06T20:20:03.886Z"
   },
   {
    "duration": 17,
    "start_time": "2022-05-06T20:21:42.584Z"
   },
   {
    "duration": 7,
    "start_time": "2022-05-06T20:21:59.469Z"
   },
   {
    "duration": 5,
    "start_time": "2022-05-06T20:22:03.820Z"
   },
   {
    "duration": 16,
    "start_time": "2022-05-06T20:22:08.781Z"
   },
   {
    "duration": 10,
    "start_time": "2022-05-06T20:23:03.053Z"
   },
   {
    "duration": 17,
    "start_time": "2022-05-06T20:24:16.636Z"
   },
   {
    "duration": 9,
    "start_time": "2022-05-06T20:24:43.643Z"
   },
   {
    "duration": 13,
    "start_time": "2022-05-06T20:24:50.991Z"
   },
   {
    "duration": 17,
    "start_time": "2022-05-06T20:26:24.536Z"
   },
   {
    "duration": 7,
    "start_time": "2022-05-06T20:26:43.349Z"
   },
   {
    "duration": 16,
    "start_time": "2022-05-06T20:32:57.317Z"
   },
   {
    "duration": 11,
    "start_time": "2022-05-06T20:33:31.075Z"
   },
   {
    "duration": 11,
    "start_time": "2022-05-06T20:33:56.143Z"
   },
   {
    "duration": 13,
    "start_time": "2022-05-06T20:34:00.530Z"
   },
   {
    "duration": 71,
    "start_time": "2022-05-07T10:09:08.556Z"
   },
   {
    "duration": 9,
    "start_time": "2022-05-07T10:11:47.506Z"
   },
   {
    "duration": 10,
    "start_time": "2022-05-07T10:12:21.516Z"
   },
   {
    "duration": 1665,
    "start_time": "2022-05-07T10:12:30.345Z"
   },
   {
    "duration": 542,
    "start_time": "2022-05-07T10:12:32.012Z"
   },
   {
    "duration": 18,
    "start_time": "2022-05-07T10:12:32.557Z"
   },
   {
    "duration": 36,
    "start_time": "2022-05-07T10:12:32.578Z"
   },
   {
    "duration": 17,
    "start_time": "2022-05-07T10:12:32.617Z"
   },
   {
    "duration": 33,
    "start_time": "2022-05-07T10:12:32.636Z"
   },
   {
    "duration": 12,
    "start_time": "2022-05-07T10:12:32.671Z"
   },
   {
    "duration": 62,
    "start_time": "2022-05-07T10:12:32.685Z"
   },
   {
    "duration": 13,
    "start_time": "2022-05-07T10:12:32.749Z"
   },
   {
    "duration": 21,
    "start_time": "2022-05-07T10:12:32.766Z"
   },
   {
    "duration": 48,
    "start_time": "2022-05-07T10:12:32.790Z"
   },
   {
    "duration": 26,
    "start_time": "2022-05-07T10:12:32.841Z"
   },
   {
    "duration": 62,
    "start_time": "2022-05-07T10:12:32.870Z"
   },
   {
    "duration": 344,
    "start_time": "2022-05-07T10:12:32.934Z"
   },
   {
    "duration": 272,
    "start_time": "2022-05-07T10:13:23.690Z"
   },
   {
    "duration": 370,
    "start_time": "2022-05-07T10:13:41.669Z"
   },
   {
    "duration": 299,
    "start_time": "2022-05-07T10:14:08.273Z"
   },
   {
    "duration": 313,
    "start_time": "2022-05-07T10:15:30.217Z"
   },
   {
    "duration": 287,
    "start_time": "2022-05-07T10:15:35.275Z"
   },
   {
    "duration": 307,
    "start_time": "2022-05-07T10:16:06.782Z"
   },
   {
    "duration": 306,
    "start_time": "2022-05-07T10:17:41.046Z"
   },
   {
    "duration": 300,
    "start_time": "2022-05-07T10:17:45.876Z"
   },
   {
    "duration": 310,
    "start_time": "2022-05-07T10:21:51.228Z"
   },
   {
    "duration": 391,
    "start_time": "2022-05-07T10:22:20.350Z"
   },
   {
    "duration": 4,
    "start_time": "2022-05-07T10:25:56.889Z"
   },
   {
    "duration": 560,
    "start_time": "2022-05-07T10:25:56.896Z"
   },
   {
    "duration": 12,
    "start_time": "2022-05-07T10:25:57.458Z"
   },
   {
    "duration": 41,
    "start_time": "2022-05-07T10:25:57.473Z"
   },
   {
    "duration": 13,
    "start_time": "2022-05-07T10:25:57.517Z"
   },
   {
    "duration": 32,
    "start_time": "2022-05-07T10:25:57.532Z"
   },
   {
    "duration": 11,
    "start_time": "2022-05-07T10:25:57.566Z"
   },
   {
    "duration": 56,
    "start_time": "2022-05-07T10:25:57.579Z"
   },
   {
    "duration": 12,
    "start_time": "2022-05-07T10:25:57.637Z"
   },
   {
    "duration": 17,
    "start_time": "2022-05-07T10:25:57.652Z"
   },
   {
    "duration": 22,
    "start_time": "2022-05-07T10:25:57.671Z"
   },
   {
    "duration": 43,
    "start_time": "2022-05-07T10:25:57.696Z"
   },
   {
    "duration": 49,
    "start_time": "2022-05-07T10:25:57.741Z"
   },
   {
    "duration": 332,
    "start_time": "2022-05-07T10:25:57.794Z"
   },
   {
    "duration": 6,
    "start_time": "2022-05-07T10:25:58.129Z"
   },
   {
    "duration": 42,
    "start_time": "2022-05-07T10:25:58.138Z"
   },
   {
    "duration": 63,
    "start_time": "2022-05-07T10:25:58.183Z"
   },
   {
    "duration": 10,
    "start_time": "2022-05-07T10:25:58.249Z"
   },
   {
    "duration": 319,
    "start_time": "2022-05-07T10:25:58.261Z"
   },
   {
    "duration": 6,
    "start_time": "2022-05-07T10:25:58.583Z"
   },
   {
    "duration": 44,
    "start_time": "2022-05-07T10:25:58.592Z"
   },
   {
    "duration": 19,
    "start_time": "2022-05-07T10:25:58.638Z"
   },
   {
    "duration": 5,
    "start_time": "2022-05-07T10:25:58.659Z"
   },
   {
    "duration": 58,
    "start_time": "2022-05-07T10:25:58.666Z"
   },
   {
    "duration": 20,
    "start_time": "2022-05-07T10:25:58.727Z"
   },
   {
    "duration": 333,
    "start_time": "2022-05-07T10:25:58.749Z"
   },
   {
    "duration": 6,
    "start_time": "2022-05-07T10:25:59.085Z"
   },
   {
    "duration": 30,
    "start_time": "2022-05-07T10:25:59.094Z"
   },
   {
    "duration": 9,
    "start_time": "2022-05-07T10:25:59.127Z"
   },
   {
    "duration": 141,
    "start_time": "2022-05-07T10:25:59.139Z"
   },
   {
    "duration": 127,
    "start_time": "2022-05-07T10:25:59.283Z"
   },
   {
    "duration": 64,
    "start_time": "2022-05-07T10:25:59.412Z"
   },
   {
    "duration": 82,
    "start_time": "2022-05-07T10:25:59.478Z"
   },
   {
    "duration": 93,
    "start_time": "2022-05-07T10:25:59.563Z"
   },
   {
    "duration": 79,
    "start_time": "2022-05-07T10:25:59.658Z"
   },
   {
    "duration": 90,
    "start_time": "2022-05-07T10:25:59.739Z"
   },
   {
    "duration": 101,
    "start_time": "2022-05-07T10:25:59.831Z"
   },
   {
    "duration": 5995,
    "start_time": "2022-05-07T10:25:59.934Z"
   },
   {
    "duration": 13,
    "start_time": "2022-05-07T10:26:05.931Z"
   },
   {
    "duration": 5943,
    "start_time": "2022-05-07T10:26:05.947Z"
   },
   {
    "duration": 12,
    "start_time": "2022-05-07T10:26:11.898Z"
   },
   {
    "duration": 6091,
    "start_time": "2022-05-07T10:26:11.926Z"
   },
   {
    "duration": 13,
    "start_time": "2022-05-07T10:26:18.025Z"
   },
   {
    "duration": 24,
    "start_time": "2022-05-07T10:26:18.041Z"
   },
   {
    "duration": 14,
    "start_time": "2022-05-07T10:26:18.069Z"
   },
   {
    "duration": 51,
    "start_time": "2022-05-07T10:26:18.085Z"
   },
   {
    "duration": 315,
    "start_time": "2022-05-07T10:29:28.498Z"
   },
   {
    "duration": 1597,
    "start_time": "2022-05-07T10:32:18.122Z"
   },
   {
    "duration": 4,
    "start_time": "2022-05-07T10:32:32.928Z"
   },
   {
    "duration": 554,
    "start_time": "2022-05-07T10:32:32.935Z"
   },
   {
    "duration": 12,
    "start_time": "2022-05-07T10:32:33.492Z"
   },
   {
    "duration": 48,
    "start_time": "2022-05-07T10:32:33.506Z"
   },
   {
    "duration": 14,
    "start_time": "2022-05-07T10:32:33.557Z"
   },
   {
    "duration": 57,
    "start_time": "2022-05-07T10:32:33.573Z"
   },
   {
    "duration": 11,
    "start_time": "2022-05-07T10:32:33.633Z"
   },
   {
    "duration": 51,
    "start_time": "2022-05-07T10:32:33.647Z"
   },
   {
    "duration": 24,
    "start_time": "2022-05-07T10:32:33.700Z"
   },
   {
    "duration": 17,
    "start_time": "2022-05-07T10:32:33.726Z"
   },
   {
    "duration": 25,
    "start_time": "2022-05-07T10:32:33.748Z"
   },
   {
    "duration": 22,
    "start_time": "2022-05-07T10:32:33.776Z"
   },
   {
    "duration": 56,
    "start_time": "2022-05-07T10:32:33.800Z"
   },
   {
    "duration": 461,
    "start_time": "2022-05-07T10:32:33.858Z"
   },
   {
    "duration": 9,
    "start_time": "2022-05-07T10:32:34.324Z"
   },
   {
    "duration": 58,
    "start_time": "2022-05-07T10:32:34.336Z"
   },
   {
    "duration": 46,
    "start_time": "2022-05-07T10:32:34.396Z"
   },
   {
    "duration": 10,
    "start_time": "2022-05-07T10:32:34.444Z"
   },
   {
    "duration": 326,
    "start_time": "2022-05-07T10:32:34.456Z"
   },
   {
    "duration": 7,
    "start_time": "2022-05-07T10:32:34.784Z"
   },
   {
    "duration": 48,
    "start_time": "2022-05-07T10:32:34.793Z"
   },
   {
    "duration": 19,
    "start_time": "2022-05-07T10:32:34.843Z"
   },
   {
    "duration": 6,
    "start_time": "2022-05-07T10:32:34.864Z"
   },
   {
    "duration": 53,
    "start_time": "2022-05-07T10:32:34.872Z"
   },
   {
    "duration": 20,
    "start_time": "2022-05-07T10:32:34.927Z"
   },
   {
    "duration": 334,
    "start_time": "2022-05-07T10:32:34.949Z"
   },
   {
    "duration": 5,
    "start_time": "2022-05-07T10:32:35.285Z"
   },
   {
    "duration": 11,
    "start_time": "2022-05-07T10:32:35.292Z"
   },
   {
    "duration": 8,
    "start_time": "2022-05-07T10:32:35.324Z"
   },
   {
    "duration": 127,
    "start_time": "2022-05-07T10:32:35.335Z"
   },
   {
    "duration": 105,
    "start_time": "2022-05-07T10:32:35.465Z"
   },
   {
    "duration": 63,
    "start_time": "2022-05-07T10:32:35.572Z"
   },
   {
    "duration": 53,
    "start_time": "2022-05-07T10:32:35.638Z"
   },
   {
    "duration": 28,
    "start_time": "2022-05-07T10:32:39.239Z"
   },
   {
    "duration": 2051,
    "start_time": "2022-05-07T10:35:04.859Z"
   },
   {
    "duration": 5,
    "start_time": "2022-05-07T10:35:14.982Z"
   },
   {
    "duration": 523,
    "start_time": "2022-05-07T10:35:14.989Z"
   },
   {
    "duration": 13,
    "start_time": "2022-05-07T10:35:15.514Z"
   },
   {
    "duration": 42,
    "start_time": "2022-05-07T10:35:15.529Z"
   },
   {
    "duration": 13,
    "start_time": "2022-05-07T10:35:15.574Z"
   },
   {
    "duration": 49,
    "start_time": "2022-05-07T10:35:15.589Z"
   },
   {
    "duration": 11,
    "start_time": "2022-05-07T10:35:15.640Z"
   },
   {
    "duration": 38,
    "start_time": "2022-05-07T10:35:15.653Z"
   },
   {
    "duration": 32,
    "start_time": "2022-05-07T10:35:15.693Z"
   },
   {
    "duration": 17,
    "start_time": "2022-05-07T10:35:15.727Z"
   },
   {
    "duration": 17,
    "start_time": "2022-05-07T10:35:15.749Z"
   },
   {
    "duration": 22,
    "start_time": "2022-05-07T10:35:15.768Z"
   },
   {
    "duration": 65,
    "start_time": "2022-05-07T10:35:15.792Z"
   },
   {
    "duration": 330,
    "start_time": "2022-05-07T10:35:15.859Z"
   },
   {
    "duration": 5,
    "start_time": "2022-05-07T10:35:16.191Z"
   },
   {
    "duration": 53,
    "start_time": "2022-05-07T10:35:16.198Z"
   },
   {
    "duration": 36,
    "start_time": "2022-05-07T10:35:16.253Z"
   },
   {
    "duration": 10,
    "start_time": "2022-05-07T10:35:16.291Z"
   },
   {
    "duration": 322,
    "start_time": "2022-05-07T10:35:16.324Z"
   },
   {
    "duration": 6,
    "start_time": "2022-05-07T10:35:16.648Z"
   },
   {
    "duration": 31,
    "start_time": "2022-05-07T10:35:16.656Z"
   },
   {
    "duration": 43,
    "start_time": "2022-05-07T10:35:16.689Z"
   },
   {
    "duration": 5,
    "start_time": "2022-05-07T10:35:16.734Z"
   },
   {
    "duration": 28,
    "start_time": "2022-05-07T10:35:16.741Z"
   },
   {
    "duration": 54,
    "start_time": "2022-05-07T10:35:16.771Z"
   },
   {
    "duration": 333,
    "start_time": "2022-05-07T10:35:16.827Z"
   },
   {
    "duration": 5,
    "start_time": "2022-05-07T10:35:17.162Z"
   },
   {
    "duration": 10,
    "start_time": "2022-05-07T10:35:17.169Z"
   },
   {
    "duration": 11,
    "start_time": "2022-05-07T10:35:17.184Z"
   },
   {
    "duration": 145,
    "start_time": "2022-05-07T10:35:17.197Z"
   },
   {
    "duration": 100,
    "start_time": "2022-05-07T10:35:17.344Z"
   },
   {
    "duration": 54,
    "start_time": "2022-05-07T10:35:17.446Z"
   },
   {
    "duration": 65,
    "start_time": "2022-05-07T10:35:17.503Z"
   },
   {
    "duration": 80,
    "start_time": "2022-05-07T10:35:20.216Z"
   },
   {
    "duration": 16,
    "start_time": "2022-05-07T10:42:45.053Z"
   },
   {
    "duration": 14,
    "start_time": "2022-05-07T10:43:40.208Z"
   },
   {
    "duration": 8,
    "start_time": "2022-05-07T10:43:52.133Z"
   },
   {
    "duration": 13,
    "start_time": "2022-05-07T10:46:58.012Z"
   },
   {
    "duration": 4,
    "start_time": "2022-05-07T11:00:26.984Z"
   },
   {
    "duration": 523,
    "start_time": "2022-05-07T11:00:26.992Z"
   },
   {
    "duration": 13,
    "start_time": "2022-05-07T11:00:27.517Z"
   },
   {
    "duration": 42,
    "start_time": "2022-05-07T11:00:27.532Z"
   },
   {
    "duration": 13,
    "start_time": "2022-05-07T11:00:27.578Z"
   },
   {
    "duration": 46,
    "start_time": "2022-05-07T11:00:27.593Z"
   },
   {
    "duration": 149,
    "start_time": "2022-05-07T11:00:27.641Z"
   },
   {
    "duration": 48,
    "start_time": "2022-05-07T11:00:27.792Z"
   },
   {
    "duration": 13,
    "start_time": "2022-05-07T11:00:27.843Z"
   },
   {
    "duration": 17,
    "start_time": "2022-05-07T11:00:27.859Z"
   },
   {
    "duration": 51,
    "start_time": "2022-05-07T11:00:27.878Z"
   },
   {
    "duration": 18,
    "start_time": "2022-05-07T11:00:27.931Z"
   },
   {
    "duration": 37,
    "start_time": "2022-05-07T11:00:27.951Z"
   },
   {
    "duration": 319,
    "start_time": "2022-05-07T11:00:27.993Z"
   },
   {
    "duration": 12,
    "start_time": "2022-05-07T11:00:28.314Z"
   },
   {
    "duration": 44,
    "start_time": "2022-05-07T11:00:28.328Z"
   },
   {
    "duration": 57,
    "start_time": "2022-05-07T11:00:28.374Z"
   },
   {
    "duration": 10,
    "start_time": "2022-05-07T11:00:28.433Z"
   },
   {
    "duration": 320,
    "start_time": "2022-05-07T11:00:28.445Z"
   },
   {
    "duration": 7,
    "start_time": "2022-05-07T11:00:28.767Z"
   },
   {
    "duration": 49,
    "start_time": "2022-05-07T11:00:28.776Z"
   },
   {
    "duration": 18,
    "start_time": "2022-05-07T11:00:28.828Z"
   },
   {
    "duration": 5,
    "start_time": "2022-05-07T11:00:28.849Z"
   },
   {
    "duration": 31,
    "start_time": "2022-05-07T11:00:28.857Z"
   },
   {
    "duration": 55,
    "start_time": "2022-05-07T11:00:28.890Z"
   },
   {
    "duration": 341,
    "start_time": "2022-05-07T11:00:28.947Z"
   },
   {
    "duration": 6,
    "start_time": "2022-05-07T11:00:29.290Z"
   },
   {
    "duration": 28,
    "start_time": "2022-05-07T11:00:29.298Z"
   },
   {
    "duration": 10,
    "start_time": "2022-05-07T11:00:29.330Z"
   },
   {
    "duration": 138,
    "start_time": "2022-05-07T11:00:29.342Z"
   },
   {
    "duration": 95,
    "start_time": "2022-05-07T11:00:29.483Z"
   },
   {
    "duration": 66,
    "start_time": "2022-05-07T11:00:29.580Z"
   },
   {
    "duration": 51,
    "start_time": "2022-05-07T11:00:29.648Z"
   },
   {
    "duration": 84,
    "start_time": "2022-05-07T11:00:35.502Z"
   },
   {
    "duration": 3,
    "start_time": "2022-05-07T11:10:45.302Z"
   },
   {
    "duration": 535,
    "start_time": "2022-05-07T11:10:45.308Z"
   },
   {
    "duration": 12,
    "start_time": "2022-05-07T11:10:45.846Z"
   },
   {
    "duration": 38,
    "start_time": "2022-05-07T11:10:45.861Z"
   },
   {
    "duration": 13,
    "start_time": "2022-05-07T11:10:45.902Z"
   },
   {
    "duration": 28,
    "start_time": "2022-05-07T11:10:45.925Z"
   },
   {
    "duration": 10,
    "start_time": "2022-05-07T11:10:45.955Z"
   },
   {
    "duration": 56,
    "start_time": "2022-05-07T11:10:45.968Z"
   },
   {
    "duration": 13,
    "start_time": "2022-05-07T11:10:46.027Z"
   },
   {
    "duration": 25,
    "start_time": "2022-05-07T11:10:46.042Z"
   },
   {
    "duration": 15,
    "start_time": "2022-05-07T11:10:46.072Z"
   },
   {
    "duration": 42,
    "start_time": "2022-05-07T11:10:46.090Z"
   },
   {
    "duration": 36,
    "start_time": "2022-05-07T11:10:46.134Z"
   },
   {
    "duration": 331,
    "start_time": "2022-05-07T11:10:46.173Z"
   },
   {
    "duration": 17,
    "start_time": "2022-05-07T11:10:46.506Z"
   },
   {
    "duration": 34,
    "start_time": "2022-05-07T11:10:46.526Z"
   },
   {
    "duration": 34,
    "start_time": "2022-05-07T11:10:46.562Z"
   },
   {
    "duration": 32,
    "start_time": "2022-05-07T11:10:46.599Z"
   },
   {
    "duration": 328,
    "start_time": "2022-05-07T11:10:46.633Z"
   },
   {
    "duration": 6,
    "start_time": "2022-05-07T11:10:46.963Z"
   },
   {
    "duration": 28,
    "start_time": "2022-05-07T11:10:46.971Z"
   },
   {
    "duration": 38,
    "start_time": "2022-05-07T11:10:47.001Z"
   },
   {
    "duration": 5,
    "start_time": "2022-05-07T11:10:47.041Z"
   },
   {
    "duration": 26,
    "start_time": "2022-05-07T11:10:47.047Z"
   },
   {
    "duration": 52,
    "start_time": "2022-05-07T11:10:47.076Z"
   },
   {
    "duration": 322,
    "start_time": "2022-05-07T11:10:47.131Z"
   },
   {
    "duration": 5,
    "start_time": "2022-05-07T11:10:47.456Z"
   },
   {
    "duration": 7,
    "start_time": "2022-05-07T11:10:47.463Z"
   },
   {
    "duration": 10,
    "start_time": "2022-05-07T11:10:47.474Z"
   },
   {
    "duration": 142,
    "start_time": "2022-05-07T11:10:47.487Z"
   },
   {
    "duration": 98,
    "start_time": "2022-05-07T11:10:47.632Z"
   },
   {
    "duration": 77,
    "start_time": "2022-05-07T11:10:47.732Z"
   },
   {
    "duration": 74,
    "start_time": "2022-05-07T11:10:47.825Z"
   },
   {
    "duration": 43,
    "start_time": "2022-05-07T11:10:56.888Z"
   },
   {
    "duration": 5,
    "start_time": "2022-05-07T11:11:36.329Z"
   },
   {
    "duration": 545,
    "start_time": "2022-05-07T11:11:36.336Z"
   },
   {
    "duration": 12,
    "start_time": "2022-05-07T11:11:36.883Z"
   },
   {
    "duration": 33,
    "start_time": "2022-05-07T11:11:36.898Z"
   },
   {
    "duration": 13,
    "start_time": "2022-05-07T11:11:36.933Z"
   },
   {
    "duration": 31,
    "start_time": "2022-05-07T11:11:36.948Z"
   },
   {
    "duration": 11,
    "start_time": "2022-05-07T11:11:36.981Z"
   },
   {
    "duration": 27,
    "start_time": "2022-05-07T11:11:37.025Z"
   },
   {
    "duration": 12,
    "start_time": "2022-05-07T11:11:37.056Z"
   },
   {
    "duration": 21,
    "start_time": "2022-05-07T11:11:37.070Z"
   },
   {
    "duration": 50,
    "start_time": "2022-05-07T11:11:37.094Z"
   },
   {
    "duration": 17,
    "start_time": "2022-05-07T11:11:37.146Z"
   },
   {
    "duration": 68,
    "start_time": "2022-05-07T11:11:37.166Z"
   },
   {
    "duration": 317,
    "start_time": "2022-05-07T11:11:37.237Z"
   },
   {
    "duration": 6,
    "start_time": "2022-05-07T11:11:37.556Z"
   },
   {
    "duration": 35,
    "start_time": "2022-05-07T11:11:37.565Z"
   },
   {
    "duration": 36,
    "start_time": "2022-05-07T11:11:37.625Z"
   },
   {
    "duration": 9,
    "start_time": "2022-05-07T11:11:37.664Z"
   },
   {
    "duration": 453,
    "start_time": "2022-05-07T11:11:37.676Z"
   },
   {
    "duration": 6,
    "start_time": "2022-05-07T11:11:38.132Z"
   },
   {
    "duration": 29,
    "start_time": "2022-05-07T11:11:38.141Z"
   },
   {
    "duration": 18,
    "start_time": "2022-05-07T11:11:38.173Z"
   },
   {
    "duration": 33,
    "start_time": "2022-05-07T11:11:38.193Z"
   },
   {
    "duration": 23,
    "start_time": "2022-05-07T11:11:38.231Z"
   },
   {
    "duration": 20,
    "start_time": "2022-05-07T11:11:38.256Z"
   },
   {
    "duration": 349,
    "start_time": "2022-05-07T11:11:38.279Z"
   },
   {
    "duration": 5,
    "start_time": "2022-05-07T11:11:38.630Z"
   },
   {
    "duration": 10,
    "start_time": "2022-05-07T11:11:38.637Z"
   },
   {
    "duration": 14,
    "start_time": "2022-05-07T11:11:38.649Z"
   },
   {
    "duration": 132,
    "start_time": "2022-05-07T11:11:38.665Z"
   },
   {
    "duration": 95,
    "start_time": "2022-05-07T11:11:38.799Z"
   },
   {
    "duration": 58,
    "start_time": "2022-05-07T11:11:38.896Z"
   },
   {
    "duration": 49,
    "start_time": "2022-05-07T11:11:38.956Z"
   },
   {
    "duration": 43,
    "start_time": "2022-05-07T11:11:41.084Z"
   },
   {
    "duration": 1517,
    "start_time": "2022-05-07T11:13:35.635Z"
   },
   {
    "duration": 34,
    "start_time": "2022-05-07T11:13:44.223Z"
   },
   {
    "duration": 32,
    "start_time": "2022-05-07T11:14:37.896Z"
   },
   {
    "duration": 39,
    "start_time": "2022-05-07T11:14:58.001Z"
   },
   {
    "duration": 37,
    "start_time": "2022-05-07T11:15:04.733Z"
   },
   {
    "duration": 36,
    "start_time": "2022-05-07T11:15:52.034Z"
   },
   {
    "duration": 34,
    "start_time": "2022-05-07T11:17:09.552Z"
   },
   {
    "duration": 33,
    "start_time": "2022-05-07T11:17:28.893Z"
   },
   {
    "duration": 31,
    "start_time": "2022-05-07T11:17:50.491Z"
   },
   {
    "duration": 1607,
    "start_time": "2022-05-07T11:18:19.264Z"
   },
   {
    "duration": 35,
    "start_time": "2022-05-07T11:18:27.308Z"
   },
   {
    "duration": 4,
    "start_time": "2022-05-07T11:18:48.677Z"
   },
   {
    "duration": 514,
    "start_time": "2022-05-07T11:18:48.683Z"
   },
   {
    "duration": 11,
    "start_time": "2022-05-07T11:18:49.200Z"
   },
   {
    "duration": 40,
    "start_time": "2022-05-07T11:18:49.214Z"
   },
   {
    "duration": 12,
    "start_time": "2022-05-07T11:18:49.257Z"
   },
   {
    "duration": 30,
    "start_time": "2022-05-07T11:18:49.271Z"
   },
   {
    "duration": 28,
    "start_time": "2022-05-07T11:18:49.303Z"
   },
   {
    "duration": 28,
    "start_time": "2022-05-07T11:18:49.333Z"
   },
   {
    "duration": 12,
    "start_time": "2022-05-07T11:18:49.363Z"
   },
   {
    "duration": 48,
    "start_time": "2022-05-07T11:18:49.377Z"
   },
   {
    "duration": 15,
    "start_time": "2022-05-07T11:18:49.429Z"
   },
   {
    "duration": 16,
    "start_time": "2022-05-07T11:18:49.447Z"
   },
   {
    "duration": 61,
    "start_time": "2022-05-07T11:18:49.465Z"
   },
   {
    "duration": 319,
    "start_time": "2022-05-07T11:18:49.528Z"
   },
   {
    "duration": 6,
    "start_time": "2022-05-07T11:18:49.850Z"
   },
   {
    "duration": 37,
    "start_time": "2022-05-07T11:18:49.858Z"
   },
   {
    "duration": 57,
    "start_time": "2022-05-07T11:18:49.897Z"
   },
   {
    "duration": 9,
    "start_time": "2022-05-07T11:18:49.956Z"
   },
   {
    "duration": 324,
    "start_time": "2022-05-07T11:18:49.968Z"
   },
   {
    "duration": 6,
    "start_time": "2022-05-07T11:18:50.294Z"
   },
   {
    "duration": 42,
    "start_time": "2022-05-07T11:18:50.302Z"
   },
   {
    "duration": 18,
    "start_time": "2022-05-07T11:18:50.346Z"
   },
   {
    "duration": 5,
    "start_time": "2022-05-07T11:18:50.366Z"
   },
   {
    "duration": 57,
    "start_time": "2022-05-07T11:18:50.373Z"
   },
   {
    "duration": 20,
    "start_time": "2022-05-07T11:18:50.432Z"
   },
   {
    "duration": 331,
    "start_time": "2022-05-07T11:18:50.454Z"
   },
   {
    "duration": 5,
    "start_time": "2022-05-07T11:18:50.787Z"
   },
   {
    "duration": 9,
    "start_time": "2022-05-07T11:18:50.794Z"
   },
   {
    "duration": 8,
    "start_time": "2022-05-07T11:18:50.827Z"
   },
   {
    "duration": 124,
    "start_time": "2022-05-07T11:18:50.837Z"
   },
   {
    "duration": 101,
    "start_time": "2022-05-07T11:18:50.963Z"
   },
   {
    "duration": 58,
    "start_time": "2022-05-07T11:18:51.066Z"
   },
   {
    "duration": 52,
    "start_time": "2022-05-07T11:18:51.126Z"
   },
   {
    "duration": 44,
    "start_time": "2022-05-07T11:18:53.164Z"
   },
   {
    "duration": 1644,
    "start_time": "2022-05-07T11:24:19.815Z"
   },
   {
    "duration": 5,
    "start_time": "2022-05-07T11:24:34.501Z"
   },
   {
    "duration": 540,
    "start_time": "2022-05-07T11:24:34.508Z"
   },
   {
    "duration": 13,
    "start_time": "2022-05-07T11:24:35.051Z"
   },
   {
    "duration": 38,
    "start_time": "2022-05-07T11:24:35.067Z"
   },
   {
    "duration": 20,
    "start_time": "2022-05-07T11:24:35.108Z"
   },
   {
    "duration": 37,
    "start_time": "2022-05-07T11:24:35.130Z"
   },
   {
    "duration": 11,
    "start_time": "2022-05-07T11:24:35.169Z"
   },
   {
    "duration": 51,
    "start_time": "2022-05-07T11:24:35.182Z"
   },
   {
    "duration": 12,
    "start_time": "2022-05-07T11:24:35.236Z"
   },
   {
    "duration": 23,
    "start_time": "2022-05-07T11:24:35.250Z"
   },
   {
    "duration": 27,
    "start_time": "2022-05-07T11:24:35.277Z"
   },
   {
    "duration": 32,
    "start_time": "2022-05-07T11:24:35.306Z"
   },
   {
    "duration": 42,
    "start_time": "2022-05-07T11:24:35.341Z"
   },
   {
    "duration": 330,
    "start_time": "2022-05-07T11:24:35.386Z"
   },
   {
    "duration": 9,
    "start_time": "2022-05-07T11:24:35.719Z"
   },
   {
    "duration": 37,
    "start_time": "2022-05-07T11:24:35.731Z"
   },
   {
    "duration": 69,
    "start_time": "2022-05-07T11:24:35.770Z"
   },
   {
    "duration": 9,
    "start_time": "2022-05-07T11:24:35.842Z"
   },
   {
    "duration": 423,
    "start_time": "2022-05-07T11:24:35.854Z"
   },
   {
    "duration": 6,
    "start_time": "2022-05-07T11:24:36.279Z"
   },
   {
    "duration": 47,
    "start_time": "2022-05-07T11:24:36.287Z"
   },
   {
    "duration": 19,
    "start_time": "2022-05-07T11:24:36.336Z"
   },
   {
    "duration": 6,
    "start_time": "2022-05-07T11:24:36.357Z"
   },
   {
    "duration": 25,
    "start_time": "2022-05-07T11:24:36.365Z"
   },
   {
    "duration": 51,
    "start_time": "2022-05-07T11:24:36.392Z"
   },
   {
    "duration": 335,
    "start_time": "2022-05-07T11:24:36.445Z"
   },
   {
    "duration": 5,
    "start_time": "2022-05-07T11:24:36.782Z"
   },
   {
    "duration": 8,
    "start_time": "2022-05-07T11:24:36.789Z"
   },
   {
    "duration": 30,
    "start_time": "2022-05-07T11:24:36.801Z"
   },
   {
    "duration": 122,
    "start_time": "2022-05-07T11:24:36.834Z"
   },
   {
    "duration": 105,
    "start_time": "2022-05-07T11:24:36.959Z"
   },
   {
    "duration": 74,
    "start_time": "2022-05-07T11:24:37.066Z"
   },
   {
    "duration": 55,
    "start_time": "2022-05-07T11:24:37.142Z"
   },
   {
    "duration": 44,
    "start_time": "2022-05-07T11:24:49.272Z"
   },
   {
    "duration": 8,
    "start_time": "2022-05-07T11:25:28.210Z"
   },
   {
    "duration": 47,
    "start_time": "2022-05-07T13:41:31.024Z"
   },
   {
    "duration": 1194,
    "start_time": "2022-05-07T13:41:37.451Z"
   },
   {
    "duration": 339,
    "start_time": "2022-05-07T13:41:38.647Z"
   },
   {
    "duration": 12,
    "start_time": "2022-05-07T13:41:38.988Z"
   },
   {
    "duration": 21,
    "start_time": "2022-05-07T13:41:39.003Z"
   },
   {
    "duration": 8,
    "start_time": "2022-05-07T13:41:39.026Z"
   },
   {
    "duration": 28,
    "start_time": "2022-05-07T13:41:39.036Z"
   },
   {
    "duration": 8,
    "start_time": "2022-05-07T13:41:39.065Z"
   },
   {
    "duration": 24,
    "start_time": "2022-05-07T13:41:39.075Z"
   },
   {
    "duration": 11,
    "start_time": "2022-05-07T13:41:39.124Z"
   },
   {
    "duration": 12,
    "start_time": "2022-05-07T13:41:39.138Z"
   },
   {
    "duration": 15,
    "start_time": "2022-05-07T13:41:39.152Z"
   },
   {
    "duration": 14,
    "start_time": "2022-05-07T13:41:39.169Z"
   },
   {
    "duration": 63,
    "start_time": "2022-05-07T13:41:39.185Z"
   },
   {
    "duration": 291,
    "start_time": "2022-05-07T13:41:39.250Z"
   },
   {
    "duration": 5,
    "start_time": "2022-05-07T13:41:39.543Z"
   },
   {
    "duration": 40,
    "start_time": "2022-05-07T13:41:39.550Z"
   },
   {
    "duration": 51,
    "start_time": "2022-05-07T13:41:39.592Z"
   },
   {
    "duration": 8,
    "start_time": "2022-05-07T13:41:39.645Z"
   },
   {
    "duration": 259,
    "start_time": "2022-05-07T13:41:39.655Z"
   },
   {
    "duration": 4,
    "start_time": "2022-05-07T13:41:39.923Z"
   },
   {
    "duration": 18,
    "start_time": "2022-05-07T13:41:39.928Z"
   },
   {
    "duration": 14,
    "start_time": "2022-05-07T13:41:39.947Z"
   },
   {
    "duration": 3,
    "start_time": "2022-05-07T13:41:39.962Z"
   },
   {
    "duration": 19,
    "start_time": "2022-05-07T13:41:39.967Z"
   },
   {
    "duration": 11,
    "start_time": "2022-05-07T13:41:39.987Z"
   },
   {
    "duration": 267,
    "start_time": "2022-05-07T13:41:40.024Z"
   },
   {
    "duration": 4,
    "start_time": "2022-05-07T13:41:40.293Z"
   },
   {
    "duration": 5,
    "start_time": "2022-05-07T13:41:40.301Z"
   },
   {
    "duration": 7,
    "start_time": "2022-05-07T13:41:40.324Z"
   },
   {
    "duration": 122,
    "start_time": "2022-05-07T13:41:40.332Z"
   },
   {
    "duration": 112,
    "start_time": "2022-05-07T13:41:40.456Z"
   },
   {
    "duration": 49,
    "start_time": "2022-05-07T13:41:40.570Z"
   },
   {
    "duration": 49,
    "start_time": "2022-05-07T13:41:40.624Z"
   },
   {
    "duration": 109,
    "start_time": "2022-05-07T13:41:40.675Z"
   },
   {
    "duration": 0,
    "start_time": "2022-05-07T13:41:40.786Z"
   },
   {
    "duration": 0,
    "start_time": "2022-05-07T13:41:40.787Z"
   },
   {
    "duration": 0,
    "start_time": "2022-05-07T13:41:40.789Z"
   },
   {
    "duration": 0,
    "start_time": "2022-05-07T13:41:40.790Z"
   },
   {
    "duration": 0,
    "start_time": "2022-05-07T13:41:40.792Z"
   },
   {
    "duration": 0,
    "start_time": "2022-05-07T13:41:40.793Z"
   },
   {
    "duration": 0,
    "start_time": "2022-05-07T13:41:40.794Z"
   },
   {
    "duration": 0,
    "start_time": "2022-05-07T13:41:40.795Z"
   },
   {
    "duration": 0,
    "start_time": "2022-05-07T13:41:40.797Z"
   },
   {
    "duration": 0,
    "start_time": "2022-05-07T13:41:40.798Z"
   },
   {
    "duration": 0,
    "start_time": "2022-05-07T13:41:40.800Z"
   },
   {
    "duration": 0,
    "start_time": "2022-05-07T13:41:40.824Z"
   },
   {
    "duration": 0,
    "start_time": "2022-05-07T13:41:40.825Z"
   },
   {
    "duration": 23,
    "start_time": "2022-05-07T13:46:25.873Z"
   },
   {
    "duration": 1949,
    "start_time": "2022-05-07T13:46:43.269Z"
   },
   {
    "duration": 88,
    "start_time": "2022-05-07T13:46:54.460Z"
   },
   {
    "duration": 49,
    "start_time": "2022-05-07T13:47:05.906Z"
   },
   {
    "duration": 70,
    "start_time": "2022-05-07T13:47:09.350Z"
   },
   {
    "duration": 17,
    "start_time": "2022-05-07T13:47:39.868Z"
   },
   {
    "duration": 7,
    "start_time": "2022-05-07T13:47:55.971Z"
   },
   {
    "duration": 5,
    "start_time": "2022-05-07T13:48:02.294Z"
   },
   {
    "duration": 24,
    "start_time": "2022-05-07T13:48:09.241Z"
   },
   {
    "duration": 18,
    "start_time": "2022-05-07T13:49:12.715Z"
   },
   {
    "duration": 17,
    "start_time": "2022-05-07T13:51:57.578Z"
   },
   {
    "duration": 24,
    "start_time": "2022-05-07T13:52:29.459Z"
   },
   {
    "duration": 20,
    "start_time": "2022-05-07T14:05:18.327Z"
   },
   {
    "duration": 48,
    "start_time": "2022-05-07T14:05:26.634Z"
   },
   {
    "duration": 1921,
    "start_time": "2022-05-07T14:06:07.889Z"
   },
   {
    "duration": 2152,
    "start_time": "2022-05-07T14:06:18.112Z"
   },
   {
    "duration": 1972,
    "start_time": "2022-05-07T14:06:39.670Z"
   },
   {
    "duration": 1983,
    "start_time": "2022-05-07T14:06:51.123Z"
   },
   {
    "duration": 1963,
    "start_time": "2022-05-07T14:07:28.823Z"
   },
   {
    "duration": 2504,
    "start_time": "2022-05-07T14:07:42.791Z"
   },
   {
    "duration": 2042,
    "start_time": "2022-05-07T14:08:14.677Z"
   },
   {
    "duration": 6,
    "start_time": "2022-05-07T14:08:28.153Z"
   },
   {
    "duration": 5,
    "start_time": "2022-05-07T14:08:33.697Z"
   },
   {
    "duration": 50,
    "start_time": "2022-05-07T14:09:32.575Z"
   },
   {
    "duration": 12,
    "start_time": "2022-05-07T14:10:55.363Z"
   },
   {
    "duration": 9,
    "start_time": "2022-05-07T14:14:03.274Z"
   },
   {
    "duration": 10,
    "start_time": "2022-05-07T14:14:15.030Z"
   },
   {
    "duration": 11,
    "start_time": "2022-05-07T14:15:11.793Z"
   },
   {
    "duration": 5,
    "start_time": "2022-05-07T14:15:46.945Z"
   },
   {
    "duration": 5,
    "start_time": "2022-05-07T14:15:56.781Z"
   },
   {
    "duration": 18,
    "start_time": "2022-05-07T14:16:16.378Z"
   },
   {
    "duration": 45,
    "start_time": "2022-05-07T14:16:24.557Z"
   },
   {
    "duration": 45,
    "start_time": "2022-05-07T14:16:38.541Z"
   },
   {
    "duration": 49,
    "start_time": "2022-05-07T14:18:39.508Z"
   },
   {
    "duration": 11,
    "start_time": "2022-05-07T14:18:50.976Z"
   },
   {
    "duration": 8,
    "start_time": "2022-05-07T14:22:08.638Z"
   },
   {
    "duration": 18,
    "start_time": "2022-05-07T14:22:42.205Z"
   },
   {
    "duration": 49,
    "start_time": "2022-05-07T14:22:51.430Z"
   },
   {
    "duration": 1875,
    "start_time": "2022-05-07T14:22:54.183Z"
   },
   {
    "duration": 3,
    "start_time": "2022-05-07T14:23:12.865Z"
   },
   {
    "duration": 323,
    "start_time": "2022-05-07T14:23:12.870Z"
   },
   {
    "duration": 7,
    "start_time": "2022-05-07T14:23:13.194Z"
   },
   {
    "duration": 29,
    "start_time": "2022-05-07T14:23:13.203Z"
   },
   {
    "duration": 8,
    "start_time": "2022-05-07T14:23:13.234Z"
   },
   {
    "duration": 37,
    "start_time": "2022-05-07T14:23:13.244Z"
   },
   {
    "duration": 10,
    "start_time": "2022-05-07T14:23:13.282Z"
   },
   {
    "duration": 19,
    "start_time": "2022-05-07T14:23:13.293Z"
   },
   {
    "duration": 8,
    "start_time": "2022-05-07T14:23:13.314Z"
   },
   {
    "duration": 10,
    "start_time": "2022-05-07T14:23:13.323Z"
   },
   {
    "duration": 13,
    "start_time": "2022-05-07T14:23:13.335Z"
   },
   {
    "duration": 14,
    "start_time": "2022-05-07T14:23:13.350Z"
   },
   {
    "duration": 25,
    "start_time": "2022-05-07T14:23:13.366Z"
   },
   {
    "duration": 178,
    "start_time": "2022-05-07T14:23:13.393Z"
   },
   {
    "duration": 5,
    "start_time": "2022-05-07T14:23:13.573Z"
   },
   {
    "duration": 26,
    "start_time": "2022-05-07T14:23:13.580Z"
   },
   {
    "duration": 38,
    "start_time": "2022-05-07T14:23:13.607Z"
   },
   {
    "duration": 5,
    "start_time": "2022-05-07T14:23:13.647Z"
   },
   {
    "duration": 174,
    "start_time": "2022-05-07T14:23:13.654Z"
   },
   {
    "duration": 4,
    "start_time": "2022-05-07T14:23:13.830Z"
   },
   {
    "duration": 26,
    "start_time": "2022-05-07T14:23:13.835Z"
   },
   {
    "duration": 12,
    "start_time": "2022-05-07T14:23:13.863Z"
   },
   {
    "duration": 6,
    "start_time": "2022-05-07T14:23:13.876Z"
   },
   {
    "duration": 31,
    "start_time": "2022-05-07T14:23:13.884Z"
   },
   {
    "duration": 25,
    "start_time": "2022-05-07T14:23:13.916Z"
   },
   {
    "duration": 174,
    "start_time": "2022-05-07T14:23:13.943Z"
   },
   {
    "duration": 7,
    "start_time": "2022-05-07T14:23:14.118Z"
   },
   {
    "duration": 15,
    "start_time": "2022-05-07T14:23:14.126Z"
   },
   {
    "duration": 17,
    "start_time": "2022-05-07T14:23:14.142Z"
   },
   {
    "duration": 73,
    "start_time": "2022-05-07T14:23:14.160Z"
   },
   {
    "duration": 61,
    "start_time": "2022-05-07T14:23:14.234Z"
   },
   {
    "duration": 46,
    "start_time": "2022-05-07T14:23:14.297Z"
   },
   {
    "duration": 33,
    "start_time": "2022-05-07T14:23:14.345Z"
   },
   {
    "duration": 2144,
    "start_time": "2022-05-07T14:23:14.380Z"
   },
   {
    "duration": 0,
    "start_time": "2022-05-07T14:23:16.526Z"
   },
   {
    "duration": 0,
    "start_time": "2022-05-07T14:23:16.527Z"
   },
   {
    "duration": 0,
    "start_time": "2022-05-07T14:23:16.528Z"
   },
   {
    "duration": 0,
    "start_time": "2022-05-07T14:23:16.529Z"
   },
   {
    "duration": 0,
    "start_time": "2022-05-07T14:23:16.530Z"
   },
   {
    "duration": 0,
    "start_time": "2022-05-07T14:23:16.530Z"
   },
   {
    "duration": 0,
    "start_time": "2022-05-07T14:23:16.531Z"
   },
   {
    "duration": 0,
    "start_time": "2022-05-07T14:23:16.532Z"
   },
   {
    "duration": 0,
    "start_time": "2022-05-07T14:23:16.533Z"
   },
   {
    "duration": 0,
    "start_time": "2022-05-07T14:23:16.533Z"
   },
   {
    "duration": 0,
    "start_time": "2022-05-07T14:23:16.535Z"
   },
   {
    "duration": 0,
    "start_time": "2022-05-07T14:23:16.535Z"
   },
   {
    "duration": 0,
    "start_time": "2022-05-07T14:23:16.536Z"
   },
   {
    "duration": 81,
    "start_time": "2022-05-07T14:23:43.549Z"
   },
   {
    "duration": 1872,
    "start_time": "2022-05-07T14:23:49.374Z"
   },
   {
    "duration": 6,
    "start_time": "2022-05-07T14:25:05.110Z"
   },
   {
    "duration": 4,
    "start_time": "2022-05-07T14:25:15.740Z"
   },
   {
    "duration": 1956,
    "start_time": "2022-05-07T14:25:44.277Z"
   },
   {
    "duration": 2041,
    "start_time": "2022-05-07T14:25:56.075Z"
   },
   {
    "duration": 4,
    "start_time": "2022-05-07T14:27:08.777Z"
   },
   {
    "duration": 11,
    "start_time": "2022-05-07T14:27:37.083Z"
   },
   {
    "duration": 9,
    "start_time": "2022-05-07T14:28:22.049Z"
   },
   {
    "duration": 3,
    "start_time": "2022-05-07T14:28:48.108Z"
   },
   {
    "duration": 345,
    "start_time": "2022-05-07T14:28:48.112Z"
   },
   {
    "duration": 8,
    "start_time": "2022-05-07T14:28:48.458Z"
   },
   {
    "duration": 24,
    "start_time": "2022-05-07T14:28:48.468Z"
   },
   {
    "duration": 8,
    "start_time": "2022-05-07T14:28:48.494Z"
   },
   {
    "duration": 27,
    "start_time": "2022-05-07T14:28:48.504Z"
   },
   {
    "duration": 7,
    "start_time": "2022-05-07T14:28:48.533Z"
   },
   {
    "duration": 16,
    "start_time": "2022-05-07T14:28:48.542Z"
   },
   {
    "duration": 7,
    "start_time": "2022-05-07T14:28:48.560Z"
   },
   {
    "duration": 11,
    "start_time": "2022-05-07T14:28:48.568Z"
   },
   {
    "duration": 9,
    "start_time": "2022-05-07T14:28:48.581Z"
   },
   {
    "duration": 37,
    "start_time": "2022-05-07T14:28:48.591Z"
   },
   {
    "duration": 24,
    "start_time": "2022-05-07T14:28:48.629Z"
   },
   {
    "duration": 180,
    "start_time": "2022-05-07T14:28:48.654Z"
   },
   {
    "duration": 4,
    "start_time": "2022-05-07T14:28:48.835Z"
   },
   {
    "duration": 22,
    "start_time": "2022-05-07T14:28:48.841Z"
   },
   {
    "duration": 24,
    "start_time": "2022-05-07T14:28:48.864Z"
   },
   {
    "duration": 6,
    "start_time": "2022-05-07T14:28:48.890Z"
   },
   {
    "duration": 197,
    "start_time": "2022-05-07T14:28:48.897Z"
   },
   {
    "duration": 4,
    "start_time": "2022-05-07T14:28:49.096Z"
   },
   {
    "duration": 32,
    "start_time": "2022-05-07T14:28:49.101Z"
   },
   {
    "duration": 14,
    "start_time": "2022-05-07T14:28:49.134Z"
   },
   {
    "duration": 3,
    "start_time": "2022-05-07T14:28:49.150Z"
   },
   {
    "duration": 14,
    "start_time": "2022-05-07T14:28:49.155Z"
   },
   {
    "duration": 13,
    "start_time": "2022-05-07T14:28:49.171Z"
   },
   {
    "duration": 195,
    "start_time": "2022-05-07T14:28:49.186Z"
   },
   {
    "duration": 3,
    "start_time": "2022-05-07T14:28:49.383Z"
   },
   {
    "duration": 6,
    "start_time": "2022-05-07T14:28:49.388Z"
   },
   {
    "duration": 9,
    "start_time": "2022-05-07T14:28:49.397Z"
   },
   {
    "duration": 78,
    "start_time": "2022-05-07T14:28:49.407Z"
   },
   {
    "duration": 73,
    "start_time": "2022-05-07T14:28:49.487Z"
   },
   {
    "duration": 35,
    "start_time": "2022-05-07T14:28:49.562Z"
   },
   {
    "duration": 43,
    "start_time": "2022-05-07T14:28:49.598Z"
   },
   {
    "duration": 53,
    "start_time": "2022-05-07T14:28:49.643Z"
   },
   {
    "duration": 1951,
    "start_time": "2022-05-07T14:28:49.698Z"
   },
   {
    "duration": 0,
    "start_time": "2022-05-07T14:28:51.651Z"
   },
   {
    "duration": 0,
    "start_time": "2022-05-07T14:28:51.652Z"
   },
   {
    "duration": 0,
    "start_time": "2022-05-07T14:28:51.653Z"
   },
   {
    "duration": 0,
    "start_time": "2022-05-07T14:28:51.654Z"
   },
   {
    "duration": 0,
    "start_time": "2022-05-07T14:28:51.655Z"
   },
   {
    "duration": 0,
    "start_time": "2022-05-07T14:28:51.656Z"
   },
   {
    "duration": 0,
    "start_time": "2022-05-07T14:28:51.657Z"
   },
   {
    "duration": 0,
    "start_time": "2022-05-07T14:28:51.658Z"
   },
   {
    "duration": 0,
    "start_time": "2022-05-07T14:28:51.659Z"
   },
   {
    "duration": 0,
    "start_time": "2022-05-07T14:28:51.660Z"
   },
   {
    "duration": 0,
    "start_time": "2022-05-07T14:28:51.661Z"
   },
   {
    "duration": 0,
    "start_time": "2022-05-07T14:28:51.662Z"
   },
   {
    "duration": 1980,
    "start_time": "2022-05-07T14:29:11.138Z"
   },
   {
    "duration": 3,
    "start_time": "2022-05-07T14:29:57.622Z"
   },
   {
    "duration": 340,
    "start_time": "2022-05-07T14:29:57.627Z"
   },
   {
    "duration": 8,
    "start_time": "2022-05-07T14:29:57.969Z"
   },
   {
    "duration": 24,
    "start_time": "2022-05-07T14:29:57.978Z"
   },
   {
    "duration": 8,
    "start_time": "2022-05-07T14:29:58.004Z"
   },
   {
    "duration": 23,
    "start_time": "2022-05-07T14:29:58.014Z"
   },
   {
    "duration": 6,
    "start_time": "2022-05-07T14:29:58.039Z"
   },
   {
    "duration": 19,
    "start_time": "2022-05-07T14:29:58.047Z"
   },
   {
    "duration": 7,
    "start_time": "2022-05-07T14:29:58.068Z"
   },
   {
    "duration": 12,
    "start_time": "2022-05-07T14:29:58.077Z"
   },
   {
    "duration": 35,
    "start_time": "2022-05-07T14:29:58.092Z"
   },
   {
    "duration": 11,
    "start_time": "2022-05-07T14:29:58.129Z"
   },
   {
    "duration": 26,
    "start_time": "2022-05-07T14:29:58.142Z"
   },
   {
    "duration": 192,
    "start_time": "2022-05-07T14:29:58.170Z"
   },
   {
    "duration": 6,
    "start_time": "2022-05-07T14:29:58.364Z"
   },
   {
    "duration": 23,
    "start_time": "2022-05-07T14:29:58.372Z"
   },
   {
    "duration": 49,
    "start_time": "2022-05-07T14:29:58.396Z"
   },
   {
    "duration": 5,
    "start_time": "2022-05-07T14:29:58.447Z"
   },
   {
    "duration": 187,
    "start_time": "2022-05-07T14:29:58.454Z"
   },
   {
    "duration": 4,
    "start_time": "2022-05-07T14:29:58.643Z"
   },
   {
    "duration": 18,
    "start_time": "2022-05-07T14:29:58.649Z"
   },
   {
    "duration": 13,
    "start_time": "2022-05-07T14:29:58.669Z"
   },
   {
    "duration": 4,
    "start_time": "2022-05-07T14:29:58.683Z"
   },
   {
    "duration": 43,
    "start_time": "2022-05-07T14:29:58.689Z"
   },
   {
    "duration": 14,
    "start_time": "2022-05-07T14:29:58.734Z"
   },
   {
    "duration": 192,
    "start_time": "2022-05-07T14:29:58.750Z"
   },
   {
    "duration": 5,
    "start_time": "2022-05-07T14:29:58.944Z"
   },
   {
    "duration": 6,
    "start_time": "2022-05-07T14:29:58.951Z"
   },
   {
    "duration": 6,
    "start_time": "2022-05-07T14:29:58.961Z"
   },
   {
    "duration": 97,
    "start_time": "2022-05-07T14:29:58.969Z"
   },
   {
    "duration": 66,
    "start_time": "2022-05-07T14:29:59.067Z"
   },
   {
    "duration": 37,
    "start_time": "2022-05-07T14:29:59.135Z"
   },
   {
    "duration": 50,
    "start_time": "2022-05-07T14:29:59.173Z"
   },
   {
    "duration": 56,
    "start_time": "2022-05-07T14:29:59.225Z"
   },
   {
    "duration": 65,
    "start_time": "2022-05-07T14:29:59.282Z"
   },
   {
    "duration": 13,
    "start_time": "2022-05-07T14:29:59.349Z"
   },
   {
    "duration": 62,
    "start_time": "2022-05-07T14:29:59.364Z"
   },
   {
    "duration": 55,
    "start_time": "2022-05-07T14:29:59.427Z"
   },
   {
    "duration": 3404,
    "start_time": "2022-05-07T14:29:59.483Z"
   },
   {
    "duration": 10,
    "start_time": "2022-05-07T14:30:02.889Z"
   },
   {
    "duration": 3273,
    "start_time": "2022-05-07T14:30:02.901Z"
   },
   {
    "duration": 7,
    "start_time": "2022-05-07T14:30:06.176Z"
   },
   {
    "duration": 3259,
    "start_time": "2022-05-07T14:30:06.184Z"
   },
   {
    "duration": 7,
    "start_time": "2022-05-07T14:30:09.445Z"
   },
   {
    "duration": 11,
    "start_time": "2022-05-07T14:30:09.453Z"
   },
   {
    "duration": 8,
    "start_time": "2022-05-07T14:30:09.466Z"
   },
   {
    "duration": 10,
    "start_time": "2022-05-07T14:30:09.475Z"
   },
   {
    "duration": 11,
    "start_time": "2022-05-07T14:41:56.530Z"
   },
   {
    "duration": 8,
    "start_time": "2022-05-07T14:42:46.490Z"
   },
   {
    "duration": 5,
    "start_time": "2022-05-07T14:43:16.713Z"
   },
   {
    "duration": 130,
    "start_time": "2022-05-07T14:43:36.417Z"
   },
   {
    "duration": 122,
    "start_time": "2022-05-07T14:43:49.191Z"
   },
   {
    "duration": 3,
    "start_time": "2022-05-07T14:43:57.456Z"
   },
   {
    "duration": 12,
    "start_time": "2022-05-07T14:49:37.469Z"
   },
   {
    "duration": 12,
    "start_time": "2022-05-07T14:50:53.661Z"
   },
   {
    "duration": 7,
    "start_time": "2022-05-07T14:51:27.601Z"
   },
   {
    "duration": 12,
    "start_time": "2022-05-07T14:53:40.097Z"
   },
   {
    "duration": 3,
    "start_time": "2022-05-07T14:55:40.560Z"
   },
   {
    "duration": 326,
    "start_time": "2022-05-07T14:55:40.565Z"
   },
   {
    "duration": 8,
    "start_time": "2022-05-07T14:55:40.893Z"
   },
   {
    "duration": 24,
    "start_time": "2022-05-07T14:55:40.903Z"
   },
   {
    "duration": 8,
    "start_time": "2022-05-07T14:55:40.929Z"
   },
   {
    "duration": 18,
    "start_time": "2022-05-07T14:55:40.938Z"
   },
   {
    "duration": 7,
    "start_time": "2022-05-07T14:55:40.957Z"
   },
   {
    "duration": 18,
    "start_time": "2022-05-07T14:55:40.965Z"
   },
   {
    "duration": 7,
    "start_time": "2022-05-07T14:55:40.984Z"
   },
   {
    "duration": 39,
    "start_time": "2022-05-07T14:55:40.993Z"
   },
   {
    "duration": 12,
    "start_time": "2022-05-07T14:55:41.035Z"
   },
   {
    "duration": 11,
    "start_time": "2022-05-07T14:55:41.048Z"
   },
   {
    "duration": 25,
    "start_time": "2022-05-07T14:55:41.060Z"
   },
   {
    "duration": 208,
    "start_time": "2022-05-07T14:55:41.086Z"
   },
   {
    "duration": 4,
    "start_time": "2022-05-07T14:55:41.295Z"
   },
   {
    "duration": 36,
    "start_time": "2022-05-07T14:55:41.301Z"
   },
   {
    "duration": 25,
    "start_time": "2022-05-07T14:55:41.339Z"
   },
   {
    "duration": 6,
    "start_time": "2022-05-07T14:55:41.366Z"
   },
   {
    "duration": 197,
    "start_time": "2022-05-07T14:55:41.373Z"
   },
   {
    "duration": 4,
    "start_time": "2022-05-07T14:55:41.572Z"
   },
   {
    "duration": 20,
    "start_time": "2022-05-07T14:55:41.578Z"
   },
   {
    "duration": 32,
    "start_time": "2022-05-07T14:55:41.600Z"
   },
   {
    "duration": 4,
    "start_time": "2022-05-07T14:55:41.634Z"
   },
   {
    "duration": 21,
    "start_time": "2022-05-07T14:55:41.639Z"
   },
   {
    "duration": 14,
    "start_time": "2022-05-07T14:55:41.661Z"
   },
   {
    "duration": 198,
    "start_time": "2022-05-07T14:55:41.677Z"
   },
   {
    "duration": 3,
    "start_time": "2022-05-07T14:55:41.877Z"
   },
   {
    "duration": 6,
    "start_time": "2022-05-07T14:55:41.882Z"
   },
   {
    "duration": 6,
    "start_time": "2022-05-07T14:55:41.891Z"
   },
   {
    "duration": 87,
    "start_time": "2022-05-07T14:55:41.898Z"
   },
   {
    "duration": 67,
    "start_time": "2022-05-07T14:55:41.987Z"
   },
   {
    "duration": 37,
    "start_time": "2022-05-07T14:55:42.056Z"
   },
   {
    "duration": 51,
    "start_time": "2022-05-07T14:55:42.094Z"
   },
   {
    "duration": 7,
    "start_time": "2022-05-07T14:55:45.591Z"
   },
   {
    "duration": 22,
    "start_time": "2022-05-07T14:55:47.763Z"
   },
   {
    "duration": 1811,
    "start_time": "2022-05-07T14:58:18.316Z"
   },
   {
    "duration": 17,
    "start_time": "2022-05-07T14:58:26.047Z"
   },
   {
    "duration": 7,
    "start_time": "2022-05-07T14:59:14.171Z"
   },
   {
    "duration": 4960,
    "start_time": "2022-05-07T14:59:16.863Z"
   },
   {
    "duration": 4580,
    "start_time": "2022-05-07T15:00:11.671Z"
   },
   {
    "duration": 12,
    "start_time": "2022-05-07T15:00:26.727Z"
   },
   {
    "duration": 13,
    "start_time": "2022-05-07T15:00:36.373Z"
   },
   {
    "duration": 50,
    "start_time": "2022-05-07T15:01:08.574Z"
   },
   {
    "duration": 16,
    "start_time": "2022-05-07T15:01:14.129Z"
   },
   {
    "duration": 19,
    "start_time": "2022-05-07T15:01:39.693Z"
   },
   {
    "duration": 19,
    "start_time": "2022-05-07T15:02:09.253Z"
   },
   {
    "duration": 20,
    "start_time": "2022-05-07T15:02:24.780Z"
   },
   {
    "duration": 9,
    "start_time": "2022-05-07T15:04:21.364Z"
   },
   {
    "duration": 1181,
    "start_time": "2022-05-07T15:06:00.322Z"
   },
   {
    "duration": 338,
    "start_time": "2022-05-07T15:06:01.505Z"
   },
   {
    "duration": 15,
    "start_time": "2022-05-07T15:06:01.844Z"
   },
   {
    "duration": 42,
    "start_time": "2022-05-07T15:06:01.861Z"
   },
   {
    "duration": 9,
    "start_time": "2022-05-07T15:06:01.905Z"
   },
   {
    "duration": 45,
    "start_time": "2022-05-07T15:06:01.916Z"
   },
   {
    "duration": 7,
    "start_time": "2022-05-07T15:06:01.963Z"
   },
   {
    "duration": 31,
    "start_time": "2022-05-07T15:06:01.972Z"
   },
   {
    "duration": 9,
    "start_time": "2022-05-07T15:06:02.004Z"
   },
   {
    "duration": 12,
    "start_time": "2022-05-07T15:06:02.017Z"
   },
   {
    "duration": 37,
    "start_time": "2022-05-07T15:06:02.031Z"
   },
   {
    "duration": 39,
    "start_time": "2022-05-07T15:06:02.070Z"
   },
   {
    "duration": 48,
    "start_time": "2022-05-07T15:06:02.110Z"
   },
   {
    "duration": 195,
    "start_time": "2022-05-07T15:06:02.160Z"
   },
   {
    "duration": 4,
    "start_time": "2022-05-07T15:06:02.357Z"
   },
   {
    "duration": 39,
    "start_time": "2022-05-07T15:06:02.363Z"
   },
   {
    "duration": 32,
    "start_time": "2022-05-07T15:06:02.404Z"
   },
   {
    "duration": 7,
    "start_time": "2022-05-07T15:06:02.438Z"
   },
   {
    "duration": 193,
    "start_time": "2022-05-07T15:06:02.446Z"
   },
   {
    "duration": 5,
    "start_time": "2022-05-07T15:06:02.640Z"
   },
   {
    "duration": 20,
    "start_time": "2022-05-07T15:06:02.646Z"
   },
   {
    "duration": 14,
    "start_time": "2022-05-07T15:06:02.667Z"
   },
   {
    "duration": 4,
    "start_time": "2022-05-07T15:06:02.682Z"
   },
   {
    "duration": 54,
    "start_time": "2022-05-07T15:06:02.687Z"
   },
   {
    "duration": 14,
    "start_time": "2022-05-07T15:06:02.743Z"
   },
   {
    "duration": 204,
    "start_time": "2022-05-07T15:06:02.759Z"
   },
   {
    "duration": 3,
    "start_time": "2022-05-07T15:06:02.965Z"
   },
   {
    "duration": 3,
    "start_time": "2022-05-07T15:06:02.973Z"
   },
   {
    "duration": 7,
    "start_time": "2022-05-07T15:06:02.978Z"
   },
   {
    "duration": 98,
    "start_time": "2022-05-07T15:06:02.986Z"
   },
   {
    "duration": 79,
    "start_time": "2022-05-07T15:06:03.086Z"
   },
   {
    "duration": 36,
    "start_time": "2022-05-07T15:06:03.167Z"
   },
   {
    "duration": 48,
    "start_time": "2022-05-07T15:06:03.204Z"
   },
   {
    "duration": 7,
    "start_time": "2022-05-07T15:06:03.254Z"
   },
   {
    "duration": 4887,
    "start_time": "2022-05-07T15:06:03.263Z"
   },
   {
    "duration": 4707,
    "start_time": "2022-05-07T15:06:08.152Z"
   },
   {
    "duration": 101,
    "start_time": "2022-05-07T15:06:12.861Z"
   },
   {
    "duration": 0,
    "start_time": "2022-05-07T15:06:12.963Z"
   },
   {
    "duration": 0,
    "start_time": "2022-05-07T15:06:12.964Z"
   },
   {
    "duration": 0,
    "start_time": "2022-05-07T15:06:12.965Z"
   },
   {
    "duration": 0,
    "start_time": "2022-05-07T15:06:12.966Z"
   },
   {
    "duration": 0,
    "start_time": "2022-05-07T15:06:12.968Z"
   },
   {
    "duration": 0,
    "start_time": "2022-05-07T15:06:12.970Z"
   },
   {
    "duration": 0,
    "start_time": "2022-05-07T15:06:12.971Z"
   },
   {
    "duration": 0,
    "start_time": "2022-05-07T15:06:12.972Z"
   },
   {
    "duration": 0,
    "start_time": "2022-05-07T15:06:12.973Z"
   },
   {
    "duration": 0,
    "start_time": "2022-05-07T15:06:12.974Z"
   },
   {
    "duration": 1851,
    "start_time": "2022-05-07T15:06:49.327Z"
   },
   {
    "duration": 1104,
    "start_time": "2022-05-07T15:07:00.562Z"
   },
   {
    "duration": 334,
    "start_time": "2022-05-07T15:07:01.668Z"
   },
   {
    "duration": 11,
    "start_time": "2022-05-07T15:07:02.004Z"
   },
   {
    "duration": 27,
    "start_time": "2022-05-07T15:07:02.017Z"
   },
   {
    "duration": 7,
    "start_time": "2022-05-07T15:07:02.045Z"
   },
   {
    "duration": 20,
    "start_time": "2022-05-07T15:07:02.054Z"
   },
   {
    "duration": 7,
    "start_time": "2022-05-07T15:07:02.075Z"
   },
   {
    "duration": 22,
    "start_time": "2022-05-07T15:07:02.084Z"
   },
   {
    "duration": 8,
    "start_time": "2022-05-07T15:07:02.123Z"
   },
   {
    "duration": 14,
    "start_time": "2022-05-07T15:07:02.134Z"
   },
   {
    "duration": 13,
    "start_time": "2022-05-07T15:07:02.150Z"
   },
   {
    "duration": 17,
    "start_time": "2022-05-07T15:07:02.164Z"
   },
   {
    "duration": 42,
    "start_time": "2022-05-07T15:07:02.182Z"
   },
   {
    "duration": 198,
    "start_time": "2022-05-07T15:07:02.226Z"
   },
   {
    "duration": 4,
    "start_time": "2022-05-07T15:07:02.426Z"
   },
   {
    "duration": 29,
    "start_time": "2022-05-07T15:07:02.432Z"
   },
   {
    "duration": 26,
    "start_time": "2022-05-07T15:07:02.462Z"
   },
   {
    "duration": 6,
    "start_time": "2022-05-07T15:07:02.489Z"
   },
   {
    "duration": 196,
    "start_time": "2022-05-07T15:07:02.497Z"
   },
   {
    "duration": 3,
    "start_time": "2022-05-07T15:07:02.695Z"
   },
   {
    "duration": 36,
    "start_time": "2022-05-07T15:07:02.700Z"
   },
   {
    "duration": 14,
    "start_time": "2022-05-07T15:07:02.739Z"
   },
   {
    "duration": 4,
    "start_time": "2022-05-07T15:07:02.755Z"
   },
   {
    "duration": 15,
    "start_time": "2022-05-07T15:07:02.760Z"
   },
   {
    "duration": 11,
    "start_time": "2022-05-07T15:07:02.777Z"
   },
   {
    "duration": 226,
    "start_time": "2022-05-07T15:07:02.789Z"
   },
   {
    "duration": 10,
    "start_time": "2022-05-07T15:07:03.017Z"
   },
   {
    "duration": 5,
    "start_time": "2022-05-07T15:07:03.030Z"
   },
   {
    "duration": 10,
    "start_time": "2022-05-07T15:07:03.036Z"
   },
   {
    "duration": 88,
    "start_time": "2022-05-07T15:07:03.047Z"
   },
   {
    "duration": 74,
    "start_time": "2022-05-07T15:07:03.137Z"
   },
   {
    "duration": 44,
    "start_time": "2022-05-07T15:07:03.213Z"
   },
   {
    "duration": 35,
    "start_time": "2022-05-07T15:07:03.259Z"
   },
   {
    "duration": 27,
    "start_time": "2022-05-07T15:07:03.296Z"
   },
   {
    "duration": 6444,
    "start_time": "2022-05-07T15:07:03.325Z"
   },
   {
    "duration": 4052,
    "start_time": "2022-05-07T15:07:09.771Z"
   },
   {
    "duration": 1998,
    "start_time": "2022-05-07T15:07:13.825Z"
   },
   {
    "duration": 0,
    "start_time": "2022-05-07T15:07:15.825Z"
   },
   {
    "duration": 0,
    "start_time": "2022-05-07T15:07:15.827Z"
   },
   {
    "duration": 0,
    "start_time": "2022-05-07T15:07:15.828Z"
   },
   {
    "duration": 0,
    "start_time": "2022-05-07T15:07:15.829Z"
   },
   {
    "duration": 0,
    "start_time": "2022-05-07T15:07:15.830Z"
   },
   {
    "duration": 0,
    "start_time": "2022-05-07T15:07:15.832Z"
   },
   {
    "duration": 0,
    "start_time": "2022-05-07T15:07:15.833Z"
   },
   {
    "duration": 0,
    "start_time": "2022-05-07T15:07:15.835Z"
   },
   {
    "duration": 0,
    "start_time": "2022-05-07T15:07:15.836Z"
   },
   {
    "duration": 0,
    "start_time": "2022-05-07T15:07:15.837Z"
   },
   {
    "duration": 10,
    "start_time": "2022-05-07T15:07:49.625Z"
   },
   {
    "duration": 7,
    "start_time": "2022-05-07T15:08:21.091Z"
   },
   {
    "duration": 1083,
    "start_time": "2022-05-07T15:08:35.166Z"
   },
   {
    "duration": 352,
    "start_time": "2022-05-07T15:08:36.250Z"
   },
   {
    "duration": 12,
    "start_time": "2022-05-07T15:08:36.603Z"
   },
   {
    "duration": 29,
    "start_time": "2022-05-07T15:08:36.618Z"
   },
   {
    "duration": 8,
    "start_time": "2022-05-07T15:08:36.648Z"
   },
   {
    "duration": 22,
    "start_time": "2022-05-07T15:08:36.658Z"
   },
   {
    "duration": 7,
    "start_time": "2022-05-07T15:08:36.682Z"
   },
   {
    "duration": 40,
    "start_time": "2022-05-07T15:08:36.691Z"
   },
   {
    "duration": 9,
    "start_time": "2022-05-07T15:08:36.732Z"
   },
   {
    "duration": 11,
    "start_time": "2022-05-07T15:08:36.744Z"
   },
   {
    "duration": 11,
    "start_time": "2022-05-07T15:08:36.757Z"
   },
   {
    "duration": 12,
    "start_time": "2022-05-07T15:08:36.770Z"
   },
   {
    "duration": 55,
    "start_time": "2022-05-07T15:08:36.784Z"
   },
   {
    "duration": 185,
    "start_time": "2022-05-07T15:08:36.841Z"
   },
   {
    "duration": 6,
    "start_time": "2022-05-07T15:08:37.027Z"
   },
   {
    "duration": 24,
    "start_time": "2022-05-07T15:08:37.042Z"
   },
   {
    "duration": 26,
    "start_time": "2022-05-07T15:08:37.068Z"
   },
   {
    "duration": 31,
    "start_time": "2022-05-07T15:08:37.096Z"
   },
   {
    "duration": 181,
    "start_time": "2022-05-07T15:08:37.129Z"
   },
   {
    "duration": 3,
    "start_time": "2022-05-07T15:08:37.312Z"
   },
   {
    "duration": 23,
    "start_time": "2022-05-07T15:08:37.324Z"
   },
   {
    "duration": 14,
    "start_time": "2022-05-07T15:08:37.348Z"
   },
   {
    "duration": 4,
    "start_time": "2022-05-07T15:08:37.363Z"
   },
   {
    "duration": 17,
    "start_time": "2022-05-07T15:08:37.369Z"
   },
   {
    "duration": 55,
    "start_time": "2022-05-07T15:08:37.387Z"
   },
   {
    "duration": 176,
    "start_time": "2022-05-07T15:08:37.443Z"
   },
   {
    "duration": 9,
    "start_time": "2022-05-07T15:08:37.621Z"
   },
   {
    "duration": 13,
    "start_time": "2022-05-07T15:08:37.635Z"
   },
   {
    "duration": 8,
    "start_time": "2022-05-07T15:08:37.649Z"
   },
   {
    "duration": 87,
    "start_time": "2022-05-07T15:08:37.658Z"
   },
   {
    "duration": 79,
    "start_time": "2022-05-07T15:08:37.747Z"
   },
   {
    "duration": 45,
    "start_time": "2022-05-07T15:08:37.828Z"
   },
   {
    "duration": 49,
    "start_time": "2022-05-07T15:08:37.874Z"
   },
   {
    "duration": 8,
    "start_time": "2022-05-07T15:08:37.925Z"
   },
   {
    "duration": 4795,
    "start_time": "2022-05-07T15:08:37.935Z"
   },
   {
    "duration": 4035,
    "start_time": "2022-05-07T15:08:42.732Z"
   },
   {
    "duration": 4932,
    "start_time": "2022-05-07T15:08:46.769Z"
   },
   {
    "duration": 8,
    "start_time": "2022-05-07T15:08:51.703Z"
   },
   {
    "duration": 1423,
    "start_time": "2022-05-07T15:08:51.712Z"
   },
   {
    "duration": 3328,
    "start_time": "2022-05-07T15:08:53.137Z"
   },
   {
    "duration": 7,
    "start_time": "2022-05-07T15:08:56.467Z"
   },
   {
    "duration": 3337,
    "start_time": "2022-05-07T15:08:56.476Z"
   },
   {
    "duration": 15,
    "start_time": "2022-05-07T15:08:59.815Z"
   },
   {
    "duration": 3472,
    "start_time": "2022-05-07T15:08:59.832Z"
   },
   {
    "duration": 9,
    "start_time": "2022-05-07T15:09:03.306Z"
   },
   {
    "duration": 14,
    "start_time": "2022-05-07T15:09:03.324Z"
   },
   {
    "duration": 12,
    "start_time": "2022-05-07T15:09:03.340Z"
   },
   {
    "duration": 10,
    "start_time": "2022-05-07T15:09:03.354Z"
   },
   {
    "duration": 29,
    "start_time": "2022-05-07T15:09:27.306Z"
   },
   {
    "duration": 121,
    "start_time": "2022-05-07T15:16:33.103Z"
   },
   {
    "duration": 12,
    "start_time": "2022-05-07T15:48:08.807Z"
   },
   {
    "duration": 16,
    "start_time": "2022-05-07T15:49:43.853Z"
   },
   {
    "duration": 13,
    "start_time": "2022-05-07T15:51:51.506Z"
   },
   {
    "duration": 13,
    "start_time": "2022-05-07T16:17:06.546Z"
   },
   {
    "duration": 474,
    "start_time": "2022-05-07T16:17:22.392Z"
   },
   {
    "duration": 133,
    "start_time": "2022-05-07T16:17:45.307Z"
   },
   {
    "duration": 155,
    "start_time": "2022-05-07T16:18:12.516Z"
   },
   {
    "duration": 788,
    "start_time": "2022-05-07T16:23:19.179Z"
   },
   {
    "duration": 3861,
    "start_time": "2022-05-07T16:23:48.209Z"
   },
   {
    "duration": 10,
    "start_time": "2022-05-07T16:23:57.045Z"
   },
   {
    "duration": 261,
    "start_time": "2022-05-07T16:24:21.208Z"
   },
   {
    "duration": 133,
    "start_time": "2022-05-07T16:24:57.741Z"
   },
   {
    "duration": 123,
    "start_time": "2022-05-07T16:25:18.772Z"
   },
   {
    "duration": 132,
    "start_time": "2022-05-07T16:28:48.771Z"
   },
   {
    "duration": 139,
    "start_time": "2022-05-07T16:28:53.427Z"
   },
   {
    "duration": 136,
    "start_time": "2022-05-07T16:29:26.088Z"
   },
   {
    "duration": 175,
    "start_time": "2022-05-07T16:30:01.010Z"
   },
   {
    "duration": 136,
    "start_time": "2022-05-07T16:30:30.703Z"
   },
   {
    "duration": 18,
    "start_time": "2022-05-07T16:39:08.701Z"
   },
   {
    "duration": 7,
    "start_time": "2022-05-07T16:43:05.028Z"
   },
   {
    "duration": 28,
    "start_time": "2022-05-07T16:43:10.150Z"
   },
   {
    "duration": 10,
    "start_time": "2022-05-07T16:43:43.328Z"
   },
   {
    "duration": 29,
    "start_time": "2022-05-07T16:44:00.989Z"
   },
   {
    "duration": 15,
    "start_time": "2022-05-07T16:44:34.306Z"
   },
   {
    "duration": 8,
    "start_time": "2022-05-07T16:45:28.310Z"
   },
   {
    "duration": 7,
    "start_time": "2022-05-07T16:45:40.407Z"
   },
   {
    "duration": 101,
    "start_time": "2022-05-07T16:45:43.228Z"
   },
   {
    "duration": 119,
    "start_time": "2022-05-07T16:45:53.529Z"
   },
   {
    "duration": 124,
    "start_time": "2022-05-07T16:46:26.920Z"
   },
   {
    "duration": 192,
    "start_time": "2022-05-07T16:48:19.054Z"
   },
   {
    "duration": 132,
    "start_time": "2022-05-07T16:49:09.944Z"
   },
   {
    "duration": 8,
    "start_time": "2022-05-07T16:50:49.888Z"
   },
   {
    "duration": 15,
    "start_time": "2022-05-07T16:51:00.790Z"
   },
   {
    "duration": 11,
    "start_time": "2022-05-07T16:52:12.942Z"
   },
   {
    "duration": 13,
    "start_time": "2022-05-07T16:52:49.124Z"
   },
   {
    "duration": 18,
    "start_time": "2022-05-07T16:53:55.829Z"
   },
   {
    "duration": 1890,
    "start_time": "2022-05-07T16:54:43.831Z"
   },
   {
    "duration": 1896,
    "start_time": "2022-05-07T16:54:50.750Z"
   },
   {
    "duration": 18,
    "start_time": "2022-05-07T16:54:58.993Z"
   },
   {
    "duration": 6,
    "start_time": "2022-05-07T16:55:15.279Z"
   },
   {
    "duration": 5,
    "start_time": "2022-05-07T16:56:29.541Z"
   },
   {
    "duration": 155,
    "start_time": "2022-05-07T16:57:49.828Z"
   },
   {
    "duration": 137,
    "start_time": "2022-05-07T16:57:53.936Z"
   },
   {
    "duration": 135,
    "start_time": "2022-05-07T17:37:36.959Z"
   },
   {
    "duration": 110,
    "start_time": "2022-05-07T17:52:39.575Z"
   },
   {
    "duration": 135,
    "start_time": "2022-05-07T17:52:43.887Z"
   },
   {
    "duration": 95,
    "start_time": "2022-05-07T17:53:17.349Z"
   },
   {
    "duration": 119,
    "start_time": "2022-05-07T17:53:31.706Z"
   },
   {
    "duration": 119,
    "start_time": "2022-05-07T17:53:43.854Z"
   },
   {
    "duration": 131,
    "start_time": "2022-05-07T17:53:59.553Z"
   },
   {
    "duration": 161,
    "start_time": "2022-05-07T17:54:16.297Z"
   },
   {
    "duration": 122,
    "start_time": "2022-05-07T17:57:23.061Z"
   },
   {
    "duration": 132,
    "start_time": "2022-05-07T17:57:59.994Z"
   },
   {
    "duration": 146,
    "start_time": "2022-05-07T17:58:14.224Z"
   },
   {
    "duration": 238,
    "start_time": "2022-05-07T17:58:18.500Z"
   },
   {
    "duration": 147,
    "start_time": "2022-05-07T17:58:47.156Z"
   },
   {
    "duration": 146,
    "start_time": "2022-05-07T17:58:50.539Z"
   },
   {
    "duration": 138,
    "start_time": "2022-05-07T17:59:16.575Z"
   },
   {
    "duration": 12,
    "start_time": "2022-05-07T17:59:59.000Z"
   },
   {
    "duration": 196,
    "start_time": "2022-05-07T18:02:42.470Z"
   },
   {
    "duration": 1904,
    "start_time": "2022-05-07T18:04:50.380Z"
   },
   {
    "duration": 214,
    "start_time": "2022-05-07T18:05:04.430Z"
   },
   {
    "duration": 147,
    "start_time": "2022-05-07T18:07:01.886Z"
   },
   {
    "duration": 134,
    "start_time": "2022-05-07T18:07:17.661Z"
   },
   {
    "duration": 197,
    "start_time": "2022-05-07T18:08:38.045Z"
   },
   {
    "duration": 3437,
    "start_time": "2022-05-07T18:09:02.649Z"
   },
   {
    "duration": 3240,
    "start_time": "2022-05-07T18:09:16.451Z"
   },
   {
    "duration": 3442,
    "start_time": "2022-05-07T18:09:24.946Z"
   },
   {
    "duration": 9,
    "start_time": "2022-05-07T18:11:23.842Z"
   },
   {
    "duration": 7,
    "start_time": "2022-05-07T18:11:40.820Z"
   },
   {
    "duration": 12,
    "start_time": "2022-05-07T18:12:30.756Z"
   },
   {
    "duration": 3425,
    "start_time": "2022-05-07T18:13:30.306Z"
   },
   {
    "duration": 148,
    "start_time": "2022-05-07T18:15:24.745Z"
   },
   {
    "duration": 12,
    "start_time": "2022-05-07T18:18:17.415Z"
   },
   {
    "duration": 141,
    "start_time": "2022-05-07T18:19:10.884Z"
   },
   {
    "duration": 13,
    "start_time": "2022-05-07T18:22:46.130Z"
   },
   {
    "duration": 161,
    "start_time": "2022-05-07T18:30:57.896Z"
   },
   {
    "duration": 146,
    "start_time": "2022-05-07T18:32:00.568Z"
   },
   {
    "duration": 274,
    "start_time": "2022-05-07T18:34:55.294Z"
   },
   {
    "duration": 256,
    "start_time": "2022-05-07T18:35:39.437Z"
   },
   {
    "duration": 1102,
    "start_time": "2022-05-07T18:46:33.236Z"
   },
   {
    "duration": 361,
    "start_time": "2022-05-07T18:46:34.340Z"
   },
   {
    "duration": 13,
    "start_time": "2022-05-07T18:46:34.703Z"
   },
   {
    "duration": 27,
    "start_time": "2022-05-07T18:46:34.718Z"
   },
   {
    "duration": 10,
    "start_time": "2022-05-07T18:46:34.747Z"
   },
   {
    "duration": 19,
    "start_time": "2022-05-07T18:46:34.759Z"
   },
   {
    "duration": 7,
    "start_time": "2022-05-07T18:46:34.780Z"
   },
   {
    "duration": 38,
    "start_time": "2022-05-07T18:46:34.789Z"
   },
   {
    "duration": 9,
    "start_time": "2022-05-07T18:46:34.829Z"
   },
   {
    "duration": 10,
    "start_time": "2022-05-07T18:46:34.842Z"
   },
   {
    "duration": 12,
    "start_time": "2022-05-07T18:46:34.854Z"
   },
   {
    "duration": 12,
    "start_time": "2022-05-07T18:46:34.867Z"
   },
   {
    "duration": 63,
    "start_time": "2022-05-07T18:46:34.880Z"
   },
   {
    "duration": 197,
    "start_time": "2022-05-07T18:46:34.945Z"
   },
   {
    "duration": 5,
    "start_time": "2022-05-07T18:46:35.143Z"
   },
   {
    "duration": 25,
    "start_time": "2022-05-07T18:46:35.150Z"
   },
   {
    "duration": 27,
    "start_time": "2022-05-07T18:46:35.176Z"
   },
   {
    "duration": 8,
    "start_time": "2022-05-07T18:46:35.224Z"
   },
   {
    "duration": 185,
    "start_time": "2022-05-07T18:46:35.233Z"
   },
   {
    "duration": 5,
    "start_time": "2022-05-07T18:46:35.420Z"
   },
   {
    "duration": 25,
    "start_time": "2022-05-07T18:46:35.427Z"
   },
   {
    "duration": 16,
    "start_time": "2022-05-07T18:46:35.454Z"
   },
   {
    "duration": 4,
    "start_time": "2022-05-07T18:46:35.471Z"
   },
   {
    "duration": 17,
    "start_time": "2022-05-07T18:46:35.477Z"
   },
   {
    "duration": 33,
    "start_time": "2022-05-07T18:46:35.495Z"
   },
   {
    "duration": 186,
    "start_time": "2022-05-07T18:46:35.530Z"
   },
   {
    "duration": 8,
    "start_time": "2022-05-07T18:46:35.718Z"
   },
   {
    "duration": 5,
    "start_time": "2022-05-07T18:46:35.730Z"
   },
   {
    "duration": 8,
    "start_time": "2022-05-07T18:46:35.736Z"
   },
   {
    "duration": 86,
    "start_time": "2022-05-07T18:46:35.746Z"
   },
   {
    "duration": 71,
    "start_time": "2022-05-07T18:46:35.833Z"
   },
   {
    "duration": 48,
    "start_time": "2022-05-07T18:46:35.906Z"
   },
   {
    "duration": 38,
    "start_time": "2022-05-07T18:46:35.956Z"
   },
   {
    "duration": 7,
    "start_time": "2022-05-07T18:46:35.996Z"
   },
   {
    "duration": 4761,
    "start_time": "2022-05-07T18:46:36.005Z"
   },
   {
    "duration": 3930,
    "start_time": "2022-05-07T18:46:40.768Z"
   },
   {
    "duration": 4692,
    "start_time": "2022-05-07T18:46:44.700Z"
   },
   {
    "duration": 2059,
    "start_time": "2022-05-07T18:46:49.394Z"
   },
   {
    "duration": 3172,
    "start_time": "2022-05-07T18:46:51.454Z"
   },
   {
    "duration": 11,
    "start_time": "2022-05-07T18:46:54.628Z"
   },
   {
    "duration": 149,
    "start_time": "2022-05-07T18:46:54.641Z"
   },
   {
    "duration": 12,
    "start_time": "2022-05-07T18:46:54.791Z"
   },
   {
    "duration": 210,
    "start_time": "2022-05-07T18:46:54.804Z"
   },
   {
    "duration": 3229,
    "start_time": "2022-05-07T18:46:55.015Z"
   },
   {
    "duration": 13,
    "start_time": "2022-05-07T18:46:58.246Z"
   },
   {
    "duration": 155,
    "start_time": "2022-05-07T18:46:58.261Z"
   },
   {
    "duration": 18,
    "start_time": "2022-05-07T18:46:58.418Z"
   },
   {
    "duration": 225,
    "start_time": "2022-05-07T18:46:58.438Z"
   },
   {
    "duration": 3279,
    "start_time": "2022-05-07T18:46:58.665Z"
   },
   {
    "duration": 13,
    "start_time": "2022-05-07T18:47:01.946Z"
   },
   {
    "duration": 162,
    "start_time": "2022-05-07T18:47:01.961Z"
   },
   {
    "duration": 15,
    "start_time": "2022-05-07T18:47:02.125Z"
   },
   {
    "duration": 225,
    "start_time": "2022-05-07T18:47:02.142Z"
   },
   {
    "duration": 149,
    "start_time": "2022-05-07T18:47:02.370Z"
   },
   {
    "duration": 10,
    "start_time": "2022-05-07T18:47:02.521Z"
   },
   {
    "duration": 13,
    "start_time": "2022-05-07T18:47:02.532Z"
   },
   {
    "duration": 10,
    "start_time": "2022-05-07T18:47:02.546Z"
   },
   {
    "duration": 1142,
    "start_time": "2022-05-07T18:55:10.503Z"
   },
   {
    "duration": 323,
    "start_time": "2022-05-07T18:55:11.647Z"
   },
   {
    "duration": 12,
    "start_time": "2022-05-07T18:55:11.972Z"
   },
   {
    "duration": 22,
    "start_time": "2022-05-07T18:55:11.985Z"
   },
   {
    "duration": 9,
    "start_time": "2022-05-07T18:55:12.009Z"
   },
   {
    "duration": 20,
    "start_time": "2022-05-07T18:55:12.019Z"
   },
   {
    "duration": 6,
    "start_time": "2022-05-07T18:55:12.041Z"
   },
   {
    "duration": 20,
    "start_time": "2022-05-07T18:55:12.048Z"
   },
   {
    "duration": 8,
    "start_time": "2022-05-07T18:55:12.069Z"
   },
   {
    "duration": 11,
    "start_time": "2022-05-07T18:55:12.079Z"
   },
   {
    "duration": 36,
    "start_time": "2022-05-07T18:55:12.092Z"
   },
   {
    "duration": 21,
    "start_time": "2022-05-07T18:55:12.130Z"
   },
   {
    "duration": 28,
    "start_time": "2022-05-07T18:55:12.153Z"
   },
   {
    "duration": 198,
    "start_time": "2022-05-07T18:55:12.185Z"
   },
   {
    "duration": 6,
    "start_time": "2022-05-07T18:55:12.385Z"
   },
   {
    "duration": 40,
    "start_time": "2022-05-07T18:55:12.393Z"
   },
   {
    "duration": 28,
    "start_time": "2022-05-07T18:55:12.435Z"
   },
   {
    "duration": 7,
    "start_time": "2022-05-07T18:55:12.465Z"
   },
   {
    "duration": 183,
    "start_time": "2022-05-07T18:55:12.474Z"
   },
   {
    "duration": 5,
    "start_time": "2022-05-07T18:55:12.659Z"
   },
   {
    "duration": 20,
    "start_time": "2022-05-07T18:55:12.665Z"
   },
   {
    "duration": 16,
    "start_time": "2022-05-07T18:55:12.686Z"
   },
   {
    "duration": 21,
    "start_time": "2022-05-07T18:55:12.704Z"
   },
   {
    "duration": 16,
    "start_time": "2022-05-07T18:55:12.726Z"
   },
   {
    "duration": 14,
    "start_time": "2022-05-07T18:55:12.744Z"
   },
   {
    "duration": 192,
    "start_time": "2022-05-07T18:55:12.760Z"
   },
   {
    "duration": 4,
    "start_time": "2022-05-07T18:55:12.954Z"
   },
   {
    "duration": 6,
    "start_time": "2022-05-07T18:55:12.959Z"
   },
   {
    "duration": 7,
    "start_time": "2022-05-07T18:55:12.967Z"
   },
   {
    "duration": 85,
    "start_time": "2022-05-07T18:55:12.976Z"
   },
   {
    "duration": 81,
    "start_time": "2022-05-07T18:55:13.063Z"
   },
   {
    "duration": 37,
    "start_time": "2022-05-07T18:55:13.145Z"
   },
   {
    "duration": 51,
    "start_time": "2022-05-07T18:55:13.183Z"
   },
   {
    "duration": 7,
    "start_time": "2022-05-07T18:55:13.235Z"
   },
   {
    "duration": 4725,
    "start_time": "2022-05-07T18:55:13.244Z"
   },
   {
    "duration": 4141,
    "start_time": "2022-05-07T18:55:17.970Z"
   },
   {
    "duration": 4973,
    "start_time": "2022-05-07T18:55:22.114Z"
   },
   {
    "duration": 1259,
    "start_time": "2022-05-07T18:55:27.089Z"
   },
   {
    "duration": 3256,
    "start_time": "2022-05-07T18:55:28.349Z"
   },
   {
    "duration": 22,
    "start_time": "2022-05-07T18:55:31.606Z"
   },
   {
    "duration": 155,
    "start_time": "2022-05-07T18:55:31.631Z"
   },
   {
    "duration": 13,
    "start_time": "2022-05-07T18:55:31.788Z"
   },
   {
    "duration": 236,
    "start_time": "2022-05-07T18:55:31.803Z"
   },
   {
    "duration": 3383,
    "start_time": "2022-05-07T18:55:32.042Z"
   },
   {
    "duration": 13,
    "start_time": "2022-05-07T18:55:35.427Z"
   },
   {
    "duration": 147,
    "start_time": "2022-05-07T18:55:35.441Z"
   },
   {
    "duration": 12,
    "start_time": "2022-05-07T18:55:35.589Z"
   },
   {
    "duration": 209,
    "start_time": "2022-05-07T18:55:35.602Z"
   },
   {
    "duration": 3119,
    "start_time": "2022-05-07T18:55:35.812Z"
   },
   {
    "duration": 11,
    "start_time": "2022-05-07T18:55:38.933Z"
   },
   {
    "duration": 150,
    "start_time": "2022-05-07T18:55:38.946Z"
   },
   {
    "duration": 12,
    "start_time": "2022-05-07T18:55:39.098Z"
   },
   {
    "duration": 213,
    "start_time": "2022-05-07T18:55:39.112Z"
   },
   {
    "duration": 144,
    "start_time": "2022-05-07T18:55:39.326Z"
   },
   {
    "duration": 11,
    "start_time": "2022-05-07T18:55:39.472Z"
   },
   {
    "duration": 10,
    "start_time": "2022-05-07T18:55:39.484Z"
   },
   {
    "duration": 30,
    "start_time": "2022-05-07T18:55:39.496Z"
   },
   {
    "duration": 1028,
    "start_time": "2022-05-08T17:54:10.210Z"
   },
   {
    "duration": 348,
    "start_time": "2022-05-08T17:54:11.240Z"
   },
   {
    "duration": 14,
    "start_time": "2022-05-08T17:54:11.589Z"
   },
   {
    "duration": 25,
    "start_time": "2022-05-08T17:54:11.605Z"
   },
   {
    "duration": 9,
    "start_time": "2022-05-08T17:54:11.631Z"
   },
   {
    "duration": 37,
    "start_time": "2022-05-08T17:54:11.641Z"
   },
   {
    "duration": 7,
    "start_time": "2022-05-08T17:54:11.679Z"
   },
   {
    "duration": 20,
    "start_time": "2022-05-08T17:54:11.688Z"
   },
   {
    "duration": 9,
    "start_time": "2022-05-08T17:54:11.709Z"
   },
   {
    "duration": 13,
    "start_time": "2022-05-08T17:54:11.721Z"
   },
   {
    "duration": 10,
    "start_time": "2022-05-08T17:54:11.736Z"
   },
   {
    "duration": 32,
    "start_time": "2022-05-08T17:54:11.747Z"
   },
   {
    "duration": 29,
    "start_time": "2022-05-08T17:54:11.781Z"
   },
   {
    "duration": 208,
    "start_time": "2022-05-08T17:54:11.811Z"
   },
   {
    "duration": 5,
    "start_time": "2022-05-08T17:54:12.020Z"
   },
   {
    "duration": 27,
    "start_time": "2022-05-08T17:54:12.026Z"
   },
   {
    "duration": 45,
    "start_time": "2022-05-08T17:54:12.055Z"
   },
   {
    "duration": 6,
    "start_time": "2022-05-08T17:54:12.102Z"
   },
   {
    "duration": 198,
    "start_time": "2022-05-08T17:54:12.110Z"
   },
   {
    "duration": 4,
    "start_time": "2022-05-08T17:54:12.310Z"
   },
   {
    "duration": 23,
    "start_time": "2022-05-08T17:54:12.315Z"
   },
   {
    "duration": 13,
    "start_time": "2022-05-08T17:54:12.340Z"
   },
   {
    "duration": 20,
    "start_time": "2022-05-08T17:54:12.355Z"
   },
   {
    "duration": 18,
    "start_time": "2022-05-08T17:54:12.377Z"
   },
   {
    "duration": 21,
    "start_time": "2022-05-08T17:54:12.397Z"
   },
   {
    "duration": 197,
    "start_time": "2022-05-08T17:54:12.420Z"
   },
   {
    "duration": 3,
    "start_time": "2022-05-08T17:54:12.619Z"
   },
   {
    "duration": 4,
    "start_time": "2022-05-08T17:54:12.626Z"
   },
   {
    "duration": 10,
    "start_time": "2022-05-08T17:54:12.631Z"
   },
   {
    "duration": 92,
    "start_time": "2022-05-08T17:54:12.643Z"
   },
   {
    "duration": 79,
    "start_time": "2022-05-08T17:54:12.737Z"
   },
   {
    "duration": 39,
    "start_time": "2022-05-08T17:54:12.817Z"
   },
   {
    "duration": 51,
    "start_time": "2022-05-08T17:54:12.857Z"
   },
   {
    "duration": 7,
    "start_time": "2022-05-08T17:54:12.910Z"
   },
   {
    "duration": 4343,
    "start_time": "2022-05-08T17:54:12.919Z"
   },
   {
    "duration": 3737,
    "start_time": "2022-05-08T17:54:17.264Z"
   },
   {
    "duration": 4404,
    "start_time": "2022-05-08T17:54:21.003Z"
   },
   {
    "duration": 1209,
    "start_time": "2022-05-08T17:54:25.409Z"
   },
   {
    "duration": 3522,
    "start_time": "2022-05-08T17:54:26.619Z"
   },
   {
    "duration": 13,
    "start_time": "2022-05-08T17:54:30.143Z"
   },
   {
    "duration": 165,
    "start_time": "2022-05-08T17:54:30.157Z"
   },
   {
    "duration": 13,
    "start_time": "2022-05-08T17:54:30.323Z"
   },
   {
    "duration": 236,
    "start_time": "2022-05-08T17:54:30.338Z"
   },
   {
    "duration": 3536,
    "start_time": "2022-05-08T17:54:30.576Z"
   },
   {
    "duration": 14,
    "start_time": "2022-05-08T17:54:34.113Z"
   },
   {
    "duration": 157,
    "start_time": "2022-05-08T17:54:34.129Z"
   },
   {
    "duration": 14,
    "start_time": "2022-05-08T17:54:34.288Z"
   },
   {
    "duration": 231,
    "start_time": "2022-05-08T17:54:34.304Z"
   },
   {
    "duration": 3366,
    "start_time": "2022-05-08T17:54:34.537Z"
   },
   {
    "duration": 13,
    "start_time": "2022-05-08T17:54:37.905Z"
   },
   {
    "duration": 183,
    "start_time": "2022-05-08T17:54:37.920Z"
   },
   {
    "duration": 15,
    "start_time": "2022-05-08T17:54:38.105Z"
   },
   {
    "duration": 252,
    "start_time": "2022-05-08T17:54:38.122Z"
   },
   {
    "duration": 158,
    "start_time": "2022-05-08T17:54:38.377Z"
   },
   {
    "duration": 13,
    "start_time": "2022-05-08T17:54:38.537Z"
   },
   {
    "duration": 27,
    "start_time": "2022-05-08T17:54:38.552Z"
   },
   {
    "duration": 11,
    "start_time": "2022-05-08T17:54:38.581Z"
   },
   {
    "duration": 18,
    "start_time": "2022-05-08T18:18:13.177Z"
   }
  ],
  "kernelspec": {
   "display_name": "Python 3 (ipykernel)",
   "language": "python",
   "name": "python3"
  },
  "language_info": {
   "codemirror_mode": {
    "name": "ipython",
    "version": 3
   },
   "file_extension": ".py",
   "mimetype": "text/x-python",
   "name": "python",
   "nbconvert_exporter": "python",
   "pygments_lexer": "ipython3",
   "version": "3.9.12"
  },
  "toc": {
   "base_numbering": 1,
   "nav_menu": {},
   "number_sections": true,
   "sideBar": true,
   "skip_h1_title": true,
   "title_cell": "Оглавление",
   "title_sidebar": "Contents",
   "toc_cell": true,
   "toc_position": {
    "height": "calc(100% - 180px)",
    "left": "10px",
    "top": "150px",
    "width": "289.6px"
   },
   "toc_section_display": true,
   "toc_window_display": true
  }
 },
 "nbformat": 4,
 "nbformat_minor": 2
}
