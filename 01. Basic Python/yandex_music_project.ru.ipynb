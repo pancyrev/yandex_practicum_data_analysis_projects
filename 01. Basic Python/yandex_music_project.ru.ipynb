{
 "cells": [
  {
   "cell_type": "markdown",
   "metadata": {
    "id": "E0vqbgi9ay0H"
   },
   "source": [
    "# Музыка больших городов"
   ]
  },
  {
   "cell_type": "markdown",
   "metadata": {
    "toc": true
   },
   "source": [
    "<h1>Оглавление<span class=\"tocSkip\"></span></h1>\n",
    "<div class=\"toc\"><ul class=\"toc-item\"><li><span><a href=\"#Общая-информация\" data-toc-modified-id=\"Общая-информация-1\"><span class=\"toc-item-num\">1&nbsp;&nbsp;</span>Общая информация</a></span></li><li><span><a href=\"#Обзор-данных\" data-toc-modified-id=\"Обзор-данных-2\"><span class=\"toc-item-num\">2&nbsp;&nbsp;</span>Обзор данных</a></span></li><li><span><a href=\"#Предобработка-данных\" data-toc-modified-id=\"Предобработка-данных-3\"><span class=\"toc-item-num\">3&nbsp;&nbsp;</span>Предобработка данных</a></span><ul class=\"toc-item\"><li><span><a href=\"#Стиль-заголовков\" data-toc-modified-id=\"Стиль-заголовков-3.1\"><span class=\"toc-item-num\">3.1&nbsp;&nbsp;</span>Стиль заголовков</a></span></li><li><span><a href=\"#Пропуски-значений\" data-toc-modified-id=\"Пропуски-значений-3.2\"><span class=\"toc-item-num\">3.2&nbsp;&nbsp;</span>Пропуски значений</a></span></li><li><span><a href=\"#Дубликаты\" data-toc-modified-id=\"Дубликаты-3.3\"><span class=\"toc-item-num\">3.3&nbsp;&nbsp;</span>Дубликаты</a></span></li></ul></li><li><span><a href=\"#Проверка-гипотез\" data-toc-modified-id=\"Проверка-гипотез-4\"><span class=\"toc-item-num\">4&nbsp;&nbsp;</span>Проверка гипотез</a></span><ul class=\"toc-item\"><li><span><a href=\"#Сравнение-поведения-пользователей-двух-столиц\" data-toc-modified-id=\"Сравнение-поведения-пользователей-двух-столиц-4.1\"><span class=\"toc-item-num\">4.1&nbsp;&nbsp;</span>Сравнение поведения пользователей двух столиц</a></span></li><li><span><a href=\"#Музыка-в-начале-и-в-конце-недели\" data-toc-modified-id=\"Музыка-в-начале-и-в-конце-недели-4.2\"><span class=\"toc-item-num\">4.2&nbsp;&nbsp;</span>Музыка в начале и в конце недели</a></span></li><li><span><a href=\"#Жанровые-предпочтения-в-Москве-и-Петербурге\" data-toc-modified-id=\"Жанровые-предпочтения-в-Москве-и-Петербурге-4.3\"><span class=\"toc-item-num\">4.3&nbsp;&nbsp;</span>Жанровые предпочтения в Москве и Петербурге</a></span></li></ul></li><li><span><a href=\"#Итоги-исследования\" data-toc-modified-id=\"Итоги-исследования-5\"><span class=\"toc-item-num\">5&nbsp;&nbsp;</span>Итоги исследования</a></span></li></ul></div>"
   ]
  },
  {
   "cell_type": "markdown",
   "metadata": {},
   "source": [
    "## Общая информация"
   ]
  },
  {
   "cell_type": "markdown",
   "metadata": {},
   "source": [
    "[*Вернуться к оглавлению*](#Оглавление)"
   ]
  },
  {
   "cell_type": "markdown",
   "metadata": {
    "id": "VUC88oWjTJw2"
   },
   "source": [
    "Сравнение Москвы и Петербурга окружено мифами. Например:\n",
    " * Москва — мегаполис, подчинённый жёсткому ритму рабочей недели;\n",
    " * Петербург — культурная столица, со своими вкусами.\n",
    "\n",
    "На данных Яндекс.Музыки вы сравните поведение пользователей двух столиц.\n",
    "\n",
    "**Цель исследования** — проверьте три гипотезы:\n",
    "1. Активность пользователей зависит от дня недели. Причём в Москве и Петербурге это проявляется по-разному.\n",
    "2. В понедельник утром в Москве преобладают одни жанры, а в Петербурге — другие. Так же и вечером пятницы преобладают разные жанры — в зависимости от города. \n",
    "3. Москва и Петербург предпочитают разные жанры музыки. В Москве чаще слушают поп-музыку, в Петербурге — русский рэп.\n",
    "\n",
    "**Ход исследования**\n",
    "\n",
    "Данные о поведении пользователей вы получите из файла `yandex_music_project.csv`. О качестве данных ничего не известно. Поэтому перед проверкой гипотез понадобится обзор данных. \n",
    "\n",
    "Вы проверите данные на ошибки и оцените их влияние на исследование. Затем, на этапе предобработки вы поищете возможность исправить самые критичные ошибки данных.\n",
    " \n",
    "Таким образом, исследование пройдёт в три этапа:\n",
    " 1. Обзор данных.\n",
    " 2. Предобработка данных.\n",
    " 3. Проверка гипотез.\n",
    "\n"
   ]
  },
  {
   "cell_type": "markdown",
   "metadata": {
    "id": "Ml1hmfXC_Zcs"
   },
   "source": [
    "## Обзор данных\n",
    "\n",
    "[*Вернуться к оглавлению*](#Оглавление)\n",
    "\n",
    "Составьте первое представление о данных Яндекс.Музыки.\n",
    "\n",
    "\n"
   ]
  },
  {
   "cell_type": "markdown",
   "metadata": {
    "id": "57eAOGIz_Zcs"
   },
   "source": [
    "Основной инструмент аналитика — `pandas`. Импортируйте эту библиотеку."
   ]
  },
  {
   "cell_type": "code",
   "execution_count": 1,
   "metadata": {
    "id": "AXN7PHPN_Zcs"
   },
   "outputs": [],
   "source": [
    "import pandas as pd"
   ]
  },
  {
   "cell_type": "markdown",
   "metadata": {
    "id": "SG23P8tt_Zcs"
   },
   "source": [
    "Прочитайте файл `yandex_music_project.csv` из папки `/datasets` и сохраните его в переменной `df`:"
   ]
  },
  {
   "cell_type": "code",
   "execution_count": 2,
   "metadata": {
    "id": "fFVu7vqh_Zct"
   },
   "outputs": [],
   "source": [
    "df = pd.read_csv('yandex_music_project.csv')"
   ]
  },
  {
   "cell_type": "markdown",
   "metadata": {
    "id": "rDoOMd3uTqnZ"
   },
   "source": [
    "Выведите на экран первые десять строк таблицы:"
   ]
  },
  {
   "cell_type": "code",
   "execution_count": 3,
   "metadata": {
    "id": "oWTVX3gW_Zct",
    "scrolled": true
   },
   "outputs": [
    {
     "data": {
      "text/html": [
       "<div>\n",
       "<style scoped>\n",
       "    .dataframe tbody tr th:only-of-type {\n",
       "        vertical-align: middle;\n",
       "    }\n",
       "\n",
       "    .dataframe tbody tr th {\n",
       "        vertical-align: top;\n",
       "    }\n",
       "\n",
       "    .dataframe thead th {\n",
       "        text-align: right;\n",
       "    }\n",
       "</style>\n",
       "<table border=\"1\" class=\"dataframe\">\n",
       "  <thead>\n",
       "    <tr style=\"text-align: right;\">\n",
       "      <th></th>\n",
       "      <th>userID</th>\n",
       "      <th>Track</th>\n",
       "      <th>artist</th>\n",
       "      <th>genre</th>\n",
       "      <th>City</th>\n",
       "      <th>time</th>\n",
       "      <th>Day</th>\n",
       "    </tr>\n",
       "  </thead>\n",
       "  <tbody>\n",
       "    <tr>\n",
       "      <th>0</th>\n",
       "      <td>FFB692EC</td>\n",
       "      <td>Kamigata To Boots</td>\n",
       "      <td>The Mass Missile</td>\n",
       "      <td>rock</td>\n",
       "      <td>Saint-Petersburg</td>\n",
       "      <td>20:28:33</td>\n",
       "      <td>Wednesday</td>\n",
       "    </tr>\n",
       "    <tr>\n",
       "      <th>1</th>\n",
       "      <td>55204538</td>\n",
       "      <td>Delayed Because of Accident</td>\n",
       "      <td>Andreas Rönnberg</td>\n",
       "      <td>rock</td>\n",
       "      <td>Moscow</td>\n",
       "      <td>14:07:09</td>\n",
       "      <td>Friday</td>\n",
       "    </tr>\n",
       "    <tr>\n",
       "      <th>2</th>\n",
       "      <td>20EC38</td>\n",
       "      <td>Funiculì funiculà</td>\n",
       "      <td>Mario Lanza</td>\n",
       "      <td>pop</td>\n",
       "      <td>Saint-Petersburg</td>\n",
       "      <td>20:58:07</td>\n",
       "      <td>Wednesday</td>\n",
       "    </tr>\n",
       "    <tr>\n",
       "      <th>3</th>\n",
       "      <td>A3DD03C9</td>\n",
       "      <td>Dragons in the Sunset</td>\n",
       "      <td>Fire + Ice</td>\n",
       "      <td>folk</td>\n",
       "      <td>Saint-Petersburg</td>\n",
       "      <td>08:37:09</td>\n",
       "      <td>Monday</td>\n",
       "    </tr>\n",
       "    <tr>\n",
       "      <th>4</th>\n",
       "      <td>E2DC1FAE</td>\n",
       "      <td>Soul People</td>\n",
       "      <td>Space Echo</td>\n",
       "      <td>dance</td>\n",
       "      <td>Moscow</td>\n",
       "      <td>08:34:34</td>\n",
       "      <td>Monday</td>\n",
       "    </tr>\n",
       "    <tr>\n",
       "      <th>5</th>\n",
       "      <td>842029A1</td>\n",
       "      <td>Преданная</td>\n",
       "      <td>IMPERVTOR</td>\n",
       "      <td>rusrap</td>\n",
       "      <td>Saint-Petersburg</td>\n",
       "      <td>13:09:41</td>\n",
       "      <td>Friday</td>\n",
       "    </tr>\n",
       "    <tr>\n",
       "      <th>6</th>\n",
       "      <td>4CB90AA5</td>\n",
       "      <td>True</td>\n",
       "      <td>Roman Messer</td>\n",
       "      <td>dance</td>\n",
       "      <td>Moscow</td>\n",
       "      <td>13:00:07</td>\n",
       "      <td>Wednesday</td>\n",
       "    </tr>\n",
       "    <tr>\n",
       "      <th>7</th>\n",
       "      <td>F03E1C1F</td>\n",
       "      <td>Feeling This Way</td>\n",
       "      <td>Polina Griffith</td>\n",
       "      <td>dance</td>\n",
       "      <td>Moscow</td>\n",
       "      <td>20:47:49</td>\n",
       "      <td>Wednesday</td>\n",
       "    </tr>\n",
       "    <tr>\n",
       "      <th>8</th>\n",
       "      <td>8FA1D3BE</td>\n",
       "      <td>И вновь продолжается бой</td>\n",
       "      <td>NaN</td>\n",
       "      <td>ruspop</td>\n",
       "      <td>Moscow</td>\n",
       "      <td>09:17:40</td>\n",
       "      <td>Friday</td>\n",
       "    </tr>\n",
       "    <tr>\n",
       "      <th>9</th>\n",
       "      <td>E772D5C0</td>\n",
       "      <td>Pessimist</td>\n",
       "      <td>NaN</td>\n",
       "      <td>dance</td>\n",
       "      <td>Saint-Petersburg</td>\n",
       "      <td>21:20:49</td>\n",
       "      <td>Wednesday</td>\n",
       "    </tr>\n",
       "  </tbody>\n",
       "</table>\n",
       "</div>"
      ],
      "text/plain": [
       "     userID                        Track            artist   genre  \\\n",
       "0  FFB692EC            Kamigata To Boots  The Mass Missile    rock   \n",
       "1  55204538  Delayed Because of Accident  Andreas Rönnberg    rock   \n",
       "2    20EC38            Funiculì funiculà       Mario Lanza     pop   \n",
       "3  A3DD03C9        Dragons in the Sunset        Fire + Ice    folk   \n",
       "4  E2DC1FAE                  Soul People        Space Echo   dance   \n",
       "5  842029A1                    Преданная         IMPERVTOR  rusrap   \n",
       "6  4CB90AA5                         True      Roman Messer   dance   \n",
       "7  F03E1C1F             Feeling This Way   Polina Griffith   dance   \n",
       "8  8FA1D3BE     И вновь продолжается бой               NaN  ruspop   \n",
       "9  E772D5C0                    Pessimist               NaN   dance   \n",
       "\n",
       "             City        time        Day  \n",
       "0  Saint-Petersburg  20:28:33  Wednesday  \n",
       "1            Moscow  14:07:09     Friday  \n",
       "2  Saint-Petersburg  20:58:07  Wednesday  \n",
       "3  Saint-Petersburg  08:37:09     Monday  \n",
       "4            Moscow  08:34:34     Monday  \n",
       "5  Saint-Petersburg  13:09:41     Friday  \n",
       "6            Moscow  13:00:07  Wednesday  \n",
       "7            Moscow  20:47:49  Wednesday  \n",
       "8            Moscow  09:17:40     Friday  \n",
       "9  Saint-Petersburg  21:20:49  Wednesday  "
      ]
     },
     "execution_count": 3,
     "metadata": {},
     "output_type": "execute_result"
    }
   ],
   "source": [
    "df.head(10)"
   ]
  },
  {
   "cell_type": "markdown",
   "metadata": {
    "id": "EO73Kwic_Zct"
   },
   "source": [
    "Одной командой получить общую информацию о таблице:"
   ]
  },
  {
   "cell_type": "code",
   "execution_count": 4,
   "metadata": {
    "id": "DSf2kIb-_Zct"
   },
   "outputs": [
    {
     "name": "stdout",
     "output_type": "stream",
     "text": [
      "<class 'pandas.core.frame.DataFrame'>\n",
      "RangeIndex: 65079 entries, 0 to 65078\n",
      "Data columns (total 7 columns):\n",
      " #   Column    Non-Null Count  Dtype \n",
      "---  ------    --------------  ----- \n",
      " 0     userID  65079 non-null  object\n",
      " 1   Track     63848 non-null  object\n",
      " 2   artist    57876 non-null  object\n",
      " 3   genre     63881 non-null  object\n",
      " 4     City    65079 non-null  object\n",
      " 5   time      65079 non-null  object\n",
      " 6   Day       65079 non-null  object\n",
      "dtypes: object(7)\n",
      "memory usage: 3.5+ MB\n"
     ]
    }
   ],
   "source": [
    "df.info()"
   ]
  },
  {
   "cell_type": "markdown",
   "metadata": {
    "id": "TaQ2Iwbr_Zct"
   },
   "source": [
    "Итак, в таблице семь столбцов. Тип данных во всех столбцах — `object`.\n",
    "\n",
    "Согласно документации к данным:\n",
    "* `userID` — идентификатор пользователя;\n",
    "* `Track` — название трека;  \n",
    "* `artist` — имя исполнителя;\n",
    "* `genre` — название жанра;\n",
    "* `City` — город пользователя;\n",
    "* `time` — время начала прослушивания;\n",
    "* `Day` — день недели.\n",
    "\n",
    "В названиях колонок видны три нарушения стиля:\n",
    "1. Строчные буквы сочетаются с прописными.\n",
    "2. Встречаются пробелы.\n",
    "3. Для имен из нескольких слов рекомендуется использовать \"змеиный_регистр\".\n",
    "\n",
    "\n",
    "\n",
    "Количество значений в столбцах различается. Значит, в данных есть пропущенные значения.\n"
   ]
  },
  {
   "cell_type": "markdown",
   "metadata": {
    "id": "MCB6-dXG_Zct"
   },
   "source": [
    "**Выводы**\n",
    "\n",
    "В каждой строке таблицы — данные о прослушанном треке. Часть колонок описывает саму композицию: название, исполнителя и жанр. Остальные данные рассказывают о пользователе: из какого он города, когда он слушал музыку. \n",
    "\n",
    "Предварительно можно утверждать, что, данных достаточно для проверки гипотез. Но встречаются пропуски в данных, а в названиях колонок — расхождения с хорошим стилем.\n",
    "\n",
    "Чтобы двигаться дальше, нужно устранить проблемы в данных."
   ]
  },
  {
   "cell_type": "markdown",
   "metadata": {
    "id": "SjYF6Ub9_Zct"
   },
   "source": [
    "## Предобработка данных\n",
    "\n",
    "[*Вернуться к оглавлению*](#Оглавление)\n",
    "\n",
    "Исправьте стиль в заголовках столбцов, исключите пропуски. Затем проверьте данные на дубликаты."
   ]
  },
  {
   "cell_type": "markdown",
   "metadata": {
    "id": "dIaKXr29_Zct"
   },
   "source": [
    "### Стиль заголовков\n",
    "\n",
    "[*Вернуться к оглавлению*](#Оглавление)\n",
    "\n",
    "Выведите на экран названия столбцов:"
   ]
  },
  {
   "cell_type": "code",
   "execution_count": 5,
   "metadata": {
    "id": "oKOTdF_Q_Zct"
   },
   "outputs": [
    {
     "data": {
      "text/plain": [
       "Index(['  userID', 'Track', 'artist', 'genre', '  City  ', 'time', 'Day'], dtype='object')"
      ]
     },
     "execution_count": 5,
     "metadata": {},
     "output_type": "execute_result"
    }
   ],
   "source": [
    "df.columns"
   ]
  },
  {
   "cell_type": "markdown",
   "metadata": {
    "id": "zj5534cv_Zct"
   },
   "source": [
    "Приведите названия в соответствие с хорошим стилем:\n",
    "* несколько слов в названии запишите в «змеином_регистре»,\n",
    "* все символы сделайте строчными,\n",
    "* устраните пробелы.\n",
    "\n",
    "Для этого переименуйте колонки так:\n",
    "* `'  userID'` → `'user_id'`;\n",
    "* `'Track'` → `'track'`;\n",
    "* `'  City  '` → `'city'`;\n",
    "* `'Day'` → `'day'`."
   ]
  },
  {
   "cell_type": "code",
   "execution_count": 6,
   "metadata": {
    "id": "ISlFqs5y_Zct"
   },
   "outputs": [],
   "source": [
    "df = df.rename(columns={'  userID': 'user_id', 'Track': 'track', '  City  ': 'city', 'Day': 'day'})"
   ]
  },
  {
   "cell_type": "markdown",
   "metadata": {
    "id": "1dqbh00J_Zct"
   },
   "source": [
    "Проверьте результат. Для этого ещё раз выведите на экран названия столбцов:"
   ]
  },
  {
   "cell_type": "code",
   "execution_count": 7,
   "metadata": {
    "id": "d4NOAmTW_Zct",
    "scrolled": true
   },
   "outputs": [
    {
     "data": {
      "text/plain": [
       "Index(['user_id', 'track', 'artist', 'genre', 'city', 'time', 'day'], dtype='object')"
      ]
     },
     "execution_count": 7,
     "metadata": {},
     "output_type": "execute_result"
    }
   ],
   "source": [
    "df.columns"
   ]
  },
  {
   "cell_type": "markdown",
   "metadata": {
    "id": "5ISfbcfY_Zct"
   },
   "source": [
    "### Пропуски значений  \n",
    "\n",
    "[*Вернуться к оглавлению*](#Оглавление)\n",
    "\n",
    "Сначала посчитайте, сколько в таблице пропущенных значений. Для этого достаточно двух методов `pandas`:"
   ]
  },
  {
   "cell_type": "code",
   "execution_count": 8,
   "metadata": {
    "id": "RskX29qr_Zct",
    "scrolled": true
   },
   "outputs": [
    {
     "data": {
      "text/plain": [
       "user_id       0\n",
       "track      1231\n",
       "artist     7203\n",
       "genre      1198\n",
       "city          0\n",
       "time          0\n",
       "day           0\n",
       "dtype: int64"
      ]
     },
     "execution_count": 8,
     "metadata": {},
     "output_type": "execute_result"
    }
   ],
   "source": [
    "df.isna().sum()"
   ]
  },
  {
   "cell_type": "markdown",
   "metadata": {
    "id": "qubhgnlO_Zct"
   },
   "source": [
    "Не все пропущенные значения влияют на исследование. Так в `track` и `artist` пропуски не важны для вашей работы. Достаточно заменить их явными обозначениями.\n",
    "\n",
    "Но пропуски в `genre` могут помешать сравнению музыкальных вкусов в Москве и Санкт-Петербурге. На практике было бы правильно установить причину пропусков и восстановить данные. Такой возможности нет в учебном проекте. Придётся:\n",
    "* заполнить и эти пропуски явными обозначениями,\n",
    "* оценить, насколько они повредят расчётам. "
   ]
  },
  {
   "cell_type": "markdown",
   "metadata": {
    "id": "fSv2laPA_Zct"
   },
   "source": [
    "Замените пропущенные значения в столбцах `track`, `artist` и `genre` на строку `'unknown'`. Для этого создайте список `columns_to_replace`, переберите его элементы циклом `for` и для каждого столбца выполните замену пропущенных значений:"
   ]
  },
  {
   "cell_type": "code",
   "execution_count": 9,
   "metadata": {
    "id": "KplB5qWs_Zct"
   },
   "outputs": [],
   "source": [
    "columns_to_replace = ['track', 'artist', 'genre']\n",
    "for column in columns_to_replace:\n",
    "    df[column] = df[column].fillna('unknown')"
   ]
  },
  {
   "cell_type": "markdown",
   "metadata": {
    "id": "Ilsm-MZo_Zct"
   },
   "source": [
    "Убедитесь, что в таблице не осталось пропусков. Для этого ещё раз посчитайте пропущенные значения."
   ]
  },
  {
   "cell_type": "code",
   "execution_count": 10,
   "metadata": {
    "id": "Tq4nYRX4_Zct",
    "scrolled": true
   },
   "outputs": [
    {
     "data": {
      "text/plain": [
       "user_id    0\n",
       "track      0\n",
       "artist     0\n",
       "genre      0\n",
       "city       0\n",
       "time       0\n",
       "day        0\n",
       "dtype: int64"
      ]
     },
     "execution_count": 10,
     "metadata": {},
     "output_type": "execute_result"
    }
   ],
   "source": [
    "df.isna().sum()"
   ]
  },
  {
   "cell_type": "markdown",
   "metadata": {
    "id": "BWKRtBJ3_Zct"
   },
   "source": [
    "### Дубликаты\n",
    "\n",
    "[*Вернуться к оглавлению*](#Оглавление)\n",
    "\n",
    "Посчитайте явные дубликаты в таблице одной командой:"
   ]
  },
  {
   "cell_type": "code",
   "execution_count": 11,
   "metadata": {
    "id": "36eES_S0_Zct"
   },
   "outputs": [
    {
     "data": {
      "text/plain": [
       "3826"
      ]
     },
     "execution_count": 11,
     "metadata": {},
     "output_type": "execute_result"
    }
   ],
   "source": [
    "df.duplicated().sum()"
   ]
  },
  {
   "cell_type": "markdown",
   "metadata": {
    "id": "Ot25h6XR_Zct"
   },
   "source": [
    "Вызовите специальный метод `pandas`, чтобы удалить явные дубликаты:"
   ]
  },
  {
   "cell_type": "code",
   "execution_count": 12,
   "metadata": {
    "id": "exFHq6tt_Zct"
   },
   "outputs": [],
   "source": [
    "df = df.drop_duplicates().reset_index(drop=True)"
   ]
  },
  {
   "cell_type": "markdown",
   "metadata": {
    "id": "Im2YwBEG_Zct"
   },
   "source": [
    "Ещё раз посчитайте явные дубликаты в таблице — убедитесь, что полностью от них избавились:"
   ]
  },
  {
   "cell_type": "code",
   "execution_count": 13,
   "metadata": {
    "id": "-8PuNWQ0_Zct",
    "scrolled": true
   },
   "outputs": [
    {
     "data": {
      "text/plain": [
       "0"
      ]
     },
     "execution_count": 13,
     "metadata": {},
     "output_type": "execute_result"
    }
   ],
   "source": [
    "df.duplicated().sum()"
   ]
  },
  {
   "cell_type": "markdown",
   "metadata": {
    "id": "QlFBsxAr_Zct"
   },
   "source": [
    "Теперь избавьтесь от неявных дубликатов в колонке `genre`. Например, название одного и того же жанра может быть записано немного по-разному. Такие ошибки тоже повлияют на результат исследования."
   ]
  },
  {
   "cell_type": "markdown",
   "metadata": {
    "id": "eSjWwsOh_Zct"
   },
   "source": [
    "Выведите на экран список уникальных названий жанров, отсортированный в алфавитном порядке. Для этого:\n",
    "* извлеките нужный столбец датафрейма, \n",
    "* примените к нему метод сортировки,\n",
    "* для отсортированного столбца вызовите метод, который вернёт уникальные значения из столбца."
   ]
  },
  {
   "cell_type": "code",
   "execution_count": 14,
   "metadata": {
    "id": "JIUcqzZN_Zct",
    "scrolled": true
   },
   "outputs": [
    {
     "data": {
      "text/plain": [
       "array(['acid', 'acoustic', 'action', 'adult', 'africa', 'afrikaans',\n",
       "       'alternative', 'alternativepunk', 'ambient', 'americana',\n",
       "       'animated', 'anime', 'arabesk', 'arabic', 'arena',\n",
       "       'argentinetango', 'art', 'audiobook', 'author', 'avantgarde',\n",
       "       'axé', 'baile', 'balkan', 'beats', 'bigroom', 'black', 'bluegrass',\n",
       "       'blues', 'bollywood', 'bossa', 'brazilian', 'breakbeat', 'breaks',\n",
       "       'broadway', 'cantautori', 'cantopop', 'canzone', 'caribbean',\n",
       "       'caucasian', 'celtic', 'chamber', 'chanson', 'children', 'chill',\n",
       "       'chinese', 'choral', 'christian', 'christmas', 'classical',\n",
       "       'classicmetal', 'club', 'colombian', 'comedy', 'conjazz',\n",
       "       'contemporary', 'country', 'cuban', 'dance', 'dancehall',\n",
       "       'dancepop', 'dark', 'death', 'deep', 'deutschrock', 'deutschspr',\n",
       "       'dirty', 'disco', 'dnb', 'documentary', 'downbeat', 'downtempo',\n",
       "       'drum', 'dub', 'dubstep', 'eastern', 'easy', 'electronic',\n",
       "       'electropop', 'emo', 'entehno', 'epicmetal', 'estrada', 'ethnic',\n",
       "       'eurofolk', 'european', 'experimental', 'extrememetal', 'fado',\n",
       "       'fairytail', 'film', 'fitness', 'flamenco', 'folk', 'folklore',\n",
       "       'folkmetal', 'folkrock', 'folktronica', 'forró', 'frankreich',\n",
       "       'französisch', 'french', 'funk', 'future', 'gangsta', 'garage',\n",
       "       'german', 'ghazal', 'gitarre', 'glitch', 'gospel', 'gothic',\n",
       "       'grime', 'grunge', 'gypsy', 'handsup', \"hard'n'heavy\", 'hardcore',\n",
       "       'hardstyle', 'hardtechno', 'hip', 'hip-hop', 'hiphop',\n",
       "       'historisch', 'holiday', 'hop', 'horror', 'house', 'hymn', 'idm',\n",
       "       'independent', 'indian', 'indie', 'indipop', 'industrial',\n",
       "       'inspirational', 'instrumental', 'international', 'irish', 'jam',\n",
       "       'japanese', 'jazz', 'jewish', 'jpop', 'jungle', 'k-pop',\n",
       "       'karadeniz', 'karaoke', 'kayokyoku', 'korean', 'laiko', 'latin',\n",
       "       'latino', 'leftfield', 'local', 'lounge', 'loungeelectronic',\n",
       "       'lovers', 'malaysian', 'mandopop', 'marschmusik', 'meditative',\n",
       "       'mediterranean', 'melodic', 'metal', 'metalcore', 'mexican',\n",
       "       'middle', 'minimal', 'miscellaneous', 'modern', 'mood', 'mpb',\n",
       "       'muslim', 'native', 'neoklassik', 'neue', 'new', 'newage',\n",
       "       'newwave', 'nu', 'nujazz', 'numetal', 'oceania', 'old', 'opera',\n",
       "       'orchestral', 'other', 'piano', 'podcasts', 'pop', 'popdance',\n",
       "       'popelectronic', 'popeurodance', 'poprussian', 'post',\n",
       "       'posthardcore', 'postrock', 'power', 'progmetal', 'progressive',\n",
       "       'psychedelic', 'punjabi', 'punk', 'quebecois', 'ragga', 'ram',\n",
       "       'rancheras', 'rap', 'rave', 'reggae', 'reggaeton', 'regional',\n",
       "       'relax', 'religious', 'retro', 'rhythm', 'rnb', 'rnr', 'rock',\n",
       "       'rockabilly', 'rockalternative', 'rockindie', 'rockother',\n",
       "       'romance', 'roots', 'ruspop', 'rusrap', 'rusrock', 'russian',\n",
       "       'salsa', 'samba', 'scenic', 'schlager', 'self', 'sertanejo',\n",
       "       'shanson', 'shoegazing', 'showtunes', 'singer', 'ska', 'skarock',\n",
       "       'slow', 'smooth', 'soft', 'soul', 'soulful', 'sound', 'soundtrack',\n",
       "       'southern', 'specialty', 'speech', 'spiritual', 'sport',\n",
       "       'stonerrock', 'surf', 'swing', 'synthpop', 'synthrock',\n",
       "       'sängerportrait', 'tango', 'tanzorchester', 'taraftar', 'tatar',\n",
       "       'tech', 'techno', 'teen', 'thrash', 'top', 'traditional',\n",
       "       'tradjazz', 'trance', 'tribal', 'trip', 'triphop', 'tropical',\n",
       "       'türk', 'türkçe', 'ukrrock', 'unknown', 'urban', 'uzbek',\n",
       "       'variété', 'vi', 'videogame', 'vocal', 'western', 'world',\n",
       "       'worldbeat', 'ïîï', 'электроника'], dtype=object)"
      ]
     },
     "execution_count": 14,
     "metadata": {},
     "output_type": "execute_result"
    }
   ],
   "source": [
    "df['genre'].sort_values().unique()"
   ]
  },
  {
   "cell_type": "markdown",
   "metadata": {
    "id": "qej-Qmuo_Zct"
   },
   "source": [
    "Просмотрите список и найдите неявные дубликаты названия `hiphop`. Это могут быть названия с ошибками или альтернативные названия того же жанра.\n",
    "\n",
    "Вы увидите следующие неявные дубликаты:\n",
    "* *hip*,\n",
    "* *hop*,\n",
    "* *hip-hop*.\n",
    "\n",
    "Чтобы очистить от них таблицу, напишите функцию `replace_wrong_genres()` с двумя параметрами: \n",
    "* `wrong_genres` — список дубликатов,\n",
    "* `correct_genre` — строка с правильным значением.\n",
    "\n",
    "Функция должна исправить колонку `genre` в таблице `df`: заменить каждое значение из списка `wrong_genres` на значение из `correct_genre`."
   ]
  },
  {
   "cell_type": "code",
   "execution_count": 15,
   "metadata": {
    "id": "ErNDkmns_Zct"
   },
   "outputs": [],
   "source": [
    "def replace_wrong_genres(wrong_genres, correct_genre):\n",
    "    for wrong_genre in wrong_genres:\n",
    "        df['genre'] = df['genre'].replace(wrong_genre, correct_genre)"
   ]
  },
  {
   "cell_type": "markdown",
   "metadata": {
    "id": "aDoBJxbA_Zct"
   },
   "source": [
    "Вызовите `replace_wrong_genres()` и передайте ей такие аргументы, чтобы она устранила неявные дубликаты: вместо `hip`, `hop` и `hip-hop` в таблице должно быть значение `hiphop`:"
   ]
  },
  {
   "cell_type": "code",
   "execution_count": 16,
   "metadata": {
    "id": "YN5i2hpmSo09"
   },
   "outputs": [],
   "source": [
    "replace_wrong_genres(['hip', 'hop', 'hip-hop'], 'hiphop')"
   ]
  },
  {
   "cell_type": "markdown",
   "metadata": {
    "id": "zQKF16_RG15m"
   },
   "source": [
    "Проверьте, что заменили неправильные названия:\n",
    "\n",
    "*   hip\n",
    "*   hop\n",
    "*   hip-hop\n",
    "\n",
    "Выведите отсортированный список уникальных значений столбца `genre`:"
   ]
  },
  {
   "cell_type": "code",
   "execution_count": 17,
   "metadata": {
    "id": "wvixALnFG15m",
    "scrolled": true
   },
   "outputs": [
    {
     "data": {
      "text/plain": [
       "array(['acid', 'acoustic', 'action', 'adult', 'africa', 'afrikaans',\n",
       "       'alternative', 'alternativepunk', 'ambient', 'americana',\n",
       "       'animated', 'anime', 'arabesk', 'arabic', 'arena',\n",
       "       'argentinetango', 'art', 'audiobook', 'author', 'avantgarde',\n",
       "       'axé', 'baile', 'balkan', 'beats', 'bigroom', 'black', 'bluegrass',\n",
       "       'blues', 'bollywood', 'bossa', 'brazilian', 'breakbeat', 'breaks',\n",
       "       'broadway', 'cantautori', 'cantopop', 'canzone', 'caribbean',\n",
       "       'caucasian', 'celtic', 'chamber', 'chanson', 'children', 'chill',\n",
       "       'chinese', 'choral', 'christian', 'christmas', 'classical',\n",
       "       'classicmetal', 'club', 'colombian', 'comedy', 'conjazz',\n",
       "       'contemporary', 'country', 'cuban', 'dance', 'dancehall',\n",
       "       'dancepop', 'dark', 'death', 'deep', 'deutschrock', 'deutschspr',\n",
       "       'dirty', 'disco', 'dnb', 'documentary', 'downbeat', 'downtempo',\n",
       "       'drum', 'dub', 'dubstep', 'eastern', 'easy', 'electronic',\n",
       "       'electropop', 'emo', 'entehno', 'epicmetal', 'estrada', 'ethnic',\n",
       "       'eurofolk', 'european', 'experimental', 'extrememetal', 'fado',\n",
       "       'fairytail', 'film', 'fitness', 'flamenco', 'folk', 'folklore',\n",
       "       'folkmetal', 'folkrock', 'folktronica', 'forró', 'frankreich',\n",
       "       'französisch', 'french', 'funk', 'future', 'gangsta', 'garage',\n",
       "       'german', 'ghazal', 'gitarre', 'glitch', 'gospel', 'gothic',\n",
       "       'grime', 'grunge', 'gypsy', 'handsup', \"hard'n'heavy\", 'hardcore',\n",
       "       'hardstyle', 'hardtechno', 'hiphop', 'historisch', 'holiday',\n",
       "       'horror', 'house', 'hymn', 'idm', 'independent', 'indian', 'indie',\n",
       "       'indipop', 'industrial', 'inspirational', 'instrumental',\n",
       "       'international', 'irish', 'jam', 'japanese', 'jazz', 'jewish',\n",
       "       'jpop', 'jungle', 'k-pop', 'karadeniz', 'karaoke', 'kayokyoku',\n",
       "       'korean', 'laiko', 'latin', 'latino', 'leftfield', 'local',\n",
       "       'lounge', 'loungeelectronic', 'lovers', 'malaysian', 'mandopop',\n",
       "       'marschmusik', 'meditative', 'mediterranean', 'melodic', 'metal',\n",
       "       'metalcore', 'mexican', 'middle', 'minimal', 'miscellaneous',\n",
       "       'modern', 'mood', 'mpb', 'muslim', 'native', 'neoklassik', 'neue',\n",
       "       'new', 'newage', 'newwave', 'nu', 'nujazz', 'numetal', 'oceania',\n",
       "       'old', 'opera', 'orchestral', 'other', 'piano', 'podcasts', 'pop',\n",
       "       'popdance', 'popelectronic', 'popeurodance', 'poprussian', 'post',\n",
       "       'posthardcore', 'postrock', 'power', 'progmetal', 'progressive',\n",
       "       'psychedelic', 'punjabi', 'punk', 'quebecois', 'ragga', 'ram',\n",
       "       'rancheras', 'rap', 'rave', 'reggae', 'reggaeton', 'regional',\n",
       "       'relax', 'religious', 'retro', 'rhythm', 'rnb', 'rnr', 'rock',\n",
       "       'rockabilly', 'rockalternative', 'rockindie', 'rockother',\n",
       "       'romance', 'roots', 'ruspop', 'rusrap', 'rusrock', 'russian',\n",
       "       'salsa', 'samba', 'scenic', 'schlager', 'self', 'sertanejo',\n",
       "       'shanson', 'shoegazing', 'showtunes', 'singer', 'ska', 'skarock',\n",
       "       'slow', 'smooth', 'soft', 'soul', 'soulful', 'sound', 'soundtrack',\n",
       "       'southern', 'specialty', 'speech', 'spiritual', 'sport',\n",
       "       'stonerrock', 'surf', 'swing', 'synthpop', 'synthrock',\n",
       "       'sängerportrait', 'tango', 'tanzorchester', 'taraftar', 'tatar',\n",
       "       'tech', 'techno', 'teen', 'thrash', 'top', 'traditional',\n",
       "       'tradjazz', 'trance', 'tribal', 'trip', 'triphop', 'tropical',\n",
       "       'türk', 'türkçe', 'ukrrock', 'unknown', 'urban', 'uzbek',\n",
       "       'variété', 'vi', 'videogame', 'vocal', 'western', 'world',\n",
       "       'worldbeat', 'ïîï', 'электроника'], dtype=object)"
      ]
     },
     "execution_count": 17,
     "metadata": {},
     "output_type": "execute_result"
    }
   ],
   "source": [
    "df['genre'].sort_values().unique()"
   ]
  },
  {
   "cell_type": "markdown",
   "metadata": {
    "id": "jz6a9-7HQUDd"
   },
   "source": [
    "**Выводы**\n",
    "\n",
    "Предобработка обнаружила три проблемы в данных:\n",
    "\n",
    "- нарушения в стиле заголовков,\n",
    "- пропущенные значения,\n",
    "- дубликаты — явные и неявные.\n",
    "\n",
    "Вы исправили заголовки, чтобы упростить работу с таблицей. Без дубликатов исследование станет более точным.\n",
    "\n",
    "Пропущенные значения вы заменили на `'unknown'`. Ещё предстоит увидеть, не повредят ли исследованию пропуски в колонке `genre`.\n",
    "\n",
    "Теперь можно перейти к проверке гипотез. "
   ]
  },
  {
   "cell_type": "markdown",
   "metadata": {
    "id": "WttZHXH0SqKk"
   },
   "source": [
    "## Проверка гипотез"
   ]
  },
  {
   "cell_type": "markdown",
   "metadata": {
    "id": "Im936VVi_Zcu"
   },
   "source": [
    "### Сравнение поведения пользователей двух столиц"
   ]
  },
  {
   "cell_type": "markdown",
   "metadata": {},
   "source": [
    "[*Вернуться к оглавлению*](#Оглавление)"
   ]
  },
  {
   "cell_type": "markdown",
   "metadata": {
    "id": "nwt_MuaL_Zcu"
   },
   "source": [
    "Первая гипотеза утверждает, что пользователи по-разному слушают музыку в Москве и Санкт-Петербурге. Проверьте это предположение по данным о трёх днях недели — понедельнике, среде и пятнице. Для этого:\n",
    "\n",
    "* Разделите пользователей Москвы и Санкт-Петербурга\n",
    "* Сравните, сколько треков послушала каждая группа пользователей в понедельник, среду и пятницу.\n"
   ]
  },
  {
   "cell_type": "markdown",
   "metadata": {
    "id": "8Dw_YMmT_Zcu"
   },
   "source": [
    "Для тренировки сначала выполните каждый из расчётов по отдельности. \n",
    "\n",
    "Оцените активность пользователей в каждом городе. Сгруппируйте данные по городу и посчитайте прослушивания в каждой группе.\n",
    "\n"
   ]
  },
  {
   "cell_type": "code",
   "execution_count": 18,
   "metadata": {
    "id": "0_Qs96oh_Zcu"
   },
   "outputs": [
    {
     "data": {
      "text/plain": [
       "city\n",
       "Moscow              42741\n",
       "Saint-Petersburg    18512\n",
       "Name: city, dtype: int64"
      ]
     },
     "execution_count": 18,
     "metadata": {},
     "output_type": "execute_result"
    }
   ],
   "source": [
    "# Подсчёт прослушиваний в каждом городе\n",
    "df.groupby('city')['city'].count()"
   ]
  },
  {
   "cell_type": "markdown",
   "metadata": {
    "id": "dzli3w8o_Zcu"
   },
   "source": [
    "В Москве прослушиваний больше, чем в Петербурге. Из этого не следует, что московские пользователи чаще слушают музыку. Просто самих пользователей в Москве больше.\n",
    "\n",
    "Теперь сгруппируйте данные по дню недели и подсчитайте прослушивания в понедельник, среду и пятницу. Учтите, что в данных есть информация только о прослушиваниях только за эти дни.\n"
   ]
  },
  {
   "cell_type": "code",
   "execution_count": 19,
   "metadata": {
    "id": "uZMKjiJz_Zcu"
   },
   "outputs": [
    {
     "data": {
      "text/plain": [
       "day\n",
       "Friday       21840\n",
       "Monday       21354\n",
       "Wednesday    18059\n",
       "Name: day, dtype: int64"
      ]
     },
     "execution_count": 19,
     "metadata": {},
     "output_type": "execute_result"
    }
   ],
   "source": [
    "# Подсчёт прослушиваний в каждый из трёх дней\n",
    "df.groupby('day')['day'].count()"
   ]
  },
  {
   "cell_type": "markdown",
   "metadata": {
    "id": "cC2tNrlL_Zcu"
   },
   "source": [
    "В среднем пользователи из двух городов менее активны по средам. Но картина может измениться, если рассмотреть каждый город в отдельности."
   ]
  },
  {
   "cell_type": "markdown",
   "metadata": {
    "id": "POzs8bGa_Zcu"
   },
   "source": [
    "Вы видели, как работает группировка по городу и по дням недели. Теперь напишите функцию, которая объединит два эти расчёта.\n",
    "\n",
    "Создайте функцию `number_tracks()`, которая посчитает прослушивания для заданного дня и города. Ей понадобятся два параметра:\n",
    "* день недели,\n",
    "* название города.\n",
    "\n",
    "В функции сохраните в переменную строки исходной таблицы, у которых значение:\n",
    "  * в колонке `day` равно параметру `day`,\n",
    "  * в колонке `city` равно параметру `city`.\n",
    "\n",
    "Для этого примените последовательную фильтрацию с логической индексацией.\n",
    "\n",
    "Затем посчитайте значения в столбце `user_id` получившейся таблицы. Результат сохраните в новую переменную. Верните эту переменную из функции."
   ]
  },
  {
   "cell_type": "code",
   "execution_count": 20,
   "metadata": {
    "id": "Nz3GdQB1_Zcu"
   },
   "outputs": [],
   "source": [
    "# <создание функции number_tracks()>\n",
    "# Объявляется функция с двумя параметрами: day, city.\n",
    "# В переменной track_list сохраняются те строки таблицы df, для которых \n",
    "# значение в столбце 'day' равно параметру day и одновременно значение\n",
    "# в столбце 'city' равно параметру city (используйте последовательную фильтрацию\n",
    "# с помощью логической индексации).\n",
    "# В переменной track_list_count сохраняется число значений столбца 'user_id',\n",
    "# рассчитанное методом count() для таблицы track_list.\n",
    "# Функция возвращает число - значение track_list_count.\n",
    "\n",
    "# Функция для подсчёта прослушиваний для конкретного города и дня.\n",
    "# С помощью последовательной фильтрации с логической индексацией она \n",
    "# сначала получит из исходной таблицы строки с нужным днём,\n",
    "# затем из результата отфильтрует строки с нужным городом,\n",
    "# методом count() посчитает количество значений в колонке user_id. \n",
    "# Это количество функция вернёт в качестве результата\n",
    "\n",
    "def number_tracks(day, city):\n",
    "    track_list = df[df['day'] == day]\n",
    "    track_list = track_list[track_list['city'] == city]\n",
    "    track_list_count = track_list['user_id'].count()\n",
    "    return track_list_count"
   ]
  },
  {
   "cell_type": "markdown",
   "metadata": {
    "id": "ytf7xFrFJQ2r"
   },
   "source": [
    "Вызовите `number_tracks()` шесть раз, меняя значение параметров — так, чтобы получить данные для каждого города в каждый из трёх дней."
   ]
  },
  {
   "cell_type": "code",
   "execution_count": 21,
   "metadata": {
    "id": "rJcRATNQ_Zcu"
   },
   "outputs": [
    {
     "data": {
      "text/plain": [
       "15740"
      ]
     },
     "execution_count": 21,
     "metadata": {},
     "output_type": "execute_result"
    }
   ],
   "source": [
    "# количество прослушиваний в Москве по понедельникам\n",
    "number_tracks('Monday', 'Moscow')"
   ]
  },
  {
   "cell_type": "code",
   "execution_count": 22,
   "metadata": {
    "id": "hq_ncZ5T_Zcu"
   },
   "outputs": [
    {
     "data": {
      "text/plain": [
       "5614"
      ]
     },
     "execution_count": 22,
     "metadata": {},
     "output_type": "execute_result"
    }
   ],
   "source": [
    "# количество прослушиваний в Санкт-Петербурге по понедельникам\n",
    "number_tracks('Monday', 'Saint-Petersburg')"
   ]
  },
  {
   "cell_type": "code",
   "execution_count": 23,
   "metadata": {
    "id": "_NTy2VPU_Zcu"
   },
   "outputs": [
    {
     "data": {
      "text/plain": [
       "11056"
      ]
     },
     "execution_count": 23,
     "metadata": {},
     "output_type": "execute_result"
    }
   ],
   "source": [
    "# количество прослушиваний в Москве по средам\n",
    "number_tracks('Wednesday', 'Moscow')"
   ]
  },
  {
   "cell_type": "code",
   "execution_count": 24,
   "metadata": {
    "id": "j2y3TAwo_Zcu"
   },
   "outputs": [
    {
     "data": {
      "text/plain": [
       "7003"
      ]
     },
     "execution_count": 24,
     "metadata": {},
     "output_type": "execute_result"
    }
   ],
   "source": [
    "# количество прослушиваний в Санкт-Петербурге по средам\n",
    "number_tracks('Wednesday', 'Saint-Petersburg')"
   ]
  },
  {
   "cell_type": "code",
   "execution_count": 25,
   "metadata": {
    "id": "vYDw5u_K_Zcu"
   },
   "outputs": [
    {
     "data": {
      "text/plain": [
       "15945"
      ]
     },
     "execution_count": 25,
     "metadata": {},
     "output_type": "execute_result"
    }
   ],
   "source": [
    "# количество прослушиваний в Москве по пятницам\n",
    "number_tracks('Friday', 'Moscow')"
   ]
  },
  {
   "cell_type": "code",
   "execution_count": 26,
   "metadata": {
    "id": "8_yzFtW3_Zcu",
    "scrolled": true
   },
   "outputs": [
    {
     "data": {
      "text/plain": [
       "5895"
      ]
     },
     "execution_count": 26,
     "metadata": {},
     "output_type": "execute_result"
    }
   ],
   "source": [
    "# количество прослушиваний в Санкт-Петербурге по пятницам\n",
    "number_tracks('Friday', 'Saint-Petersburg')"
   ]
  },
  {
   "cell_type": "markdown",
   "metadata": {
    "id": "7QXffbO-_Zcu"
   },
   "source": [
    "Создайте c помощью конструктора `pd.DataFrame` таблицу, где\n",
    "* названия колонок — `['city', 'monday', 'wednesday', 'friday']`;\n",
    "* данные — результаты, которые вы получили с помощью `number_tracks`."
   ]
  },
  {
   "cell_type": "code",
   "execution_count": 27,
   "metadata": {
    "id": "APAcLpOr_Zcu"
   },
   "outputs": [
    {
     "data": {
      "text/html": [
       "<div>\n",
       "<style scoped>\n",
       "    .dataframe tbody tr th:only-of-type {\n",
       "        vertical-align: middle;\n",
       "    }\n",
       "\n",
       "    .dataframe tbody tr th {\n",
       "        vertical-align: top;\n",
       "    }\n",
       "\n",
       "    .dataframe thead th {\n",
       "        text-align: right;\n",
       "    }\n",
       "</style>\n",
       "<table border=\"1\" class=\"dataframe\">\n",
       "  <thead>\n",
       "    <tr style=\"text-align: right;\">\n",
       "      <th></th>\n",
       "      <th>city</th>\n",
       "      <th>monday</th>\n",
       "      <th>wednesday</th>\n",
       "      <th>friday</th>\n",
       "    </tr>\n",
       "  </thead>\n",
       "  <tbody>\n",
       "    <tr>\n",
       "      <th>0</th>\n",
       "      <td>Moscow</td>\n",
       "      <td>15740</td>\n",
       "      <td>11056</td>\n",
       "      <td>15945</td>\n",
       "    </tr>\n",
       "    <tr>\n",
       "      <th>1</th>\n",
       "      <td>Saint-Petersburg</td>\n",
       "      <td>5614</td>\n",
       "      <td>7003</td>\n",
       "      <td>5895</td>\n",
       "    </tr>\n",
       "  </tbody>\n",
       "</table>\n",
       "</div>"
      ],
      "text/plain": [
       "               city  monday  wednesday  friday\n",
       "0            Moscow   15740      11056   15945\n",
       "1  Saint-Petersburg    5614       7003    5895"
      ]
     },
     "execution_count": 27,
     "metadata": {},
     "output_type": "execute_result"
    }
   ],
   "source": [
    "# Таблица с результатами\n",
    "data = [\n",
    "    ['Moscow', 15740, 11056, 15945],\n",
    "    ['Saint-Petersburg', 5614, 7003, 5895]\n",
    "]\n",
    "columns = ['city', 'monday', 'wednesday', 'friday']\n",
    "result_table = pd.DataFrame(data=data, columns=columns)\n",
    "result_table"
   ]
  },
  {
   "cell_type": "markdown",
   "metadata": {
    "id": "-EgPIHYu_Zcu"
   },
   "source": [
    "**Выводы**\n",
    "\n",
    "Данные показывают разницу поведения пользователей:\n",
    "\n",
    "- В Москве пик прослушиваний приходится на понедельник и пятницу, а в среду заметен спад.\n",
    "- В Петербурге, наоборот, больше слушают музыку по средам. Активность в понедельник и пятницу здесь почти в равной мере уступает среде.\n",
    "\n",
    "Значит, данные говорят в пользу первой гипотезы."
   ]
  },
  {
   "cell_type": "markdown",
   "metadata": {
    "id": "atZAxtq4_Zcu"
   },
   "source": [
    "### Музыка в начале и в конце недели"
   ]
  },
  {
   "cell_type": "markdown",
   "metadata": {},
   "source": [
    "[*Вернуться к оглавлению*](#Оглавление)"
   ]
  },
  {
   "cell_type": "markdown",
   "metadata": {
    "id": "eXrQqXFH_Zcu"
   },
   "source": [
    "Согласно второй гипотезе, утром в понедельник в Москве преобладают одни жанры, а в Петербурге — другие. Так же и вечером пятницы преобладают разные жанры — в зависимости от города."
   ]
  },
  {
   "cell_type": "markdown",
   "metadata": {
    "id": "S8UcW6Hw_Zcu"
   },
   "source": [
    "Сохраните таблицы с данными в две переменные:\n",
    "* по Москве — в `moscow_general`;\n",
    "* по Санкт-Петербургу — в `spb_general`."
   ]
  },
  {
   "cell_type": "code",
   "execution_count": 28,
   "metadata": {
    "id": "qeaFfM_P_Zcu"
   },
   "outputs": [],
   "source": [
    "# получение таблицы moscow_general из тех строк таблицы df, \n",
    "# для которых значение в столбце 'city' равно 'Moscow'\n",
    "moscow_general = df[df['city'] == 'Moscow']"
   ]
  },
  {
   "cell_type": "code",
   "execution_count": 29,
   "metadata": {
    "id": "ORaVRKto_Zcu"
   },
   "outputs": [],
   "source": [
    "# получение таблицы spb_general из тех строк таблицы df,\n",
    "# для которых значение в столбце 'city' равно 'Saint-Petersburg'\n",
    "spb_general = df[df['city'] == 'Saint-Petersburg']"
   ]
  },
  {
   "cell_type": "markdown",
   "metadata": {
    "id": "MEJV-CX2_Zcu"
   },
   "source": [
    "Создайте функцию `genre_weekday()` с четырьмя параметрами:\n",
    "* таблица (датафрейм) с данными,\n",
    "* день недели,\n",
    "* начальная временная метка в формате 'hh:mm', \n",
    "* последняя временная метка в формате 'hh:mm'.\n",
    "\n",
    "Функция должна вернуть информацию о топ-10 жанров тех треков, которые прослушивали в указанный день, в промежутке между двумя отметками времени."
   ]
  },
  {
   "cell_type": "code",
   "execution_count": 30,
   "metadata": {
    "id": "laJT9BYl_Zcu"
   },
   "outputs": [],
   "source": [
    "# Объявление функции genre_weekday() с параметрами table, day, time1, time2,\n",
    "# которая возвращает информацию о самых популярных жанрах в указанный день в\n",
    "# заданное время:\n",
    "# 1) в переменную genre_df сохраняются те строки переданного датафрейма table, для\n",
    "#    которых одновременно:\n",
    "#    - значение в столбце day равно значению аргумента day\n",
    "#    - значение в столбце time больше значения аргумента time1\n",
    "#    - значение в столбце time меньше значения аргумента time2\n",
    "#    Используйте последовательную фильтрацию с помощью логической индексации.\n",
    "# 2) сгруппировать датафрейм genre_df по столбцу genre, взять один из его\n",
    "#    столбцов и посчитать методом count() количество записей для каждого из\n",
    "#    присутствующих жанров, получившийся Series записать в переменную\n",
    "#    genre_df_count\n",
    "# 3) отсортировать genre_df_count по убыванию встречаемости и сохранить\n",
    "#    в переменную genre_df_sorted\n",
    "# 4) вернуть Series из 10 первых значений genre_df_sorted, это будут топ-10\n",
    "#    популярных жанров (в указанный день, в заданное время)\n",
    "def genre_weekday(table, day, time1, time2):\n",
    "    genre_df = table[table['day'] == day]\n",
    "    genre_df = genre_df[genre_df['time'] > time1]\n",
    "    genre_df = genre_df[genre_df['time'] < time2]\n",
    "    genre_df_count = genre_df.groupby('genre')['user_id'].count()\n",
    "    genre_df_sorted = genre_df_count.sort_values(ascending=False)\n",
    "    return genre_df_sorted.head(10)"
   ]
  },
  {
   "cell_type": "markdown",
   "metadata": {
    "id": "la2s2_PF_Zcu"
   },
   "source": [
    "Cравните результаты функции `genre_weekday()` для Москвы и Санкт-Петербурга в понедельник утром (с 7:00 до 11:00) и в пятницу вечером (с 17:00 до 23:00):"
   ]
  },
  {
   "cell_type": "code",
   "execution_count": 31,
   "metadata": {
    "id": "yz7itPUQ_Zcu"
   },
   "outputs": [
    {
     "data": {
      "text/plain": [
       "genre\n",
       "pop            781\n",
       "dance          549\n",
       "electronic     480\n",
       "rock           474\n",
       "hiphop         286\n",
       "ruspop         186\n",
       "world          181\n",
       "rusrap         175\n",
       "alternative    164\n",
       "unknown        161\n",
       "Name: user_id, dtype: int64"
      ]
     },
     "execution_count": 31,
     "metadata": {},
     "output_type": "execute_result"
    }
   ],
   "source": [
    "# вызов функции для утра понедельника в Москве (вместо df — таблица moscow_general)\n",
    "# объекты, хранящие время, являются строками и сравниваются как строки\n",
    "# пример вызова: genre_weekday(moscow_general, 'Monday', '07:00', '11:00')\n",
    "genre_weekday(moscow_general, 'Monday', '07:00', '11:00')"
   ]
  },
  {
   "cell_type": "code",
   "execution_count": 32,
   "metadata": {
    "id": "kwUcHPdy_Zcu"
   },
   "outputs": [
    {
     "data": {
      "text/plain": [
       "genre\n",
       "pop            218\n",
       "dance          182\n",
       "rock           162\n",
       "electronic     147\n",
       "hiphop          80\n",
       "ruspop          64\n",
       "alternative     58\n",
       "rusrap          55\n",
       "jazz            44\n",
       "classical       40\n",
       "Name: user_id, dtype: int64"
      ]
     },
     "execution_count": 32,
     "metadata": {},
     "output_type": "execute_result"
    }
   ],
   "source": [
    "# вызов функции для утра понедельника в Петербурге (вместо df — таблица spb_general)\n",
    "genre_weekday(spb_general, 'Monday', '07:00', '11:00')"
   ]
  },
  {
   "cell_type": "code",
   "execution_count": 33,
   "metadata": {
    "id": "EzXVRE1o_Zcu"
   },
   "outputs": [
    {
     "data": {
      "text/plain": [
       "genre\n",
       "pop            713\n",
       "rock           517\n",
       "dance          495\n",
       "electronic     482\n",
       "hiphop         273\n",
       "world          208\n",
       "ruspop         170\n",
       "alternative    163\n",
       "classical      163\n",
       "rusrap         142\n",
       "Name: user_id, dtype: int64"
      ]
     },
     "execution_count": 33,
     "metadata": {},
     "output_type": "execute_result"
    }
   ],
   "source": [
    "# вызов функции для вечера пятницы в Москве\n",
    "genre_weekday(moscow_general, 'Friday', '17:00', '23:00')"
   ]
  },
  {
   "cell_type": "code",
   "execution_count": 34,
   "metadata": {
    "id": "JZaEKu5v_Zcu",
    "scrolled": true
   },
   "outputs": [
    {
     "data": {
      "text/plain": [
       "genre\n",
       "pop            256\n",
       "electronic     216\n",
       "rock           216\n",
       "dance          210\n",
       "hiphop          97\n",
       "alternative     63\n",
       "jazz            61\n",
       "classical       60\n",
       "rusrap          59\n",
       "world           54\n",
       "Name: user_id, dtype: int64"
      ]
     },
     "execution_count": 34,
     "metadata": {},
     "output_type": "execute_result"
    }
   ],
   "source": [
    "# вызов функции для вечера пятницы в Петербурге\n",
    "genre_weekday(spb_general, 'Friday', '17:00', '23:00')"
   ]
  },
  {
   "cell_type": "markdown",
   "metadata": {
    "id": "wrCe4MNX_Zcu"
   },
   "source": [
    "**Выводы**\n",
    "\n",
    "Если сравнить топ-10 жанров в понедельник утром, можно сделать такие выводы:\n",
    "\n",
    "1. В Москве и Петербурге слушают похожую музыку. Единственное отличие — в московский рейтинг вошёл жанр “world”, а в петербургский — джаз и классика.\n",
    "\n",
    "2. В Москве пропущенных значений оказалось так много, что значение `'unknown'` заняло десятое место среди самых популярных жанров. Значит, пропущенные значения занимают существенную долю в данных и угрожают достоверности исследования.\n",
    "\n",
    "Вечер пятницы не меняет эту картину. Некоторые жанры поднимаются немного выше, другие спускаются, но в целом топ-10 остаётся тем же самым.\n",
    "\n",
    "Таким образом, вторая гипотеза подтвердилась лишь частично:\n",
    "* Пользователи слушают похожую музыку в начале недели и в конце.\n",
    "* Разница между Москвой и Петербургом не слишком выражена. В Москве чаще слушают русскую популярную музыку, в Петербурге — джаз.\n",
    "\n",
    "Однако пропуски в данных ставят под сомнение этот результат. В Москве их так много, что рейтинг топ-10 мог бы выглядеть иначе, если бы не утерянные  данные о жанрах."
   ]
  },
  {
   "cell_type": "markdown",
   "metadata": {
    "id": "JolODAqr_Zcu"
   },
   "source": [
    "### Жанровые предпочтения в Москве и Петербурге\n",
    "\n",
    "[*Вернуться к оглавлению*](#Оглавление)\n",
    "\n",
    "Гипотеза: Петербург — столица рэпа, музыку этого жанра там слушают чаще, чем в Москве.  А Москва — город контрастов, в котором, тем не менее, преобладает поп-музыка."
   ]
  },
  {
   "cell_type": "markdown",
   "metadata": {
    "id": "DlegSvaT_Zcu"
   },
   "source": [
    "Сгруппируйте таблицу `moscow_general` по жанру и посчитайте прослушивания треков каждого жанра методом `count()`. Затем отсортируйте результат в порядке убывания и сохраните его в таблице `moscow_genres`."
   ]
  },
  {
   "cell_type": "code",
   "execution_count": 35,
   "metadata": {
    "id": "r19lIPke_Zcu"
   },
   "outputs": [],
   "source": [
    "# одной строкой: группировка таблицы moscow_general по столбцу 'genre', \n",
    "# подсчёт числа значений 'genre' в этой группировке методом count(), \n",
    "# сортировка получившегося Series в порядке убывания и сохранение в moscow_genres\n",
    "moscow_genres = moscow_general.groupby('genre')['user_id'].count().sort_values(ascending=False)"
   ]
  },
  {
   "cell_type": "markdown",
   "metadata": {
    "id": "6kMuomxTiIr8"
   },
   "source": [
    "Выведите на экран первые десять строк `moscow_genres`:"
   ]
  },
  {
   "cell_type": "code",
   "execution_count": 36,
   "metadata": {
    "id": "WhCSooF8_Zcv"
   },
   "outputs": [
    {
     "data": {
      "text/plain": [
       "genre\n",
       "pop            5892\n",
       "dance          4435\n",
       "rock           3965\n",
       "electronic     3786\n",
       "hiphop         2096\n",
       "classical      1616\n",
       "world          1432\n",
       "alternative    1379\n",
       "ruspop         1372\n",
       "rusrap         1161\n",
       "Name: user_id, dtype: int64"
      ]
     },
     "execution_count": 36,
     "metadata": {},
     "output_type": "execute_result"
    }
   ],
   "source": [
    "# просмотр первых 10 строк moscow_genres\n",
    "moscow_genres.head(10)"
   ]
  },
  {
   "cell_type": "markdown",
   "metadata": {
    "id": "cnPG2vnN_Zcv"
   },
   "source": [
    "Теперь повторите то же и для Петербурга.\n",
    "\n",
    "Сгруппируйте таблицу `spb_general` по жанру. Посчитайте прослушивания треков каждого жанра. Результат отсортируйте в порядке убывания и сохраните в таблице `spb_genres`:\n"
   ]
  },
  {
   "cell_type": "code",
   "execution_count": 37,
   "metadata": {
    "id": "gluLIpE7_Zcv"
   },
   "outputs": [],
   "source": [
    "# одной строкой: группировка таблицы spb_general по столбцу 'genre', \n",
    "# подсчёт числа значений 'genre' в этой группировке методом count(), \n",
    "# сортировка получившегося Series в порядке убывания и сохранение в spb_genres\n",
    "spb_genres = spb_general.groupby('genre')['user_id'].count().sort_values(ascending=False)"
   ]
  },
  {
   "cell_type": "markdown",
   "metadata": {
    "id": "5Doha_ODgyQ8"
   },
   "source": [
    "Выведите на экран первые десять строк `spb_genres`:"
   ]
  },
  {
   "cell_type": "code",
   "execution_count": 38,
   "metadata": {
    "id": "uaGJHjVU_Zcv",
    "scrolled": true
   },
   "outputs": [
    {
     "data": {
      "text/plain": [
       "genre\n",
       "pop            2431\n",
       "dance          1932\n",
       "rock           1879\n",
       "electronic     1736\n",
       "hiphop          960\n",
       "alternative     649\n",
       "classical       646\n",
       "rusrap          564\n",
       "ruspop          538\n",
       "world           515\n",
       "Name: user_id, dtype: int64"
      ]
     },
     "execution_count": 38,
     "metadata": {},
     "output_type": "execute_result"
    }
   ],
   "source": [
    "# просмотр первых 10 строк spb_genres\n",
    "spb_genres.head(10)"
   ]
  },
  {
   "cell_type": "markdown",
   "metadata": {
    "id": "RY51YJYu_Zcv"
   },
   "source": [
    "**Выводы**"
   ]
  },
  {
   "cell_type": "markdown",
   "metadata": {
    "id": "nVhnJEm__Zcv"
   },
   "source": [
    "Гипотеза частично подтвердилась:\n",
    "* Поп-музыка — самый популярный жанр в Москве, как и предполагала гипотеза. Более того, в топ-10 жанров встречается близкий жанр — русская популярная музыка.\n",
    "* Вопреки ожиданиям, рэп одинаково популярен в Москве и Петербурге. \n"
   ]
  },
  {
   "cell_type": "markdown",
   "metadata": {
    "id": "ykKQ0N65_Zcv"
   },
   "source": [
    "## Итоги исследования"
   ]
  },
  {
   "cell_type": "markdown",
   "metadata": {},
   "source": [
    "[*Вернуться к оглавлению*](#Оглавление)"
   ]
  },
  {
   "cell_type": "markdown",
   "metadata": {
    "id": "tjUwbHb3_Zcv"
   },
   "source": [
    "Вы проверили три гипотезы и установили:\n",
    "\n",
    "1. День недели по-разному влияет на активность пользователей в Москве и Петербурге. \n",
    "\n",
    "Первая гипотеза полностью подтвердилась.\n",
    "\n",
    "2. Музыкальные предпочтения не сильно меняются в течение недели — будь то Москва или Петербург. Небольшие различия заметны в начале недели, по понедельникам:\n",
    "* в Москве слушают музыку жанра “world”,\n",
    "* в Петербурге — джаз и классику.\n",
    "\n",
    "Таким образом, вторая гипотеза подтвердилась лишь отчасти. Этот результат мог оказаться иным, если бы не пропуски в данных.\n",
    "\n",
    "3. Во вкусах пользователей Москвы и Петербурга больше общего чем различий. Вопреки ожиданиям, предпочтения жанров в Петербурге напоминают московские.\n",
    "\n",
    "Третья гипотеза не подтвердилась. Если различия в предпочтениях и существуют, на основной массе пользователей они незаметны.\n",
    "\n",
    "**На практике исследования содержат проверки статистических гипотез.**\n",
    "Из данных одного сервиса не всегда можно сделать вывод о всех жителях города.\n",
    "Проверки статистических гипотез покажут, насколько они достоверны, исходя из имеющихся данных. \n",
    "С методами проверок гипотез вы ещё познакомитесь в следующих темах."
   ]
  }
 ],
 "metadata": {
  "ExecuteTimeLog": [
   {
    "duration": 47,
    "start_time": "2022-03-20T20:07:11.139Z"
   },
   {
    "duration": 6,
    "start_time": "2022-03-20T20:07:23.419Z"
   },
   {
    "duration": 361,
    "start_time": "2022-03-20T20:07:32.089Z"
   },
   {
    "duration": 158,
    "start_time": "2022-03-20T20:07:43.160Z"
   },
   {
    "duration": 16,
    "start_time": "2022-03-20T20:08:25.459Z"
   },
   {
    "duration": 33,
    "start_time": "2022-03-20T20:08:47.808Z"
   },
   {
    "duration": 4,
    "start_time": "2022-03-20T20:10:28.938Z"
   },
   {
    "duration": 14,
    "start_time": "2022-03-20T20:14:44.419Z"
   },
   {
    "duration": 3,
    "start_time": "2022-03-20T20:14:49.890Z"
   },
   {
    "duration": 31,
    "start_time": "2022-03-20T20:16:27.818Z"
   },
   {
    "duration": 28,
    "start_time": "2022-03-20T20:17:32.011Z"
   },
   {
    "duration": 25,
    "start_time": "2022-03-20T20:24:30.406Z"
   },
   {
    "duration": 18,
    "start_time": "2022-03-20T20:25:46.312Z"
   },
   {
    "duration": 76,
    "start_time": "2022-03-21T13:09:05.706Z"
   },
   {
    "duration": 496,
    "start_time": "2022-03-21T13:09:23.022Z"
   },
   {
    "duration": 295,
    "start_time": "2022-03-21T13:09:23.521Z"
   },
   {
    "duration": 52,
    "start_time": "2022-03-21T13:09:23.820Z"
   },
   {
    "duration": 65,
    "start_time": "2022-03-21T13:09:23.877Z"
   },
   {
    "duration": 23,
    "start_time": "2022-03-21T13:09:23.945Z"
   },
   {
    "duration": 22,
    "start_time": "2022-03-21T13:09:23.971Z"
   },
   {
    "duration": 12,
    "start_time": "2022-03-21T13:09:23.995Z"
   },
   {
    "duration": 76,
    "start_time": "2022-03-21T13:09:24.011Z"
   },
   {
    "duration": 37,
    "start_time": "2022-03-21T13:09:24.090Z"
   },
   {
    "duration": 68,
    "start_time": "2022-03-21T13:09:24.133Z"
   },
   {
    "duration": 4,
    "start_time": "2022-03-21T13:09:24.204Z"
   },
   {
    "duration": 7,
    "start_time": "2022-03-21T13:09:24.210Z"
   },
   {
    "duration": 7,
    "start_time": "2022-03-21T13:09:24.219Z"
   },
   {
    "duration": 7,
    "start_time": "2022-03-21T13:09:24.229Z"
   },
   {
    "duration": 5,
    "start_time": "2022-03-21T13:09:24.269Z"
   },
   {
    "duration": 12,
    "start_time": "2022-03-21T13:09:24.276Z"
   },
   {
    "duration": 6,
    "start_time": "2022-03-21T13:09:24.292Z"
   },
   {
    "duration": 12,
    "start_time": "2022-03-21T13:09:24.300Z"
   },
   {
    "duration": 7,
    "start_time": "2022-03-21T13:09:24.314Z"
   },
   {
    "duration": 9,
    "start_time": "2022-03-21T13:09:24.325Z"
   },
   {
    "duration": 11,
    "start_time": "2022-03-21T13:09:24.337Z"
   },
   {
    "duration": 4,
    "start_time": "2022-03-21T13:09:24.367Z"
   },
   {
    "duration": 10,
    "start_time": "2022-03-21T13:09:24.373Z"
   },
   {
    "duration": 8,
    "start_time": "2022-03-21T13:09:24.385Z"
   },
   {
    "duration": 7,
    "start_time": "2022-03-21T13:09:24.395Z"
   },
   {
    "duration": 11,
    "start_time": "2022-03-21T13:09:24.405Z"
   },
   {
    "duration": 11,
    "start_time": "2022-03-21T13:09:24.418Z"
   },
   {
    "duration": 4,
    "start_time": "2022-03-21T13:09:24.436Z"
   },
   {
    "duration": 26,
    "start_time": "2022-03-21T13:09:24.443Z"
   },
   {
    "duration": 9,
    "start_time": "2022-03-21T13:09:24.472Z"
   },
   {
    "duration": 9,
    "start_time": "2022-03-21T13:09:24.483Z"
   },
   {
    "duration": 6,
    "start_time": "2022-03-21T13:09:24.495Z"
   },
   {
    "duration": 9,
    "start_time": "2022-03-21T13:09:24.504Z"
   },
   {
    "duration": 6,
    "start_time": "2022-03-21T13:09:24.515Z"
   },
   {
    "duration": 8,
    "start_time": "2022-03-21T13:09:24.523Z"
   },
   {
    "duration": 34,
    "start_time": "2022-03-21T13:09:24.533Z"
   },
   {
    "duration": 8,
    "start_time": "2022-03-21T13:09:24.569Z"
   },
   {
    "duration": 10,
    "start_time": "2022-03-21T13:09:24.579Z"
   },
   {
    "duration": 90,
    "start_time": "2022-03-21T13:10:48.650Z"
   },
   {
    "duration": 102,
    "start_time": "2022-03-21T13:15:14.114Z"
   },
   {
    "duration": 107,
    "start_time": "2022-03-21T13:16:43.998Z"
   },
   {
    "duration": 38,
    "start_time": "2022-03-21T13:17:19.116Z"
   },
   {
    "duration": 81,
    "start_time": "2022-03-21T13:17:56.383Z"
   },
   {
    "duration": 14,
    "start_time": "2022-03-21T13:25:28.224Z"
   },
   {
    "duration": 10,
    "start_time": "2022-03-21T13:26:11.547Z"
   },
   {
    "duration": 4,
    "start_time": "2022-03-21T13:31:17.554Z"
   },
   {
    "duration": 13,
    "start_time": "2022-03-21T13:31:20.598Z"
   },
   {
    "duration": 9,
    "start_time": "2022-03-21T13:37:24.190Z"
   },
   {
    "duration": 70,
    "start_time": "2022-03-21T13:58:47.066Z"
   },
   {
    "duration": 21,
    "start_time": "2022-03-21T13:59:30.462Z"
   },
   {
    "duration": 469,
    "start_time": "2022-03-21T14:08:22.003Z"
   },
   {
    "duration": 40,
    "start_time": "2022-03-21T14:08:49.500Z"
   },
   {
    "duration": 442,
    "start_time": "2022-03-21T14:09:09.939Z"
   },
   {
    "duration": 38,
    "start_time": "2022-03-21T14:09:17.107Z"
   },
   {
    "duration": 26,
    "start_time": "2022-03-21T14:09:44.512Z"
   },
   {
    "duration": 106,
    "start_time": "2022-03-21T14:10:07.201Z"
   },
   {
    "duration": 20,
    "start_time": "2022-03-21T14:10:18.343Z"
   },
   {
    "duration": 41,
    "start_time": "2022-03-21T14:11:18.359Z"
   },
   {
    "duration": 106,
    "start_time": "2022-03-21T14:18:29.645Z"
   },
   {
    "duration": 15,
    "start_time": "2022-03-21T14:22:30.843Z"
   },
   {
    "duration": 13,
    "start_time": "2022-03-21T14:22:33.963Z"
   },
   {
    "duration": 22,
    "start_time": "2022-03-21T14:23:20.475Z"
   },
   {
    "duration": 216,
    "start_time": "2022-03-21T14:23:49.139Z"
   },
   {
    "duration": 20,
    "start_time": "2022-03-21T14:24:08.929Z"
   },
   {
    "duration": 141,
    "start_time": "2022-03-21T14:24:56.735Z"
   },
   {
    "duration": 50,
    "start_time": "2022-03-21T16:55:16.550Z"
   },
   {
    "duration": 409,
    "start_time": "2022-03-21T16:55:29.309Z"
   },
   {
    "duration": 910,
    "start_time": "2022-03-21T16:55:29.720Z"
   },
   {
    "duration": 21,
    "start_time": "2022-03-21T16:55:30.634Z"
   },
   {
    "duration": 32,
    "start_time": "2022-03-21T16:55:30.656Z"
   },
   {
    "duration": 4,
    "start_time": "2022-03-21T16:55:30.690Z"
   },
   {
    "duration": 21,
    "start_time": "2022-03-21T16:55:30.695Z"
   },
   {
    "duration": 30,
    "start_time": "2022-03-21T16:55:30.718Z"
   },
   {
    "duration": 39,
    "start_time": "2022-03-21T16:55:30.749Z"
   },
   {
    "duration": 29,
    "start_time": "2022-03-21T16:55:30.790Z"
   },
   {
    "duration": 35,
    "start_time": "2022-03-21T16:55:30.821Z"
   },
   {
    "duration": 67,
    "start_time": "2022-03-21T16:55:30.858Z"
   },
   {
    "duration": 88,
    "start_time": "2022-03-21T16:55:30.931Z"
   },
   {
    "duration": 69,
    "start_time": "2022-03-21T16:55:31.021Z"
   },
   {
    "duration": 8,
    "start_time": "2022-03-21T16:55:31.094Z"
   },
   {
    "duration": 5,
    "start_time": "2022-03-21T16:55:31.104Z"
   },
   {
    "duration": 36,
    "start_time": "2022-03-21T16:55:31.111Z"
   },
   {
    "duration": 17,
    "start_time": "2022-03-21T16:55:31.149Z"
   },
   {
    "duration": 17,
    "start_time": "2022-03-21T16:55:31.167Z"
   },
   {
    "duration": 93,
    "start_time": "2022-03-21T16:55:31.186Z"
   },
   {
    "duration": 3,
    "start_time": "2022-03-21T16:55:31.281Z"
   },
   {
    "duration": 14,
    "start_time": "2022-03-21T16:55:31.286Z"
   },
   {
    "duration": 17,
    "start_time": "2022-03-21T16:55:31.302Z"
   },
   {
    "duration": 11,
    "start_time": "2022-03-21T16:55:31.321Z"
   },
   {
    "duration": 19,
    "start_time": "2022-03-21T16:55:31.336Z"
   },
   {
    "duration": 5,
    "start_time": "2022-03-21T16:55:31.358Z"
   },
   {
    "duration": 10,
    "start_time": "2022-03-21T16:55:31.365Z"
   },
   {
    "duration": 10,
    "start_time": "2022-03-21T16:55:31.377Z"
   },
   {
    "duration": 9,
    "start_time": "2022-03-21T16:55:31.388Z"
   },
   {
    "duration": 9,
    "start_time": "2022-03-21T16:55:31.399Z"
   },
   {
    "duration": 15,
    "start_time": "2022-03-21T16:55:31.410Z"
   },
   {
    "duration": 23,
    "start_time": "2022-03-21T16:55:31.427Z"
   },
   {
    "duration": 12,
    "start_time": "2022-03-21T16:55:31.452Z"
   },
   {
    "duration": 7,
    "start_time": "2022-03-21T16:55:31.466Z"
   },
   {
    "duration": 12,
    "start_time": "2022-03-21T16:55:31.475Z"
   },
   {
    "duration": 10,
    "start_time": "2022-03-21T16:55:31.488Z"
   },
   {
    "duration": 7,
    "start_time": "2022-03-21T16:55:31.500Z"
   },
   {
    "duration": 7,
    "start_time": "2022-03-21T16:55:31.509Z"
   },
   {
    "duration": 8,
    "start_time": "2022-03-21T16:55:31.517Z"
   },
   {
    "duration": 83,
    "start_time": "2022-03-21T16:55:45.279Z"
   },
   {
    "duration": 58,
    "start_time": "2022-03-21T16:56:19.015Z"
   },
   {
    "duration": 4,
    "start_time": "2022-03-21T17:15:47.383Z"
   },
   {
    "duration": 29,
    "start_time": "2022-03-21T17:15:58.877Z"
   },
   {
    "duration": 61,
    "start_time": "2022-03-21T17:18:33.285Z"
   },
   {
    "duration": 29,
    "start_time": "2022-03-21T17:18:39.178Z"
   },
   {
    "duration": 15,
    "start_time": "2022-03-21T17:18:41.254Z"
   },
   {
    "duration": 16,
    "start_time": "2022-03-21T17:18:41.719Z"
   },
   {
    "duration": 14,
    "start_time": "2022-03-21T17:18:42.281Z"
   },
   {
    "duration": 18,
    "start_time": "2022-03-21T17:18:45.496Z"
   },
   {
    "duration": 17,
    "start_time": "2022-03-21T17:18:46.008Z"
   },
   {
    "duration": 27,
    "start_time": "2022-03-21T17:19:48.635Z"
   },
   {
    "duration": 18,
    "start_time": "2022-03-21T17:19:49.148Z"
   },
   {
    "duration": 17,
    "start_time": "2022-03-21T17:19:51.873Z"
   },
   {
    "duration": 22,
    "start_time": "2022-03-21T17:20:05.588Z"
   },
   {
    "duration": 30,
    "start_time": "2022-03-21T17:20:06.024Z"
   },
   {
    "duration": 24,
    "start_time": "2022-03-21T17:20:06.865Z"
   },
   {
    "duration": 37,
    "start_time": "2022-03-21T17:25:21.556Z"
   },
   {
    "duration": 5,
    "start_time": "2022-03-21T17:25:30.036Z"
   },
   {
    "duration": 9,
    "start_time": "2022-03-21T17:25:55.871Z"
   },
   {
    "duration": 9,
    "start_time": "2022-03-21T17:26:02.651Z"
   },
   {
    "duration": 13,
    "start_time": "2022-03-21T17:38:37.967Z"
   },
   {
    "duration": 9,
    "start_time": "2022-03-21T17:38:38.620Z"
   },
   {
    "duration": 49,
    "start_time": "2022-03-21T17:39:42.996Z"
   },
   {
    "duration": 4,
    "start_time": "2022-03-21T18:06:36.740Z"
   },
   {
    "duration": 2973,
    "start_time": "2022-03-21T18:07:26.642Z"
   },
   {
    "duration": 4,
    "start_time": "2022-03-21T18:09:06.465Z"
   },
   {
    "duration": 27,
    "start_time": "2022-03-21T18:09:08.541Z"
   },
   {
    "duration": 4,
    "start_time": "2022-03-21T18:15:13.730Z"
   },
   {
    "duration": 24,
    "start_time": "2022-03-21T18:15:18.141Z"
   },
   {
    "duration": 5,
    "start_time": "2022-03-21T18:22:44.373Z"
   },
   {
    "duration": 26,
    "start_time": "2022-03-21T18:22:47.443Z"
   },
   {
    "duration": 5,
    "start_time": "2022-03-21T18:29:01.978Z"
   },
   {
    "duration": 28,
    "start_time": "2022-03-21T18:29:05.312Z"
   },
   {
    "duration": 14,
    "start_time": "2022-03-21T18:30:07.104Z"
   },
   {
    "duration": 18,
    "start_time": "2022-03-21T18:31:24.239Z"
   },
   {
    "duration": 13,
    "start_time": "2022-03-21T18:31:28.167Z"
   },
   {
    "duration": 14,
    "start_time": "2022-03-21T19:19:06.075Z"
   },
   {
    "duration": 13,
    "start_time": "2022-03-21T19:19:56.802Z"
   },
   {
    "duration": 7,
    "start_time": "2022-03-21T19:22:55.699Z"
   },
   {
    "duration": 6,
    "start_time": "2022-03-21T19:23:15.539Z"
   },
   {
    "duration": 10,
    "start_time": "2022-03-21T19:24:27.826Z"
   },
   {
    "duration": 5,
    "start_time": "2022-03-21T19:25:45.801Z"
   },
   {
    "duration": 4,
    "start_time": "2022-03-21T19:25:49.583Z"
   },
   {
    "duration": 22,
    "start_time": "2022-03-21T19:26:36.255Z"
   },
   {
    "duration": 5,
    "start_time": "2022-03-21T19:27:00.820Z"
   },
   {
    "duration": 5,
    "start_time": "2022-03-21T19:27:02.915Z"
   },
   {
    "duration": 20,
    "start_time": "2022-03-21T19:27:07.170Z"
   },
   {
    "duration": 11,
    "start_time": "2022-03-21T19:27:48.561Z"
   },
   {
    "duration": 21,
    "start_time": "2022-03-21T19:28:08.905Z"
   },
   {
    "duration": 5,
    "start_time": "2022-03-21T19:28:43.193Z"
   },
   {
    "duration": 4,
    "start_time": "2022-03-21T19:31:03.855Z"
   },
   {
    "duration": 5,
    "start_time": "2022-03-21T19:31:07.606Z"
   },
   {
    "duration": 5,
    "start_time": "2022-03-21T19:39:00.964Z"
   },
   {
    "duration": 7,
    "start_time": "2022-03-21T19:39:26.175Z"
   },
   {
    "duration": 12,
    "start_time": "2022-03-21T19:39:40.434Z"
   },
   {
    "duration": 4,
    "start_time": "2022-03-21T19:40:32.072Z"
   },
   {
    "duration": 3,
    "start_time": "2022-03-21T19:42:50.390Z"
   },
   {
    "duration": 212,
    "start_time": "2022-03-21T19:42:50.395Z"
   },
   {
    "duration": 11,
    "start_time": "2022-03-21T19:42:50.610Z"
   },
   {
    "duration": 41,
    "start_time": "2022-03-21T19:42:50.632Z"
   },
   {
    "duration": 20,
    "start_time": "2022-03-21T19:42:50.676Z"
   },
   {
    "duration": 28,
    "start_time": "2022-03-21T19:42:50.698Z"
   },
   {
    "duration": 7,
    "start_time": "2022-03-21T19:42:50.728Z"
   },
   {
    "duration": 39,
    "start_time": "2022-03-21T19:42:50.737Z"
   },
   {
    "duration": 44,
    "start_time": "2022-03-21T19:42:50.778Z"
   },
   {
    "duration": 27,
    "start_time": "2022-03-21T19:42:50.824Z"
   },
   {
    "duration": 74,
    "start_time": "2022-03-21T19:42:50.854Z"
   },
   {
    "duration": 73,
    "start_time": "2022-03-21T19:42:50.930Z"
   },
   {
    "duration": 72,
    "start_time": "2022-03-21T19:42:51.005Z"
   },
   {
    "duration": 6,
    "start_time": "2022-03-21T19:42:51.079Z"
   },
   {
    "duration": 18,
    "start_time": "2022-03-21T19:42:51.087Z"
   },
   {
    "duration": 29,
    "start_time": "2022-03-21T19:42:51.107Z"
   },
   {
    "duration": 30,
    "start_time": "2022-03-21T19:42:51.138Z"
   },
   {
    "duration": 40,
    "start_time": "2022-03-21T19:42:51.170Z"
   },
   {
    "duration": 73,
    "start_time": "2022-03-21T19:42:51.212Z"
   },
   {
    "duration": 4,
    "start_time": "2022-03-21T19:42:51.287Z"
   },
   {
    "duration": 25,
    "start_time": "2022-03-21T19:42:51.292Z"
   },
   {
    "duration": 23,
    "start_time": "2022-03-21T19:42:51.319Z"
   },
   {
    "duration": 16,
    "start_time": "2022-03-21T19:42:51.343Z"
   },
   {
    "duration": 16,
    "start_time": "2022-03-21T19:42:51.361Z"
   },
   {
    "duration": 19,
    "start_time": "2022-03-21T19:42:51.378Z"
   },
   {
    "duration": 46,
    "start_time": "2022-03-21T19:42:51.399Z"
   },
   {
    "duration": 9,
    "start_time": "2022-03-21T19:42:51.447Z"
   },
   {
    "duration": 15,
    "start_time": "2022-03-21T19:42:51.457Z"
   },
   {
    "duration": 10,
    "start_time": "2022-03-21T19:42:51.475Z"
   },
   {
    "duration": 4,
    "start_time": "2022-03-21T19:42:51.487Z"
   },
   {
    "duration": 52,
    "start_time": "2022-03-21T19:42:51.492Z"
   },
   {
    "duration": 13,
    "start_time": "2022-03-21T19:42:51.547Z"
   },
   {
    "duration": 18,
    "start_time": "2022-03-21T19:42:51.561Z"
   },
   {
    "duration": 12,
    "start_time": "2022-03-21T19:42:51.580Z"
   },
   {
    "duration": 38,
    "start_time": "2022-03-21T19:42:51.594Z"
   },
   {
    "duration": 6,
    "start_time": "2022-03-21T19:42:51.634Z"
   },
   {
    "duration": 8,
    "start_time": "2022-03-21T19:42:51.641Z"
   },
   {
    "duration": 4,
    "start_time": "2022-03-21T19:42:51.651Z"
   },
   {
    "duration": 418,
    "start_time": "2022-03-28T21:16:51.012Z"
   },
   {
    "duration": 153,
    "start_time": "2022-03-28T21:16:51.433Z"
   },
   {
    "duration": 23,
    "start_time": "2022-03-28T21:16:51.588Z"
   },
   {
    "duration": 31,
    "start_time": "2022-03-28T21:16:51.614Z"
   },
   {
    "duration": 4,
    "start_time": "2022-03-28T21:16:51.647Z"
   },
   {
    "duration": 13,
    "start_time": "2022-03-28T21:16:51.652Z"
   },
   {
    "duration": 5,
    "start_time": "2022-03-28T21:16:51.667Z"
   },
   {
    "duration": 52,
    "start_time": "2022-03-28T21:16:51.673Z"
   },
   {
    "duration": 18,
    "start_time": "2022-03-28T21:16:51.727Z"
   },
   {
    "duration": 25,
    "start_time": "2022-03-28T21:16:51.748Z"
   },
   {
    "duration": 94,
    "start_time": "2022-03-28T21:16:51.775Z"
   },
   {
    "duration": 87,
    "start_time": "2022-03-28T21:16:51.871Z"
   },
   {
    "duration": 69,
    "start_time": "2022-03-28T21:16:51.960Z"
   },
   {
    "duration": 6,
    "start_time": "2022-03-28T21:16:52.031Z"
   },
   {
    "duration": 4,
    "start_time": "2022-03-28T21:16:52.039Z"
   },
   {
    "duration": 12,
    "start_time": "2022-03-28T21:16:52.044Z"
   },
   {
    "duration": 7,
    "start_time": "2022-03-28T21:16:52.058Z"
   },
   {
    "duration": 10,
    "start_time": "2022-03-28T21:16:52.067Z"
   },
   {
    "duration": 47,
    "start_time": "2022-03-28T21:16:52.108Z"
   },
   {
    "duration": 4,
    "start_time": "2022-03-28T21:16:52.157Z"
   },
   {
    "duration": 21,
    "start_time": "2022-03-28T21:16:52.162Z"
   },
   {
    "duration": 32,
    "start_time": "2022-03-28T21:16:52.184Z"
   },
   {
    "duration": 14,
    "start_time": "2022-03-28T21:16:52.218Z"
   },
   {
    "duration": 14,
    "start_time": "2022-03-28T21:16:52.234Z"
   },
   {
    "duration": 18,
    "start_time": "2022-03-28T21:16:52.250Z"
   },
   {
    "duration": 45,
    "start_time": "2022-03-28T21:16:52.269Z"
   },
   {
    "duration": 8,
    "start_time": "2022-03-28T21:16:52.316Z"
   },
   {
    "duration": 11,
    "start_time": "2022-03-28T21:16:52.328Z"
   },
   {
    "duration": 9,
    "start_time": "2022-03-28T21:16:52.341Z"
   },
   {
    "duration": 4,
    "start_time": "2022-03-28T21:16:52.352Z"
   },
   {
    "duration": 52,
    "start_time": "2022-03-28T21:16:52.358Z"
   },
   {
    "duration": 14,
    "start_time": "2022-03-28T21:16:52.412Z"
   },
   {
    "duration": 17,
    "start_time": "2022-03-28T21:16:52.427Z"
   },
   {
    "duration": 14,
    "start_time": "2022-03-28T21:16:52.446Z"
   },
   {
    "duration": 47,
    "start_time": "2022-03-28T21:16:52.462Z"
   },
   {
    "duration": 5,
    "start_time": "2022-03-28T21:16:52.511Z"
   },
   {
    "duration": 9,
    "start_time": "2022-03-28T21:16:52.518Z"
   },
   {
    "duration": 6,
    "start_time": "2022-03-28T21:16:52.529Z"
   },
   {
    "duration": 62,
    "start_time": "2022-03-28T21:41:40.710Z"
   },
   {
    "duration": 68,
    "start_time": "2022-03-28T22:16:08.379Z"
   },
   {
    "duration": 8,
    "start_time": "2022-03-28T22:16:13.202Z"
   },
   {
    "duration": 505,
    "start_time": "2022-03-28T22:16:32.011Z"
   },
   {
    "duration": 197,
    "start_time": "2022-03-28T22:16:32.519Z"
   },
   {
    "duration": 25,
    "start_time": "2022-03-28T22:16:32.719Z"
   },
   {
    "duration": 66,
    "start_time": "2022-03-28T22:16:32.746Z"
   },
   {
    "duration": 5,
    "start_time": "2022-03-28T22:16:35.641Z"
   },
   {
    "duration": 5,
    "start_time": "2022-03-28T22:16:45.055Z"
   },
   {
    "duration": 4,
    "start_time": "2022-03-28T22:17:08.090Z"
   },
   {
    "duration": 279,
    "start_time": "2022-03-28T22:17:08.097Z"
   },
   {
    "duration": 22,
    "start_time": "2022-03-28T22:17:08.383Z"
   },
   {
    "duration": 65,
    "start_time": "2022-03-28T22:17:08.407Z"
   },
   {
    "duration": 10,
    "start_time": "2022-03-28T22:17:08.475Z"
   },
   {
    "duration": 40,
    "start_time": "2022-03-28T22:17:08.487Z"
   },
   {
    "duration": 5,
    "start_time": "2022-03-28T22:17:10.586Z"
   },
   {
    "duration": 33,
    "start_time": "2022-03-28T22:17:23.162Z"
   },
   {
    "duration": 4,
    "start_time": "2022-03-28T22:18:15.234Z"
   },
   {
    "duration": 208,
    "start_time": "2022-03-28T22:18:15.241Z"
   },
   {
    "duration": 16,
    "start_time": "2022-03-28T22:18:15.451Z"
   },
   {
    "duration": 74,
    "start_time": "2022-03-28T22:18:15.469Z"
   },
   {
    "duration": 7,
    "start_time": "2022-03-28T22:18:15.547Z"
   },
   {
    "duration": 37,
    "start_time": "2022-03-28T22:18:15.556Z"
   },
   {
    "duration": 6,
    "start_time": "2022-03-28T22:18:15.595Z"
   },
   {
    "duration": 35,
    "start_time": "2022-03-28T22:18:15.603Z"
   },
   {
    "duration": 61,
    "start_time": "2022-03-28T22:18:15.640Z"
   },
   {
    "duration": 35,
    "start_time": "2022-03-28T22:18:15.704Z"
   },
   {
    "duration": 125,
    "start_time": "2022-03-28T22:18:15.742Z"
   },
   {
    "duration": 113,
    "start_time": "2022-03-28T22:18:15.869Z"
   },
   {
    "duration": 86,
    "start_time": "2022-03-28T22:18:15.984Z"
   },
   {
    "duration": 16,
    "start_time": "2022-03-28T22:18:18.481Z"
   },
   {
    "duration": 16,
    "start_time": "2022-03-28T22:19:26.746Z"
   },
   {
    "duration": 519,
    "start_time": "2022-03-28T22:19:52.442Z"
   },
   {
    "duration": 177,
    "start_time": "2022-03-28T22:19:52.964Z"
   },
   {
    "duration": 24,
    "start_time": "2022-03-28T22:19:53.143Z"
   },
   {
    "duration": 51,
    "start_time": "2022-03-28T22:19:53.170Z"
   },
   {
    "duration": 5,
    "start_time": "2022-03-28T22:19:53.224Z"
   },
   {
    "duration": 15,
    "start_time": "2022-03-28T22:19:53.231Z"
   },
   {
    "duration": 36,
    "start_time": "2022-03-28T22:19:53.248Z"
   },
   {
    "duration": 41,
    "start_time": "2022-03-28T22:19:53.286Z"
   },
   {
    "duration": 23,
    "start_time": "2022-03-28T22:19:53.329Z"
   },
   {
    "duration": 51,
    "start_time": "2022-03-28T22:19:53.355Z"
   },
   {
    "duration": 95,
    "start_time": "2022-03-28T22:19:53.408Z"
   },
   {
    "duration": 120,
    "start_time": "2022-03-28T22:19:53.505Z"
   },
   {
    "duration": 95,
    "start_time": "2022-03-28T22:19:53.627Z"
   },
   {
    "duration": 14,
    "start_time": "2022-03-28T22:19:53.724Z"
   },
   {
    "duration": 27,
    "start_time": "2022-03-28T22:19:53.740Z"
   },
   {
    "duration": 39,
    "start_time": "2022-03-28T22:19:53.769Z"
   },
   {
    "duration": 21,
    "start_time": "2022-03-28T22:19:53.810Z"
   },
   {
    "duration": 18,
    "start_time": "2022-03-28T22:19:53.833Z"
   },
   {
    "duration": 70,
    "start_time": "2022-03-28T22:19:53.853Z"
   },
   {
    "duration": 5,
    "start_time": "2022-03-28T22:19:53.926Z"
   },
   {
    "duration": 41,
    "start_time": "2022-03-28T22:19:53.932Z"
   },
   {
    "duration": 23,
    "start_time": "2022-03-28T22:19:53.975Z"
   },
   {
    "duration": 37,
    "start_time": "2022-03-28T22:19:53.999Z"
   },
   {
    "duration": 17,
    "start_time": "2022-03-28T22:19:54.038Z"
   },
   {
    "duration": 28,
    "start_time": "2022-03-28T22:19:54.057Z"
   },
   {
    "duration": 18,
    "start_time": "2022-03-28T22:19:54.087Z"
   },
   {
    "duration": 19,
    "start_time": "2022-03-28T22:19:54.108Z"
   },
   {
    "duration": 33,
    "start_time": "2022-03-28T22:19:54.131Z"
   },
   {
    "duration": 21,
    "start_time": "2022-03-28T22:19:54.166Z"
   },
   {
    "duration": 11,
    "start_time": "2022-03-28T22:19:54.190Z"
   },
   {
    "duration": 55,
    "start_time": "2022-03-28T22:19:54.203Z"
   },
   {
    "duration": 15,
    "start_time": "2022-03-28T22:19:54.261Z"
   },
   {
    "duration": 28,
    "start_time": "2022-03-28T22:19:54.279Z"
   },
   {
    "duration": 23,
    "start_time": "2022-03-28T22:19:54.309Z"
   },
   {
    "duration": 14,
    "start_time": "2022-03-28T22:19:54.334Z"
   },
   {
    "duration": 6,
    "start_time": "2022-03-28T22:19:54.351Z"
   },
   {
    "duration": 27,
    "start_time": "2022-03-28T22:19:54.360Z"
   },
   {
    "duration": 12,
    "start_time": "2022-03-28T22:19:54.390Z"
   },
   {
    "duration": 12,
    "start_time": "2022-03-28T22:20:23.128Z"
   },
   {
    "duration": 13,
    "start_time": "2022-03-28T22:20:33.969Z"
   },
   {
    "duration": 12,
    "start_time": "2022-03-28T22:20:37.487Z"
   },
   {
    "duration": 11,
    "start_time": "2022-03-28T22:20:42.373Z"
   },
   {
    "duration": 51,
    "start_time": "2022-03-28T22:22:14.690Z"
   },
   {
    "duration": 14,
    "start_time": "2022-03-28T22:22:37.804Z"
   },
   {
    "duration": 47,
    "start_time": "2022-03-28T22:22:53.652Z"
   },
   {
    "duration": 51,
    "start_time": "2022-03-28T22:23:07.329Z"
   },
   {
    "duration": 61,
    "start_time": "2022-03-28T22:29:23.872Z"
   },
   {
    "duration": 69,
    "start_time": "2022-03-28T22:30:08.765Z"
   },
   {
    "duration": 148,
    "start_time": "2022-03-28T22:30:31.986Z"
   },
   {
    "duration": 68,
    "start_time": "2022-03-28T22:30:44.330Z"
   },
   {
    "duration": 87,
    "start_time": "2022-03-28T22:31:29.813Z"
   },
   {
    "duration": 70,
    "start_time": "2022-03-28T22:31:57.403Z"
   },
   {
    "duration": 14,
    "start_time": "2022-03-28T22:32:31.717Z"
   },
   {
    "duration": 18,
    "start_time": "2022-03-28T22:32:39.093Z"
   },
   {
    "duration": 466,
    "start_time": "2022-03-28T22:37:26.306Z"
   },
   {
    "duration": 184,
    "start_time": "2022-03-28T22:37:26.775Z"
   },
   {
    "duration": 29,
    "start_time": "2022-03-28T22:37:26.961Z"
   },
   {
    "duration": 39,
    "start_time": "2022-03-28T22:37:26.992Z"
   },
   {
    "duration": 6,
    "start_time": "2022-03-28T22:37:27.034Z"
   },
   {
    "duration": 44,
    "start_time": "2022-03-28T22:37:27.042Z"
   },
   {
    "duration": 9,
    "start_time": "2022-03-28T22:37:27.089Z"
   },
   {
    "duration": 32,
    "start_time": "2022-03-28T22:37:27.100Z"
   },
   {
    "duration": 23,
    "start_time": "2022-03-28T22:37:27.134Z"
   },
   {
    "duration": 31,
    "start_time": "2022-03-28T22:37:27.182Z"
   },
   {
    "duration": 106,
    "start_time": "2022-03-28T22:37:27.216Z"
   },
   {
    "duration": 107,
    "start_time": "2022-03-28T22:37:27.324Z"
   },
   {
    "duration": 93,
    "start_time": "2022-03-28T22:37:27.433Z"
   },
   {
    "duration": 59,
    "start_time": "2022-03-28T22:37:27.531Z"
   },
   {
    "duration": 4,
    "start_time": "2022-03-28T22:37:27.592Z"
   },
   {
    "duration": 19,
    "start_time": "2022-03-28T22:37:27.599Z"
   },
   {
    "duration": 64,
    "start_time": "2022-03-28T22:37:27.620Z"
   },
   {
    "duration": 16,
    "start_time": "2022-03-28T22:37:27.687Z"
   },
   {
    "duration": 16,
    "start_time": "2022-03-28T22:37:27.705Z"
   },
   {
    "duration": 5,
    "start_time": "2022-03-28T22:37:27.723Z"
   },
   {
    "duration": 58,
    "start_time": "2022-03-28T22:37:27.730Z"
   },
   {
    "duration": 20,
    "start_time": "2022-03-28T22:37:27.790Z"
   },
   {
    "duration": 18,
    "start_time": "2022-03-28T22:37:27.812Z"
   },
   {
    "duration": 51,
    "start_time": "2022-03-28T22:37:27.832Z"
   },
   {
    "duration": 22,
    "start_time": "2022-03-28T22:37:27.885Z"
   },
   {
    "duration": 19,
    "start_time": "2022-03-28T22:37:27.909Z"
   },
   {
    "duration": 13,
    "start_time": "2022-03-28T22:37:27.930Z"
   },
   {
    "duration": 49,
    "start_time": "2022-03-28T22:37:27.945Z"
   },
   {
    "duration": 13,
    "start_time": "2022-03-28T22:37:27.996Z"
   },
   {
    "duration": 9,
    "start_time": "2022-03-28T22:37:28.011Z"
   },
   {
    "duration": 28,
    "start_time": "2022-03-28T22:37:28.022Z"
   },
   {
    "duration": 35,
    "start_time": "2022-03-28T22:37:28.052Z"
   },
   {
    "duration": 19,
    "start_time": "2022-03-28T22:37:28.090Z"
   },
   {
    "duration": 15,
    "start_time": "2022-03-28T22:37:28.111Z"
   },
   {
    "duration": 11,
    "start_time": "2022-03-28T22:37:28.128Z"
   },
   {
    "duration": 6,
    "start_time": "2022-03-28T22:37:28.181Z"
   },
   {
    "duration": 17,
    "start_time": "2022-03-28T22:37:28.189Z"
   },
   {
    "duration": 23,
    "start_time": "2022-03-28T22:37:28.208Z"
   }
  ],
  "colab": {
   "collapsed_sections": [
    "E0vqbgi9ay0H",
    "VUC88oWjTJw2"
   ],
   "name": "yandex_music_project_2021.2.ipynb",
   "provenance": []
  },
  "kernelspec": {
   "display_name": "Python 3 (ipykernel)",
   "language": "python",
   "name": "python3"
  },
  "language_info": {
   "codemirror_mode": {
    "name": "ipython",
    "version": 3
   },
   "file_extension": ".py",
   "mimetype": "text/x-python",
   "name": "python",
   "nbconvert_exporter": "python",
   "pygments_lexer": "ipython3",
   "version": "3.9.12"
  },
  "toc": {
   "base_numbering": 1,
   "nav_menu": {},
   "number_sections": true,
   "sideBar": true,
   "skip_h1_title": true,
   "title_cell": "Оглавление",
   "title_sidebar": "Contents",
   "toc_cell": true,
   "toc_position": {},
   "toc_section_display": true,
   "toc_window_display": true
  }
 },
 "nbformat": 4,
 "nbformat_minor": 1
}
