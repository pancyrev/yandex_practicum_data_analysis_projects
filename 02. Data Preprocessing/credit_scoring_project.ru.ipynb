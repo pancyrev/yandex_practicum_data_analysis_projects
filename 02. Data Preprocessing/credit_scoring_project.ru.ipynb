{
 "cells": [
  {
   "cell_type": "markdown",
   "id": "4c2217f6",
   "metadata": {},
   "source": [
    "# Исследование надежности заемщиков"
   ]
  },
  {
   "cell_type": "markdown",
   "id": "c9180b5b",
   "metadata": {
    "toc": true
   },
   "source": [
    "<h1>Оглавление<span class=\"tocSkip\"></span></h1>\n",
    "<div class=\"toc\"><ul class=\"toc-item\"><li><span><a href=\"#Общая-информация\" data-toc-modified-id=\"Общая-информация-1\"><span class=\"toc-item-num\">1&nbsp;&nbsp;</span>Общая информация</a></span></li><li><span><a href=\"#Шаг-1.-Обзор-данных.\" data-toc-modified-id=\"Шаг-1.-Обзор-данных.-2\"><span class=\"toc-item-num\">2&nbsp;&nbsp;</span>Шаг 1. Обзор данных.</a></span></li><li><span><a href=\"#Шаг-2.-Предобработка-данных.\" data-toc-modified-id=\"Шаг-2.-Предобработка-данных.-3\"><span class=\"toc-item-num\">3&nbsp;&nbsp;</span>Шаг 2. Предобработка данных.</a></span><ul class=\"toc-item\"><li><span><a href=\"#Шаг-2.1-Заполнение-пропусков.\" data-toc-modified-id=\"Шаг-2.1-Заполнение-пропусков.-3.1\"><span class=\"toc-item-num\">3.1&nbsp;&nbsp;</span>Шаг 2.1 Заполнение пропусков.</a></span></li><li><span><a href=\"#Шаг-2.2-Проверка-данных-на-аномалии-и-исправления.\" data-toc-modified-id=\"Шаг-2.2-Проверка-данных-на-аномалии-и-исправления.-3.2\"><span class=\"toc-item-num\">3.2&nbsp;&nbsp;</span>Шаг 2.2 Проверка данных на аномалии и исправления.</a></span></li><li><span><a href=\"#Шаг-2.3.-Изменение-типов-данных.\" data-toc-modified-id=\"Шаг-2.3.-Изменение-типов-данных.-3.3\"><span class=\"toc-item-num\">3.3&nbsp;&nbsp;</span>Шаг 2.3. Изменение типов данных.</a></span></li><li><span><a href=\"#Шаг-2.4.-Удаление-дубликатов.\" data-toc-modified-id=\"Шаг-2.4.-Удаление-дубликатов.-3.4\"><span class=\"toc-item-num\">3.4&nbsp;&nbsp;</span>Шаг 2.4. Удаление дубликатов.</a></span></li><li><span><a href=\"#Шаг-2.5.-Формирование-дополнительных-датафреймов-словарей,-декомпозиция-исходного-датафрейма.\" data-toc-modified-id=\"Шаг-2.5.-Формирование-дополнительных-датафреймов-словарей,-декомпозиция-исходного-датафрейма.-3.5\"><span class=\"toc-item-num\">3.5&nbsp;&nbsp;</span>Шаг 2.5. Формирование дополнительных датафреймов словарей, декомпозиция исходного датафрейма.</a></span></li><li><span><a href=\"#Шаг-2.6.-Категоризация-дохода.\" data-toc-modified-id=\"Шаг-2.6.-Категоризация-дохода.-3.6\"><span class=\"toc-item-num\">3.6&nbsp;&nbsp;</span>Шаг 2.6. Категоризация дохода.</a></span></li><li><span><a href=\"#Шаг-2.7.-Категоризация-целей-кредита.\" data-toc-modified-id=\"Шаг-2.7.-Категоризация-целей-кредита.-3.7\"><span class=\"toc-item-num\">3.7&nbsp;&nbsp;</span>Шаг 2.7. Категоризация целей кредита.</a></span></li></ul></li><li><span><a href=\"#Ответы-на-вопросы.\" data-toc-modified-id=\"Ответы-на-вопросы.-4\"><span class=\"toc-item-num\">4&nbsp;&nbsp;</span>Ответы на вопросы.</a></span><ul class=\"toc-item\"><li><span><a href=\"#Вопрос-1:-Есть-ли-зависимость-между-количеством-детей-и-возвратом-кредита-в-срок?\" data-toc-modified-id=\"Вопрос-1:-Есть-ли-зависимость-между-количеством-детей-и-возвратом-кредита-в-срок?-4.1\"><span class=\"toc-item-num\">4.1&nbsp;&nbsp;</span>Вопрос 1: Есть ли зависимость между количеством детей и возвратом кредита в срок?</a></span></li><li><span><a href=\"#Вопрос-2.-Есть-ли-зависимость-между-семейным-положением-и-возвратом-кредита-в-срок?\" data-toc-modified-id=\"Вопрос-2.-Есть-ли-зависимость-между-семейным-положением-и-возвратом-кредита-в-срок?-4.2\"><span class=\"toc-item-num\">4.2&nbsp;&nbsp;</span>Вопрос 2. Есть ли зависимость между семейным положением и возвратом кредита в срок?</a></span></li><li><span><a href=\"#Вопрос-3.-Есть-ли-зависимость-между-уровнем-дохода-и-возвратом-кредита-в-срок?\" data-toc-modified-id=\"Вопрос-3.-Есть-ли-зависимость-между-уровнем-дохода-и-возвратом-кредита-в-срок?-4.3\"><span class=\"toc-item-num\">4.3&nbsp;&nbsp;</span>Вопрос 3. Есть ли зависимость между уровнем дохода и возвратом кредита в срок?</a></span></li><li><span><a href=\"#Вопрос-4.-Как-разные-цели-кредита-влияют-на-его-возврат-в-срок?\" data-toc-modified-id=\"Вопрос-4.-Как-разные-цели-кредита-влияют-на-его-возврат-в-срок?-4.4\"><span class=\"toc-item-num\">4.4&nbsp;&nbsp;</span>Вопрос 4. Как разные цели кредита влияют на его возврат в срок?</a></span></li></ul></li><li><span><a href=\"#Общий-вывод:\" data-toc-modified-id=\"Общий-вывод:-5\"><span class=\"toc-item-num\">5&nbsp;&nbsp;</span>Общий вывод:</a></span></li></ul></div>"
   ]
  },
  {
   "cell_type": "markdown",
   "id": "1ceef802",
   "metadata": {},
   "source": [
    "## Общая информация"
   ]
  },
  {
   "cell_type": "markdown",
   "id": "67526f97",
   "metadata": {},
   "source": [
    "[*Вернуться к оглавлению*](#Оглавление)"
   ]
  },
  {
   "cell_type": "markdown",
   "id": "050e4b1e",
   "metadata": {},
   "source": [
    "**Входные данные**\n",
    "\n",
    " Файл `/datasets/data.csv` - статистика о платёжеспособности клиентов.\n",
    " \n",
    " **Цель:** выяснить, влияет ли семейное положение и количество детей клиента на факт погашения кредита в срок.\n",
    " \n",
    " **Задачи:**\n",
    "\n",
    "Шаг 1. Откройте таблицу и изучите общую информацию о данных\n",
    "\n",
    "Шаг 2. Предобработка данных\n",
    "\n",
    "Заполнить пропуски, если есть. Описать возможные причины появления пропусков.  \n",
    "Проанализировать данные на наличие аномалий и описать возможные причины появления таких данных.  \n",
    "Привести данные к нужному типу.  \n",
    "Проверить на наличие явных и неявных дубликатов. Привести возможные причины появления дубликатов.  \n",
    "Создайте два новых датафрейма, в которых:  \n",
    "каждому уникальному значению из education соответствует уникальное значение education_id — в первом;  \n",
    "каждому уникальному значению из family_status соответствует уникальное значение family_status_id — во втором.  \n",
    "На основании диапазонов, указанных ниже, создайте столбец total_income_category с категориями:\n",
    "- 0–30000 — 'E';\n",
    "- 30001–50000 — 'D';\n",
    "- 50001–200000 — 'C';\n",
    "- 200001–1000000 — 'B';\n",
    "- 1000001 и выше — 'A'.  \n",
    "\n",
    "Создайте функцию, которая на основании данных из столбца purpose сформирует новый столбец purpose_category, в который войдут следующие категории:\n",
    "- 'операции с автомобилем',\n",
    "- 'операции с недвижимостью',\n",
    "- 'проведение свадьбы',\n",
    "- 'получение образования'.\n",
    "\n",
    "Шаг 3. Ответьте на вопросы\n",
    "\n",
    "Есть ли зависимость между количеством детей и возвратом кредита в срок?  \n",
    "Есть ли зависимость между семейным положением и возвратом кредита в срок?  \n",
    "Есть ли зависимость между уровнем дохода и возвратом кредита в срок?  \n",
    "Как разные цели кредита влияют на его возврат в срок?  \n",
    "\n",
    "Шаг 4. Вывод"
   ]
  },
  {
   "cell_type": "markdown",
   "id": "15706719",
   "metadata": {},
   "source": [
    "## Шаг 1. Обзор данных."
   ]
  },
  {
   "cell_type": "markdown",
   "id": "62786275",
   "metadata": {},
   "source": [
    "[*Вернуться к оглавлению*](#Оглавление)"
   ]
  },
  {
   "cell_type": "code",
   "execution_count": 2,
   "id": "17205635",
   "metadata": {},
   "outputs": [
    {
     "data": {
      "text/html": [
       "<div>\n",
       "<style scoped>\n",
       "    .dataframe tbody tr th:only-of-type {\n",
       "        vertical-align: middle;\n",
       "    }\n",
       "\n",
       "    .dataframe tbody tr th {\n",
       "        vertical-align: top;\n",
       "    }\n",
       "\n",
       "    .dataframe thead th {\n",
       "        text-align: right;\n",
       "    }\n",
       "</style>\n",
       "<table border=\"1\" class=\"dataframe\">\n",
       "  <thead>\n",
       "    <tr style=\"text-align: right;\">\n",
       "      <th></th>\n",
       "      <th>children</th>\n",
       "      <th>days_employed</th>\n",
       "      <th>dob_years</th>\n",
       "      <th>education</th>\n",
       "      <th>education_id</th>\n",
       "      <th>family_status</th>\n",
       "      <th>family_status_id</th>\n",
       "      <th>gender</th>\n",
       "      <th>income_type</th>\n",
       "      <th>debt</th>\n",
       "      <th>total_income</th>\n",
       "      <th>purpose</th>\n",
       "    </tr>\n",
       "  </thead>\n",
       "  <tbody>\n",
       "    <tr>\n",
       "      <th>0</th>\n",
       "      <td>1</td>\n",
       "      <td>-8437.673028</td>\n",
       "      <td>42</td>\n",
       "      <td>высшее</td>\n",
       "      <td>0</td>\n",
       "      <td>женат / замужем</td>\n",
       "      <td>0</td>\n",
       "      <td>F</td>\n",
       "      <td>сотрудник</td>\n",
       "      <td>0</td>\n",
       "      <td>253875.639453</td>\n",
       "      <td>покупка жилья</td>\n",
       "    </tr>\n",
       "    <tr>\n",
       "      <th>1</th>\n",
       "      <td>1</td>\n",
       "      <td>-4024.803754</td>\n",
       "      <td>36</td>\n",
       "      <td>среднее</td>\n",
       "      <td>1</td>\n",
       "      <td>женат / замужем</td>\n",
       "      <td>0</td>\n",
       "      <td>F</td>\n",
       "      <td>сотрудник</td>\n",
       "      <td>0</td>\n",
       "      <td>112080.014102</td>\n",
       "      <td>приобретение автомобиля</td>\n",
       "    </tr>\n",
       "    <tr>\n",
       "      <th>2</th>\n",
       "      <td>0</td>\n",
       "      <td>-5623.422610</td>\n",
       "      <td>33</td>\n",
       "      <td>Среднее</td>\n",
       "      <td>1</td>\n",
       "      <td>женат / замужем</td>\n",
       "      <td>0</td>\n",
       "      <td>M</td>\n",
       "      <td>сотрудник</td>\n",
       "      <td>0</td>\n",
       "      <td>145885.952297</td>\n",
       "      <td>покупка жилья</td>\n",
       "    </tr>\n",
       "    <tr>\n",
       "      <th>3</th>\n",
       "      <td>3</td>\n",
       "      <td>-4124.747207</td>\n",
       "      <td>32</td>\n",
       "      <td>среднее</td>\n",
       "      <td>1</td>\n",
       "      <td>женат / замужем</td>\n",
       "      <td>0</td>\n",
       "      <td>M</td>\n",
       "      <td>сотрудник</td>\n",
       "      <td>0</td>\n",
       "      <td>267628.550329</td>\n",
       "      <td>дополнительное образование</td>\n",
       "    </tr>\n",
       "    <tr>\n",
       "      <th>4</th>\n",
       "      <td>0</td>\n",
       "      <td>340266.072047</td>\n",
       "      <td>53</td>\n",
       "      <td>среднее</td>\n",
       "      <td>1</td>\n",
       "      <td>гражданский брак</td>\n",
       "      <td>1</td>\n",
       "      <td>F</td>\n",
       "      <td>пенсионер</td>\n",
       "      <td>0</td>\n",
       "      <td>158616.077870</td>\n",
       "      <td>сыграть свадьбу</td>\n",
       "    </tr>\n",
       "  </tbody>\n",
       "</table>\n",
       "</div>"
      ],
      "text/plain": [
       "   children  days_employed  dob_years education  education_id  \\\n",
       "0         1   -8437.673028         42    высшее             0   \n",
       "1         1   -4024.803754         36   среднее             1   \n",
       "2         0   -5623.422610         33   Среднее             1   \n",
       "3         3   -4124.747207         32   среднее             1   \n",
       "4         0  340266.072047         53   среднее             1   \n",
       "\n",
       "      family_status  family_status_id gender income_type  debt   total_income  \\\n",
       "0   женат / замужем                 0      F   сотрудник     0  253875.639453   \n",
       "1   женат / замужем                 0      F   сотрудник     0  112080.014102   \n",
       "2   женат / замужем                 0      M   сотрудник     0  145885.952297   \n",
       "3   женат / замужем                 0      M   сотрудник     0  267628.550329   \n",
       "4  гражданский брак                 1      F   пенсионер     0  158616.077870   \n",
       "\n",
       "                      purpose  \n",
       "0               покупка жилья  \n",
       "1     приобретение автомобиля  \n",
       "2               покупка жилья  \n",
       "3  дополнительное образование  \n",
       "4             сыграть свадьбу  "
      ]
     },
     "execution_count": 2,
     "metadata": {},
     "output_type": "execute_result"
    }
   ],
   "source": [
    "import pandas as pd\n",
    "import numpy as np\n",
    "\n",
    "data = pd.read_csv('data.csv')\n",
    "\n",
    "data.head()"
   ]
  },
  {
   "cell_type": "code",
   "execution_count": 3,
   "id": "e1fecb2d",
   "metadata": {},
   "outputs": [
    {
     "name": "stdout",
     "output_type": "stream",
     "text": [
      "<class 'pandas.core.frame.DataFrame'>\n",
      "RangeIndex: 21525 entries, 0 to 21524\n",
      "Data columns (total 12 columns):\n",
      " #   Column            Non-Null Count  Dtype  \n",
      "---  ------            --------------  -----  \n",
      " 0   children          21525 non-null  int64  \n",
      " 1   days_employed     19351 non-null  float64\n",
      " 2   dob_years         21525 non-null  int64  \n",
      " 3   education         21525 non-null  object \n",
      " 4   education_id      21525 non-null  int64  \n",
      " 5   family_status     21525 non-null  object \n",
      " 6   family_status_id  21525 non-null  int64  \n",
      " 7   gender            21525 non-null  object \n",
      " 8   income_type       21525 non-null  object \n",
      " 9   debt              21525 non-null  int64  \n",
      " 10  total_income      19351 non-null  float64\n",
      " 11  purpose           21525 non-null  object \n",
      "dtypes: float64(2), int64(5), object(5)\n",
      "memory usage: 2.0+ MB\n"
     ]
    }
   ],
   "source": [
    "data.info()"
   ]
  },
  {
   "cell_type": "code",
   "execution_count": 4,
   "id": "d4402a53",
   "metadata": {},
   "outputs": [
    {
     "data": {
      "text/plain": [
       "Index(['children', 'days_employed', 'dob_years', 'education', 'education_id',\n",
       "       'family_status', 'family_status_id', 'gender', 'income_type', 'debt',\n",
       "       'total_income', 'purpose'],\n",
       "      dtype='object')"
      ]
     },
     "execution_count": 4,
     "metadata": {},
     "output_type": "execute_result"
    }
   ],
   "source": [
    "data.columns"
   ]
  },
  {
   "cell_type": "markdown",
   "id": "edf3cd57",
   "metadata": {},
   "source": [
    "Таблица содержит 12 столбцов:\n",
    "* `children` - количество детей у заемщика\n",
    "* `days_employed` - стаж в днях\n",
    "* `dob_years` - возраст\n",
    "* `education` - образование\n",
    "* `education_id` - идентификатор образования\n",
    "* `family_status` - семейное положение\n",
    "* `family_status_id` - идентификатор семейного положения\n",
    "* `gender` - пол\n",
    "* `income_type` - тип занятости\n",
    "* `debt` - долг\n",
    "* `total_income` - доход\n",
    "* `purpose` - цель получения кредита\n",
    "\n",
    "Имена столбцов составлены стилистически верно. Переименовывать их не требуется."
   ]
  },
  {
   "cell_type": "markdown",
   "id": "1cf485fb",
   "metadata": {},
   "source": [
    "## Шаг 2. Предобработка данных."
   ]
  },
  {
   "cell_type": "markdown",
   "id": "f5014b99",
   "metadata": {},
   "source": [
    "### Шаг 2.1 Заполнение пропусков."
   ]
  },
  {
   "cell_type": "markdown",
   "id": "321cad78",
   "metadata": {},
   "source": [
    "[*Вернуться к оглавлению*](#Оглавление)"
   ]
  },
  {
   "cell_type": "markdown",
   "id": "5f07fdad",
   "metadata": {},
   "source": [
    "Из анализа таблицы `data.info()` столбцы `days_employed` и `total_income`  имеют пропуски.\n",
    "\n",
    "В данном разделе проанализируем столбец `total_income` и заполним пропуски.\n",
    "\n",
    "Подсчет количества пропусков:"
   ]
  },
  {
   "cell_type": "code",
   "execution_count": 5,
   "id": "38718d39",
   "metadata": {},
   "outputs": [
    {
     "data": {
      "text/plain": [
       "children               0\n",
       "days_employed       2174\n",
       "dob_years              0\n",
       "education              0\n",
       "education_id           0\n",
       "family_status          0\n",
       "family_status_id       0\n",
       "gender                 0\n",
       "income_type            0\n",
       "debt                   0\n",
       "total_income        2174\n",
       "purpose                0\n",
       "dtype: int64"
      ]
     },
     "execution_count": 5,
     "metadata": {},
     "output_type": "execute_result"
    }
   ],
   "source": [
    "data.isna().sum()"
   ]
  },
  {
   "cell_type": "markdown",
   "id": "17167830",
   "metadata": {},
   "source": [
    "Подсчет доли пропусков:"
   ]
  },
  {
   "cell_type": "code",
   "execution_count": 6,
   "id": "7f0ceaa0",
   "metadata": {},
   "outputs": [
    {
     "data": {
      "text/plain": [
       "children             0.0\n",
       "days_employed       10.1\n",
       "dob_years            0.0\n",
       "education            0.0\n",
       "education_id         0.0\n",
       "family_status        0.0\n",
       "family_status_id     0.0\n",
       "gender               0.0\n",
       "income_type          0.0\n",
       "debt                 0.0\n",
       "total_income        10.1\n",
       "purpose              0.0\n",
       "dtype: float64"
      ]
     },
     "execution_count": 6,
     "metadata": {},
     "output_type": "execute_result"
    }
   ],
   "source": [
    "round(data.isna().sum() * 100 / len(data), 2)"
   ]
  },
  {
   "cell_type": "markdown",
   "id": "c207e719",
   "metadata": {},
   "source": [
    "Проверка того, что NaN присутствует в одной строке одновременно в столбцах `days_employed` и `total_income`:"
   ]
  },
  {
   "cell_type": "code",
   "execution_count": 7,
   "id": "7f1592f3",
   "metadata": {},
   "outputs": [
    {
     "data": {
      "text/plain": [
       "days_employed    0.0\n",
       "total_income     0.0\n",
       "dtype: float64"
      ]
     },
     "execution_count": 7,
     "metadata": {},
     "output_type": "execute_result"
    }
   ],
   "source": [
    "data.loc[\n",
    "    (data['days_employed'].isna()) & \n",
    "    (data['total_income'].isna())\n",
    "][['days_employed', 'total_income']].sum()"
   ]
  },
  {
   "cell_type": "markdown",
   "id": "e7354724",
   "metadata": {},
   "source": [
    "Исследуем параметры данных в столбце `total_income`:"
   ]
  },
  {
   "cell_type": "code",
   "execution_count": 8,
   "id": "6ea370a4",
   "metadata": {},
   "outputs": [
    {
     "data": {
      "text/plain": [
       "count    1.935100e+04\n",
       "mean     1.674223e+05\n",
       "std      1.029716e+05\n",
       "min      2.066726e+04\n",
       "25%      1.030532e+05\n",
       "50%      1.450179e+05\n",
       "75%      2.034351e+05\n",
       "max      2.265604e+06\n",
       "Name: total_income, dtype: float64"
      ]
     },
     "execution_count": 8,
     "metadata": {},
     "output_type": "execute_result"
    }
   ],
   "source": [
    "data['total_income'].describe()"
   ]
  },
  {
   "cell_type": "markdown",
   "id": "e782b7aa",
   "metadata": {},
   "source": [
    "В столбце `total_income` аномальных данных не наблюдается. Значения распределены от 0.2066726e+05 до 22.65604e+05. Среднее значение равно 1.651595e+05. Медианное значение равно 1.450179e+05."
   ]
  },
  {
   "cell_type": "markdown",
   "id": "ffe1c812",
   "metadata": {},
   "source": [
    "Так как пропуски в столбце `total_income` составляют 10.1% данных, не будем исключать эти строки из анализа и заменим пропущенные значения медианным значением с учетом категории заемщика:"
   ]
  },
  {
   "cell_type": "code",
   "execution_count": 9,
   "id": "2b33bb9a",
   "metadata": {},
   "outputs": [],
   "source": [
    "data['total_income'] = (\n",
    "    data.groupby(['income_type'])['total_income']\n",
    "    .apply(lambda x: x.fillna(x.median()))\n",
    ")"
   ]
  },
  {
   "cell_type": "markdown",
   "id": "eb635c69",
   "metadata": {},
   "source": [
    "Проверим заполненные пропуски в таблице и столбце `total_income`:"
   ]
  },
  {
   "cell_type": "code",
   "execution_count": 10,
   "id": "3fe986db",
   "metadata": {},
   "outputs": [
    {
     "data": {
      "text/plain": [
       "children               0\n",
       "days_employed       2174\n",
       "dob_years              0\n",
       "education              0\n",
       "education_id           0\n",
       "family_status          0\n",
       "family_status_id       0\n",
       "gender                 0\n",
       "income_type            0\n",
       "debt                   0\n",
       "total_income           0\n",
       "purpose                0\n",
       "dtype: int64"
      ]
     },
     "execution_count": 10,
     "metadata": {},
     "output_type": "execute_result"
    }
   ],
   "source": [
    "data.isna().sum()"
   ]
  },
  {
   "cell_type": "markdown",
   "id": "c8cd275f",
   "metadata": {},
   "source": [
    "В таблице были пропущены числовые значения в столбцах о стаже работы и доходах.  \n",
    "Пропуски составляют 10.1% данных.  \n",
    "Причинами пропусков возможны сокрытие или отсутствие информации о стаже и доходах заемщика.  \n",
    "Столбец `total_income` был заполнен медианными значениями, т.к. медианное значение менее чувствительно к отклонениям, в случае появления в таблице величин доходов, значительно превышающих доходы других заемщиков."
   ]
  },
  {
   "cell_type": "markdown",
   "id": "cea7b863",
   "metadata": {},
   "source": [
    "### Шаг 2.2 Проверка данных на аномалии и исправления."
   ]
  },
  {
   "cell_type": "markdown",
   "id": "2b9b1887",
   "metadata": {},
   "source": [
    "[*Вернуться к оглавлению*](#Оглавление)"
   ]
  },
  {
   "cell_type": "markdown",
   "id": "0edd5408",
   "metadata": {},
   "source": [
    "В данном разделе проведем анализ данных в столбце со стажем работы `days_employed` и возрастом `dob_years`.\n",
    "\n",
    "Исследуем параметры столбца `dob_years`:"
   ]
  },
  {
   "cell_type": "code",
   "execution_count": 11,
   "id": "0c35e805",
   "metadata": {},
   "outputs": [
    {
     "data": {
      "text/plain": [
       "count    21525.000000\n",
       "mean        43.293380\n",
       "std         12.574584\n",
       "min          0.000000\n",
       "25%         33.000000\n",
       "50%         42.000000\n",
       "75%         53.000000\n",
       "max         75.000000\n",
       "Name: dob_years, dtype: float64"
      ]
     },
     "execution_count": 11,
     "metadata": {},
     "output_type": "execute_result"
    }
   ],
   "source": [
    "data['dob_years'].describe()"
   ]
  },
  {
   "cell_type": "code",
   "execution_count": 12,
   "id": "1b109d79",
   "metadata": {},
   "outputs": [
    {
     "data": {
      "text/plain": [
       "101"
      ]
     },
     "execution_count": 12,
     "metadata": {},
     "output_type": "execute_result"
    }
   ],
   "source": [
    "data[data['dob_years'] == 0]['dob_years'].count()"
   ]
  },
  {
   "cell_type": "markdown",
   "id": "6e022b05",
   "metadata": {},
   "source": [
    "Столбец `dob_years` содержит 101 строку с нулевым значением.\n",
    "\n",
    "Заменим нулевые значения возраста на медианные значения с учетом категории заемщика."
   ]
  },
  {
   "cell_type": "code",
   "execution_count": 13,
   "id": "91d2f7c7",
   "metadata": {},
   "outputs": [],
   "source": [
    "data['dob_years'] = (\n",
    "    data.groupby(['income_type'])['dob_years'].\n",
    "    apply(lambda x: x.replace(0, x.median()))\n",
    ")"
   ]
  },
  {
   "cell_type": "code",
   "execution_count": 14,
   "id": "3b5e75c5",
   "metadata": {},
   "outputs": [
    {
     "data": {
      "text/plain": [
       "count    21525.000000\n",
       "mean        43.496167\n",
       "std         12.231538\n",
       "min         19.000000\n",
       "25%         34.000000\n",
       "50%         43.000000\n",
       "75%         53.000000\n",
       "max         75.000000\n",
       "Name: dob_years, dtype: float64"
      ]
     },
     "execution_count": 14,
     "metadata": {},
     "output_type": "execute_result"
    }
   ],
   "source": [
    "data['dob_years'].describe()"
   ]
  },
  {
   "cell_type": "markdown",
   "id": "6ccbbbde",
   "metadata": {},
   "source": [
    "Нулевые значения в столбце с возрастом теперь отсутствуют."
   ]
  },
  {
   "cell_type": "markdown",
   "id": "374898bc",
   "metadata": {},
   "source": [
    "Ранее было обнаружено, что в столбце `days_employed` пропущено 10.1% данных.\n",
    "\n",
    "Исследуем параметры данных в столбце `days_employed`:"
   ]
  },
  {
   "cell_type": "code",
   "execution_count": 15,
   "id": "c5efcce9",
   "metadata": {},
   "outputs": [
    {
     "data": {
      "text/plain": [
       "count     19351.000000\n",
       "mean      63046.497661\n",
       "std      140827.311974\n",
       "min      -18388.949901\n",
       "25%       -2747.423625\n",
       "50%       -1203.369529\n",
       "75%        -291.095954\n",
       "max      401755.400475\n",
       "Name: days_employed, dtype: float64"
      ]
     },
     "execution_count": 15,
     "metadata": {},
     "output_type": "execute_result"
    }
   ],
   "source": [
    "data['days_employed'].describe()"
   ]
  },
  {
   "cell_type": "markdown",
   "id": "0502c171",
   "metadata": {},
   "source": [
    "В столбце `days_employed` наблюдаются значения разного знака.\n",
    "\n",
    "Исследуем положительные значения столбца `days_employed`:"
   ]
  },
  {
   "cell_type": "code",
   "execution_count": 16,
   "id": "39ef6d9c",
   "metadata": {},
   "outputs": [],
   "source": [
    "days_employed_positive = data.loc[(data['days_employed']>0)]"
   ]
  },
  {
   "cell_type": "code",
   "execution_count": 17,
   "id": "1e78c755",
   "metadata": {},
   "outputs": [
    {
     "data": {
      "text/plain": [
       "пенсионер      3443\n",
       "безработный       2\n",
       "Name: income_type, dtype: int64"
      ]
     },
     "execution_count": 17,
     "metadata": {},
     "output_type": "execute_result"
    }
   ],
   "source": [
    "days_employed_positive['income_type'].value_counts()"
   ]
  },
  {
   "cell_type": "code",
   "execution_count": 18,
   "id": "534dfe3e",
   "metadata": {},
   "outputs": [
    {
     "data": {
      "text/plain": [
       "count      3445.000000\n",
       "mean     365004.309916\n",
       "std       21075.016396\n",
       "min      328728.720605\n",
       "25%      346639.413916\n",
       "50%      365213.306266\n",
       "75%      383246.444219\n",
       "max      401755.400475\n",
       "Name: days_employed, dtype: float64"
      ]
     },
     "execution_count": 18,
     "metadata": {},
     "output_type": "execute_result"
    }
   ],
   "source": [
    "days_employed_positive['days_employed'].describe()"
   ]
  },
  {
   "cell_type": "markdown",
   "id": "14c84240",
   "metadata": {},
   "source": [
    "Анализ столбца `days_employed` показал, что для пенсионеров и безработных данные по стажу в среднем равны 365004 дня или 1000 лет, что не может соответствовать действительности.  \n",
    "Данные по стажу для пенсионеров и безработных указаны неверно. Установить причину по имеющимся данным затруднительно и этот вопрос необходимо адресовать ответственным сотрудникам по заполнению таблиц."
   ]
  },
  {
   "cell_type": "markdown",
   "id": "7adece04",
   "metadata": {},
   "source": [
    "Исследуем отрицательные значения столбца `days_employed`:"
   ]
  },
  {
   "cell_type": "code",
   "execution_count": 19,
   "id": "eb288c62",
   "metadata": {},
   "outputs": [
    {
     "data": {
      "text/plain": [
       "count    15906.000000\n",
       "mean     -2353.015932\n",
       "std       2304.243851\n",
       "min     -18388.949901\n",
       "25%      -3157.480084\n",
       "50%      -1630.019381\n",
       "75%       -756.371964\n",
       "max        -24.141633\n",
       "Name: days_employed, dtype: float64"
      ]
     },
     "execution_count": 19,
     "metadata": {},
     "output_type": "execute_result"
    }
   ],
   "source": [
    "days_employed_negative = data.loc[(data['days_employed']<0)]\n",
    "days_employed_negative['days_employed'].describe()"
   ]
  },
  {
   "cell_type": "code",
   "execution_count": 20,
   "id": "ee0ade13",
   "metadata": {},
   "outputs": [
    {
     "data": {
      "text/plain": [
       "сотрудник          10014\n",
       "компаньон           4577\n",
       "госслужащий         1312\n",
       "студент                1\n",
       "предприниматель        1\n",
       "в декрете              1\n",
       "Name: income_type, dtype: int64"
      ]
     },
     "execution_count": 20,
     "metadata": {},
     "output_type": "execute_result"
    }
   ],
   "source": [
    "days_employed_negative['income_type'].value_counts()"
   ]
  },
  {
   "cell_type": "markdown",
   "id": "77b6e35e",
   "metadata": {},
   "source": [
    "По результатам анализа отрицательных значений столбца `days_employed` видно, что эти значения соответствуют заемщикам, имеющим работу. \n",
    "\n",
    "Для исправления данных столбца `days_employed` необходимо:  \n",
    "1) заменить положительные значения на `NaN`  \n",
    "2) заменить отрицательные значения на положительные  \n",
    "3) создать категории заемщиков по возрасту  \n",
    "4) заменить ячейки с `NaN` медианными значениями в зависимости от возраста"
   ]
  },
  {
   "cell_type": "code",
   "execution_count": 21,
   "id": "5b4be040",
   "metadata": {
    "scrolled": true
   },
   "outputs": [],
   "source": [
    "# функция drop_positive_nums меняет положительные значения на NaN\n",
    "def drop_positive_nums(value):\n",
    "    if value > 0:\n",
    "        value = np.NaN\n",
    "        return value\n",
    "    else:\n",
    "        return value\n",
    "\n",
    "# перезаписываем все положительные на NaN в столбце days_employed\n",
    "data['days_employed'] = data['days_employed'].apply(drop_positive_nums)\n",
    "\n",
    "# меняем все отрицательные на положительные в столбце days_employed\n",
    "data['days_employed'] = abs(data['days_employed'])\n",
    "\n",
    "# категоризация заемщиков по возрасту\n",
    "cut_labels = ['18-29', '30-39', '40-49', '50-59', '60-69', '>=70']\n",
    "cut_bins = [0, 29, 39, 49, 59, 69, 100]\n",
    "data['dob_group'] = pd.cut(data['dob_years'],\n",
    "                             bins=cut_bins,\n",
    "                             labels=cut_labels)\n",
    "\n",
    "# заменим все NaN на медианные в столбце days_employed\n",
    "data['days_employed'] = (\n",
    "    data.groupby(['dob_group'])['days_employed']\n",
    "    .apply(lambda x: x.fillna(x.median()))\n",
    ")"
   ]
  },
  {
   "cell_type": "markdown",
   "id": "701378f2",
   "metadata": {},
   "source": [
    "Проверим заполненные пропуски в таблице `data`:"
   ]
  },
  {
   "cell_type": "code",
   "execution_count": 22,
   "id": "31515eca",
   "metadata": {},
   "outputs": [
    {
     "data": {
      "text/plain": [
       "children            0\n",
       "days_employed       0\n",
       "dob_years           0\n",
       "education           0\n",
       "education_id        0\n",
       "family_status       0\n",
       "family_status_id    0\n",
       "gender              0\n",
       "income_type         0\n",
       "debt                0\n",
       "total_income        0\n",
       "purpose             0\n",
       "dob_group           0\n",
       "dtype: int64"
      ]
     },
     "execution_count": 22,
     "metadata": {},
     "output_type": "execute_result"
    }
   ],
   "source": [
    "data.isna().sum()"
   ]
  },
  {
   "cell_type": "markdown",
   "id": "5789a3c5",
   "metadata": {},
   "source": [
    "В столбце `dob_years` были обнаружены строки с нулевым возрастом. Нулевые значения были заменены на медианные значения в зависисмости от категории заемщика.\n",
    "\n",
    "В столбце `days_employed` были выявлены аномальные значения стажа для заемщиков:  \n",
    "1) для пенсионеров и неработающих были указаны большие значения стажа, невозможные в действительности  \n",
    "2) для работающих стаж указан отрицательными значениями  \n",
    "Причины аномальных данных не выглядят случайными, т.к. очевидна зависимость данных по стажу от категории заемщиков. Выяснить особенности заполнения данных по стажу возможно обратившись к специалистам, ответственным за заполнение таблиц, или изучив документацию к таблицам.\n",
    "\n",
    "Для исправления данных в столбце `days_employed` данные для пенсионеров и неработающих были заменены на `NaN`. Отрицательные значения стажа заменены положительными значениями. Все отсутствующие значения заменены медианными величинами в зависимости от возраста заемщика."
   ]
  },
  {
   "cell_type": "markdown",
   "id": "15c0eca3",
   "metadata": {},
   "source": [
    "### Шаг 2.3. Изменение типов данных."
   ]
  },
  {
   "cell_type": "markdown",
   "id": "b7a70445",
   "metadata": {},
   "source": [
    "[*Вернуться к оглавлению*](#Оглавление)"
   ]
  },
  {
   "cell_type": "markdown",
   "id": "6520848b",
   "metadata": {},
   "source": [
    "Заменим вещественный тип данных в столбцах `days_employed` и `total_income` на целочисленный:"
   ]
  },
  {
   "cell_type": "code",
   "execution_count": 23,
   "id": "c0ba2a90",
   "metadata": {},
   "outputs": [
    {
     "data": {
      "text/html": [
       "<div>\n",
       "<style scoped>\n",
       "    .dataframe tbody tr th:only-of-type {\n",
       "        vertical-align: middle;\n",
       "    }\n",
       "\n",
       "    .dataframe tbody tr th {\n",
       "        vertical-align: top;\n",
       "    }\n",
       "\n",
       "    .dataframe thead th {\n",
       "        text-align: right;\n",
       "    }\n",
       "</style>\n",
       "<table border=\"1\" class=\"dataframe\">\n",
       "  <thead>\n",
       "    <tr style=\"text-align: right;\">\n",
       "      <th></th>\n",
       "      <th>children</th>\n",
       "      <th>days_employed</th>\n",
       "      <th>dob_years</th>\n",
       "      <th>education</th>\n",
       "      <th>education_id</th>\n",
       "      <th>family_status</th>\n",
       "      <th>family_status_id</th>\n",
       "      <th>gender</th>\n",
       "      <th>income_type</th>\n",
       "      <th>debt</th>\n",
       "      <th>total_income</th>\n",
       "      <th>purpose</th>\n",
       "      <th>dob_group</th>\n",
       "    </tr>\n",
       "  </thead>\n",
       "  <tbody>\n",
       "    <tr>\n",
       "      <th>0</th>\n",
       "      <td>1</td>\n",
       "      <td>8437</td>\n",
       "      <td>42</td>\n",
       "      <td>высшее</td>\n",
       "      <td>0</td>\n",
       "      <td>женат / замужем</td>\n",
       "      <td>0</td>\n",
       "      <td>F</td>\n",
       "      <td>сотрудник</td>\n",
       "      <td>0</td>\n",
       "      <td>253875</td>\n",
       "      <td>покупка жилья</td>\n",
       "      <td>40-49</td>\n",
       "    </tr>\n",
       "    <tr>\n",
       "      <th>1</th>\n",
       "      <td>1</td>\n",
       "      <td>4024</td>\n",
       "      <td>36</td>\n",
       "      <td>среднее</td>\n",
       "      <td>1</td>\n",
       "      <td>женат / замужем</td>\n",
       "      <td>0</td>\n",
       "      <td>F</td>\n",
       "      <td>сотрудник</td>\n",
       "      <td>0</td>\n",
       "      <td>112080</td>\n",
       "      <td>приобретение автомобиля</td>\n",
       "      <td>30-39</td>\n",
       "    </tr>\n",
       "    <tr>\n",
       "      <th>2</th>\n",
       "      <td>0</td>\n",
       "      <td>5623</td>\n",
       "      <td>33</td>\n",
       "      <td>Среднее</td>\n",
       "      <td>1</td>\n",
       "      <td>женат / замужем</td>\n",
       "      <td>0</td>\n",
       "      <td>M</td>\n",
       "      <td>сотрудник</td>\n",
       "      <td>0</td>\n",
       "      <td>145885</td>\n",
       "      <td>покупка жилья</td>\n",
       "      <td>30-39</td>\n",
       "    </tr>\n",
       "    <tr>\n",
       "      <th>3</th>\n",
       "      <td>3</td>\n",
       "      <td>4124</td>\n",
       "      <td>32</td>\n",
       "      <td>среднее</td>\n",
       "      <td>1</td>\n",
       "      <td>женат / замужем</td>\n",
       "      <td>0</td>\n",
       "      <td>M</td>\n",
       "      <td>сотрудник</td>\n",
       "      <td>0</td>\n",
       "      <td>267628</td>\n",
       "      <td>дополнительное образование</td>\n",
       "      <td>30-39</td>\n",
       "    </tr>\n",
       "    <tr>\n",
       "      <th>4</th>\n",
       "      <td>0</td>\n",
       "      <td>2261</td>\n",
       "      <td>53</td>\n",
       "      <td>среднее</td>\n",
       "      <td>1</td>\n",
       "      <td>гражданский брак</td>\n",
       "      <td>1</td>\n",
       "      <td>F</td>\n",
       "      <td>пенсионер</td>\n",
       "      <td>0</td>\n",
       "      <td>158616</td>\n",
       "      <td>сыграть свадьбу</td>\n",
       "      <td>50-59</td>\n",
       "    </tr>\n",
       "  </tbody>\n",
       "</table>\n",
       "</div>"
      ],
      "text/plain": [
       "   children  days_employed  dob_years education  education_id  \\\n",
       "0         1           8437         42    высшее             0   \n",
       "1         1           4024         36   среднее             1   \n",
       "2         0           5623         33   Среднее             1   \n",
       "3         3           4124         32   среднее             1   \n",
       "4         0           2261         53   среднее             1   \n",
       "\n",
       "      family_status  family_status_id gender income_type  debt  total_income  \\\n",
       "0   женат / замужем                 0      F   сотрудник     0        253875   \n",
       "1   женат / замужем                 0      F   сотрудник     0        112080   \n",
       "2   женат / замужем                 0      M   сотрудник     0        145885   \n",
       "3   женат / замужем                 0      M   сотрудник     0        267628   \n",
       "4  гражданский брак                 1      F   пенсионер     0        158616   \n",
       "\n",
       "                      purpose dob_group  \n",
       "0               покупка жилья     40-49  \n",
       "1     приобретение автомобиля     30-39  \n",
       "2               покупка жилья     30-39  \n",
       "3  дополнительное образование     30-39  \n",
       "4             сыграть свадьбу     50-59  "
      ]
     },
     "execution_count": 23,
     "metadata": {},
     "output_type": "execute_result"
    }
   ],
   "source": [
    "data['days_employed'] = data[['days_employed']].astype('int')\n",
    "data['total_income'] = data[['total_income']].astype('int')\n",
    "data.head()"
   ]
  },
  {
   "cell_type": "markdown",
   "id": "1414e168",
   "metadata": {},
   "source": [
    "### Шаг 2.4. Удаление дубликатов."
   ]
  },
  {
   "cell_type": "markdown",
   "id": "16d09a2f",
   "metadata": {},
   "source": [
    "[*Вернуться к оглавлению*](#Оглавление)"
   ]
  },
  {
   "cell_type": "markdown",
   "id": "6324f2bf",
   "metadata": {},
   "source": [
    "Приведем значения столбцов `education`, `family_status`, `income_type`, `purpose` к нижнему регистру:"
   ]
  },
  {
   "cell_type": "code",
   "execution_count": 24,
   "id": "8b92ccff",
   "metadata": {},
   "outputs": [],
   "source": [
    "data['education'] = data['education'].str.lower()\n",
    "data['family_status'] = data['family_status'].str.lower()\n",
    "data['income_type'] = data['income_type'].str.lower()\n",
    "data['purpose'] = data['purpose'].str.lower()"
   ]
  },
  {
   "cell_type": "markdown",
   "id": "2fefe047",
   "metadata": {},
   "source": [
    "Проверим данные в столбце `education`:"
   ]
  },
  {
   "cell_type": "code",
   "execution_count": 25,
   "id": "7c9bb527",
   "metadata": {},
   "outputs": [
    {
     "data": {
      "text/plain": [
       "среднее                15233\n",
       "высшее                  5260\n",
       "неоконченное высшее      744\n",
       "начальное                282\n",
       "ученая степень             6\n",
       "Name: education, dtype: int64"
      ]
     },
     "execution_count": 25,
     "metadata": {},
     "output_type": "execute_result"
    }
   ],
   "source": [
    "data['education'].value_counts()"
   ]
  },
  {
   "cell_type": "markdown",
   "id": "c4379192",
   "metadata": {},
   "source": [
    "Проверим данные в столбце `family_status`:"
   ]
  },
  {
   "cell_type": "code",
   "execution_count": 26,
   "id": "e9cb492c",
   "metadata": {},
   "outputs": [
    {
     "data": {
      "text/plain": [
       "женат / замужем          12380\n",
       "гражданский брак          4177\n",
       "не женат / не замужем     2813\n",
       "в разводе                 1195\n",
       "вдовец / вдова             960\n",
       "Name: family_status, dtype: int64"
      ]
     },
     "execution_count": 26,
     "metadata": {},
     "output_type": "execute_result"
    }
   ],
   "source": [
    "data['family_status'].value_counts()"
   ]
  },
  {
   "cell_type": "markdown",
   "id": "9adbe524",
   "metadata": {},
   "source": [
    "Проверим данные в столбце `income_type`:"
   ]
  },
  {
   "cell_type": "code",
   "execution_count": 27,
   "id": "c50d064b",
   "metadata": {},
   "outputs": [
    {
     "data": {
      "text/plain": [
       "сотрудник          11119\n",
       "компаньон           5085\n",
       "пенсионер           3856\n",
       "госслужащий         1459\n",
       "безработный            2\n",
       "предприниматель        2\n",
       "студент                1\n",
       "в декрете              1\n",
       "Name: income_type, dtype: int64"
      ]
     },
     "execution_count": 27,
     "metadata": {},
     "output_type": "execute_result"
    }
   ],
   "source": [
    "data['income_type'].value_counts()"
   ]
  },
  {
   "cell_type": "markdown",
   "id": "8c3b2c0b",
   "metadata": {},
   "source": [
    "Проверим данные в столбце `purpose`:"
   ]
  },
  {
   "cell_type": "code",
   "execution_count": 28,
   "id": "2711d5a8",
   "metadata": {},
   "outputs": [
    {
     "data": {
      "text/plain": [
       "свадьба                                   797\n",
       "на проведение свадьбы                     777\n",
       "сыграть свадьбу                           774\n",
       "операции с недвижимостью                  676\n",
       "покупка коммерческой недвижимости         664\n",
       "покупка жилья для сдачи                   653\n",
       "операции с жильем                         653\n",
       "операции с коммерческой недвижимостью     651\n",
       "покупка жилья                             647\n",
       "жилье                                     647\n",
       "покупка жилья для семьи                   641\n",
       "строительство собственной недвижимости    635\n",
       "недвижимость                              634\n",
       "операции со своей недвижимостью           630\n",
       "строительство жилой недвижимости          626\n",
       "покупка недвижимости                      624\n",
       "строительство недвижимости                620\n",
       "покупка своего жилья                      620\n",
       "ремонт жилью                              612\n",
       "покупка жилой недвижимости                607\n",
       "на покупку своего автомобиля              505\n",
       "заняться высшим образованием              496\n",
       "автомобиль                                495\n",
       "сделка с подержанным автомобилем          489\n",
       "свой автомобиль                           480\n",
       "на покупку подержанного автомобиля        479\n",
       "автомобили                                478\n",
       "на покупку автомобиля                     472\n",
       "дополнительное образование                462\n",
       "приобретение автомобиля                   462\n",
       "сделка с автомобилем                      455\n",
       "высшее образование                        453\n",
       "образование                               447\n",
       "получение дополнительного образования     447\n",
       "получение образования                     443\n",
       "профильное образование                    436\n",
       "получение высшего образования             426\n",
       "заняться образованием                     412\n",
       "Name: purpose, dtype: int64"
      ]
     },
     "execution_count": 28,
     "metadata": {},
     "output_type": "execute_result"
    }
   ],
   "source": [
    "data['purpose'].value_counts()"
   ]
  },
  {
   "cell_type": "markdown",
   "id": "5e42e09e",
   "metadata": {},
   "source": [
    "Проверим данные в столбце `gender`:"
   ]
  },
  {
   "cell_type": "code",
   "execution_count": 29,
   "id": "060eadb1",
   "metadata": {},
   "outputs": [
    {
     "data": {
      "text/plain": [
       "F      14236\n",
       "M       7288\n",
       "XNA        1\n",
       "Name: gender, dtype: int64"
      ]
     },
     "execution_count": 29,
     "metadata": {},
     "output_type": "execute_result"
    }
   ],
   "source": [
    "data['gender'].value_counts()"
   ]
  },
  {
   "cell_type": "code",
   "execution_count": 30,
   "id": "0502ceb4",
   "metadata": {
    "scrolled": true
   },
   "outputs": [
    {
     "data": {
      "text/html": [
       "<div>\n",
       "<style scoped>\n",
       "    .dataframe tbody tr th:only-of-type {\n",
       "        vertical-align: middle;\n",
       "    }\n",
       "\n",
       "    .dataframe tbody tr th {\n",
       "        vertical-align: top;\n",
       "    }\n",
       "\n",
       "    .dataframe thead th {\n",
       "        text-align: right;\n",
       "    }\n",
       "</style>\n",
       "<table border=\"1\" class=\"dataframe\">\n",
       "  <thead>\n",
       "    <tr style=\"text-align: right;\">\n",
       "      <th></th>\n",
       "      <th>children</th>\n",
       "      <th>days_employed</th>\n",
       "      <th>dob_years</th>\n",
       "      <th>education</th>\n",
       "      <th>education_id</th>\n",
       "      <th>family_status</th>\n",
       "      <th>family_status_id</th>\n",
       "      <th>gender</th>\n",
       "      <th>income_type</th>\n",
       "      <th>debt</th>\n",
       "      <th>total_income</th>\n",
       "      <th>purpose</th>\n",
       "      <th>dob_group</th>\n",
       "    </tr>\n",
       "  </thead>\n",
       "  <tbody>\n",
       "    <tr>\n",
       "      <th>10701</th>\n",
       "      <td>0</td>\n",
       "      <td>2358</td>\n",
       "      <td>24</td>\n",
       "      <td>неоконченное высшее</td>\n",
       "      <td>2</td>\n",
       "      <td>гражданский брак</td>\n",
       "      <td>1</td>\n",
       "      <td>XNA</td>\n",
       "      <td>компаньон</td>\n",
       "      <td>0</td>\n",
       "      <td>203905</td>\n",
       "      <td>покупка недвижимости</td>\n",
       "      <td>18-29</td>\n",
       "    </tr>\n",
       "  </tbody>\n",
       "</table>\n",
       "</div>"
      ],
      "text/plain": [
       "       children  days_employed  dob_years            education  education_id  \\\n",
       "10701         0           2358         24  неоконченное высшее             2   \n",
       "\n",
       "          family_status  family_status_id gender income_type  debt  \\\n",
       "10701  гражданский брак                 1    XNA   компаньон     0   \n",
       "\n",
       "       total_income               purpose dob_group  \n",
       "10701        203905  покупка недвижимости     18-29  "
      ]
     },
     "execution_count": 30,
     "metadata": {},
     "output_type": "execute_result"
    }
   ],
   "source": [
    "data[data['gender'] == 'XNA']"
   ]
  },
  {
   "cell_type": "markdown",
   "id": "d0342f1d",
   "metadata": {},
   "source": [
    "В таблице была обнаружена одна строка с неизвестным полом. При внесении данных была допущена ошибка.  "
   ]
  },
  {
   "cell_type": "markdown",
   "id": "c1f2b6dc",
   "metadata": {},
   "source": [
    "Проверим данные в столбце `children`:"
   ]
  },
  {
   "cell_type": "code",
   "execution_count": 31,
   "id": "dd76be64",
   "metadata": {},
   "outputs": [
    {
     "data": {
      "text/plain": [
       " 0     14149\n",
       " 1      4818\n",
       " 2      2055\n",
       " 3       330\n",
       " 20       76\n",
       "-1        47\n",
       " 4        41\n",
       " 5         9\n",
       "Name: children, dtype: int64"
      ]
     },
     "execution_count": 31,
     "metadata": {},
     "output_type": "execute_result"
    }
   ],
   "source": [
    "data['children'].value_counts()"
   ]
  },
  {
   "cell_type": "markdown",
   "id": "19a2a54e",
   "metadata": {},
   "source": [
    "В таблице обнаружены ошибки по количеству детей: -1 и 20.  \n",
    "Заменим значения -1 на 1, т.к., вероятно, была допущена опечатка при внесении данных.\n",
    "Заменим 20 на медианную величину, т.к. неизвестно какое значение должно было быть 2 или 0."
   ]
  },
  {
   "cell_type": "code",
   "execution_count": 32,
   "id": "ac6a8576",
   "metadata": {},
   "outputs": [
    {
     "data": {
      "text/plain": [
       "0.0    14225\n",
       "1.0     4865\n",
       "2.0     2055\n",
       "3.0      330\n",
       "4.0       41\n",
       "5.0        9\n",
       "Name: children, dtype: int64"
      ]
     },
     "execution_count": 32,
     "metadata": {},
     "output_type": "execute_result"
    }
   ],
   "source": [
    "data['children'] = data['children'].replace(-1, 1)\n",
    "data['children'] = data['children'].replace(20, np.NaN)\n",
    "data['children'] = data['children'].fillna(data['children'].median())\n",
    "data['children'].value_counts()"
   ]
  },
  {
   "cell_type": "markdown",
   "id": "9691fe61",
   "metadata": {},
   "source": [
    "Удалим дубликаты в таблице:"
   ]
  },
  {
   "cell_type": "code",
   "execution_count": 33,
   "id": "1f00e68d",
   "metadata": {},
   "outputs": [
    {
     "name": "stdout",
     "output_type": "stream",
     "text": [
      "<class 'pandas.core.frame.DataFrame'>\n",
      "RangeIndex: 21454 entries, 0 to 21453\n",
      "Data columns (total 13 columns):\n",
      " #   Column            Non-Null Count  Dtype   \n",
      "---  ------            --------------  -----   \n",
      " 0   children          21454 non-null  float64 \n",
      " 1   days_employed     21454 non-null  int32   \n",
      " 2   dob_years         21454 non-null  int64   \n",
      " 3   education         21454 non-null  object  \n",
      " 4   education_id      21454 non-null  int64   \n",
      " 5   family_status     21454 non-null  object  \n",
      " 6   family_status_id  21454 non-null  int64   \n",
      " 7   gender            21454 non-null  object  \n",
      " 8   income_type       21454 non-null  object  \n",
      " 9   debt              21454 non-null  int64   \n",
      " 10  total_income      21454 non-null  int32   \n",
      " 11  purpose           21454 non-null  object  \n",
      " 12  dob_group         21454 non-null  category\n",
      "dtypes: category(1), float64(1), int32(2), int64(4), object(5)\n",
      "memory usage: 1.8+ MB\n"
     ]
    }
   ],
   "source": [
    "data = data.drop_duplicates().reset_index(drop=True) \n",
    "data.info()"
   ]
  },
  {
   "cell_type": "markdown",
   "id": "d731ba42",
   "metadata": {},
   "source": [
    "Для поиска дубликатов были проделаны следующие операции:  \n",
    "* приведение значений строковых переменных к нижнему регистру\n",
    "* проверка столбцов на уникальность данных  \n",
    "\n",
    "В столбце с полом заемщика `gender` была обнаружена строка с ошибочным значением `XNA`. Т.к. по имеющимся данным восстановить пол невозможно, значение было оставлено без изменений.  \n",
    "В столбце с данными о количестве детей были обнаружены ошибочные данные -1 и 20. -1 было заменено на 1, т.к. при внесении данных минус мог быть указан ошибочно. 20 было заменено на медианное значение, т.к. установить исходное верное значение невозможно.  \n",
    "Для удаления дубликатов был использован метод `drop_duplicates()` с обновлением индексов."
   ]
  },
  {
   "cell_type": "markdown",
   "id": "e1b516e8",
   "metadata": {},
   "source": [
    "### Шаг 2.5. Формирование дополнительных датафреймов словарей, декомпозиция исходного датафрейма."
   ]
  },
  {
   "cell_type": "markdown",
   "id": "a45039fd",
   "metadata": {},
   "source": [
    "[*Вернуться к оглавлению*](#Оглавление)"
   ]
  },
  {
   "cell_type": "code",
   "execution_count": 34,
   "id": "de716429",
   "metadata": {},
   "outputs": [
    {
     "data": {
      "text/html": [
       "<div>\n",
       "<style scoped>\n",
       "    .dataframe tbody tr th:only-of-type {\n",
       "        vertical-align: middle;\n",
       "    }\n",
       "\n",
       "    .dataframe tbody tr th {\n",
       "        vertical-align: top;\n",
       "    }\n",
       "\n",
       "    .dataframe thead th {\n",
       "        text-align: right;\n",
       "    }\n",
       "</style>\n",
       "<table border=\"1\" class=\"dataframe\">\n",
       "  <thead>\n",
       "    <tr style=\"text-align: right;\">\n",
       "      <th></th>\n",
       "      <th>education_id</th>\n",
       "      <th>education</th>\n",
       "    </tr>\n",
       "  </thead>\n",
       "  <tbody>\n",
       "    <tr>\n",
       "      <th>0</th>\n",
       "      <td>0</td>\n",
       "      <td>высшее</td>\n",
       "    </tr>\n",
       "    <tr>\n",
       "      <th>1</th>\n",
       "      <td>1</td>\n",
       "      <td>среднее</td>\n",
       "    </tr>\n",
       "    <tr>\n",
       "      <th>2</th>\n",
       "      <td>2</td>\n",
       "      <td>неоконченное высшее</td>\n",
       "    </tr>\n",
       "    <tr>\n",
       "      <th>3</th>\n",
       "      <td>3</td>\n",
       "      <td>начальное</td>\n",
       "    </tr>\n",
       "    <tr>\n",
       "      <th>4</th>\n",
       "      <td>4</td>\n",
       "      <td>ученая степень</td>\n",
       "    </tr>\n",
       "  </tbody>\n",
       "</table>\n",
       "</div>"
      ],
      "text/plain": [
       "   education_id            education\n",
       "0             0               высшее\n",
       "1             1              среднее\n",
       "2             2  неоконченное высшее\n",
       "3             3            начальное\n",
       "4             4       ученая степень"
      ]
     },
     "execution_count": 34,
     "metadata": {},
     "output_type": "execute_result"
    }
   ],
   "source": [
    "# Формируем словарь education_id - education\n",
    "education_dict = data[['education_id', 'education']]\n",
    "education_dict = education_dict.drop_duplicates().reset_index(drop=True).sort_values(by='education_id')\n",
    "education_dict"
   ]
  },
  {
   "cell_type": "code",
   "execution_count": 35,
   "id": "9d44a48b",
   "metadata": {},
   "outputs": [
    {
     "data": {
      "text/html": [
       "<div>\n",
       "<style scoped>\n",
       "    .dataframe tbody tr th:only-of-type {\n",
       "        vertical-align: middle;\n",
       "    }\n",
       "\n",
       "    .dataframe tbody tr th {\n",
       "        vertical-align: top;\n",
       "    }\n",
       "\n",
       "    .dataframe thead th {\n",
       "        text-align: right;\n",
       "    }\n",
       "</style>\n",
       "<table border=\"1\" class=\"dataframe\">\n",
       "  <thead>\n",
       "    <tr style=\"text-align: right;\">\n",
       "      <th></th>\n",
       "      <th>family_status_id</th>\n",
       "      <th>family_status</th>\n",
       "    </tr>\n",
       "  </thead>\n",
       "  <tbody>\n",
       "    <tr>\n",
       "      <th>0</th>\n",
       "      <td>0</td>\n",
       "      <td>женат / замужем</td>\n",
       "    </tr>\n",
       "    <tr>\n",
       "      <th>1</th>\n",
       "      <td>1</td>\n",
       "      <td>гражданский брак</td>\n",
       "    </tr>\n",
       "    <tr>\n",
       "      <th>2</th>\n",
       "      <td>2</td>\n",
       "      <td>вдовец / вдова</td>\n",
       "    </tr>\n",
       "    <tr>\n",
       "      <th>3</th>\n",
       "      <td>3</td>\n",
       "      <td>в разводе</td>\n",
       "    </tr>\n",
       "    <tr>\n",
       "      <th>4</th>\n",
       "      <td>4</td>\n",
       "      <td>не женат / не замужем</td>\n",
       "    </tr>\n",
       "  </tbody>\n",
       "</table>\n",
       "</div>"
      ],
      "text/plain": [
       "   family_status_id          family_status\n",
       "0                 0        женат / замужем\n",
       "1                 1       гражданский брак\n",
       "2                 2         вдовец / вдова\n",
       "3                 3              в разводе\n",
       "4                 4  не женат / не замужем"
      ]
     },
     "execution_count": 35,
     "metadata": {},
     "output_type": "execute_result"
    }
   ],
   "source": [
    "# формируем словарь family_status_id - family_status\n",
    "family_dict = data[['family_status_id', 'family_status']]\n",
    "family_dict = family_dict.drop_duplicates().reset_index(drop=True).sort_values(by='family_status_id')\n",
    "family_dict"
   ]
  },
  {
   "cell_type": "code",
   "execution_count": 36,
   "id": "5731a56c",
   "metadata": {},
   "outputs": [
    {
     "data": {
      "text/html": [
       "<div>\n",
       "<style scoped>\n",
       "    .dataframe tbody tr th:only-of-type {\n",
       "        vertical-align: middle;\n",
       "    }\n",
       "\n",
       "    .dataframe tbody tr th {\n",
       "        vertical-align: top;\n",
       "    }\n",
       "\n",
       "    .dataframe thead th {\n",
       "        text-align: right;\n",
       "    }\n",
       "</style>\n",
       "<table border=\"1\" class=\"dataframe\">\n",
       "  <thead>\n",
       "    <tr style=\"text-align: right;\">\n",
       "      <th></th>\n",
       "      <th>children</th>\n",
       "      <th>days_employed</th>\n",
       "      <th>dob_years</th>\n",
       "      <th>education_id</th>\n",
       "      <th>family_status_id</th>\n",
       "      <th>gender</th>\n",
       "      <th>income_type</th>\n",
       "      <th>debt</th>\n",
       "      <th>total_income</th>\n",
       "      <th>purpose</th>\n",
       "      <th>dob_group</th>\n",
       "    </tr>\n",
       "  </thead>\n",
       "  <tbody>\n",
       "    <tr>\n",
       "      <th>0</th>\n",
       "      <td>1.0</td>\n",
       "      <td>8437</td>\n",
       "      <td>42</td>\n",
       "      <td>0</td>\n",
       "      <td>0</td>\n",
       "      <td>F</td>\n",
       "      <td>сотрудник</td>\n",
       "      <td>0</td>\n",
       "      <td>253875</td>\n",
       "      <td>покупка жилья</td>\n",
       "      <td>40-49</td>\n",
       "    </tr>\n",
       "    <tr>\n",
       "      <th>1</th>\n",
       "      <td>1.0</td>\n",
       "      <td>4024</td>\n",
       "      <td>36</td>\n",
       "      <td>1</td>\n",
       "      <td>0</td>\n",
       "      <td>F</td>\n",
       "      <td>сотрудник</td>\n",
       "      <td>0</td>\n",
       "      <td>112080</td>\n",
       "      <td>приобретение автомобиля</td>\n",
       "      <td>30-39</td>\n",
       "    </tr>\n",
       "    <tr>\n",
       "      <th>2</th>\n",
       "      <td>0.0</td>\n",
       "      <td>5623</td>\n",
       "      <td>33</td>\n",
       "      <td>1</td>\n",
       "      <td>0</td>\n",
       "      <td>M</td>\n",
       "      <td>сотрудник</td>\n",
       "      <td>0</td>\n",
       "      <td>145885</td>\n",
       "      <td>покупка жилья</td>\n",
       "      <td>30-39</td>\n",
       "    </tr>\n",
       "    <tr>\n",
       "      <th>3</th>\n",
       "      <td>3.0</td>\n",
       "      <td>4124</td>\n",
       "      <td>32</td>\n",
       "      <td>1</td>\n",
       "      <td>0</td>\n",
       "      <td>M</td>\n",
       "      <td>сотрудник</td>\n",
       "      <td>0</td>\n",
       "      <td>267628</td>\n",
       "      <td>дополнительное образование</td>\n",
       "      <td>30-39</td>\n",
       "    </tr>\n",
       "    <tr>\n",
       "      <th>4</th>\n",
       "      <td>0.0</td>\n",
       "      <td>2261</td>\n",
       "      <td>53</td>\n",
       "      <td>1</td>\n",
       "      <td>1</td>\n",
       "      <td>F</td>\n",
       "      <td>пенсионер</td>\n",
       "      <td>0</td>\n",
       "      <td>158616</td>\n",
       "      <td>сыграть свадьбу</td>\n",
       "      <td>50-59</td>\n",
       "    </tr>\n",
       "  </tbody>\n",
       "</table>\n",
       "</div>"
      ],
      "text/plain": [
       "   children  days_employed  dob_years  education_id  family_status_id gender  \\\n",
       "0       1.0           8437         42             0                 0      F   \n",
       "1       1.0           4024         36             1                 0      F   \n",
       "2       0.0           5623         33             1                 0      M   \n",
       "3       3.0           4124         32             1                 0      M   \n",
       "4       0.0           2261         53             1                 1      F   \n",
       "\n",
       "  income_type  debt  total_income                     purpose dob_group  \n",
       "0   сотрудник     0        253875               покупка жилья     40-49  \n",
       "1   сотрудник     0        112080     приобретение автомобиля     30-39  \n",
       "2   сотрудник     0        145885               покупка жилья     30-39  \n",
       "3   сотрудник     0        267628  дополнительное образование     30-39  \n",
       "4   пенсионер     0        158616             сыграть свадьбу     50-59  "
      ]
     },
     "execution_count": 36,
     "metadata": {},
     "output_type": "execute_result"
    }
   ],
   "source": [
    "# Удаляем из исходного датафрейма столбцы education и family_status\n",
    "data = data.drop('education',axis=1)\n",
    "data = data.drop('family_status',axis=1)\n",
    "data.head()"
   ]
  },
  {
   "cell_type": "markdown",
   "id": "306531f2",
   "metadata": {},
   "source": [
    "### Шаг 2.6. Категоризация дохода."
   ]
  },
  {
   "cell_type": "markdown",
   "id": "ab11b600",
   "metadata": {},
   "source": [
    "[*Вернуться к оглавлению*](#Оглавление)"
   ]
  },
  {
   "cell_type": "markdown",
   "id": "ac4676fe",
   "metadata": {},
   "source": [
    "На основании диапазонов доходов, указанных ниже, создаем столбец `total_income_category` с категориями:\n",
    "\n",
    "    0–30000 — 'E';\n",
    "    30001–50000 — 'D';\n",
    "    50001–200000 — 'C';\n",
    "    200001–1000000 — 'B';\n",
    "    1000001 и выше — 'A'."
   ]
  },
  {
   "cell_type": "code",
   "execution_count": 37,
   "id": "26ab8f08",
   "metadata": {},
   "outputs": [
    {
     "data": {
      "text/plain": [
       "C    16015\n",
       "B     5042\n",
       "D      350\n",
       "A       25\n",
       "E       22\n",
       "Name: total_income_category, dtype: int64"
      ]
     },
     "execution_count": 37,
     "metadata": {},
     "output_type": "execute_result"
    }
   ],
   "source": [
    "# создаем функцию, которая определяет категорию заемщика по уровню дохода\n",
    "def total_income_category(value):\n",
    "    try:\n",
    "        if (value > 0) and (value <= 30000):\n",
    "            return 'E'\n",
    "        if (value > 30000) and (value <= 50000):\n",
    "            return 'D'\n",
    "        if (value > 50000) and (value <= 200000):\n",
    "            return 'C'\n",
    "        if (value > 200000) and (value <= 1000000):\n",
    "            return 'B'\n",
    "        if value > 1000000:\n",
    "            return 'A'\n",
    "        else:\n",
    "            return 'Данные по доходам не могут быть меньше или раны нулю'\n",
    "    except:\n",
    "        return 'Данные по доходам неверные или отсутствуют'\n",
    "\n",
    "data['total_income_category'] = data['total_income'].apply(total_income_category)\n",
    "data['total_income_category'].value_counts()"
   ]
  },
  {
   "cell_type": "markdown",
   "id": "66744cd9",
   "metadata": {},
   "source": [
    "### Шаг 2.7. Категоризация целей кредита."
   ]
  },
  {
   "cell_type": "markdown",
   "id": "d1d80900",
   "metadata": {},
   "source": [
    "[*Вернуться к оглавлению*](#Оглавление)"
   ]
  },
  {
   "cell_type": "markdown",
   "id": "c7b8d9ba",
   "metadata": {},
   "source": [
    "Создаем функцию, которая на основании данных из столбца `purpose` сформирует новый столбец `purpose_category`, в который войдут следующие категории:\n",
    "\n",
    "    'операции с автомобилем',\n",
    "    'операции с недвижимостью',\n",
    "    'проведение свадьбы',\n",
    "    'получение образования'."
   ]
  },
  {
   "cell_type": "code",
   "execution_count": 38,
   "id": "87baf79a",
   "metadata": {
    "scrolled": true
   },
   "outputs": [
    {
     "data": {
      "text/html": [
       "<div>\n",
       "<style scoped>\n",
       "    .dataframe tbody tr th:only-of-type {\n",
       "        vertical-align: middle;\n",
       "    }\n",
       "\n",
       "    .dataframe tbody tr th {\n",
       "        vertical-align: top;\n",
       "    }\n",
       "\n",
       "    .dataframe thead th {\n",
       "        text-align: right;\n",
       "    }\n",
       "</style>\n",
       "<table border=\"1\" class=\"dataframe\">\n",
       "  <thead>\n",
       "    <tr style=\"text-align: right;\">\n",
       "      <th></th>\n",
       "      <th>children</th>\n",
       "      <th>days_employed</th>\n",
       "      <th>dob_years</th>\n",
       "      <th>education_id</th>\n",
       "      <th>family_status_id</th>\n",
       "      <th>gender</th>\n",
       "      <th>income_type</th>\n",
       "      <th>debt</th>\n",
       "      <th>total_income</th>\n",
       "      <th>purpose</th>\n",
       "      <th>dob_group</th>\n",
       "      <th>total_income_category</th>\n",
       "      <th>purpose_category</th>\n",
       "    </tr>\n",
       "  </thead>\n",
       "  <tbody>\n",
       "    <tr>\n",
       "      <th>0</th>\n",
       "      <td>1.0</td>\n",
       "      <td>8437</td>\n",
       "      <td>42</td>\n",
       "      <td>0</td>\n",
       "      <td>0</td>\n",
       "      <td>F</td>\n",
       "      <td>сотрудник</td>\n",
       "      <td>0</td>\n",
       "      <td>253875</td>\n",
       "      <td>покупка жилья</td>\n",
       "      <td>40-49</td>\n",
       "      <td>B</td>\n",
       "      <td>операции с недвижимостью</td>\n",
       "    </tr>\n",
       "    <tr>\n",
       "      <th>1</th>\n",
       "      <td>1.0</td>\n",
       "      <td>4024</td>\n",
       "      <td>36</td>\n",
       "      <td>1</td>\n",
       "      <td>0</td>\n",
       "      <td>F</td>\n",
       "      <td>сотрудник</td>\n",
       "      <td>0</td>\n",
       "      <td>112080</td>\n",
       "      <td>приобретение автомобиля</td>\n",
       "      <td>30-39</td>\n",
       "      <td>C</td>\n",
       "      <td>операции с автомобилем</td>\n",
       "    </tr>\n",
       "    <tr>\n",
       "      <th>2</th>\n",
       "      <td>0.0</td>\n",
       "      <td>5623</td>\n",
       "      <td>33</td>\n",
       "      <td>1</td>\n",
       "      <td>0</td>\n",
       "      <td>M</td>\n",
       "      <td>сотрудник</td>\n",
       "      <td>0</td>\n",
       "      <td>145885</td>\n",
       "      <td>покупка жилья</td>\n",
       "      <td>30-39</td>\n",
       "      <td>C</td>\n",
       "      <td>операции с недвижимостью</td>\n",
       "    </tr>\n",
       "    <tr>\n",
       "      <th>3</th>\n",
       "      <td>3.0</td>\n",
       "      <td>4124</td>\n",
       "      <td>32</td>\n",
       "      <td>1</td>\n",
       "      <td>0</td>\n",
       "      <td>M</td>\n",
       "      <td>сотрудник</td>\n",
       "      <td>0</td>\n",
       "      <td>267628</td>\n",
       "      <td>дополнительное образование</td>\n",
       "      <td>30-39</td>\n",
       "      <td>B</td>\n",
       "      <td>получение образования</td>\n",
       "    </tr>\n",
       "    <tr>\n",
       "      <th>4</th>\n",
       "      <td>0.0</td>\n",
       "      <td>2261</td>\n",
       "      <td>53</td>\n",
       "      <td>1</td>\n",
       "      <td>1</td>\n",
       "      <td>F</td>\n",
       "      <td>пенсионер</td>\n",
       "      <td>0</td>\n",
       "      <td>158616</td>\n",
       "      <td>сыграть свадьбу</td>\n",
       "      <td>50-59</td>\n",
       "      <td>C</td>\n",
       "      <td>проведение свадьбы</td>\n",
       "    </tr>\n",
       "  </tbody>\n",
       "</table>\n",
       "</div>"
      ],
      "text/plain": [
       "   children  days_employed  dob_years  education_id  family_status_id gender  \\\n",
       "0       1.0           8437         42             0                 0      F   \n",
       "1       1.0           4024         36             1                 0      F   \n",
       "2       0.0           5623         33             1                 0      M   \n",
       "3       3.0           4124         32             1                 0      M   \n",
       "4       0.0           2261         53             1                 1      F   \n",
       "\n",
       "  income_type  debt  total_income                     purpose dob_group  \\\n",
       "0   сотрудник     0        253875               покупка жилья     40-49   \n",
       "1   сотрудник     0        112080     приобретение автомобиля     30-39   \n",
       "2   сотрудник     0        145885               покупка жилья     30-39   \n",
       "3   сотрудник     0        267628  дополнительное образование     30-39   \n",
       "4   пенсионер     0        158616             сыграть свадьбу     50-59   \n",
       "\n",
       "  total_income_category          purpose_category  \n",
       "0                     B  операции с недвижимостью  \n",
       "1                     C    операции с автомобилем  \n",
       "2                     C  операции с недвижимостью  \n",
       "3                     B     получение образования  \n",
       "4                     C        проведение свадьбы  "
      ]
     },
     "execution_count": 38,
     "metadata": {},
     "output_type": "execute_result"
    }
   ],
   "source": [
    "# функция, которая разбивает цели на категории:\n",
    "def purpose_category(val):\n",
    "    if 'свадь' in val:\n",
    "        return 'проведение свадьбы'\n",
    "    if 'недвиж' in val:\n",
    "        return 'операции с недвижимостью'\n",
    "    if 'жиль' in val:\n",
    "        return 'операции с недвижимостью'    \n",
    "    if 'автом' in val:\n",
    "        return 'операции с автомобилем'    \n",
    "    if 'образов' in val:\n",
    "        return 'получение образования'\n",
    "    else:\n",
    "        return 'цель не определена'\n",
    "\n",
    "data['purpose_category'] = data['purpose'].apply(purpose_category)\n",
    "data['purpose_category'].value_counts()\n",
    "data.head()"
   ]
  },
  {
   "cell_type": "markdown",
   "id": "911f8b30",
   "metadata": {},
   "source": [
    "## Ответы на вопросы."
   ]
  },
  {
   "cell_type": "markdown",
   "id": "053aa9cc",
   "metadata": {},
   "source": [
    "### Вопрос 1: Есть ли зависимость между количеством детей и возвратом кредита в срок?"
   ]
  },
  {
   "cell_type": "markdown",
   "id": "fb94cbab",
   "metadata": {},
   "source": [
    "[*Вернуться к оглавлению*](#Оглавление)"
   ]
  },
  {
   "cell_type": "code",
   "execution_count": 39,
   "id": "00dac998",
   "metadata": {},
   "outputs": [
    {
     "data": {
      "text/html": [
       "<div>\n",
       "<style scoped>\n",
       "    .dataframe tbody tr th:only-of-type {\n",
       "        vertical-align: middle;\n",
       "    }\n",
       "\n",
       "    .dataframe tbody tr th {\n",
       "        vertical-align: top;\n",
       "    }\n",
       "\n",
       "    .dataframe thead th {\n",
       "        text-align: right;\n",
       "    }\n",
       "</style>\n",
       "<table border=\"1\" class=\"dataframe\">\n",
       "  <thead>\n",
       "    <tr style=\"text-align: right;\">\n",
       "      <th></th>\n",
       "      <th>count</th>\n",
       "      <th>mean</th>\n",
       "      <th>sum</th>\n",
       "      <th>percent_weight</th>\n",
       "    </tr>\n",
       "    <tr>\n",
       "      <th>children</th>\n",
       "      <th></th>\n",
       "      <th></th>\n",
       "      <th></th>\n",
       "      <th></th>\n",
       "    </tr>\n",
       "  </thead>\n",
       "  <tbody>\n",
       "    <tr>\n",
       "      <th>5.0</th>\n",
       "      <td>9</td>\n",
       "      <td>0.000000</td>\n",
       "      <td>0</td>\n",
       "      <td>0.041950</td>\n",
       "    </tr>\n",
       "    <tr>\n",
       "      <th>0.0</th>\n",
       "      <td>14167</td>\n",
       "      <td>0.075598</td>\n",
       "      <td>1071</td>\n",
       "      <td>66.034306</td>\n",
       "    </tr>\n",
       "    <tr>\n",
       "      <th>3.0</th>\n",
       "      <td>330</td>\n",
       "      <td>0.081818</td>\n",
       "      <td>27</td>\n",
       "      <td>1.538175</td>\n",
       "    </tr>\n",
       "    <tr>\n",
       "      <th>1.0</th>\n",
       "      <td>4855</td>\n",
       "      <td>0.091658</td>\n",
       "      <td>445</td>\n",
       "      <td>22.629813</td>\n",
       "    </tr>\n",
       "    <tr>\n",
       "      <th>2.0</th>\n",
       "      <td>2052</td>\n",
       "      <td>0.094542</td>\n",
       "      <td>194</td>\n",
       "      <td>9.564650</td>\n",
       "    </tr>\n",
       "    <tr>\n",
       "      <th>4.0</th>\n",
       "      <td>41</td>\n",
       "      <td>0.097561</td>\n",
       "      <td>4</td>\n",
       "      <td>0.191107</td>\n",
       "    </tr>\n",
       "  </tbody>\n",
       "</table>\n",
       "</div>"
      ],
      "text/plain": [
       "          count      mean   sum  percent_weight\n",
       "children                                       \n",
       "5.0           9  0.000000     0        0.041950\n",
       "0.0       14167  0.075598  1071       66.034306\n",
       "3.0         330  0.081818    27        1.538175\n",
       "1.0        4855  0.091658   445       22.629813\n",
       "2.0        2052  0.094542   194        9.564650\n",
       "4.0          41  0.097561     4        0.191107"
      ]
     },
     "execution_count": 39,
     "metadata": {},
     "output_type": "execute_result"
    }
   ],
   "source": [
    "# формируем сводную таблицу по количеству детей и задолженности:\n",
    "children_debt_group = data.pivot_table(index=['children'],values='debt',aggfunc={'count', 'sum', 'mean'})\n",
    "\n",
    "# рассчитаем вес категории количества детей по всей выборке\n",
    "children_debt_group['percent_weight'] =  children_debt_group['count'] * 100 / len(data)\n",
    "\n",
    "# выведем отсортированную таблицу по среднему значению задолженности для каждой категории\n",
    "children_debt_group.sort_values(by='mean')"
   ]
  },
  {
   "cell_type": "markdown",
   "id": "f47e8adf",
   "metadata": {},
   "source": [
    "Для анализа влияния количества детей на задолженность, исключим из выборки строки с весом менее 2%."
   ]
  },
  {
   "cell_type": "code",
   "execution_count": 40,
   "id": "270d2c35",
   "metadata": {},
   "outputs": [
    {
     "data": {
      "text/html": [
       "<div>\n",
       "<style scoped>\n",
       "    .dataframe tbody tr th:only-of-type {\n",
       "        vertical-align: middle;\n",
       "    }\n",
       "\n",
       "    .dataframe tbody tr th {\n",
       "        vertical-align: top;\n",
       "    }\n",
       "\n",
       "    .dataframe thead th {\n",
       "        text-align: right;\n",
       "    }\n",
       "</style>\n",
       "<table border=\"1\" class=\"dataframe\">\n",
       "  <thead>\n",
       "    <tr style=\"text-align: right;\">\n",
       "      <th></th>\n",
       "      <th>count</th>\n",
       "      <th>mean</th>\n",
       "      <th>sum</th>\n",
       "      <th>percent_weight</th>\n",
       "    </tr>\n",
       "    <tr>\n",
       "      <th>children</th>\n",
       "      <th></th>\n",
       "      <th></th>\n",
       "      <th></th>\n",
       "      <th></th>\n",
       "    </tr>\n",
       "  </thead>\n",
       "  <tbody>\n",
       "    <tr>\n",
       "      <th>0.0</th>\n",
       "      <td>14167</td>\n",
       "      <td>0.075598</td>\n",
       "      <td>1071</td>\n",
       "      <td>66.034306</td>\n",
       "    </tr>\n",
       "    <tr>\n",
       "      <th>1.0</th>\n",
       "      <td>4855</td>\n",
       "      <td>0.091658</td>\n",
       "      <td>445</td>\n",
       "      <td>22.629813</td>\n",
       "    </tr>\n",
       "    <tr>\n",
       "      <th>2.0</th>\n",
       "      <td>2052</td>\n",
       "      <td>0.094542</td>\n",
       "      <td>194</td>\n",
       "      <td>9.564650</td>\n",
       "    </tr>\n",
       "  </tbody>\n",
       "</table>\n",
       "</div>"
      ],
      "text/plain": [
       "          count      mean   sum  percent_weight\n",
       "children                                       \n",
       "0.0       14167  0.075598  1071       66.034306\n",
       "1.0        4855  0.091658   445       22.629813\n",
       "2.0        2052  0.094542   194        9.564650"
      ]
     },
     "execution_count": 40,
     "metadata": {},
     "output_type": "execute_result"
    }
   ],
   "source": [
    "children_debt_group[children_debt_group['percent_weight']>2].sort_values(by='mean')"
   ]
  },
  {
   "cell_type": "markdown",
   "id": "0e5e7eda",
   "metadata": {},
   "source": [
    "**Вывод 1:**  \n",
    "Выборка с количеством детей 5, 4 и 3 нерепрезентативна, т.к. составляет менее двух процентов данных.  \n",
    "Зависимость между количеством детей и возвратом кредита есть. Заемщики без детей возвращают долг чаще, чем заемщики с одним и двумя детьми.\n"
   ]
  },
  {
   "cell_type": "markdown",
   "id": "d3ca0151",
   "metadata": {},
   "source": [
    "### Вопрос 2. Есть ли зависимость между семейным положением и возвратом кредита в срок?"
   ]
  },
  {
   "cell_type": "markdown",
   "id": "333c1ea5",
   "metadata": {},
   "source": [
    "[*Вернуться к оглавлению*](#Оглавление)"
   ]
  },
  {
   "cell_type": "code",
   "execution_count": 41,
   "id": "26ee6360",
   "metadata": {},
   "outputs": [
    {
     "data": {
      "text/html": [
       "<div>\n",
       "<style scoped>\n",
       "    .dataframe tbody tr th:only-of-type {\n",
       "        vertical-align: middle;\n",
       "    }\n",
       "\n",
       "    .dataframe tbody tr th {\n",
       "        vertical-align: top;\n",
       "    }\n",
       "\n",
       "    .dataframe thead th {\n",
       "        text-align: right;\n",
       "    }\n",
       "</style>\n",
       "<table border=\"1\" class=\"dataframe\">\n",
       "  <thead>\n",
       "    <tr style=\"text-align: right;\">\n",
       "      <th></th>\n",
       "      <th>family_status_id</th>\n",
       "      <th>count</th>\n",
       "      <th>mean</th>\n",
       "      <th>sum</th>\n",
       "      <th>percent_weight</th>\n",
       "      <th>family_status</th>\n",
       "    </tr>\n",
       "  </thead>\n",
       "  <tbody>\n",
       "    <tr>\n",
       "      <th>2</th>\n",
       "      <td>2</td>\n",
       "      <td>959</td>\n",
       "      <td>0.065693</td>\n",
       "      <td>63</td>\n",
       "      <td>4.470029</td>\n",
       "      <td>вдовец / вдова</td>\n",
       "    </tr>\n",
       "    <tr>\n",
       "      <th>3</th>\n",
       "      <td>3</td>\n",
       "      <td>1195</td>\n",
       "      <td>0.071130</td>\n",
       "      <td>85</td>\n",
       "      <td>5.570057</td>\n",
       "      <td>в разводе</td>\n",
       "    </tr>\n",
       "    <tr>\n",
       "      <th>0</th>\n",
       "      <td>0</td>\n",
       "      <td>12339</td>\n",
       "      <td>0.075452</td>\n",
       "      <td>931</td>\n",
       "      <td>57.513750</td>\n",
       "      <td>женат / замужем</td>\n",
       "    </tr>\n",
       "    <tr>\n",
       "      <th>1</th>\n",
       "      <td>1</td>\n",
       "      <td>4151</td>\n",
       "      <td>0.093471</td>\n",
       "      <td>388</td>\n",
       "      <td>19.348373</td>\n",
       "      <td>гражданский брак</td>\n",
       "    </tr>\n",
       "    <tr>\n",
       "      <th>4</th>\n",
       "      <td>4</td>\n",
       "      <td>2810</td>\n",
       "      <td>0.097509</td>\n",
       "      <td>274</td>\n",
       "      <td>13.097791</td>\n",
       "      <td>не женат / не замужем</td>\n",
       "    </tr>\n",
       "  </tbody>\n",
       "</table>\n",
       "</div>"
      ],
      "text/plain": [
       "   family_status_id  count      mean  sum  percent_weight  \\\n",
       "2                 2    959  0.065693   63        4.470029   \n",
       "3                 3   1195  0.071130   85        5.570057   \n",
       "0                 0  12339  0.075452  931       57.513750   \n",
       "1                 1   4151  0.093471  388       19.348373   \n",
       "4                 4   2810  0.097509  274       13.097791   \n",
       "\n",
       "           family_status  \n",
       "2         вдовец / вдова  \n",
       "3              в разводе  \n",
       "0        женат / замужем  \n",
       "1       гражданский брак  \n",
       "4  не женат / не замужем  "
      ]
     },
     "execution_count": 41,
     "metadata": {},
     "output_type": "execute_result"
    }
   ],
   "source": [
    "# формируем сводную таблицу по семейному положению и задолженности:\n",
    "family_debt_group = data.pivot_table(index=['family_status_id'],values='debt',aggfunc={'count', 'sum', 'mean'})\n",
    "\n",
    "# рассчитаем вес категории семейное положение по всей выборке\n",
    "family_debt_group['percent_weight'] =  family_debt_group['count'] * 100 / len(data)\n",
    "\n",
    "# объединим сводную таблицу с категориями семейного положения\n",
    "family_debt_group = family_debt_group.merge(family_dict, on='family_status_id', how='left')\n",
    "\n",
    "# выведем отсортированную таблицу по среднему значению задолженности для каждой категории\n",
    "family_debt_group.sort_values(by='mean')"
   ]
  },
  {
   "cell_type": "markdown",
   "id": "439b5367",
   "metadata": {},
   "source": [
    "**Вывод 2:**  \n",
    "Зависимость между семейном положением и возвратом кредита есть. Заемщики, которые находятся или были в официальном браке возвращают кредит чаще."
   ]
  },
  {
   "cell_type": "markdown",
   "id": "cfb1aabd",
   "metadata": {},
   "source": [
    "### Вопрос 3. Есть ли зависимость между уровнем дохода и возвратом кредита в срок?"
   ]
  },
  {
   "cell_type": "markdown",
   "id": "670a0498",
   "metadata": {},
   "source": [
    "[*Вернуться к оглавлению*](#Оглавление)"
   ]
  },
  {
   "cell_type": "code",
   "execution_count": 42,
   "id": "6a993185",
   "metadata": {},
   "outputs": [
    {
     "data": {
      "text/html": [
       "<div>\n",
       "<style scoped>\n",
       "    .dataframe tbody tr th:only-of-type {\n",
       "        vertical-align: middle;\n",
       "    }\n",
       "\n",
       "    .dataframe tbody tr th {\n",
       "        vertical-align: top;\n",
       "    }\n",
       "\n",
       "    .dataframe thead th {\n",
       "        text-align: right;\n",
       "    }\n",
       "</style>\n",
       "<table border=\"1\" class=\"dataframe\">\n",
       "  <thead>\n",
       "    <tr style=\"text-align: right;\">\n",
       "      <th></th>\n",
       "      <th>count</th>\n",
       "      <th>mean</th>\n",
       "      <th>sum</th>\n",
       "      <th>percent_weight</th>\n",
       "    </tr>\n",
       "    <tr>\n",
       "      <th>total_income_category</th>\n",
       "      <th></th>\n",
       "      <th></th>\n",
       "      <th></th>\n",
       "      <th></th>\n",
       "    </tr>\n",
       "  </thead>\n",
       "  <tbody>\n",
       "    <tr>\n",
       "      <th>D</th>\n",
       "      <td>350</td>\n",
       "      <td>0.060000</td>\n",
       "      <td>21</td>\n",
       "      <td>1.631397</td>\n",
       "    </tr>\n",
       "    <tr>\n",
       "      <th>B</th>\n",
       "      <td>5042</td>\n",
       "      <td>0.070607</td>\n",
       "      <td>356</td>\n",
       "      <td>23.501445</td>\n",
       "    </tr>\n",
       "    <tr>\n",
       "      <th>A</th>\n",
       "      <td>25</td>\n",
       "      <td>0.080000</td>\n",
       "      <td>2</td>\n",
       "      <td>0.116528</td>\n",
       "    </tr>\n",
       "    <tr>\n",
       "      <th>C</th>\n",
       "      <td>16015</td>\n",
       "      <td>0.084920</td>\n",
       "      <td>1360</td>\n",
       "      <td>74.648084</td>\n",
       "    </tr>\n",
       "    <tr>\n",
       "      <th>E</th>\n",
       "      <td>22</td>\n",
       "      <td>0.090909</td>\n",
       "      <td>2</td>\n",
       "      <td>0.102545</td>\n",
       "    </tr>\n",
       "  </tbody>\n",
       "</table>\n",
       "</div>"
      ],
      "text/plain": [
       "                       count      mean   sum  percent_weight\n",
       "total_income_category                                       \n",
       "D                        350  0.060000    21        1.631397\n",
       "B                       5042  0.070607   356       23.501445\n",
       "A                         25  0.080000     2        0.116528\n",
       "C                      16015  0.084920  1360       74.648084\n",
       "E                         22  0.090909     2        0.102545"
      ]
     },
     "execution_count": 42,
     "metadata": {},
     "output_type": "execute_result"
    }
   ],
   "source": [
    "# формируем сводную таблицу по доходу и задолженности:\n",
    "income_debt_group = data.pivot_table(index=['total_income_category'],values='debt',aggfunc={'count', 'sum', 'mean'})\n",
    "\n",
    "# рассчитаем вес категории дохода по всей выборке\n",
    "income_debt_group['percent_weight'] =  income_debt_group['count'] * 100 / len(data)\n",
    "\n",
    "# выведем отсортированную таблицу по среднему значению задолженности для каждой категории\n",
    "income_debt_group.sort_values(by='mean')"
   ]
  },
  {
   "cell_type": "markdown",
   "id": "e44e4575",
   "metadata": {},
   "source": [
    "**Вывод 3:**\n",
    "Выборка по доходам для заемщиков категории A (1000001 и выше), D (30001–50000) и E (0–30000) нерепрезентативна, т.к составляет менее двух процентов данных.  \n",
    "Зависимость между доходом и возвратом кредита есть. Заемщики категории B (200001–1000000) возвращают кредит чаще, чем заемщики с меньшим доходом категории C (50001–200000)."
   ]
  },
  {
   "cell_type": "markdown",
   "id": "574e80b4",
   "metadata": {},
   "source": [
    "### Вопрос 4. Как разные цели кредита влияют на его возврат в срок?"
   ]
  },
  {
   "cell_type": "markdown",
   "id": "ec9ae929",
   "metadata": {},
   "source": [
    "[*Вернуться к оглавлению*](#Оглавление)"
   ]
  },
  {
   "cell_type": "code",
   "execution_count": 43,
   "id": "8f955358",
   "metadata": {},
   "outputs": [
    {
     "data": {
      "text/html": [
       "<div>\n",
       "<style scoped>\n",
       "    .dataframe tbody tr th:only-of-type {\n",
       "        vertical-align: middle;\n",
       "    }\n",
       "\n",
       "    .dataframe tbody tr th {\n",
       "        vertical-align: top;\n",
       "    }\n",
       "\n",
       "    .dataframe thead th {\n",
       "        text-align: right;\n",
       "    }\n",
       "</style>\n",
       "<table border=\"1\" class=\"dataframe\">\n",
       "  <thead>\n",
       "    <tr style=\"text-align: right;\">\n",
       "      <th></th>\n",
       "      <th>count</th>\n",
       "      <th>mean</th>\n",
       "      <th>sum</th>\n",
       "      <th>percent_weight</th>\n",
       "    </tr>\n",
       "    <tr>\n",
       "      <th>purpose_category</th>\n",
       "      <th></th>\n",
       "      <th></th>\n",
       "      <th></th>\n",
       "      <th></th>\n",
       "    </tr>\n",
       "  </thead>\n",
       "  <tbody>\n",
       "    <tr>\n",
       "      <th>операции с недвижимостью</th>\n",
       "      <td>10811</td>\n",
       "      <td>0.072334</td>\n",
       "      <td>782</td>\n",
       "      <td>50.391535</td>\n",
       "    </tr>\n",
       "    <tr>\n",
       "      <th>проведение свадьбы</th>\n",
       "      <td>2324</td>\n",
       "      <td>0.080034</td>\n",
       "      <td>186</td>\n",
       "      <td>10.832479</td>\n",
       "    </tr>\n",
       "    <tr>\n",
       "      <th>получение образования</th>\n",
       "      <td>4013</td>\n",
       "      <td>0.092200</td>\n",
       "      <td>370</td>\n",
       "      <td>18.705137</td>\n",
       "    </tr>\n",
       "    <tr>\n",
       "      <th>операции с автомобилем</th>\n",
       "      <td>4306</td>\n",
       "      <td>0.093590</td>\n",
       "      <td>403</td>\n",
       "      <td>20.070849</td>\n",
       "    </tr>\n",
       "  </tbody>\n",
       "</table>\n",
       "</div>"
      ],
      "text/plain": [
       "                          count      mean  sum  percent_weight\n",
       "purpose_category                                              \n",
       "операции с недвижимостью  10811  0.072334  782       50.391535\n",
       "проведение свадьбы         2324  0.080034  186       10.832479\n",
       "получение образования      4013  0.092200  370       18.705137\n",
       "операции с автомобилем     4306  0.093590  403       20.070849"
      ]
     },
     "execution_count": 43,
     "metadata": {},
     "output_type": "execute_result"
    }
   ],
   "source": [
    "# формируем сводную таблицу по цели кредита и задолженности:\n",
    "purpose_debt_group = data.pivot_table(index=['purpose_category'],values='debt',aggfunc={'count', 'sum', 'mean'})\n",
    "\n",
    "# рассчитаем вес категории дохода по всей выборке\n",
    "purpose_debt_group['percent_weight'] =  purpose_debt_group['count'] * 100 / len(data)\n",
    "\n",
    "# выведем отсортированную таблицу по среднему значению задолженности для каждой категории\n",
    "purpose_debt_group.sort_values(by='mean')"
   ]
  },
  {
   "cell_type": "markdown",
   "id": "98d3ed4f",
   "metadata": {},
   "source": [
    "**Вывод 4:**  \n",
    "Кредиты с целью получения образования и на операции с автомобилем возвращают реже.  \n",
    "Кредиты на операции с недвижимостью и проведение свадьбы возвращают чаще."
   ]
  },
  {
   "cell_type": "markdown",
   "id": "66e991a9",
   "metadata": {},
   "source": [
    "## Общий вывод:"
   ]
  },
  {
   "cell_type": "markdown",
   "id": "a862b915",
   "metadata": {},
   "source": [
    "[*Вернуться к оглавлению*](#Оглавление)"
   ]
  },
  {
   "cell_type": "markdown",
   "id": "78d88616",
   "metadata": {},
   "source": [
    "С целью выяснить, влияет ли семейное положение и количество детей клиента на факт погашения кредита в срок были выполнены следующие задачи:\n",
    "- считана таблица с данными и изучена общая информация о данных;\n",
    "- выполнена предобработка данных: заполнены пропуски, проанализированы данные на наличие аномалий, данные приведены к нужному типу, данные проверены на наличие явных и неявных дубликатов. Созданы новые датафреймы с категориями образования и семейного положения заемщиков. Создан столбец с категориями по уровню дохода заемщика. Создан столбец с категориями по целям заема.\n",
    "- проведен анализ и сделаны выводы: есть ли зависимость между количеством детей и возвратом кредита в срок, есть ли зависимость между семейным положением и возвратом кредита в срок, есть ли зависимость между уровнем дохода и возвратом кредита в срок, как разные цели кредита влияют на его возврат в срок?\n",
    "- сделаны вывод.\n",
    "\n",
    "По результамт проведения анализа получены следующие выводы:\n",
    "* Заемщики без детей возвращают долг чаще, чем заемщики с детьми.  \n",
    "* Заемщики, которые находятся или были в официальном браке возвращают кредит чаще.\n",
    "* Заемщики с высоким доходом от 200000 возвращают кредит чаще, чем заемщики с меньшим доходом.  \n",
    "* Кредиты на операции с недвижимостью и проведение свадьбы возвращают чаще.\n",
    "* Кредиты с целью получения образования и на операции с автомобилем возвращают реже."
   ]
  }
 ],
 "metadata": {
  "ExecuteTimeLog": [
   {
    "duration": 552,
    "start_time": "2022-03-31T23:08:25.092Z"
   },
   {
    "duration": 61,
    "start_time": "2022-03-31T23:09:16.684Z"
   },
   {
    "duration": 66,
    "start_time": "2022-03-31T23:09:32.165Z"
   },
   {
    "duration": 14,
    "start_time": "2022-03-31T23:09:57.315Z"
   },
   {
    "duration": 4,
    "start_time": "2022-03-31T23:45:18.255Z"
   },
   {
    "duration": 43,
    "start_time": "2022-04-01T11:41:42.588Z"
   },
   {
    "duration": 440,
    "start_time": "2022-04-01T11:42:01.027Z"
   },
   {
    "duration": 14,
    "start_time": "2022-04-01T11:42:04.251Z"
   },
   {
    "duration": 4,
    "start_time": "2022-04-01T11:42:04.859Z"
   },
   {
    "duration": 10,
    "start_time": "2022-04-01T11:42:10.283Z"
   },
   {
    "duration": 19,
    "start_time": "2022-04-01T11:44:57.246Z"
   },
   {
    "duration": 16,
    "start_time": "2022-04-01T11:45:05.070Z"
   },
   {
    "duration": 11,
    "start_time": "2022-04-01T11:45:34.907Z"
   },
   {
    "duration": 10,
    "start_time": "2022-04-01T11:46:03.985Z"
   },
   {
    "duration": 10,
    "start_time": "2022-04-01T11:46:10.497Z"
   },
   {
    "duration": 13,
    "start_time": "2022-04-01T12:09:53.333Z"
   },
   {
    "duration": 25,
    "start_time": "2022-04-01T13:00:59.687Z"
   },
   {
    "duration": 18,
    "start_time": "2022-04-01T13:02:06.031Z"
   },
   {
    "duration": 12,
    "start_time": "2022-04-01T13:05:35.108Z"
   },
   {
    "duration": 8,
    "start_time": "2022-04-01T13:07:07.926Z"
   },
   {
    "duration": 8,
    "start_time": "2022-04-01T13:08:37.721Z"
   },
   {
    "duration": 20,
    "start_time": "2022-04-01T13:09:09.197Z"
   },
   {
    "duration": 8,
    "start_time": "2022-04-01T13:10:06.864Z"
   },
   {
    "duration": 9,
    "start_time": "2022-04-01T13:10:46.539Z"
   },
   {
    "duration": 8,
    "start_time": "2022-04-01T13:11:16.715Z"
   },
   {
    "duration": 11,
    "start_time": "2022-04-01T13:11:54.233Z"
   },
   {
    "duration": 8,
    "start_time": "2022-04-01T13:12:29.546Z"
   },
   {
    "duration": 3296,
    "start_time": "2022-04-01T13:32:28.441Z"
   },
   {
    "duration": 6,
    "start_time": "2022-04-01T13:33:13.372Z"
   },
   {
    "duration": 19,
    "start_time": "2022-04-01T13:33:21.238Z"
   },
   {
    "duration": 15,
    "start_time": "2022-04-01T13:33:36.643Z"
   },
   {
    "duration": 5,
    "start_time": "2022-04-01T13:35:01.156Z"
   },
   {
    "duration": 9,
    "start_time": "2022-04-01T13:36:23.909Z"
   },
   {
    "duration": 14,
    "start_time": "2022-04-01T13:48:44.601Z"
   },
   {
    "duration": 9,
    "start_time": "2022-04-01T13:53:36.178Z"
   },
   {
    "duration": 3,
    "start_time": "2022-04-01T13:54:27.397Z"
   },
   {
    "duration": 9,
    "start_time": "2022-04-01T13:55:02.141Z"
   },
   {
    "duration": 23,
    "start_time": "2022-04-01T13:55:10.377Z"
   },
   {
    "duration": 21,
    "start_time": "2022-04-01T13:55:24.415Z"
   },
   {
    "duration": 16,
    "start_time": "2022-04-01T13:55:31.633Z"
   },
   {
    "duration": 8,
    "start_time": "2022-04-01T13:59:30.451Z"
   },
   {
    "duration": 7,
    "start_time": "2022-04-01T13:59:43.905Z"
   },
   {
    "duration": 19,
    "start_time": "2022-04-01T13:59:48.261Z"
   },
   {
    "duration": 9,
    "start_time": "2022-04-01T13:59:54.461Z"
   },
   {
    "duration": 18,
    "start_time": "2022-04-01T13:59:58.081Z"
   },
   {
    "duration": 19,
    "start_time": "2022-04-01T14:00:31.698Z"
   },
   {
    "duration": 15,
    "start_time": "2022-04-01T14:00:38.779Z"
   },
   {
    "duration": 3,
    "start_time": "2022-04-01T14:58:10.386Z"
   },
   {
    "duration": 4,
    "start_time": "2022-04-01T14:58:11.700Z"
   },
   {
    "duration": 17,
    "start_time": "2022-04-01T14:58:18.522Z"
   },
   {
    "duration": 4,
    "start_time": "2022-04-01T15:01:33.643Z"
   },
   {
    "duration": 71,
    "start_time": "2022-04-01T21:52:17.135Z"
   },
   {
    "duration": 8,
    "start_time": "2022-04-01T21:52:35.084Z"
   },
   {
    "duration": 573,
    "start_time": "2022-04-01T21:52:45.298Z"
   },
   {
    "duration": 24,
    "start_time": "2022-04-01T21:52:45.874Z"
   },
   {
    "duration": 7,
    "start_time": "2022-04-01T21:52:45.901Z"
   },
   {
    "duration": 16,
    "start_time": "2022-04-01T21:52:45.911Z"
   },
   {
    "duration": 53,
    "start_time": "2022-04-01T21:52:45.931Z"
   },
   {
    "duration": 14,
    "start_time": "2022-04-01T21:52:45.987Z"
   },
   {
    "duration": 7,
    "start_time": "2022-04-01T21:52:46.004Z"
   },
   {
    "duration": 55,
    "start_time": "2022-04-01T21:52:46.013Z"
   },
   {
    "duration": 5,
    "start_time": "2022-04-01T21:52:46.070Z"
   },
   {
    "duration": 33,
    "start_time": "2022-04-01T21:52:51.169Z"
   },
   {
    "duration": 95,
    "start_time": "2022-04-01T21:53:13.955Z"
   },
   {
    "duration": 24,
    "start_time": "2022-04-01T21:53:14.053Z"
   },
   {
    "duration": 5,
    "start_time": "2022-04-01T21:53:14.079Z"
   },
   {
    "duration": 13,
    "start_time": "2022-04-01T21:53:14.086Z"
   },
   {
    "duration": 14,
    "start_time": "2022-04-01T21:53:14.102Z"
   },
   {
    "duration": 51,
    "start_time": "2022-04-01T21:53:14.118Z"
   },
   {
    "duration": 5,
    "start_time": "2022-04-01T21:53:14.171Z"
   },
   {
    "duration": 13,
    "start_time": "2022-04-01T21:53:14.179Z"
   },
   {
    "duration": 2,
    "start_time": "2022-04-01T21:53:14.195Z"
   },
   {
    "duration": 32,
    "start_time": "2022-04-01T21:53:17.749Z"
   },
   {
    "duration": 14,
    "start_time": "2022-04-01T21:53:35.443Z"
   },
   {
    "duration": 13,
    "start_time": "2022-04-01T21:54:33.121Z"
   },
   {
    "duration": 31,
    "start_time": "2022-04-01T21:54:49.388Z"
   },
   {
    "duration": 16,
    "start_time": "2022-04-01T22:06:03.463Z"
   },
   {
    "duration": 32,
    "start_time": "2022-04-01T22:06:22.819Z"
   },
   {
    "duration": 14,
    "start_time": "2022-04-01T22:07:28.671Z"
   },
   {
    "duration": 35,
    "start_time": "2022-04-01T22:07:52.246Z"
   },
   {
    "duration": 34,
    "start_time": "2022-04-01T22:08:04.832Z"
   },
   {
    "duration": 34,
    "start_time": "2022-04-01T22:08:21.822Z"
   },
   {
    "duration": 19,
    "start_time": "2022-04-01T22:08:37.882Z"
   },
   {
    "duration": 32,
    "start_time": "2022-04-01T22:18:44.089Z"
   },
   {
    "duration": 34,
    "start_time": "2022-04-01T22:19:10.732Z"
   },
   {
    "duration": 61,
    "start_time": "2022-04-01T22:27:44.397Z"
   },
   {
    "duration": 33,
    "start_time": "2022-04-01T22:30:54.194Z"
   },
   {
    "duration": 35,
    "start_time": "2022-04-01T22:31:05.509Z"
   },
   {
    "duration": 20,
    "start_time": "2022-04-01T22:32:04.655Z"
   },
   {
    "duration": 19,
    "start_time": "2022-04-01T22:32:36.035Z"
   },
   {
    "duration": 35,
    "start_time": "2022-04-01T22:34:35.895Z"
   },
   {
    "duration": 15,
    "start_time": "2022-04-01T22:35:16.436Z"
   },
   {
    "duration": 35,
    "start_time": "2022-04-01T22:40:45.689Z"
   },
   {
    "duration": 33,
    "start_time": "2022-04-01T22:47:34.440Z"
   },
   {
    "duration": 88,
    "start_time": "2022-04-01T22:47:55.059Z"
   },
   {
    "duration": 14,
    "start_time": "2022-04-01T22:48:00.398Z"
   },
   {
    "duration": 62,
    "start_time": "2022-04-01T22:52:52.497Z"
   },
   {
    "duration": 15,
    "start_time": "2022-04-01T22:54:36.385Z"
   },
   {
    "duration": 14,
    "start_time": "2022-04-01T22:54:46.228Z"
   },
   {
    "duration": 17,
    "start_time": "2022-04-01T22:54:52.418Z"
   },
   {
    "duration": 14,
    "start_time": "2022-04-01T22:56:03.604Z"
   },
   {
    "duration": 35,
    "start_time": "2022-04-01T22:56:10.485Z"
   },
   {
    "duration": 38,
    "start_time": "2022-04-01T22:58:04.227Z"
   },
   {
    "duration": 16,
    "start_time": "2022-04-01T22:58:35.947Z"
   },
   {
    "duration": 19,
    "start_time": "2022-04-01T22:59:12.799Z"
   },
   {
    "duration": 19,
    "start_time": "2022-04-01T23:00:47.452Z"
   },
   {
    "duration": 49,
    "start_time": "2022-04-01T23:00:54.946Z"
   },
   {
    "duration": 18,
    "start_time": "2022-04-01T23:01:34.556Z"
   },
   {
    "duration": 18,
    "start_time": "2022-04-01T23:01:48.193Z"
   },
   {
    "duration": 480,
    "start_time": "2022-04-02T11:47:21.026Z"
   },
   {
    "duration": 17,
    "start_time": "2022-04-02T11:47:21.508Z"
   },
   {
    "duration": 19,
    "start_time": "2022-04-02T11:47:21.526Z"
   },
   {
    "duration": 35,
    "start_time": "2022-04-02T11:47:21.548Z"
   },
   {
    "duration": 28,
    "start_time": "2022-04-02T11:47:21.585Z"
   },
   {
    "duration": 13,
    "start_time": "2022-04-02T11:47:21.615Z"
   },
   {
    "duration": 18,
    "start_time": "2022-04-02T11:47:21.630Z"
   },
   {
    "duration": 39,
    "start_time": "2022-04-02T11:47:21.650Z"
   },
   {
    "duration": 26,
    "start_time": "2022-04-02T11:47:21.691Z"
   },
   {
    "duration": 29,
    "start_time": "2022-04-02T11:47:21.720Z"
   },
   {
    "duration": 9,
    "start_time": "2022-04-02T12:20:55.187Z"
   },
   {
    "duration": 12,
    "start_time": "2022-04-02T12:44:03.912Z"
   },
   {
    "duration": 8,
    "start_time": "2022-04-02T12:44:09.283Z"
   },
   {
    "duration": 9,
    "start_time": "2022-04-02T13:19:04.688Z"
   },
   {
    "duration": 21,
    "start_time": "2022-04-02T13:27:31.609Z"
   },
   {
    "duration": 21,
    "start_time": "2022-04-02T13:28:39.473Z"
   },
   {
    "duration": 75,
    "start_time": "2022-04-02T13:29:42.282Z"
   },
   {
    "duration": 37,
    "start_time": "2022-04-02T13:32:47.014Z"
   },
   {
    "duration": 29,
    "start_time": "2022-04-02T13:34:24.187Z"
   },
   {
    "duration": 5,
    "start_time": "2022-04-02T13:35:24.807Z"
   },
   {
    "duration": 4,
    "start_time": "2022-04-02T13:38:47.128Z"
   },
   {
    "duration": 10,
    "start_time": "2022-04-02T13:39:00.983Z"
   },
   {
    "duration": 13,
    "start_time": "2022-04-02T13:39:30.985Z"
   },
   {
    "duration": 2579,
    "start_time": "2022-04-02T13:39:38.735Z"
   },
   {
    "duration": 5,
    "start_time": "2022-04-02T13:40:02.551Z"
   },
   {
    "duration": 23,
    "start_time": "2022-04-02T13:40:18.558Z"
   },
   {
    "duration": 6,
    "start_time": "2022-04-02T13:42:34.942Z"
   },
   {
    "duration": 24,
    "start_time": "2022-04-02T13:42:47.599Z"
   },
   {
    "duration": 5,
    "start_time": "2022-04-02T13:43:32.684Z"
   },
   {
    "duration": 9,
    "start_time": "2022-04-02T13:43:38.046Z"
   },
   {
    "duration": 5,
    "start_time": "2022-04-02T13:43:55.308Z"
   },
   {
    "duration": 28,
    "start_time": "2022-04-02T13:45:58.541Z"
   },
   {
    "duration": 10,
    "start_time": "2022-04-02T13:46:19.568Z"
   },
   {
    "duration": 4,
    "start_time": "2022-04-02T13:49:37.376Z"
   },
   {
    "duration": 7,
    "start_time": "2022-04-02T13:49:42.450Z"
   },
   {
    "duration": 11,
    "start_time": "2022-04-02T13:50:00.023Z"
   },
   {
    "duration": 18,
    "start_time": "2022-04-02T13:51:19.995Z"
   },
   {
    "duration": 9,
    "start_time": "2022-04-02T13:55:18.431Z"
   },
   {
    "duration": 8,
    "start_time": "2022-04-02T13:55:30.468Z"
   },
   {
    "duration": 6,
    "start_time": "2022-04-02T13:56:37.263Z"
   },
   {
    "duration": 11,
    "start_time": "2022-04-02T13:56:59.892Z"
   },
   {
    "duration": 21,
    "start_time": "2022-04-02T13:58:50.470Z"
   },
   {
    "duration": 5,
    "start_time": "2022-04-02T16:12:01.036Z"
   },
   {
    "duration": 8,
    "start_time": "2022-04-02T16:16:38.371Z"
   },
   {
    "duration": 2240,
    "start_time": "2022-04-02T16:34:21.205Z"
   },
   {
    "duration": 1160,
    "start_time": "2022-04-02T16:34:34.713Z"
   },
   {
    "duration": 7,
    "start_time": "2022-04-02T16:34:40.458Z"
   },
   {
    "duration": 7,
    "start_time": "2022-04-02T16:34:48.277Z"
   },
   {
    "duration": 14,
    "start_time": "2022-04-02T16:35:44.340Z"
   },
   {
    "duration": 7,
    "start_time": "2022-04-02T16:35:53.717Z"
   },
   {
    "duration": 2122,
    "start_time": "2022-04-02T16:36:10.620Z"
   },
   {
    "duration": 18,
    "start_time": "2022-04-02T16:36:32.738Z"
   },
   {
    "duration": 563,
    "start_time": "2022-04-02T17:25:40.155Z"
   },
   {
    "duration": 627,
    "start_time": "2022-04-02T17:26:54.944Z"
   },
   {
    "duration": 110,
    "start_time": "2022-04-02T17:28:12.719Z"
   },
   {
    "duration": 9,
    "start_time": "2022-04-02T17:28:20.646Z"
   },
   {
    "duration": 28,
    "start_time": "2022-04-02T17:28:28.850Z"
   },
   {
    "duration": 17,
    "start_time": "2022-04-02T17:31:27.081Z"
   },
   {
    "duration": 14,
    "start_time": "2022-04-02T17:35:11.419Z"
   },
   {
    "duration": 14,
    "start_time": "2022-04-02T17:36:25.199Z"
   },
   {
    "duration": 5,
    "start_time": "2022-04-02T17:37:28.117Z"
   },
   {
    "duration": 12,
    "start_time": "2022-04-02T17:38:06.383Z"
   },
   {
    "duration": 5,
    "start_time": "2022-04-02T17:38:40.483Z"
   },
   {
    "duration": 14,
    "start_time": "2022-04-02T17:39:03.019Z"
   },
   {
    "duration": 28,
    "start_time": "2022-04-02T17:39:23.995Z"
   },
   {
    "duration": 107,
    "start_time": "2022-04-02T17:39:39.809Z"
   },
   {
    "duration": 16,
    "start_time": "2022-04-02T17:39:39.918Z"
   },
   {
    "duration": 4,
    "start_time": "2022-04-02T17:39:39.935Z"
   },
   {
    "duration": 13,
    "start_time": "2022-04-02T17:39:39.941Z"
   },
   {
    "duration": 14,
    "start_time": "2022-04-02T17:39:39.955Z"
   },
   {
    "duration": 37,
    "start_time": "2022-04-02T17:39:39.971Z"
   },
   {
    "duration": 10,
    "start_time": "2022-04-02T17:39:40.010Z"
   },
   {
    "duration": 4,
    "start_time": "2022-04-02T17:39:40.022Z"
   },
   {
    "duration": 14,
    "start_time": "2022-04-02T17:39:40.028Z"
   },
   {
    "duration": 11,
    "start_time": "2022-04-02T17:39:40.044Z"
   },
   {
    "duration": 5,
    "start_time": "2022-04-02T17:39:40.056Z"
   },
   {
    "duration": 46,
    "start_time": "2022-04-02T17:39:40.062Z"
   },
   {
    "duration": 13,
    "start_time": "2022-04-02T17:39:40.109Z"
   },
   {
    "duration": 11,
    "start_time": "2022-04-02T17:39:40.124Z"
   },
   {
    "duration": 9,
    "start_time": "2022-04-02T17:39:40.137Z"
   },
   {
    "duration": 28,
    "start_time": "2022-04-02T17:39:46.945Z"
   },
   {
    "duration": 74,
    "start_time": "2022-04-02T17:40:08.199Z"
   },
   {
    "duration": 33,
    "start_time": "2022-04-02T17:40:08.275Z"
   },
   {
    "duration": 4,
    "start_time": "2022-04-02T17:40:08.310Z"
   },
   {
    "duration": 13,
    "start_time": "2022-04-02T17:40:08.317Z"
   },
   {
    "duration": 14,
    "start_time": "2022-04-02T17:40:08.332Z"
   },
   {
    "duration": 9,
    "start_time": "2022-04-02T17:40:08.348Z"
   },
   {
    "duration": 45,
    "start_time": "2022-04-02T17:40:08.359Z"
   },
   {
    "duration": 5,
    "start_time": "2022-04-02T17:40:08.406Z"
   },
   {
    "duration": 12,
    "start_time": "2022-04-02T17:40:08.414Z"
   },
   {
    "duration": 9,
    "start_time": "2022-04-02T17:40:08.429Z"
   },
   {
    "duration": 5,
    "start_time": "2022-04-02T17:40:08.441Z"
   },
   {
    "duration": 11,
    "start_time": "2022-04-02T17:40:08.448Z"
   },
   {
    "duration": 46,
    "start_time": "2022-04-02T17:40:08.461Z"
   },
   {
    "duration": 11,
    "start_time": "2022-04-02T17:40:08.509Z"
   },
   {
    "duration": 10,
    "start_time": "2022-04-02T17:40:08.522Z"
   },
   {
    "duration": 44,
    "start_time": "2022-04-02T17:40:13.059Z"
   },
   {
    "duration": 75,
    "start_time": "2022-04-02T17:41:16.557Z"
   },
   {
    "duration": 17,
    "start_time": "2022-04-02T17:41:16.634Z"
   },
   {
    "duration": 4,
    "start_time": "2022-04-02T17:41:16.653Z"
   },
   {
    "duration": 21,
    "start_time": "2022-04-02T17:41:16.659Z"
   },
   {
    "duration": 27,
    "start_time": "2022-04-02T17:41:16.682Z"
   },
   {
    "duration": 13,
    "start_time": "2022-04-02T17:41:16.711Z"
   },
   {
    "duration": 11,
    "start_time": "2022-04-02T17:41:16.727Z"
   },
   {
    "duration": 6,
    "start_time": "2022-04-02T17:41:16.740Z"
   },
   {
    "duration": 15,
    "start_time": "2022-04-02T17:41:16.747Z"
   },
   {
    "duration": 11,
    "start_time": "2022-04-02T17:41:16.800Z"
   },
   {
    "duration": 5,
    "start_time": "2022-04-02T17:41:16.812Z"
   },
   {
    "duration": 14,
    "start_time": "2022-04-02T17:41:16.819Z"
   },
   {
    "duration": 9,
    "start_time": "2022-04-02T17:41:16.836Z"
   },
   {
    "duration": 12,
    "start_time": "2022-04-02T17:41:16.847Z"
   },
   {
    "duration": 47,
    "start_time": "2022-04-02T17:41:16.861Z"
   },
   {
    "duration": 130,
    "start_time": "2022-04-02T17:41:20.622Z"
   },
   {
    "duration": 12,
    "start_time": "2022-04-02T17:41:30.057Z"
   },
   {
    "duration": 21,
    "start_time": "2022-04-02T17:41:38.972Z"
   },
   {
    "duration": 5,
    "start_time": "2022-04-02T17:41:47.429Z"
   },
   {
    "duration": 13,
    "start_time": "2022-04-02T17:44:00.021Z"
   },
   {
    "duration": 4,
    "start_time": "2022-04-02T17:57:28.256Z"
   },
   {
    "duration": 22,
    "start_time": "2022-04-02T17:57:35.162Z"
   },
   {
    "duration": 4,
    "start_time": "2022-04-02T17:57:45.550Z"
   },
   {
    "duration": 20,
    "start_time": "2022-04-02T18:09:49.910Z"
   },
   {
    "duration": 13,
    "start_time": "2022-04-02T18:13:10.990Z"
   },
   {
    "duration": 15,
    "start_time": "2022-04-02T18:13:19.587Z"
   },
   {
    "duration": 62,
    "start_time": "2022-04-02T18:13:58.262Z"
   },
   {
    "duration": 48,
    "start_time": "2022-04-02T18:19:08.541Z"
   },
   {
    "duration": 9,
    "start_time": "2022-04-02T18:20:29.971Z"
   },
   {
    "duration": 9,
    "start_time": "2022-04-02T18:20:42.343Z"
   },
   {
    "duration": 10,
    "start_time": "2022-04-02T18:20:52.883Z"
   },
   {
    "duration": 10,
    "start_time": "2022-04-02T18:21:03.358Z"
   },
   {
    "duration": 7,
    "start_time": "2022-04-02T18:21:40.217Z"
   },
   {
    "duration": 9,
    "start_time": "2022-04-02T18:25:10.482Z"
   },
   {
    "duration": 9,
    "start_time": "2022-04-02T18:26:37.578Z"
   },
   {
    "duration": 7,
    "start_time": "2022-04-02T18:26:38.972Z"
   },
   {
    "duration": 145,
    "start_time": "2022-04-02T18:26:42.539Z"
   },
   {
    "duration": 8,
    "start_time": "2022-04-02T18:26:53.729Z"
   },
   {
    "duration": 9,
    "start_time": "2022-04-02T18:27:01.027Z"
   },
   {
    "duration": 8,
    "start_time": "2022-04-02T18:27:41.967Z"
   },
   {
    "duration": 14,
    "start_time": "2022-04-02T18:28:51.395Z"
   },
   {
    "duration": 6,
    "start_time": "2022-04-02T18:35:26.637Z"
   },
   {
    "duration": 10,
    "start_time": "2022-04-02T18:39:12.651Z"
   },
   {
    "duration": 6,
    "start_time": "2022-04-02T18:39:17.894Z"
   },
   {
    "duration": 7,
    "start_time": "2022-04-02T18:39:54.344Z"
   },
   {
    "duration": 8,
    "start_time": "2022-04-02T18:40:01.366Z"
   },
   {
    "duration": 10,
    "start_time": "2022-04-02T18:40:10.588Z"
   },
   {
    "duration": 8,
    "start_time": "2022-04-02T18:40:14.419Z"
   },
   {
    "duration": 4,
    "start_time": "2022-04-02T18:40:47.588Z"
   },
   {
    "duration": 5,
    "start_time": "2022-04-02T18:40:59.440Z"
   },
   {
    "duration": 9,
    "start_time": "2022-04-02T18:41:07.619Z"
   },
   {
    "duration": 7,
    "start_time": "2022-04-02T18:41:18.477Z"
   },
   {
    "duration": 8,
    "start_time": "2022-04-02T18:41:33.207Z"
   },
   {
    "duration": 8,
    "start_time": "2022-04-02T18:41:43.042Z"
   },
   {
    "duration": 11,
    "start_time": "2022-04-02T18:42:58.979Z"
   },
   {
    "duration": 8,
    "start_time": "2022-04-02T18:43:50.953Z"
   },
   {
    "duration": 22,
    "start_time": "2022-04-02T18:44:27.318Z"
   },
   {
    "duration": 7,
    "start_time": "2022-04-02T18:45:49.886Z"
   },
   {
    "duration": 22,
    "start_time": "2022-04-02T18:45:57.559Z"
   },
   {
    "duration": 23,
    "start_time": "2022-04-02T18:47:08.088Z"
   },
   {
    "duration": 10,
    "start_time": "2022-04-02T18:47:30.936Z"
   },
   {
    "duration": 8,
    "start_time": "2022-04-02T18:47:43.804Z"
   },
   {
    "duration": 11,
    "start_time": "2022-04-02T18:47:50.083Z"
   },
   {
    "duration": 51,
    "start_time": "2022-04-02T18:50:16.657Z"
   },
   {
    "duration": 39,
    "start_time": "2022-04-02T18:50:52.937Z"
   },
   {
    "duration": 39,
    "start_time": "2022-04-02T18:51:07.283Z"
   },
   {
    "duration": 79,
    "start_time": "2022-04-02T19:26:39.272Z"
   },
   {
    "duration": 16,
    "start_time": "2022-04-02T19:26:39.353Z"
   },
   {
    "duration": 4,
    "start_time": "2022-04-02T19:26:39.371Z"
   },
   {
    "duration": 29,
    "start_time": "2022-04-02T19:26:39.376Z"
   },
   {
    "duration": 11,
    "start_time": "2022-04-02T19:26:39.408Z"
   },
   {
    "duration": 8,
    "start_time": "2022-04-02T19:26:39.421Z"
   },
   {
    "duration": 9,
    "start_time": "2022-04-02T19:26:39.431Z"
   },
   {
    "duration": 4,
    "start_time": "2022-04-02T19:26:39.442Z"
   },
   {
    "duration": 15,
    "start_time": "2022-04-02T19:26:39.447Z"
   },
   {
    "duration": 10,
    "start_time": "2022-04-02T19:26:39.500Z"
   },
   {
    "duration": 6,
    "start_time": "2022-04-02T19:26:39.511Z"
   },
   {
    "duration": 9,
    "start_time": "2022-04-02T19:26:39.518Z"
   },
   {
    "duration": 10,
    "start_time": "2022-04-02T19:26:39.529Z"
   },
   {
    "duration": 10,
    "start_time": "2022-04-02T19:26:39.543Z"
   },
   {
    "duration": 8,
    "start_time": "2022-04-02T19:26:39.555Z"
   },
   {
    "duration": 46,
    "start_time": "2022-04-02T19:26:39.564Z"
   },
   {
    "duration": 11,
    "start_time": "2022-04-02T19:26:39.612Z"
   },
   {
    "duration": 21,
    "start_time": "2022-04-02T19:26:39.625Z"
   },
   {
    "duration": 72,
    "start_time": "2022-04-02T19:26:39.647Z"
   },
   {
    "duration": 9,
    "start_time": "2022-04-02T19:26:39.721Z"
   },
   {
    "duration": 12,
    "start_time": "2022-04-02T19:26:39.732Z"
   },
   {
    "duration": 11,
    "start_time": "2022-04-02T19:26:39.746Z"
   },
   {
    "duration": 12,
    "start_time": "2022-04-02T19:26:39.758Z"
   },
   {
    "duration": 33,
    "start_time": "2022-04-02T19:26:39.772Z"
   },
   {
    "duration": 20,
    "start_time": "2022-04-02T19:26:39.806Z"
   },
   {
    "duration": 6,
    "start_time": "2022-04-02T19:26:39.827Z"
   },
   {
    "duration": 23,
    "start_time": "2022-04-02T19:26:39.835Z"
   },
   {
    "duration": 65,
    "start_time": "2022-04-02T19:26:39.859Z"
   },
   {
    "duration": 6,
    "start_time": "2022-04-02T19:39:34.698Z"
   },
   {
    "duration": 14,
    "start_time": "2022-04-02T19:40:15.396Z"
   },
   {
    "duration": 84,
    "start_time": "2022-04-02T19:41:45.065Z"
   },
   {
    "duration": 17,
    "start_time": "2022-04-02T19:41:45.151Z"
   },
   {
    "duration": 13,
    "start_time": "2022-04-02T19:41:45.170Z"
   },
   {
    "duration": 29,
    "start_time": "2022-04-02T19:41:45.185Z"
   },
   {
    "duration": 19,
    "start_time": "2022-04-02T19:41:45.217Z"
   },
   {
    "duration": 11,
    "start_time": "2022-04-02T19:41:45.239Z"
   },
   {
    "duration": 83,
    "start_time": "2022-04-02T19:41:45.252Z"
   },
   {
    "duration": 7,
    "start_time": "2022-04-02T19:41:45.337Z"
   },
   {
    "duration": 29,
    "start_time": "2022-04-02T19:41:45.346Z"
   },
   {
    "duration": 24,
    "start_time": "2022-04-02T19:41:45.377Z"
   },
   {
    "duration": 5,
    "start_time": "2022-04-02T19:41:45.404Z"
   },
   {
    "duration": 9,
    "start_time": "2022-04-02T19:41:45.412Z"
   },
   {
    "duration": 10,
    "start_time": "2022-04-02T19:41:45.424Z"
   },
   {
    "duration": 14,
    "start_time": "2022-04-02T19:41:45.438Z"
   },
   {
    "duration": 47,
    "start_time": "2022-04-02T19:41:45.454Z"
   },
   {
    "duration": 19,
    "start_time": "2022-04-02T19:41:45.503Z"
   },
   {
    "duration": 18,
    "start_time": "2022-04-02T19:41:45.524Z"
   },
   {
    "duration": 30,
    "start_time": "2022-04-02T19:41:45.544Z"
   },
   {
    "duration": 73,
    "start_time": "2022-04-02T19:41:45.601Z"
   },
   {
    "duration": 12,
    "start_time": "2022-04-02T19:41:45.676Z"
   },
   {
    "duration": 10,
    "start_time": "2022-04-02T19:41:45.702Z"
   },
   {
    "duration": 11,
    "start_time": "2022-04-02T19:41:45.714Z"
   },
   {
    "duration": 11,
    "start_time": "2022-04-02T19:41:45.727Z"
   },
   {
    "duration": 14,
    "start_time": "2022-04-02T19:41:45.740Z"
   },
   {
    "duration": 47,
    "start_time": "2022-04-02T19:41:45.756Z"
   },
   {
    "duration": 12,
    "start_time": "2022-04-02T19:41:45.805Z"
   },
   {
    "duration": 11,
    "start_time": "2022-04-02T19:41:45.818Z"
   },
   {
    "duration": 16,
    "start_time": "2022-04-02T19:41:45.831Z"
   },
   {
    "duration": 69,
    "start_time": "2022-04-02T19:41:45.849Z"
   },
   {
    "duration": 12,
    "start_time": "2022-04-02T19:42:43.393Z"
   },
   {
    "duration": 12,
    "start_time": "2022-04-02T19:42:49.059Z"
   },
   {
    "duration": 12,
    "start_time": "2022-04-02T19:42:50.034Z"
   },
   {
    "duration": 13,
    "start_time": "2022-04-02T19:42:50.672Z"
   },
   {
    "duration": 13,
    "start_time": "2022-04-02T19:42:51.435Z"
   },
   {
    "duration": 13,
    "start_time": "2022-04-02T19:42:51.903Z"
   },
   {
    "duration": 13,
    "start_time": "2022-04-02T19:42:52.135Z"
   },
   {
    "duration": 13,
    "start_time": "2022-04-02T19:42:52.326Z"
   },
   {
    "duration": 13,
    "start_time": "2022-04-02T19:42:52.501Z"
   },
   {
    "duration": 14,
    "start_time": "2022-04-02T19:42:52.669Z"
   },
   {
    "duration": 14,
    "start_time": "2022-04-02T19:42:54.320Z"
   },
   {
    "duration": 13,
    "start_time": "2022-04-02T19:42:57.502Z"
   },
   {
    "duration": 12,
    "start_time": "2022-04-02T19:42:58.349Z"
   },
   {
    "duration": 12,
    "start_time": "2022-04-02T19:42:58.754Z"
   },
   {
    "duration": 12,
    "start_time": "2022-04-02T19:42:59.093Z"
   },
   {
    "duration": 14,
    "start_time": "2022-04-02T19:43:01.132Z"
   },
   {
    "duration": 13,
    "start_time": "2022-04-02T19:43:03.876Z"
   },
   {
    "duration": 75,
    "start_time": "2022-04-02T19:43:34.059Z"
   },
   {
    "duration": 16,
    "start_time": "2022-04-02T19:43:34.137Z"
   },
   {
    "duration": 4,
    "start_time": "2022-04-02T19:43:34.155Z"
   },
   {
    "duration": 45,
    "start_time": "2022-04-02T19:43:34.161Z"
   },
   {
    "duration": 12,
    "start_time": "2022-04-02T19:43:34.208Z"
   },
   {
    "duration": 9,
    "start_time": "2022-04-02T19:43:34.222Z"
   },
   {
    "duration": 23,
    "start_time": "2022-04-02T19:43:34.232Z"
   },
   {
    "duration": 5,
    "start_time": "2022-04-02T19:43:34.257Z"
   },
   {
    "duration": 14,
    "start_time": "2022-04-02T19:43:34.263Z"
   },
   {
    "duration": 10,
    "start_time": "2022-04-02T19:43:34.300Z"
   },
   {
    "duration": 5,
    "start_time": "2022-04-02T19:43:34.312Z"
   },
   {
    "duration": 13,
    "start_time": "2022-04-02T19:43:34.318Z"
   },
   {
    "duration": 12,
    "start_time": "2022-04-02T19:43:34.333Z"
   },
   {
    "duration": 16,
    "start_time": "2022-04-02T19:43:34.347Z"
   },
   {
    "duration": 8,
    "start_time": "2022-04-02T19:43:34.365Z"
   },
   {
    "duration": 13,
    "start_time": "2022-04-02T19:43:34.401Z"
   },
   {
    "duration": 11,
    "start_time": "2022-04-02T19:43:34.416Z"
   },
   {
    "duration": 21,
    "start_time": "2022-04-02T19:43:34.428Z"
   },
   {
    "duration": 71,
    "start_time": "2022-04-02T19:43:34.451Z"
   },
   {
    "duration": 9,
    "start_time": "2022-04-02T19:43:34.523Z"
   },
   {
    "duration": 12,
    "start_time": "2022-04-02T19:43:34.534Z"
   },
   {
    "duration": 13,
    "start_time": "2022-04-02T19:43:34.547Z"
   },
   {
    "duration": 15,
    "start_time": "2022-04-02T19:43:34.562Z"
   },
   {
    "duration": 28,
    "start_time": "2022-04-02T19:43:34.578Z"
   },
   {
    "duration": 20,
    "start_time": "2022-04-02T19:43:34.608Z"
   },
   {
    "duration": 13,
    "start_time": "2022-04-02T19:43:46.311Z"
   },
   {
    "duration": 15,
    "start_time": "2022-04-02T19:44:40.017Z"
   },
   {
    "duration": 9,
    "start_time": "2022-04-02T19:44:56.657Z"
   },
   {
    "duration": 14,
    "start_time": "2022-04-02T19:45:02.733Z"
   },
   {
    "duration": 81,
    "start_time": "2022-04-02T19:46:03.457Z"
   },
   {
    "duration": 16,
    "start_time": "2022-04-02T19:46:03.540Z"
   },
   {
    "duration": 8,
    "start_time": "2022-04-02T19:46:03.557Z"
   },
   {
    "duration": 39,
    "start_time": "2022-04-02T19:46:03.567Z"
   },
   {
    "duration": 12,
    "start_time": "2022-04-02T19:46:03.608Z"
   },
   {
    "duration": 14,
    "start_time": "2022-04-02T19:46:03.622Z"
   },
   {
    "duration": 19,
    "start_time": "2022-04-02T19:46:03.638Z"
   },
   {
    "duration": 10,
    "start_time": "2022-04-02T19:46:03.658Z"
   },
   {
    "duration": 31,
    "start_time": "2022-04-02T19:46:03.670Z"
   },
   {
    "duration": 10,
    "start_time": "2022-04-02T19:46:03.704Z"
   },
   {
    "duration": 6,
    "start_time": "2022-04-02T19:46:03.715Z"
   },
   {
    "duration": 13,
    "start_time": "2022-04-02T19:46:03.723Z"
   },
   {
    "duration": 13,
    "start_time": "2022-04-02T19:46:03.737Z"
   },
   {
    "duration": 12,
    "start_time": "2022-04-02T19:46:03.752Z"
   },
   {
    "duration": 39,
    "start_time": "2022-04-02T19:46:03.766Z"
   },
   {
    "duration": 13,
    "start_time": "2022-04-02T19:46:03.807Z"
   },
   {
    "duration": 39,
    "start_time": "2022-04-02T19:46:03.822Z"
   },
   {
    "duration": 27,
    "start_time": "2022-04-02T19:46:03.863Z"
   },
   {
    "duration": 52,
    "start_time": "2022-04-02T19:46:03.891Z"
   },
   {
    "duration": 9,
    "start_time": "2022-04-02T19:46:03.945Z"
   },
   {
    "duration": 32,
    "start_time": "2022-04-02T19:46:03.955Z"
   },
   {
    "duration": 46,
    "start_time": "2022-04-02T19:46:03.989Z"
   },
   {
    "duration": 30,
    "start_time": "2022-04-02T19:46:04.037Z"
   },
   {
    "duration": 16,
    "start_time": "2022-04-02T19:46:04.069Z"
   },
   {
    "duration": 25,
    "start_time": "2022-04-02T19:46:04.087Z"
   },
   {
    "duration": 15,
    "start_time": "2022-04-02T19:46:04.114Z"
   },
   {
    "duration": 21,
    "start_time": "2022-04-02T19:46:04.131Z"
   },
   {
    "duration": 16,
    "start_time": "2022-04-02T19:46:04.156Z"
   },
   {
    "duration": 64,
    "start_time": "2022-04-02T19:46:04.174Z"
   },
   {
    "duration": 14,
    "start_time": "2022-04-02T19:46:20.531Z"
   },
   {
    "duration": 72,
    "start_time": "2022-04-02T19:46:48.527Z"
   },
   {
    "duration": 15,
    "start_time": "2022-04-02T19:46:48.602Z"
   },
   {
    "duration": 5,
    "start_time": "2022-04-02T19:46:48.619Z"
   },
   {
    "duration": 13,
    "start_time": "2022-04-02T19:46:48.626Z"
   },
   {
    "duration": 12,
    "start_time": "2022-04-02T19:46:48.641Z"
   },
   {
    "duration": 9,
    "start_time": "2022-04-02T19:46:48.655Z"
   },
   {
    "duration": 10,
    "start_time": "2022-04-02T19:46:48.701Z"
   },
   {
    "duration": 8,
    "start_time": "2022-04-02T19:46:48.712Z"
   },
   {
    "duration": 21,
    "start_time": "2022-04-02T19:46:48.722Z"
   },
   {
    "duration": 17,
    "start_time": "2022-04-02T19:46:48.746Z"
   },
   {
    "duration": 5,
    "start_time": "2022-04-02T19:46:48.765Z"
   },
   {
    "duration": 9,
    "start_time": "2022-04-02T19:46:48.771Z"
   },
   {
    "duration": 28,
    "start_time": "2022-04-02T19:46:48.781Z"
   },
   {
    "duration": 14,
    "start_time": "2022-04-02T19:46:48.810Z"
   },
   {
    "duration": 8,
    "start_time": "2022-04-02T19:46:48.826Z"
   },
   {
    "duration": 28,
    "start_time": "2022-04-02T19:46:48.836Z"
   },
   {
    "duration": 21,
    "start_time": "2022-04-02T19:46:48.866Z"
   },
   {
    "duration": 29,
    "start_time": "2022-04-02T19:46:48.889Z"
   },
   {
    "duration": 45,
    "start_time": "2022-04-02T19:46:48.920Z"
   },
   {
    "duration": 8,
    "start_time": "2022-04-02T19:46:48.967Z"
   },
   {
    "duration": 27,
    "start_time": "2022-04-02T19:46:48.977Z"
   },
   {
    "duration": 11,
    "start_time": "2022-04-02T19:46:49.006Z"
   },
   {
    "duration": 16,
    "start_time": "2022-04-02T19:46:49.019Z"
   },
   {
    "duration": 11,
    "start_time": "2022-04-02T19:46:49.037Z"
   },
   {
    "duration": 19,
    "start_time": "2022-04-02T19:46:49.050Z"
   },
   {
    "duration": 31,
    "start_time": "2022-04-02T19:46:49.071Z"
   },
   {
    "duration": 21,
    "start_time": "2022-04-02T19:46:49.104Z"
   },
   {
    "duration": 42,
    "start_time": "2022-04-02T19:46:49.128Z"
   },
   {
    "duration": 6,
    "start_time": "2022-04-02T20:48:33.571Z"
   },
   {
    "duration": 14,
    "start_time": "2022-04-02T20:48:42.990Z"
   },
   {
    "duration": 15,
    "start_time": "2022-04-02T20:51:53.568Z"
   },
   {
    "duration": 14,
    "start_time": "2022-04-02T20:53:27.125Z"
   },
   {
    "duration": 13,
    "start_time": "2022-04-02T20:54:12.653Z"
   },
   {
    "duration": 13,
    "start_time": "2022-04-02T20:59:04.788Z"
   },
   {
    "duration": 23,
    "start_time": "2022-04-02T20:59:52.758Z"
   },
   {
    "duration": 12,
    "start_time": "2022-04-02T21:00:23.245Z"
   },
   {
    "duration": 79,
    "start_time": "2022-04-02T21:00:28.308Z"
   },
   {
    "duration": 17,
    "start_time": "2022-04-02T21:00:28.401Z"
   },
   {
    "duration": 5,
    "start_time": "2022-04-02T21:00:28.420Z"
   },
   {
    "duration": 20,
    "start_time": "2022-04-02T21:00:28.427Z"
   },
   {
    "duration": 12,
    "start_time": "2022-04-02T21:00:28.449Z"
   },
   {
    "duration": 41,
    "start_time": "2022-04-02T21:00:28.463Z"
   },
   {
    "duration": 9,
    "start_time": "2022-04-02T21:00:28.506Z"
   },
   {
    "duration": 9,
    "start_time": "2022-04-02T21:00:28.517Z"
   },
   {
    "duration": 24,
    "start_time": "2022-04-02T21:00:28.528Z"
   },
   {
    "duration": 10,
    "start_time": "2022-04-02T21:00:28.555Z"
   },
   {
    "duration": 5,
    "start_time": "2022-04-02T21:00:28.567Z"
   },
   {
    "duration": 28,
    "start_time": "2022-04-02T21:00:28.574Z"
   },
   {
    "duration": 13,
    "start_time": "2022-04-02T21:00:28.604Z"
   },
   {
    "duration": 20,
    "start_time": "2022-04-02T21:00:28.618Z"
   },
   {
    "duration": 8,
    "start_time": "2022-04-02T21:00:28.640Z"
   },
   {
    "duration": 13,
    "start_time": "2022-04-02T21:00:28.649Z"
   },
   {
    "duration": 39,
    "start_time": "2022-04-02T21:00:28.664Z"
   },
   {
    "duration": 28,
    "start_time": "2022-04-02T21:00:28.705Z"
   },
   {
    "duration": 48,
    "start_time": "2022-04-02T21:00:28.735Z"
   },
   {
    "duration": 20,
    "start_time": "2022-04-02T21:00:28.785Z"
   },
   {
    "duration": 18,
    "start_time": "2022-04-02T21:00:28.807Z"
   },
   {
    "duration": 26,
    "start_time": "2022-04-02T21:00:28.827Z"
   },
   {
    "duration": 13,
    "start_time": "2022-04-02T21:00:28.856Z"
   },
   {
    "duration": 11,
    "start_time": "2022-04-02T21:00:28.871Z"
   },
   {
    "duration": 49,
    "start_time": "2022-04-02T21:00:28.884Z"
   },
   {
    "duration": 8,
    "start_time": "2022-04-02T21:00:28.935Z"
   },
   {
    "duration": 45,
    "start_time": "2022-04-02T21:00:28.945Z"
   },
   {
    "duration": 46,
    "start_time": "2022-04-02T21:00:28.994Z"
   },
   {
    "duration": 15,
    "start_time": "2022-04-02T21:00:29.043Z"
   },
   {
    "duration": 17,
    "start_time": "2022-04-02T21:00:29.060Z"
   },
   {
    "duration": 43,
    "start_time": "2022-04-02T21:00:29.079Z"
   },
   {
    "duration": 73,
    "start_time": "2022-04-02T21:02:57.680Z"
   },
   {
    "duration": 16,
    "start_time": "2022-04-02T21:02:57.755Z"
   },
   {
    "duration": 31,
    "start_time": "2022-04-02T21:02:57.773Z"
   },
   {
    "duration": 14,
    "start_time": "2022-04-02T21:02:57.806Z"
   },
   {
    "duration": 11,
    "start_time": "2022-04-02T21:02:57.822Z"
   },
   {
    "duration": 9,
    "start_time": "2022-04-02T21:02:57.835Z"
   },
   {
    "duration": 9,
    "start_time": "2022-04-02T21:02:57.846Z"
   },
   {
    "duration": 6,
    "start_time": "2022-04-02T21:02:57.857Z"
   },
   {
    "duration": 12,
    "start_time": "2022-04-02T21:02:57.901Z"
   },
   {
    "duration": 9,
    "start_time": "2022-04-02T21:02:57.916Z"
   },
   {
    "duration": 7,
    "start_time": "2022-04-02T21:02:57.927Z"
   },
   {
    "duration": 13,
    "start_time": "2022-04-02T21:02:57.936Z"
   },
   {
    "duration": 18,
    "start_time": "2022-04-02T21:02:57.951Z"
   },
   {
    "duration": 32,
    "start_time": "2022-04-02T21:02:57.970Z"
   },
   {
    "duration": 9,
    "start_time": "2022-04-02T21:02:58.004Z"
   },
   {
    "duration": 18,
    "start_time": "2022-04-02T21:02:58.015Z"
   },
   {
    "duration": 19,
    "start_time": "2022-04-02T21:02:58.035Z"
   },
   {
    "duration": 25,
    "start_time": "2022-04-02T21:02:58.056Z"
   },
   {
    "duration": 61,
    "start_time": "2022-04-02T21:02:58.083Z"
   },
   {
    "duration": 10,
    "start_time": "2022-04-02T21:02:58.146Z"
   },
   {
    "duration": 14,
    "start_time": "2022-04-02T21:02:58.158Z"
   },
   {
    "duration": 36,
    "start_time": "2022-04-02T21:02:58.174Z"
   },
   {
    "duration": 37,
    "start_time": "2022-04-02T21:02:58.212Z"
   },
   {
    "duration": 10,
    "start_time": "2022-04-02T21:02:58.252Z"
   },
   {
    "duration": 27,
    "start_time": "2022-04-02T21:02:58.264Z"
   },
   {
    "duration": 7,
    "start_time": "2022-04-02T21:02:58.293Z"
   },
   {
    "duration": 31,
    "start_time": "2022-04-02T21:02:58.302Z"
   },
   {
    "duration": 59,
    "start_time": "2022-04-02T21:02:58.337Z"
   },
   {
    "duration": 15,
    "start_time": "2022-04-02T21:02:58.398Z"
   },
   {
    "duration": 74,
    "start_time": "2022-04-02T21:02:58.415Z"
   },
   {
    "duration": 53,
    "start_time": "2022-04-02T21:02:58.492Z"
   },
   {
    "duration": 17,
    "start_time": "2022-04-02T21:16:14.210Z"
   },
   {
    "duration": 27,
    "start_time": "2022-04-02T21:16:50.755Z"
   },
   {
    "duration": 138,
    "start_time": "2022-04-02T21:19:59.502Z"
   },
   {
    "duration": 26,
    "start_time": "2022-04-02T21:20:06.840Z"
   },
   {
    "duration": 29,
    "start_time": "2022-04-02T21:22:33.438Z"
   },
   {
    "duration": 28,
    "start_time": "2022-04-02T21:23:37.687Z"
   },
   {
    "duration": 29,
    "start_time": "2022-04-02T21:23:45.276Z"
   },
   {
    "duration": 28,
    "start_time": "2022-04-02T21:23:46.573Z"
   },
   {
    "duration": 29,
    "start_time": "2022-04-02T21:24:30.216Z"
   },
   {
    "duration": 30,
    "start_time": "2022-04-02T21:25:00.992Z"
   },
   {
    "duration": 77,
    "start_time": "2022-04-02T21:25:19.510Z"
   },
   {
    "duration": 21,
    "start_time": "2022-04-02T21:25:19.589Z"
   },
   {
    "duration": 5,
    "start_time": "2022-04-02T21:25:19.611Z"
   },
   {
    "duration": 13,
    "start_time": "2022-04-02T21:25:19.618Z"
   },
   {
    "duration": 13,
    "start_time": "2022-04-02T21:25:19.632Z"
   },
   {
    "duration": 9,
    "start_time": "2022-04-02T21:25:19.647Z"
   },
   {
    "duration": 51,
    "start_time": "2022-04-02T21:25:19.657Z"
   },
   {
    "duration": 4,
    "start_time": "2022-04-02T21:25:19.710Z"
   },
   {
    "duration": 11,
    "start_time": "2022-04-02T21:25:19.716Z"
   },
   {
    "duration": 8,
    "start_time": "2022-04-02T21:25:19.730Z"
   },
   {
    "duration": 4,
    "start_time": "2022-04-02T21:25:19.740Z"
   },
   {
    "duration": 10,
    "start_time": "2022-04-02T21:25:19.746Z"
   },
   {
    "duration": 45,
    "start_time": "2022-04-02T21:25:19.757Z"
   },
   {
    "duration": 10,
    "start_time": "2022-04-02T21:25:19.804Z"
   },
   {
    "duration": 8,
    "start_time": "2022-04-02T21:25:19.816Z"
   },
   {
    "duration": 12,
    "start_time": "2022-04-02T21:25:19.826Z"
   },
   {
    "duration": 14,
    "start_time": "2022-04-02T21:25:19.839Z"
   },
   {
    "duration": 53,
    "start_time": "2022-04-02T21:25:19.854Z"
   },
   {
    "duration": 43,
    "start_time": "2022-04-02T21:25:19.909Z"
   },
   {
    "duration": 8,
    "start_time": "2022-04-02T21:25:19.955Z"
   },
   {
    "duration": 11,
    "start_time": "2022-04-02T21:25:19.964Z"
   },
   {
    "duration": 27,
    "start_time": "2022-04-02T21:25:19.977Z"
   },
   {
    "duration": 24,
    "start_time": "2022-04-02T21:25:20.006Z"
   },
   {
    "duration": 16,
    "start_time": "2022-04-02T21:25:20.032Z"
   },
   {
    "duration": 24,
    "start_time": "2022-04-02T21:25:20.050Z"
   },
   {
    "duration": 7,
    "start_time": "2022-04-02T21:25:20.076Z"
   },
   {
    "duration": 29,
    "start_time": "2022-04-02T21:25:20.085Z"
   },
   {
    "duration": 46,
    "start_time": "2022-04-02T21:25:20.118Z"
   },
   {
    "duration": 13,
    "start_time": "2022-04-02T21:25:20.165Z"
   },
   {
    "duration": 15,
    "start_time": "2022-04-02T21:25:20.201Z"
   },
   {
    "duration": 18,
    "start_time": "2022-04-02T21:25:20.218Z"
   },
   {
    "duration": 27,
    "start_time": "2022-04-02T21:25:20.238Z"
   },
   {
    "duration": 21,
    "start_time": "2022-04-02T21:25:37.946Z"
   },
   {
    "duration": 23,
    "start_time": "2022-04-02T21:25:49.070Z"
   },
   {
    "duration": 23,
    "start_time": "2022-04-02T21:25:58.057Z"
   },
   {
    "duration": 23,
    "start_time": "2022-04-02T21:26:07.036Z"
   },
   {
    "duration": 31,
    "start_time": "2022-04-02T21:28:23.814Z"
   },
   {
    "duration": 31,
    "start_time": "2022-04-02T21:28:48.208Z"
   },
   {
    "duration": 28,
    "start_time": "2022-04-02T21:29:41.740Z"
   },
   {
    "duration": 22,
    "start_time": "2022-04-02T21:29:55.094Z"
   },
   {
    "duration": 28,
    "start_time": "2022-04-02T21:58:31.255Z"
   },
   {
    "duration": 28,
    "start_time": "2022-04-02T22:00:57.602Z"
   },
   {
    "duration": 18,
    "start_time": "2022-04-02T22:01:46.202Z"
   },
   {
    "duration": 16,
    "start_time": "2022-04-02T22:02:31.538Z"
   },
   {
    "duration": 31,
    "start_time": "2022-04-02T22:42:55.091Z"
   },
   {
    "duration": 8,
    "start_time": "2022-04-02T22:45:40.205Z"
   },
   {
    "duration": 13,
    "start_time": "2022-04-02T22:46:06.594Z"
   },
   {
    "duration": 15,
    "start_time": "2022-04-02T22:46:14.979Z"
   },
   {
    "duration": 28,
    "start_time": "2022-04-02T22:47:42.124Z"
   },
   {
    "duration": 27,
    "start_time": "2022-04-02T22:55:47.024Z"
   },
   {
    "duration": 17,
    "start_time": "2022-04-02T22:56:41.271Z"
   },
   {
    "duration": 74,
    "start_time": "2022-04-02T22:56:56.451Z"
   },
   {
    "duration": 22,
    "start_time": "2022-04-02T22:57:08.347Z"
   },
   {
    "duration": 14,
    "start_time": "2022-04-02T22:57:24.875Z"
   },
   {
    "duration": 23,
    "start_time": "2022-04-02T22:57:31.457Z"
   },
   {
    "duration": 33,
    "start_time": "2022-04-02T22:58:22.344Z"
   },
   {
    "duration": 21,
    "start_time": "2022-04-02T23:00:06.002Z"
   },
   {
    "duration": 14,
    "start_time": "2022-04-02T23:00:43.530Z"
   },
   {
    "duration": 14,
    "start_time": "2022-04-02T23:01:40.913Z"
   },
   {
    "duration": 17,
    "start_time": "2022-04-02T23:01:57.315Z"
   },
   {
    "duration": 23,
    "start_time": "2022-04-02T23:02:46.855Z"
   },
   {
    "duration": 21,
    "start_time": "2022-04-02T23:08:17.665Z"
   },
   {
    "duration": 22,
    "start_time": "2022-04-02T23:13:04.560Z"
   },
   {
    "duration": 30,
    "start_time": "2022-04-02T23:13:48.933Z"
   },
   {
    "duration": 23,
    "start_time": "2022-04-02T23:14:12.672Z"
   },
   {
    "duration": 22,
    "start_time": "2022-04-02T23:15:25.873Z"
   },
   {
    "duration": 24,
    "start_time": "2022-04-02T23:15:31.837Z"
   },
   {
    "duration": 23,
    "start_time": "2022-04-02T23:15:57.736Z"
   },
   {
    "duration": 25,
    "start_time": "2022-04-02T23:16:05.407Z"
   },
   {
    "duration": 31,
    "start_time": "2022-04-02T23:16:43.750Z"
   },
   {
    "duration": 29,
    "start_time": "2022-04-02T23:17:24.848Z"
   },
   {
    "duration": 24,
    "start_time": "2022-04-02T23:35:47.636Z"
   },
   {
    "duration": 21,
    "start_time": "2022-04-02T23:39:25.735Z"
   },
   {
    "duration": 26,
    "start_time": "2022-04-02T23:39:36.020Z"
   },
   {
    "duration": 26,
    "start_time": "2022-04-02T23:40:21.163Z"
   },
   {
    "duration": 25,
    "start_time": "2022-04-02T23:40:25.411Z"
   },
   {
    "duration": 26,
    "start_time": "2022-04-02T23:41:14.670Z"
   },
   {
    "duration": 24,
    "start_time": "2022-04-02T23:43:14.794Z"
   },
   {
    "duration": 24,
    "start_time": "2022-04-02T23:44:52.856Z"
   },
   {
    "duration": 24,
    "start_time": "2022-04-02T23:45:02.885Z"
   },
   {
    "duration": 27,
    "start_time": "2022-04-02T23:45:19.082Z"
   },
   {
    "duration": 23,
    "start_time": "2022-04-02T23:45:53.103Z"
   },
   {
    "duration": 14,
    "start_time": "2022-04-02T23:46:36.519Z"
   },
   {
    "duration": 45,
    "start_time": "2022-04-03T11:02:55.229Z"
   },
   {
    "duration": 482,
    "start_time": "2022-04-03T11:03:09.157Z"
   },
   {
    "duration": 14,
    "start_time": "2022-04-03T11:03:09.642Z"
   },
   {
    "duration": 4,
    "start_time": "2022-04-03T11:03:09.658Z"
   },
   {
    "duration": 9,
    "start_time": "2022-04-03T11:03:09.680Z"
   },
   {
    "duration": 11,
    "start_time": "2022-04-03T11:03:09.691Z"
   },
   {
    "duration": 7,
    "start_time": "2022-04-03T11:03:09.704Z"
   },
   {
    "duration": 9,
    "start_time": "2022-04-03T11:03:09.713Z"
   },
   {
    "duration": 5,
    "start_time": "2022-04-03T11:03:09.723Z"
   },
   {
    "duration": 10,
    "start_time": "2022-04-03T11:03:09.729Z"
   },
   {
    "duration": 8,
    "start_time": "2022-04-03T11:03:09.780Z"
   },
   {
    "duration": 4,
    "start_time": "2022-04-03T11:03:09.790Z"
   },
   {
    "duration": 7,
    "start_time": "2022-04-03T11:03:09.795Z"
   },
   {
    "duration": 8,
    "start_time": "2022-04-03T11:03:09.804Z"
   },
   {
    "duration": 9,
    "start_time": "2022-04-03T11:03:09.814Z"
   },
   {
    "duration": 6,
    "start_time": "2022-04-03T11:03:09.824Z"
   },
   {
    "duration": 10,
    "start_time": "2022-04-03T11:03:09.831Z"
   },
   {
    "duration": 41,
    "start_time": "2022-04-03T11:03:09.842Z"
   },
   {
    "duration": 17,
    "start_time": "2022-04-03T11:03:09.884Z"
   },
   {
    "duration": 36,
    "start_time": "2022-04-03T11:03:09.902Z"
   },
   {
    "duration": 7,
    "start_time": "2022-04-03T11:03:09.939Z"
   },
   {
    "duration": 35,
    "start_time": "2022-04-03T11:03:09.947Z"
   },
   {
    "duration": 7,
    "start_time": "2022-04-03T11:03:09.983Z"
   },
   {
    "duration": 17,
    "start_time": "2022-04-03T11:03:09.991Z"
   },
   {
    "duration": 9,
    "start_time": "2022-04-03T11:03:10.009Z"
   },
   {
    "duration": 15,
    "start_time": "2022-04-03T11:03:10.019Z"
   },
   {
    "duration": 4,
    "start_time": "2022-04-03T11:03:10.035Z"
   },
   {
    "duration": 13,
    "start_time": "2022-04-03T11:03:10.041Z"
   },
   {
    "duration": 55,
    "start_time": "2022-04-03T11:03:10.057Z"
   },
   {
    "duration": 11,
    "start_time": "2022-04-03T11:03:10.114Z"
   },
   {
    "duration": 10,
    "start_time": "2022-04-03T11:03:10.126Z"
   },
   {
    "duration": 13,
    "start_time": "2022-04-03T11:03:10.137Z"
   },
   {
    "duration": 34,
    "start_time": "2022-04-03T11:03:10.152Z"
   },
   {
    "duration": 24,
    "start_time": "2022-04-03T11:03:10.187Z"
   },
   {
    "duration": 39,
    "start_time": "2022-04-03T11:03:10.212Z"
   },
   {
    "duration": 0,
    "start_time": "2022-04-03T11:03:10.252Z"
   },
   {
    "duration": 0,
    "start_time": "2022-04-03T11:03:10.253Z"
   },
   {
    "duration": 0,
    "start_time": "2022-04-03T11:03:10.255Z"
   },
   {
    "duration": 17,
    "start_time": "2022-04-03T11:03:20.332Z"
   },
   {
    "duration": 18,
    "start_time": "2022-04-03T11:03:34.658Z"
   },
   {
    "duration": 20,
    "start_time": "2022-04-03T11:03:45.961Z"
   },
   {
    "duration": 21,
    "start_time": "2022-04-03T11:04:16.399Z"
   },
   {
    "duration": 21,
    "start_time": "2022-04-03T11:04:23.677Z"
   },
   {
    "duration": 21,
    "start_time": "2022-04-03T11:05:19.114Z"
   },
   {
    "duration": 20,
    "start_time": "2022-04-03T11:05:26.932Z"
   },
   {
    "duration": 22,
    "start_time": "2022-04-03T11:05:41.905Z"
   },
   {
    "duration": 21,
    "start_time": "2022-04-03T11:05:51.291Z"
   },
   {
    "duration": 7,
    "start_time": "2022-04-03T11:16:05.908Z"
   },
   {
    "duration": 179,
    "start_time": "2022-04-03T11:16:13.337Z"
   },
   {
    "duration": 7,
    "start_time": "2022-04-03T11:16:27.965Z"
   },
   {
    "duration": 6,
    "start_time": "2022-04-03T11:16:46.291Z"
   },
   {
    "duration": 9,
    "start_time": "2022-04-03T11:16:56.973Z"
   },
   {
    "duration": 73,
    "start_time": "2022-04-03T13:09:11.525Z"
   },
   {
    "duration": 679,
    "start_time": "2022-04-03T13:09:16.539Z"
   },
   {
    "duration": 29,
    "start_time": "2022-04-03T13:09:17.220Z"
   },
   {
    "duration": 5,
    "start_time": "2022-04-03T13:09:17.251Z"
   },
   {
    "duration": 14,
    "start_time": "2022-04-03T13:09:17.259Z"
   },
   {
    "duration": 14,
    "start_time": "2022-04-03T13:09:17.275Z"
   },
   {
    "duration": 53,
    "start_time": "2022-04-03T13:09:17.291Z"
   },
   {
    "duration": 13,
    "start_time": "2022-04-03T13:09:17.347Z"
   },
   {
    "duration": 6,
    "start_time": "2022-04-03T13:09:17.362Z"
   },
   {
    "duration": 15,
    "start_time": "2022-04-03T13:09:17.371Z"
   },
   {
    "duration": 53,
    "start_time": "2022-04-03T13:09:17.391Z"
   },
   {
    "duration": 6,
    "start_time": "2022-04-03T13:09:17.446Z"
   },
   {
    "duration": 10,
    "start_time": "2022-04-03T13:09:17.454Z"
   },
   {
    "duration": 14,
    "start_time": "2022-04-03T13:09:17.466Z"
   },
   {
    "duration": 14,
    "start_time": "2022-04-03T13:09:17.482Z"
   },
   {
    "duration": 46,
    "start_time": "2022-04-03T13:09:17.498Z"
   },
   {
    "duration": 18,
    "start_time": "2022-04-03T13:09:17.546Z"
   },
   {
    "duration": 18,
    "start_time": "2022-04-03T13:09:17.567Z"
   },
   {
    "duration": 57,
    "start_time": "2022-04-03T13:09:17.587Z"
   },
   {
    "duration": 55,
    "start_time": "2022-04-03T13:09:17.646Z"
   },
   {
    "duration": 10,
    "start_time": "2022-04-03T13:09:17.703Z"
   },
   {
    "duration": 33,
    "start_time": "2022-04-03T13:09:17.715Z"
   },
   {
    "duration": 20,
    "start_time": "2022-04-03T13:09:17.750Z"
   },
   {
    "duration": 16,
    "start_time": "2022-04-03T13:09:17.772Z"
   },
   {
    "duration": 10,
    "start_time": "2022-04-03T13:09:17.790Z"
   },
   {
    "duration": 49,
    "start_time": "2022-04-03T13:09:17.802Z"
   },
   {
    "duration": 9,
    "start_time": "2022-04-03T13:09:17.853Z"
   },
   {
    "duration": 19,
    "start_time": "2022-04-03T13:09:17.865Z"
   },
   {
    "duration": 86,
    "start_time": "2022-04-03T13:09:17.888Z"
   },
   {
    "duration": 16,
    "start_time": "2022-04-03T13:09:17.976Z"
   },
   {
    "duration": 16,
    "start_time": "2022-04-03T13:09:17.994Z"
   },
   {
    "duration": 48,
    "start_time": "2022-04-03T13:09:18.012Z"
   },
   {
    "duration": 24,
    "start_time": "2022-04-03T13:09:18.062Z"
   },
   {
    "duration": 70,
    "start_time": "2022-04-03T13:09:18.089Z"
   },
   {
    "duration": 37,
    "start_time": "2022-04-03T13:09:18.162Z"
   },
   {
    "duration": 41,
    "start_time": "2022-04-03T13:09:18.202Z"
   },
   {
    "duration": 36,
    "start_time": "2022-04-03T13:09:18.245Z"
   },
   {
    "duration": 33,
    "start_time": "2022-04-03T13:09:18.283Z"
   },
   {
    "duration": 32,
    "start_time": "2022-04-03T13:09:18.343Z"
   },
   {
    "duration": 41,
    "start_time": "2022-04-03T13:15:32.372Z"
   },
   {
    "duration": 35,
    "start_time": "2022-04-03T13:32:24.592Z"
   },
   {
    "duration": 36,
    "start_time": "2022-04-03T13:51:42.667Z"
   },
   {
    "duration": 47,
    "start_time": "2022-04-03T13:54:30.641Z"
   },
   {
    "duration": 3595,
    "start_time": "2022-04-03T13:55:05.720Z"
   },
   {
    "duration": 46,
    "start_time": "2022-04-03T13:55:31.846Z"
   },
   {
    "duration": 35,
    "start_time": "2022-04-03T13:55:41.817Z"
   },
   {
    "duration": 60,
    "start_time": "2022-04-03T13:56:05.802Z"
   },
   {
    "duration": 37,
    "start_time": "2022-04-03T13:59:50.446Z"
   },
   {
    "duration": 620,
    "start_time": "2022-04-03T15:09:48.998Z"
   },
   {
    "duration": 26,
    "start_time": "2022-04-03T15:09:49.620Z"
   },
   {
    "duration": 6,
    "start_time": "2022-04-03T15:09:49.648Z"
   },
   {
    "duration": 13,
    "start_time": "2022-04-03T15:09:49.657Z"
   },
   {
    "duration": 14,
    "start_time": "2022-04-03T15:09:49.673Z"
   },
   {
    "duration": 11,
    "start_time": "2022-04-03T15:09:49.689Z"
   },
   {
    "duration": 13,
    "start_time": "2022-04-03T15:09:49.742Z"
   },
   {
    "duration": 5,
    "start_time": "2022-04-03T15:09:49.758Z"
   },
   {
    "duration": 13,
    "start_time": "2022-04-03T15:09:49.765Z"
   },
   {
    "duration": 11,
    "start_time": "2022-04-03T15:09:49.782Z"
   },
   {
    "duration": 51,
    "start_time": "2022-04-03T15:09:49.795Z"
   },
   {
    "duration": 10,
    "start_time": "2022-04-03T15:09:49.848Z"
   },
   {
    "duration": 18,
    "start_time": "2022-04-03T15:09:49.860Z"
   },
   {
    "duration": 22,
    "start_time": "2022-04-03T15:09:49.881Z"
   },
   {
    "duration": 39,
    "start_time": "2022-04-03T15:09:49.905Z"
   },
   {
    "duration": 17,
    "start_time": "2022-04-03T15:09:49.947Z"
   },
   {
    "duration": 20,
    "start_time": "2022-04-03T15:09:49.966Z"
   },
   {
    "duration": 40,
    "start_time": "2022-04-03T15:09:49.989Z"
   },
   {
    "duration": 55,
    "start_time": "2022-04-03T15:09:50.043Z"
   },
   {
    "duration": 10,
    "start_time": "2022-04-03T15:09:50.100Z"
   },
   {
    "duration": 38,
    "start_time": "2022-04-03T15:09:50.112Z"
   },
   {
    "duration": 18,
    "start_time": "2022-04-03T15:09:50.152Z"
   },
   {
    "duration": 30,
    "start_time": "2022-04-03T15:09:50.172Z"
   },
   {
    "duration": 23,
    "start_time": "2022-04-03T15:09:50.205Z"
   },
   {
    "duration": 24,
    "start_time": "2022-04-03T15:09:50.230Z"
   },
   {
    "duration": 10,
    "start_time": "2022-04-03T15:09:50.256Z"
   },
   {
    "duration": 22,
    "start_time": "2022-04-03T15:09:50.268Z"
   },
   {
    "duration": 68,
    "start_time": "2022-04-03T15:09:50.294Z"
   },
   {
    "duration": 16,
    "start_time": "2022-04-03T15:09:50.364Z"
   },
   {
    "duration": 24,
    "start_time": "2022-04-03T15:09:50.382Z"
   },
   {
    "duration": 41,
    "start_time": "2022-04-03T15:09:50.408Z"
   },
   {
    "duration": 31,
    "start_time": "2022-04-03T15:09:50.451Z"
   },
   {
    "duration": 49,
    "start_time": "2022-04-03T15:09:50.484Z"
   },
   {
    "duration": 38,
    "start_time": "2022-04-03T15:09:50.542Z"
   },
   {
    "duration": 14,
    "start_time": "2022-04-03T15:09:50.582Z"
   },
   {
    "duration": 67,
    "start_time": "2022-04-03T15:09:50.598Z"
   },
   {
    "duration": 35,
    "start_time": "2022-04-03T15:09:50.667Z"
   },
   {
    "duration": 55,
    "start_time": "2022-04-03T15:09:50.704Z"
   },
   {
    "duration": 115,
    "start_time": "2022-04-03T15:25:31.602Z"
   },
   {
    "duration": 119,
    "start_time": "2022-04-03T15:27:56.826Z"
   },
   {
    "duration": 24,
    "start_time": "2022-04-03T15:27:56.948Z"
   },
   {
    "duration": 6,
    "start_time": "2022-04-03T15:27:56.976Z"
   },
   {
    "duration": 65,
    "start_time": "2022-04-03T15:27:56.986Z"
   },
   {
    "duration": 17,
    "start_time": "2022-04-03T15:27:57.054Z"
   },
   {
    "duration": 13,
    "start_time": "2022-04-03T15:27:57.074Z"
   },
   {
    "duration": 13,
    "start_time": "2022-04-03T15:27:57.090Z"
   },
   {
    "duration": 8,
    "start_time": "2022-04-03T15:27:57.144Z"
   },
   {
    "duration": 15,
    "start_time": "2022-04-03T15:27:57.154Z"
   },
   {
    "duration": 11,
    "start_time": "2022-04-03T15:27:57.175Z"
   },
   {
    "duration": 5,
    "start_time": "2022-04-03T15:27:57.188Z"
   },
   {
    "duration": 52,
    "start_time": "2022-04-03T15:27:57.195Z"
   },
   {
    "duration": 11,
    "start_time": "2022-04-03T15:27:57.249Z"
   },
   {
    "duration": 14,
    "start_time": "2022-04-03T15:27:57.263Z"
   },
   {
    "duration": 10,
    "start_time": "2022-04-03T15:27:57.279Z"
   },
   {
    "duration": 69,
    "start_time": "2022-04-03T15:27:57.291Z"
   },
   {
    "duration": 16,
    "start_time": "2022-04-03T15:27:57.362Z"
   },
   {
    "duration": 63,
    "start_time": "2022-04-03T15:27:57.380Z"
   },
   {
    "duration": 58,
    "start_time": "2022-04-03T15:27:57.445Z"
   },
   {
    "duration": 11,
    "start_time": "2022-04-03T15:27:57.505Z"
   },
   {
    "duration": 34,
    "start_time": "2022-04-03T15:27:57.518Z"
   },
   {
    "duration": 12,
    "start_time": "2022-04-03T15:27:57.554Z"
   },
   {
    "duration": 13,
    "start_time": "2022-04-03T15:27:57.568Z"
   },
   {
    "duration": 10,
    "start_time": "2022-04-03T15:27:57.583Z"
   },
   {
    "duration": 61,
    "start_time": "2022-04-03T15:27:57.595Z"
   },
   {
    "duration": 8,
    "start_time": "2022-04-03T15:27:57.658Z"
   },
   {
    "duration": 22,
    "start_time": "2022-04-03T15:27:57.669Z"
   },
   {
    "duration": 94,
    "start_time": "2022-04-03T15:27:57.698Z"
   },
   {
    "duration": 19,
    "start_time": "2022-04-03T15:27:57.795Z"
   },
   {
    "duration": 43,
    "start_time": "2022-04-03T15:27:57.817Z"
   },
   {
    "duration": 24,
    "start_time": "2022-04-03T15:27:57.863Z"
   },
   {
    "duration": 62,
    "start_time": "2022-04-03T15:27:57.890Z"
   },
   {
    "duration": 43,
    "start_time": "2022-04-03T15:27:57.955Z"
   },
   {
    "duration": 67,
    "start_time": "2022-04-03T15:27:58.000Z"
   },
   {
    "duration": 16,
    "start_time": "2022-04-03T15:27:58.070Z"
   },
   {
    "duration": 62,
    "start_time": "2022-04-03T15:27:58.088Z"
   },
   {
    "duration": 34,
    "start_time": "2022-04-03T15:27:58.152Z"
   },
   {
    "duration": 56,
    "start_time": "2022-04-03T15:27:58.188Z"
   },
   {
    "duration": 25,
    "start_time": "2022-04-03T15:47:27.889Z"
   },
   {
    "duration": 33,
    "start_time": "2022-04-03T15:49:13.383Z"
   },
   {
    "duration": 101,
    "start_time": "2022-04-03T15:51:35.943Z"
   },
   {
    "duration": 22,
    "start_time": "2022-04-03T15:51:36.047Z"
   },
   {
    "duration": 7,
    "start_time": "2022-04-03T15:51:36.071Z"
   },
   {
    "duration": 61,
    "start_time": "2022-04-03T15:51:36.082Z"
   },
   {
    "duration": 15,
    "start_time": "2022-04-03T15:51:36.145Z"
   },
   {
    "duration": 15,
    "start_time": "2022-04-03T15:51:36.163Z"
   },
   {
    "duration": 12,
    "start_time": "2022-04-03T15:51:36.180Z"
   },
   {
    "duration": 6,
    "start_time": "2022-04-03T15:51:36.194Z"
   },
   {
    "duration": 48,
    "start_time": "2022-04-03T15:51:36.202Z"
   },
   {
    "duration": 11,
    "start_time": "2022-04-03T15:51:36.255Z"
   },
   {
    "duration": 6,
    "start_time": "2022-04-03T15:51:36.269Z"
   },
   {
    "duration": 9,
    "start_time": "2022-04-03T15:51:36.277Z"
   },
   {
    "duration": 56,
    "start_time": "2022-04-03T15:51:36.288Z"
   },
   {
    "duration": 15,
    "start_time": "2022-04-03T15:51:36.346Z"
   },
   {
    "duration": 9,
    "start_time": "2022-04-03T15:51:36.363Z"
   },
   {
    "duration": 15,
    "start_time": "2022-04-03T15:51:36.375Z"
   },
   {
    "duration": 51,
    "start_time": "2022-04-03T15:51:36.392Z"
   },
   {
    "duration": 31,
    "start_time": "2022-04-03T15:51:36.445Z"
   },
   {
    "duration": 72,
    "start_time": "2022-04-03T15:51:36.478Z"
   },
   {
    "duration": 11,
    "start_time": "2022-04-03T15:51:36.552Z"
   },
   {
    "duration": 12,
    "start_time": "2022-04-03T15:51:36.565Z"
   },
   {
    "duration": 11,
    "start_time": "2022-04-03T15:51:36.580Z"
   },
   {
    "duration": 13,
    "start_time": "2022-04-03T15:51:36.594Z"
   },
   {
    "duration": 9,
    "start_time": "2022-04-03T15:51:36.643Z"
   },
   {
    "duration": 18,
    "start_time": "2022-04-03T15:51:36.655Z"
   },
   {
    "duration": 8,
    "start_time": "2022-04-03T15:51:36.675Z"
   },
   {
    "duration": 58,
    "start_time": "2022-04-03T15:51:36.685Z"
   },
   {
    "duration": 53,
    "start_time": "2022-04-03T15:51:36.748Z"
   },
   {
    "duration": 39,
    "start_time": "2022-04-03T15:51:36.803Z"
   },
   {
    "duration": 19,
    "start_time": "2022-04-03T15:51:36.844Z"
   },
   {
    "duration": 22,
    "start_time": "2022-04-03T15:51:36.865Z"
   },
   {
    "duration": 55,
    "start_time": "2022-04-03T15:51:36.889Z"
   },
   {
    "duration": 33,
    "start_time": "2022-04-03T15:51:36.946Z"
   },
   {
    "duration": 62,
    "start_time": "2022-04-03T15:51:36.981Z"
   },
   {
    "duration": 14,
    "start_time": "2022-04-03T15:51:37.045Z"
   },
   {
    "duration": 40,
    "start_time": "2022-04-03T15:51:37.061Z"
   },
   {
    "duration": 64,
    "start_time": "2022-04-03T15:51:37.104Z"
   },
   {
    "duration": 36,
    "start_time": "2022-04-03T15:51:37.171Z"
   },
   {
    "duration": 443,
    "start_time": "2022-04-13T19:16:53.647Z"
   },
   {
    "duration": 14,
    "start_time": "2022-04-13T19:16:54.092Z"
   },
   {
    "duration": 5,
    "start_time": "2022-04-13T19:16:54.108Z"
   },
   {
    "duration": 13,
    "start_time": "2022-04-13T19:16:54.114Z"
   },
   {
    "duration": 12,
    "start_time": "2022-04-13T19:16:54.129Z"
   },
   {
    "duration": 8,
    "start_time": "2022-04-13T19:16:54.142Z"
   },
   {
    "duration": 10,
    "start_time": "2022-04-13T19:16:54.152Z"
   },
   {
    "duration": 5,
    "start_time": "2022-04-13T19:16:54.163Z"
   },
   {
    "duration": 44,
    "start_time": "2022-04-13T19:16:54.169Z"
   },
   {
    "duration": 10,
    "start_time": "2022-04-13T19:16:54.215Z"
   },
   {
    "duration": 5,
    "start_time": "2022-04-13T19:16:54.227Z"
   },
   {
    "duration": 7,
    "start_time": "2022-04-13T19:16:54.234Z"
   },
   {
    "duration": 11,
    "start_time": "2022-04-13T19:16:54.243Z"
   },
   {
    "duration": 59,
    "start_time": "2022-04-13T19:16:54.258Z"
   },
   {
    "duration": 8,
    "start_time": "2022-04-13T19:16:54.318Z"
   },
   {
    "duration": 12,
    "start_time": "2022-04-13T19:16:54.327Z"
   },
   {
    "duration": 13,
    "start_time": "2022-04-13T19:16:54.341Z"
   },
   {
    "duration": 15,
    "start_time": "2022-04-13T19:17:02.619Z"
   },
   {
    "duration": 476,
    "start_time": "2022-04-14T10:12:36.505Z"
   },
   {
    "duration": 13,
    "start_time": "2022-04-14T10:12:36.983Z"
   },
   {
    "duration": 4,
    "start_time": "2022-04-14T10:12:36.997Z"
   },
   {
    "duration": 12,
    "start_time": "2022-04-14T10:12:37.002Z"
   },
   {
    "duration": 11,
    "start_time": "2022-04-14T10:12:37.016Z"
   },
   {
    "duration": 7,
    "start_time": "2022-04-14T10:12:37.028Z"
   },
   {
    "duration": 8,
    "start_time": "2022-04-14T10:12:37.036Z"
   },
   {
    "duration": 13,
    "start_time": "2022-04-14T10:12:39.701Z"
   },
   {
    "duration": 24,
    "start_time": "2022-04-14T10:12:54.092Z"
   },
   {
    "duration": 13,
    "start_time": "2022-04-14T10:13:02.719Z"
   },
   {
    "duration": 11,
    "start_time": "2022-04-14T10:13:08.911Z"
   },
   {
    "duration": 68,
    "start_time": "2022-04-14T10:13:43.698Z"
   },
   {
    "duration": 63,
    "start_time": "2022-04-14T10:13:55.144Z"
   },
   {
    "duration": 15,
    "start_time": "2022-04-14T10:13:55.209Z"
   },
   {
    "duration": 4,
    "start_time": "2022-04-14T10:13:55.226Z"
   },
   {
    "duration": 12,
    "start_time": "2022-04-14T10:13:55.232Z"
   },
   {
    "duration": 11,
    "start_time": "2022-04-14T10:13:55.246Z"
   },
   {
    "duration": 8,
    "start_time": "2022-04-14T10:13:55.258Z"
   },
   {
    "duration": 41,
    "start_time": "2022-04-14T10:13:55.267Z"
   },
   {
    "duration": 14,
    "start_time": "2022-04-14T10:13:55.310Z"
   },
   {
    "duration": 10,
    "start_time": "2022-04-14T10:13:55.325Z"
   },
   {
    "duration": 11,
    "start_time": "2022-04-14T10:13:55.337Z"
   },
   {
    "duration": 4,
    "start_time": "2022-04-14T10:13:55.350Z"
   },
   {
    "duration": 9,
    "start_time": "2022-04-14T10:13:58.916Z"
   },
   {
    "duration": 20,
    "start_time": "2022-04-14T10:15:39.220Z"
   },
   {
    "duration": 5,
    "start_time": "2022-04-14T10:16:21.627Z"
   },
   {
    "duration": 83,
    "start_time": "2022-04-14T10:30:33.946Z"
   },
   {
    "duration": 13,
    "start_time": "2022-04-14T10:30:52.521Z"
   },
   {
    "duration": 12,
    "start_time": "2022-04-14T10:33:42.128Z"
   },
   {
    "duration": 71,
    "start_time": "2022-04-14T10:34:02.519Z"
   },
   {
    "duration": 20,
    "start_time": "2022-04-14T10:34:02.592Z"
   },
   {
    "duration": 12,
    "start_time": "2022-04-14T10:34:02.613Z"
   },
   {
    "duration": 24,
    "start_time": "2022-04-14T10:34:02.628Z"
   },
   {
    "duration": 16,
    "start_time": "2022-04-14T10:34:02.654Z"
   },
   {
    "duration": 18,
    "start_time": "2022-04-14T10:34:02.672Z"
   },
   {
    "duration": 29,
    "start_time": "2022-04-14T10:34:02.692Z"
   },
   {
    "duration": 15,
    "start_time": "2022-04-14T10:34:02.722Z"
   },
   {
    "duration": 13,
    "start_time": "2022-04-14T10:34:02.739Z"
   },
   {
    "duration": 17,
    "start_time": "2022-04-14T10:34:02.754Z"
   },
   {
    "duration": 5,
    "start_time": "2022-04-14T10:34:02.773Z"
   },
   {
    "duration": 18,
    "start_time": "2022-04-14T10:34:02.779Z"
   },
   {
    "duration": 21,
    "start_time": "2022-04-14T10:34:02.798Z"
   },
   {
    "duration": 19,
    "start_time": "2022-04-14T10:34:02.820Z"
   },
   {
    "duration": 7,
    "start_time": "2022-04-14T10:34:02.841Z"
   },
   {
    "duration": 11,
    "start_time": "2022-04-14T10:34:02.849Z"
   },
   {
    "duration": 11,
    "start_time": "2022-04-14T10:34:02.862Z"
   },
   {
    "duration": 20,
    "start_time": "2022-04-14T10:34:08.606Z"
   },
   {
    "duration": 20,
    "start_time": "2022-04-14T10:35:22.155Z"
   },
   {
    "duration": 13,
    "start_time": "2022-04-14T10:36:27.954Z"
   },
   {
    "duration": 6,
    "start_time": "2022-04-14T10:47:44.000Z"
   },
   {
    "duration": 8,
    "start_time": "2022-04-14T11:08:14.860Z"
   },
   {
    "duration": 8,
    "start_time": "2022-04-14T11:09:53.544Z"
   },
   {
    "duration": 7,
    "start_time": "2022-04-14T11:10:18.529Z"
   },
   {
    "duration": 7,
    "start_time": "2022-04-14T11:10:23.278Z"
   },
   {
    "duration": 5,
    "start_time": "2022-04-14T11:10:34.378Z"
   },
   {
    "duration": 13,
    "start_time": "2022-04-14T11:11:00.450Z"
   },
   {
    "duration": 6,
    "start_time": "2022-04-14T11:11:34.549Z"
   },
   {
    "duration": 5,
    "start_time": "2022-04-14T11:12:36.872Z"
   },
   {
    "duration": 6,
    "start_time": "2022-04-14T11:12:42.441Z"
   },
   {
    "duration": 5,
    "start_time": "2022-04-14T11:12:45.995Z"
   },
   {
    "duration": 5,
    "start_time": "2022-04-14T11:12:49.881Z"
   },
   {
    "duration": 5,
    "start_time": "2022-04-14T11:12:55.171Z"
   },
   {
    "duration": 5,
    "start_time": "2022-04-14T11:12:58.041Z"
   },
   {
    "duration": 5,
    "start_time": "2022-04-14T11:13:07.350Z"
   },
   {
    "duration": 14,
    "start_time": "2022-04-14T11:19:58.777Z"
   },
   {
    "duration": 9,
    "start_time": "2022-04-14T11:20:05.190Z"
   },
   {
    "duration": 17,
    "start_time": "2022-04-14T11:20:50.333Z"
   },
   {
    "duration": 25,
    "start_time": "2022-04-14T11:24:50.877Z"
   },
   {
    "duration": 13,
    "start_time": "2022-04-14T12:24:15.437Z"
   },
   {
    "duration": 9,
    "start_time": "2022-04-14T12:26:25.243Z"
   },
   {
    "duration": 67,
    "start_time": "2022-04-14T12:26:25.253Z"
   },
   {
    "duration": 15,
    "start_time": "2022-04-14T12:26:25.322Z"
   },
   {
    "duration": 4,
    "start_time": "2022-04-14T12:26:25.339Z"
   },
   {
    "duration": 12,
    "start_time": "2022-04-14T12:26:25.344Z"
   },
   {
    "duration": 12,
    "start_time": "2022-04-14T12:26:25.357Z"
   },
   {
    "duration": 8,
    "start_time": "2022-04-14T12:26:25.370Z"
   },
   {
    "duration": 9,
    "start_time": "2022-04-14T12:26:25.380Z"
   },
   {
    "duration": 29,
    "start_time": "2022-04-14T12:26:25.390Z"
   },
   {
    "duration": 10,
    "start_time": "2022-04-14T12:26:25.421Z"
   },
   {
    "duration": 8,
    "start_time": "2022-04-14T12:26:25.433Z"
   },
   {
    "duration": 5,
    "start_time": "2022-04-14T12:26:25.443Z"
   },
   {
    "duration": 26,
    "start_time": "2022-04-14T12:26:25.450Z"
   },
   {
    "duration": 465,
    "start_time": "2022-04-14T12:26:28.928Z"
   },
   {
    "duration": 16,
    "start_time": "2022-04-14T12:26:29.394Z"
   },
   {
    "duration": 5,
    "start_time": "2022-04-14T12:26:29.412Z"
   },
   {
    "duration": 16,
    "start_time": "2022-04-14T12:26:29.418Z"
   },
   {
    "duration": 11,
    "start_time": "2022-04-14T12:26:29.436Z"
   },
   {
    "duration": 8,
    "start_time": "2022-04-14T12:26:29.448Z"
   },
   {
    "duration": 8,
    "start_time": "2022-04-14T12:26:29.457Z"
   },
   {
    "duration": 48,
    "start_time": "2022-04-14T12:26:29.467Z"
   },
   {
    "duration": 9,
    "start_time": "2022-04-14T12:26:29.517Z"
   },
   {
    "duration": 8,
    "start_time": "2022-04-14T12:26:29.529Z"
   },
   {
    "duration": 5,
    "start_time": "2022-04-14T12:26:29.538Z"
   },
   {
    "duration": 29,
    "start_time": "2022-04-14T12:26:29.544Z"
   },
   {
    "duration": 38,
    "start_time": "2022-04-14T12:26:29.574Z"
   },
   {
    "duration": 9,
    "start_time": "2022-04-14T12:26:29.613Z"
   },
   {
    "duration": 5,
    "start_time": "2022-04-14T12:26:29.623Z"
   },
   {
    "duration": 12,
    "start_time": "2022-04-14T12:26:29.630Z"
   },
   {
    "duration": 15,
    "start_time": "2022-04-14T12:26:29.644Z"
   },
   {
    "duration": 10,
    "start_time": "2022-04-14T12:26:29.661Z"
   },
   {
    "duration": 7,
    "start_time": "2022-04-14T12:26:29.672Z"
   },
   {
    "duration": 11,
    "start_time": "2022-04-14T12:26:29.708Z"
   },
   {
    "duration": 10,
    "start_time": "2022-04-14T12:26:29.720Z"
   },
   {
    "duration": 13,
    "start_time": "2022-04-14T12:26:29.732Z"
   },
   {
    "duration": 63,
    "start_time": "2022-04-14T12:26:29.747Z"
   },
   {
    "duration": 13,
    "start_time": "2022-04-14T12:26:29.812Z"
   },
   {
    "duration": 13,
    "start_time": "2022-04-14T12:26:29.827Z"
   },
   {
    "duration": 10,
    "start_time": "2022-04-14T12:26:29.842Z"
   },
   {
    "duration": 10,
    "start_time": "2022-04-14T12:26:29.853Z"
   },
   {
    "duration": 7,
    "start_time": "2022-04-14T12:26:29.866Z"
   },
   {
    "duration": 40,
    "start_time": "2022-04-14T12:26:29.874Z"
   },
   {
    "duration": 5,
    "start_time": "2022-04-14T12:26:29.915Z"
   },
   {
    "duration": 14,
    "start_time": "2022-04-14T12:26:29.921Z"
   },
   {
    "duration": 41,
    "start_time": "2022-04-14T12:26:29.936Z"
   },
   {
    "duration": 38,
    "start_time": "2022-04-14T12:26:29.978Z"
   },
   {
    "duration": 12,
    "start_time": "2022-04-14T12:26:30.018Z"
   },
   {
    "duration": 17,
    "start_time": "2022-04-14T12:26:30.032Z"
   },
   {
    "duration": 16,
    "start_time": "2022-04-14T12:26:30.051Z"
   },
   {
    "duration": 52,
    "start_time": "2022-04-14T12:26:30.068Z"
   },
   {
    "duration": 38,
    "start_time": "2022-04-14T12:26:30.121Z"
   },
   {
    "duration": 10,
    "start_time": "2022-04-14T12:26:30.160Z"
   },
   {
    "duration": 44,
    "start_time": "2022-04-14T12:26:30.172Z"
   },
   {
    "duration": 24,
    "start_time": "2022-04-14T12:26:30.218Z"
   },
   {
    "duration": 27,
    "start_time": "2022-04-14T12:26:30.244Z"
   },
   {
    "duration": 13,
    "start_time": "2022-04-14T12:26:50.573Z"
   },
   {
    "duration": 61,
    "start_time": "2022-04-14T12:33:25.873Z"
   },
   {
    "duration": 14,
    "start_time": "2022-04-14T12:33:25.936Z"
   },
   {
    "duration": 4,
    "start_time": "2022-04-14T12:33:25.952Z"
   },
   {
    "duration": 12,
    "start_time": "2022-04-14T12:33:25.958Z"
   },
   {
    "duration": 37,
    "start_time": "2022-04-14T12:33:25.971Z"
   },
   {
    "duration": 9,
    "start_time": "2022-04-14T12:33:26.010Z"
   },
   {
    "duration": 9,
    "start_time": "2022-04-14T12:33:26.021Z"
   },
   {
    "duration": 13,
    "start_time": "2022-04-14T12:33:26.032Z"
   },
   {
    "duration": 10,
    "start_time": "2022-04-14T12:33:26.047Z"
   },
   {
    "duration": 49,
    "start_time": "2022-04-14T12:33:26.060Z"
   },
   {
    "duration": 7,
    "start_time": "2022-04-14T12:33:26.111Z"
   },
   {
    "duration": 24,
    "start_time": "2022-04-14T12:33:26.119Z"
   },
   {
    "duration": 9,
    "start_time": "2022-04-14T12:33:26.145Z"
   },
   {
    "duration": 10,
    "start_time": "2022-04-14T12:33:26.156Z"
   },
   {
    "duration": 42,
    "start_time": "2022-04-14T12:33:26.168Z"
   },
   {
    "duration": 6,
    "start_time": "2022-04-14T12:33:26.211Z"
   },
   {
    "duration": 9,
    "start_time": "2022-04-14T12:33:26.219Z"
   },
   {
    "duration": 10,
    "start_time": "2022-04-14T12:33:26.230Z"
   },
   {
    "duration": 6,
    "start_time": "2022-04-14T12:33:26.242Z"
   },
   {
    "duration": 11,
    "start_time": "2022-04-14T12:33:26.250Z"
   },
   {
    "duration": 47,
    "start_time": "2022-04-14T12:33:26.262Z"
   },
   {
    "duration": 13,
    "start_time": "2022-04-14T12:33:26.310Z"
   },
   {
    "duration": 40,
    "start_time": "2022-04-14T12:33:26.325Z"
   },
   {
    "duration": 9,
    "start_time": "2022-04-14T12:33:26.367Z"
   },
   {
    "duration": 38,
    "start_time": "2022-04-14T12:33:26.377Z"
   },
   {
    "duration": 13,
    "start_time": "2022-04-14T12:33:26.416Z"
   },
   {
    "duration": 11,
    "start_time": "2022-04-14T12:33:26.431Z"
   },
   {
    "duration": 9,
    "start_time": "2022-04-14T12:33:26.445Z"
   },
   {
    "duration": 17,
    "start_time": "2022-04-14T12:33:26.456Z"
   },
   {
    "duration": 34,
    "start_time": "2022-04-14T12:33:26.474Z"
   },
   {
    "duration": 15,
    "start_time": "2022-04-14T12:33:26.510Z"
   },
   {
    "duration": 51,
    "start_time": "2022-04-14T12:33:26.526Z"
   },
   {
    "duration": 35,
    "start_time": "2022-04-14T12:33:26.579Z"
   },
   {
    "duration": 13,
    "start_time": "2022-04-14T12:33:26.616Z"
   },
   {
    "duration": 16,
    "start_time": "2022-04-14T12:33:26.631Z"
   },
   {
    "duration": 13,
    "start_time": "2022-04-14T12:33:26.649Z"
   },
   {
    "duration": 47,
    "start_time": "2022-04-14T12:33:26.664Z"
   },
   {
    "duration": 36,
    "start_time": "2022-04-14T12:33:26.713Z"
   },
   {
    "duration": 10,
    "start_time": "2022-04-14T12:33:26.751Z"
   },
   {
    "duration": 45,
    "start_time": "2022-04-14T12:33:26.763Z"
   },
   {
    "duration": 26,
    "start_time": "2022-04-14T12:33:26.810Z"
   },
   {
    "duration": 30,
    "start_time": "2022-04-14T12:33:26.839Z"
   },
   {
    "duration": 18,
    "start_time": "2022-04-14T12:44:50.296Z"
   },
   {
    "duration": 14,
    "start_time": "2022-04-14T12:45:00.565Z"
   },
   {
    "duration": 69,
    "start_time": "2022-04-14T12:45:12.451Z"
   },
   {
    "duration": 17,
    "start_time": "2022-04-14T12:45:12.523Z"
   },
   {
    "duration": 4,
    "start_time": "2022-04-14T12:45:12.541Z"
   },
   {
    "duration": 11,
    "start_time": "2022-04-14T12:45:12.547Z"
   },
   {
    "duration": 11,
    "start_time": "2022-04-14T12:45:12.560Z"
   },
   {
    "duration": 47,
    "start_time": "2022-04-14T12:45:12.572Z"
   },
   {
    "duration": 10,
    "start_time": "2022-04-14T12:45:12.622Z"
   },
   {
    "duration": 14,
    "start_time": "2022-04-14T12:45:12.634Z"
   },
   {
    "duration": 11,
    "start_time": "2022-04-14T12:45:12.650Z"
   },
   {
    "duration": 48,
    "start_time": "2022-04-14T12:45:12.664Z"
   },
   {
    "duration": 9,
    "start_time": "2022-04-14T12:45:12.714Z"
   },
   {
    "duration": 22,
    "start_time": "2022-04-14T12:45:12.724Z"
   },
   {
    "duration": 9,
    "start_time": "2022-04-14T12:45:12.747Z"
   },
   {
    "duration": 10,
    "start_time": "2022-04-14T12:45:12.757Z"
   },
   {
    "duration": 4,
    "start_time": "2022-04-14T12:45:12.769Z"
   },
   {
    "duration": 10,
    "start_time": "2022-04-14T12:45:12.807Z"
   },
   {
    "duration": 10,
    "start_time": "2022-04-14T12:45:12.820Z"
   },
   {
    "duration": 9,
    "start_time": "2022-04-14T12:45:12.832Z"
   },
   {
    "duration": 6,
    "start_time": "2022-04-14T12:45:12.843Z"
   },
   {
    "duration": 19,
    "start_time": "2022-04-14T12:45:12.850Z"
   },
   {
    "duration": 38,
    "start_time": "2022-04-14T12:45:12.871Z"
   },
   {
    "duration": 18,
    "start_time": "2022-04-14T12:45:12.911Z"
   },
   {
    "duration": 41,
    "start_time": "2022-04-14T12:45:12.931Z"
   },
   {
    "duration": 41,
    "start_time": "2022-04-14T12:45:12.973Z"
   },
   {
    "duration": 12,
    "start_time": "2022-04-14T12:45:13.016Z"
   },
   {
    "duration": 12,
    "start_time": "2022-04-14T12:45:13.030Z"
   },
   {
    "duration": 11,
    "start_time": "2022-04-14T12:45:13.044Z"
   },
   {
    "duration": 7,
    "start_time": "2022-04-14T12:45:13.059Z"
   },
   {
    "duration": 18,
    "start_time": "2022-04-14T12:45:13.067Z"
   },
   {
    "duration": 7,
    "start_time": "2022-04-14T12:45:13.108Z"
   },
   {
    "duration": 20,
    "start_time": "2022-04-14T12:45:13.117Z"
   },
   {
    "duration": 43,
    "start_time": "2022-04-14T12:45:13.139Z"
   },
   {
    "duration": 42,
    "start_time": "2022-04-14T12:45:13.184Z"
   },
   {
    "duration": 12,
    "start_time": "2022-04-14T12:45:13.228Z"
   },
   {
    "duration": 17,
    "start_time": "2022-04-14T12:45:13.242Z"
   },
   {
    "duration": 14,
    "start_time": "2022-04-14T12:45:13.261Z"
   },
   {
    "duration": 30,
    "start_time": "2022-04-14T12:45:13.309Z"
   },
   {
    "duration": 37,
    "start_time": "2022-04-14T12:45:13.341Z"
   },
   {
    "duration": 9,
    "start_time": "2022-04-14T12:45:13.380Z"
   },
   {
    "duration": 49,
    "start_time": "2022-04-14T12:45:13.391Z"
   },
   {
    "duration": 24,
    "start_time": "2022-04-14T12:45:13.442Z"
   },
   {
    "duration": 55,
    "start_time": "2022-04-14T12:45:13.468Z"
   },
   {
    "duration": 14,
    "start_time": "2022-04-14T12:46:22.481Z"
   },
   {
    "duration": 64,
    "start_time": "2022-04-14T12:46:38.463Z"
   },
   {
    "duration": 15,
    "start_time": "2022-04-14T12:46:38.528Z"
   },
   {
    "duration": 4,
    "start_time": "2022-04-14T12:46:38.544Z"
   },
   {
    "duration": 11,
    "start_time": "2022-04-14T12:46:38.549Z"
   },
   {
    "duration": 48,
    "start_time": "2022-04-14T12:46:38.562Z"
   },
   {
    "duration": 8,
    "start_time": "2022-04-14T12:46:38.612Z"
   },
   {
    "duration": 14,
    "start_time": "2022-04-14T12:46:38.622Z"
   },
   {
    "duration": 81,
    "start_time": "2022-04-14T12:46:38.638Z"
   },
   {
    "duration": 10,
    "start_time": "2022-04-14T12:46:38.721Z"
   },
   {
    "duration": 10,
    "start_time": "2022-04-14T12:46:38.734Z"
   },
   {
    "duration": 8,
    "start_time": "2022-04-14T12:46:38.746Z"
   },
   {
    "duration": 21,
    "start_time": "2022-04-14T12:46:38.755Z"
   },
   {
    "duration": 8,
    "start_time": "2022-04-14T12:46:38.808Z"
   },
   {
    "duration": 9,
    "start_time": "2022-04-14T12:46:38.818Z"
   },
   {
    "duration": 5,
    "start_time": "2022-04-14T12:46:38.828Z"
   },
   {
    "duration": 6,
    "start_time": "2022-04-14T12:46:38.834Z"
   },
   {
    "duration": 12,
    "start_time": "2022-04-14T12:46:38.841Z"
   },
   {
    "duration": 53,
    "start_time": "2022-04-14T12:46:38.854Z"
   },
   {
    "duration": 7,
    "start_time": "2022-04-14T12:46:38.909Z"
   },
   {
    "duration": 14,
    "start_time": "2022-04-14T12:46:38.917Z"
   },
   {
    "duration": 11,
    "start_time": "2022-04-14T12:46:38.932Z"
   },
   {
    "duration": 16,
    "start_time": "2022-04-14T12:46:38.944Z"
   },
   {
    "duration": 75,
    "start_time": "2022-04-14T12:46:38.962Z"
   },
   {
    "duration": 9,
    "start_time": "2022-04-14T12:46:39.039Z"
   },
   {
    "duration": 12,
    "start_time": "2022-04-14T12:46:39.049Z"
   },
   {
    "duration": 11,
    "start_time": "2022-04-14T12:46:39.063Z"
   },
   {
    "duration": 41,
    "start_time": "2022-04-14T12:46:39.076Z"
   },
   {
    "duration": 9,
    "start_time": "2022-04-14T12:46:39.121Z"
   },
   {
    "duration": 15,
    "start_time": "2022-04-14T12:46:39.131Z"
   },
   {
    "duration": 6,
    "start_time": "2022-04-14T12:46:39.148Z"
   },
   {
    "duration": 14,
    "start_time": "2022-04-14T12:46:39.156Z"
   },
   {
    "duration": 73,
    "start_time": "2022-04-14T12:46:39.172Z"
   },
   {
    "duration": 12,
    "start_time": "2022-04-14T12:46:39.247Z"
   },
   {
    "duration": 12,
    "start_time": "2022-04-14T12:46:39.261Z"
   },
   {
    "duration": 42,
    "start_time": "2022-04-14T12:46:39.275Z"
   },
   {
    "duration": 16,
    "start_time": "2022-04-14T12:46:39.319Z"
   },
   {
    "duration": 23,
    "start_time": "2022-04-14T12:46:39.337Z"
   },
   {
    "duration": 55,
    "start_time": "2022-04-14T12:46:39.362Z"
   },
   {
    "duration": 9,
    "start_time": "2022-04-14T12:46:39.419Z"
   },
   {
    "duration": 28,
    "start_time": "2022-04-14T12:46:39.430Z"
   },
   {
    "duration": 48,
    "start_time": "2022-04-14T12:46:39.459Z"
   },
   {
    "duration": 25,
    "start_time": "2022-04-14T12:46:39.509Z"
   },
   {
    "duration": 19,
    "start_time": "2022-04-14T14:53:21.414Z"
   },
   {
    "duration": 25,
    "start_time": "2022-04-14T16:37:49.549Z"
   },
   {
    "duration": 489,
    "start_time": "2022-04-14T16:38:04.871Z"
   },
   {
    "duration": 16,
    "start_time": "2022-04-14T16:38:05.362Z"
   },
   {
    "duration": 4,
    "start_time": "2022-04-14T16:38:05.380Z"
   },
   {
    "duration": 28,
    "start_time": "2022-04-14T16:38:05.387Z"
   },
   {
    "duration": 27,
    "start_time": "2022-04-14T16:38:05.416Z"
   },
   {
    "duration": 8,
    "start_time": "2022-04-14T16:38:05.445Z"
   },
   {
    "duration": 8,
    "start_time": "2022-04-14T16:38:05.455Z"
   },
   {
    "duration": 15,
    "start_time": "2022-04-14T16:38:05.464Z"
   },
   {
    "duration": 31,
    "start_time": "2022-04-14T16:38:05.481Z"
   },
   {
    "duration": 11,
    "start_time": "2022-04-14T16:38:05.516Z"
   },
   {
    "duration": 7,
    "start_time": "2022-04-14T16:38:05.532Z"
   },
   {
    "duration": 26,
    "start_time": "2022-04-14T16:38:05.540Z"
   },
   {
    "duration": 8,
    "start_time": "2022-04-14T16:38:05.568Z"
   },
   {
    "duration": 36,
    "start_time": "2022-04-14T16:38:05.578Z"
   },
   {
    "duration": 6,
    "start_time": "2022-04-14T16:38:05.616Z"
   },
   {
    "duration": 7,
    "start_time": "2022-04-14T16:38:05.624Z"
   },
   {
    "duration": 11,
    "start_time": "2022-04-14T16:38:05.632Z"
   },
   {
    "duration": 12,
    "start_time": "2022-04-14T16:38:05.644Z"
   },
   {
    "duration": 7,
    "start_time": "2022-04-14T16:38:05.658Z"
   },
   {
    "duration": 62,
    "start_time": "2022-04-14T16:38:05.667Z"
   },
   {
    "duration": 11,
    "start_time": "2022-04-14T16:38:05.731Z"
   },
   {
    "duration": 23,
    "start_time": "2022-04-14T16:38:05.743Z"
   },
   {
    "duration": 64,
    "start_time": "2022-04-14T16:38:05.768Z"
   },
   {
    "duration": 9,
    "start_time": "2022-04-14T16:38:05.833Z"
   },
   {
    "duration": 10,
    "start_time": "2022-04-14T16:38:05.844Z"
   },
   {
    "duration": 9,
    "start_time": "2022-04-14T16:38:05.856Z"
   },
   {
    "duration": 16,
    "start_time": "2022-04-14T16:38:05.867Z"
   },
   {
    "duration": 8,
    "start_time": "2022-04-14T16:38:05.907Z"
   },
   {
    "duration": 15,
    "start_time": "2022-04-14T16:38:05.916Z"
   },
   {
    "duration": 7,
    "start_time": "2022-04-14T16:38:05.932Z"
   },
   {
    "duration": 17,
    "start_time": "2022-04-14T16:38:05.940Z"
   },
   {
    "duration": 71,
    "start_time": "2022-04-14T16:38:05.958Z"
   },
   {
    "duration": 11,
    "start_time": "2022-04-14T16:38:06.031Z"
   },
   {
    "duration": 12,
    "start_time": "2022-04-14T16:38:06.044Z"
   },
   {
    "duration": 18,
    "start_time": "2022-04-14T16:38:06.057Z"
   },
   {
    "duration": 38,
    "start_time": "2022-04-14T16:38:06.077Z"
   },
   {
    "duration": 24,
    "start_time": "2022-04-14T16:38:06.116Z"
   },
   {
    "duration": 31,
    "start_time": "2022-04-14T16:38:06.142Z"
   },
   {
    "duration": 34,
    "start_time": "2022-04-14T16:38:06.174Z"
   },
   {
    "duration": 28,
    "start_time": "2022-04-14T16:38:06.210Z"
   },
   {
    "duration": 25,
    "start_time": "2022-04-14T16:38:06.239Z"
   },
   {
    "duration": 50,
    "start_time": "2022-04-14T16:38:06.265Z"
   },
   {
    "duration": 27,
    "start_time": "2022-04-14T16:39:40.020Z"
   },
   {
    "duration": 66,
    "start_time": "2022-04-14T16:39:53.194Z"
   },
   {
    "duration": 14,
    "start_time": "2022-04-14T16:39:53.261Z"
   },
   {
    "duration": 4,
    "start_time": "2022-04-14T16:39:53.277Z"
   },
   {
    "duration": 13,
    "start_time": "2022-04-14T16:39:53.308Z"
   },
   {
    "duration": 12,
    "start_time": "2022-04-14T16:39:53.323Z"
   },
   {
    "duration": 9,
    "start_time": "2022-04-14T16:39:53.337Z"
   },
   {
    "duration": 18,
    "start_time": "2022-04-14T16:39:53.347Z"
   },
   {
    "duration": 51,
    "start_time": "2022-04-14T16:39:53.367Z"
   },
   {
    "duration": 10,
    "start_time": "2022-04-14T16:39:53.420Z"
   },
   {
    "duration": 8,
    "start_time": "2022-04-14T16:39:53.432Z"
   },
   {
    "duration": 8,
    "start_time": "2022-04-14T16:39:53.442Z"
   },
   {
    "duration": 19,
    "start_time": "2022-04-14T16:39:53.451Z"
   },
   {
    "duration": 35,
    "start_time": "2022-04-14T16:39:53.472Z"
   },
   {
    "duration": 9,
    "start_time": "2022-04-14T16:39:53.509Z"
   },
   {
    "duration": 5,
    "start_time": "2022-04-14T16:39:53.519Z"
   },
   {
    "duration": 7,
    "start_time": "2022-04-14T16:39:53.525Z"
   },
   {
    "duration": 12,
    "start_time": "2022-04-14T16:39:53.533Z"
   },
   {
    "duration": 10,
    "start_time": "2022-04-14T16:39:53.546Z"
   },
   {
    "duration": 6,
    "start_time": "2022-04-14T16:39:53.558Z"
   },
   {
    "duration": 56,
    "start_time": "2022-04-14T16:39:53.566Z"
   },
   {
    "duration": 10,
    "start_time": "2022-04-14T16:39:53.624Z"
   },
   {
    "duration": 15,
    "start_time": "2022-04-14T16:39:53.636Z"
   },
   {
    "duration": 62,
    "start_time": "2022-04-14T16:39:53.652Z"
   },
   {
    "duration": 8,
    "start_time": "2022-04-14T16:39:53.716Z"
   },
   {
    "duration": 8,
    "start_time": "2022-04-14T16:39:53.725Z"
   },
   {
    "duration": 8,
    "start_time": "2022-04-14T16:39:53.735Z"
   },
   {
    "duration": 9,
    "start_time": "2022-04-14T16:39:53.745Z"
   },
   {
    "duration": 7,
    "start_time": "2022-04-14T16:39:53.758Z"
   },
   {
    "duration": 48,
    "start_time": "2022-04-14T16:39:53.767Z"
   },
   {
    "duration": 5,
    "start_time": "2022-04-14T16:39:53.817Z"
   },
   {
    "duration": 15,
    "start_time": "2022-04-14T16:39:53.824Z"
   },
   {
    "duration": 70,
    "start_time": "2022-04-14T16:39:53.841Z"
   },
   {
    "duration": 12,
    "start_time": "2022-04-14T16:39:53.913Z"
   },
   {
    "duration": 13,
    "start_time": "2022-04-14T16:39:53.926Z"
   },
   {
    "duration": 17,
    "start_time": "2022-04-14T16:39:53.940Z"
   },
   {
    "duration": 17,
    "start_time": "2022-04-14T16:39:53.959Z"
   },
   {
    "duration": 23,
    "start_time": "2022-04-14T16:39:54.008Z"
   },
   {
    "duration": 31,
    "start_time": "2022-04-14T16:39:54.033Z"
   },
   {
    "duration": 10,
    "start_time": "2022-04-14T16:39:54.066Z"
   },
   {
    "duration": 56,
    "start_time": "2022-04-14T16:39:54.077Z"
   },
   {
    "duration": 27,
    "start_time": "2022-04-14T16:39:54.134Z"
   },
   {
    "duration": 25,
    "start_time": "2022-04-14T16:39:54.162Z"
   },
   {
    "duration": 469,
    "start_time": "2022-04-14T17:07:11.018Z"
   },
   {
    "duration": 21,
    "start_time": "2022-04-14T17:07:11.490Z"
   },
   {
    "duration": 5,
    "start_time": "2022-04-14T17:07:11.512Z"
   },
   {
    "duration": 10,
    "start_time": "2022-04-14T17:07:11.519Z"
   },
   {
    "duration": 13,
    "start_time": "2022-04-14T17:07:11.532Z"
   },
   {
    "duration": 10,
    "start_time": "2022-04-14T17:07:11.546Z"
   },
   {
    "duration": 8,
    "start_time": "2022-04-14T17:07:11.557Z"
   },
   {
    "duration": 17,
    "start_time": "2022-04-14T17:07:11.606Z"
   },
   {
    "duration": 10,
    "start_time": "2022-04-14T17:07:11.624Z"
   },
   {
    "duration": 9,
    "start_time": "2022-04-14T17:07:11.635Z"
   },
   {
    "duration": 5,
    "start_time": "2022-04-14T17:07:11.646Z"
   },
   {
    "duration": 25,
    "start_time": "2022-04-14T17:07:11.652Z"
   },
   {
    "duration": 34,
    "start_time": "2022-04-14T17:07:11.679Z"
   },
   {
    "duration": 8,
    "start_time": "2022-04-14T17:07:11.717Z"
   },
   {
    "duration": 4,
    "start_time": "2022-04-14T17:07:11.727Z"
   },
   {
    "duration": 6,
    "start_time": "2022-04-14T17:07:11.733Z"
   },
   {
    "duration": 8,
    "start_time": "2022-04-14T17:07:11.741Z"
   },
   {
    "duration": 12,
    "start_time": "2022-04-14T17:07:11.751Z"
   },
   {
    "duration": 47,
    "start_time": "2022-04-14T17:07:11.765Z"
   },
   {
    "duration": 24,
    "start_time": "2022-04-14T17:07:11.814Z"
   },
   {
    "duration": 12,
    "start_time": "2022-04-14T17:07:11.840Z"
   },
   {
    "duration": 17,
    "start_time": "2022-04-14T17:07:11.854Z"
   },
   {
    "duration": 74,
    "start_time": "2022-04-14T17:07:11.872Z"
   },
   {
    "duration": 8,
    "start_time": "2022-04-14T17:07:11.948Z"
   },
   {
    "duration": 10,
    "start_time": "2022-04-14T17:07:11.958Z"
   },
   {
    "duration": 10,
    "start_time": "2022-04-14T17:07:11.969Z"
   },
   {
    "duration": 37,
    "start_time": "2022-04-14T17:07:11.980Z"
   },
   {
    "duration": 8,
    "start_time": "2022-04-14T17:07:12.018Z"
   },
   {
    "duration": 16,
    "start_time": "2022-04-14T17:07:12.028Z"
   },
   {
    "duration": 5,
    "start_time": "2022-04-14T17:07:12.046Z"
   },
   {
    "duration": 16,
    "start_time": "2022-04-14T17:07:12.052Z"
   },
   {
    "duration": 77,
    "start_time": "2022-04-14T17:07:12.069Z"
   },
   {
    "duration": 12,
    "start_time": "2022-04-14T17:07:12.147Z"
   },
   {
    "duration": 12,
    "start_time": "2022-04-14T17:07:12.161Z"
   },
   {
    "duration": 44,
    "start_time": "2022-04-14T17:07:12.175Z"
   },
   {
    "duration": 16,
    "start_time": "2022-04-14T17:07:12.221Z"
   },
   {
    "duration": 24,
    "start_time": "2022-04-14T17:07:12.239Z"
   },
   {
    "duration": 53,
    "start_time": "2022-04-14T17:07:12.264Z"
   },
   {
    "duration": 9,
    "start_time": "2022-04-14T17:07:12.319Z"
   },
   {
    "duration": 30,
    "start_time": "2022-04-14T17:07:12.330Z"
   },
   {
    "duration": 45,
    "start_time": "2022-04-14T17:07:12.364Z"
   },
   {
    "duration": 26,
    "start_time": "2022-04-14T17:07:12.411Z"
   },
   {
    "duration": 26,
    "start_time": "2022-04-14T17:09:23.729Z"
   },
   {
    "duration": 476,
    "start_time": "2022-04-14T17:09:31.832Z"
   },
   {
    "duration": 15,
    "start_time": "2022-04-14T17:09:32.310Z"
   },
   {
    "duration": 5,
    "start_time": "2022-04-14T17:09:32.327Z"
   },
   {
    "duration": 19,
    "start_time": "2022-04-14T17:09:32.333Z"
   },
   {
    "duration": 13,
    "start_time": "2022-04-14T17:09:32.354Z"
   },
   {
    "duration": 11,
    "start_time": "2022-04-14T17:09:32.369Z"
   },
   {
    "duration": 31,
    "start_time": "2022-04-14T17:09:32.382Z"
   },
   {
    "duration": 15,
    "start_time": "2022-04-14T17:09:32.415Z"
   },
   {
    "duration": 9,
    "start_time": "2022-04-14T17:09:32.432Z"
   },
   {
    "duration": 8,
    "start_time": "2022-04-14T17:09:32.444Z"
   },
   {
    "duration": 14,
    "start_time": "2022-04-14T17:09:32.453Z"
   },
   {
    "duration": 42,
    "start_time": "2022-04-14T17:09:32.469Z"
   },
   {
    "duration": 8,
    "start_time": "2022-04-14T17:09:32.513Z"
   },
   {
    "duration": 8,
    "start_time": "2022-04-14T17:09:32.523Z"
   },
   {
    "duration": 8,
    "start_time": "2022-04-14T17:09:32.533Z"
   },
   {
    "duration": 10,
    "start_time": "2022-04-14T17:09:32.542Z"
   },
   {
    "duration": 17,
    "start_time": "2022-04-14T17:09:32.554Z"
   },
   {
    "duration": 13,
    "start_time": "2022-04-14T17:09:32.573Z"
   },
   {
    "duration": 23,
    "start_time": "2022-04-14T17:09:32.587Z"
   },
   {
    "duration": 28,
    "start_time": "2022-04-14T17:09:32.612Z"
   },
   {
    "duration": 11,
    "start_time": "2022-04-14T17:09:32.642Z"
   },
   {
    "duration": 15,
    "start_time": "2022-04-14T17:09:32.655Z"
   },
   {
    "duration": 61,
    "start_time": "2022-04-14T17:09:32.672Z"
   },
   {
    "duration": 8,
    "start_time": "2022-04-14T17:09:32.735Z"
   },
   {
    "duration": 10,
    "start_time": "2022-04-14T17:09:32.745Z"
   },
   {
    "duration": 12,
    "start_time": "2022-04-14T17:09:32.757Z"
   },
   {
    "duration": 16,
    "start_time": "2022-04-14T17:09:32.771Z"
   },
   {
    "duration": 7,
    "start_time": "2022-04-14T17:09:32.806Z"
   },
   {
    "duration": 16,
    "start_time": "2022-04-14T17:09:32.815Z"
   },
   {
    "duration": 7,
    "start_time": "2022-04-14T17:09:32.832Z"
   },
   {
    "duration": 15,
    "start_time": "2022-04-14T17:09:32.840Z"
   },
   {
    "duration": 76,
    "start_time": "2022-04-14T17:09:32.856Z"
   },
   {
    "duration": 11,
    "start_time": "2022-04-14T17:09:32.934Z"
   },
   {
    "duration": 12,
    "start_time": "2022-04-14T17:09:32.946Z"
   },
   {
    "duration": 17,
    "start_time": "2022-04-14T17:09:32.960Z"
   },
   {
    "duration": 41,
    "start_time": "2022-04-14T17:09:32.979Z"
   },
   {
    "duration": 21,
    "start_time": "2022-04-14T17:09:33.022Z"
   },
   {
    "duration": 30,
    "start_time": "2022-04-14T17:09:33.045Z"
   },
   {
    "duration": 31,
    "start_time": "2022-04-14T17:09:33.076Z"
   },
   {
    "duration": 27,
    "start_time": "2022-04-14T17:09:33.109Z"
   },
   {
    "duration": 23,
    "start_time": "2022-04-14T17:09:33.138Z"
   },
   {
    "duration": 49,
    "start_time": "2022-04-14T17:09:33.163Z"
   },
   {
    "duration": 498,
    "start_time": "2022-04-14T18:20:38.418Z"
   },
   {
    "duration": 15,
    "start_time": "2022-04-14T18:20:38.918Z"
   },
   {
    "duration": 4,
    "start_time": "2022-04-14T18:20:38.934Z"
   },
   {
    "duration": 10,
    "start_time": "2022-04-14T18:20:38.947Z"
   },
   {
    "duration": 12,
    "start_time": "2022-04-14T18:20:38.958Z"
   },
   {
    "duration": 8,
    "start_time": "2022-04-14T18:20:38.972Z"
   },
   {
    "duration": 8,
    "start_time": "2022-04-14T18:20:38.981Z"
   },
   {
    "duration": 9,
    "start_time": "2022-04-14T18:21:21.919Z"
   },
   {
    "duration": 15,
    "start_time": "2022-04-14T18:22:07.839Z"
   },
   {
    "duration": 13,
    "start_time": "2022-04-14T18:22:14.816Z"
   },
   {
    "duration": 107,
    "start_time": "2022-04-14T18:22:39.654Z"
   },
   {
    "duration": 21,
    "start_time": "2022-04-14T18:22:46.019Z"
   },
   {
    "duration": 13,
    "start_time": "2022-04-14T18:22:53.775Z"
   },
   {
    "duration": 15,
    "start_time": "2022-04-14T18:23:03.020Z"
   },
   {
    "duration": 13,
    "start_time": "2022-04-14T18:23:06.240Z"
   },
   {
    "duration": 65,
    "start_time": "2022-04-14T18:25:17.808Z"
   },
   {
    "duration": 13,
    "start_time": "2022-04-14T18:25:17.874Z"
   },
   {
    "duration": 5,
    "start_time": "2022-04-14T18:25:17.889Z"
   },
   {
    "duration": 11,
    "start_time": "2022-04-14T18:25:17.897Z"
   },
   {
    "duration": 10,
    "start_time": "2022-04-14T18:25:17.909Z"
   },
   {
    "duration": 9,
    "start_time": "2022-04-14T18:25:17.947Z"
   },
   {
    "duration": 9,
    "start_time": "2022-04-14T18:25:17.957Z"
   },
   {
    "duration": 11,
    "start_time": "2022-04-14T18:25:17.968Z"
   },
   {
    "duration": 9,
    "start_time": "2022-04-14T18:25:17.981Z"
   },
   {
    "duration": 7,
    "start_time": "2022-04-14T18:25:17.992Z"
   },
   {
    "duration": 4,
    "start_time": "2022-04-14T18:25:18.001Z"
   },
   {
    "duration": 57,
    "start_time": "2022-04-14T18:25:18.007Z"
   },
   {
    "duration": 8,
    "start_time": "2022-04-14T18:25:18.066Z"
   },
   {
    "duration": 10,
    "start_time": "2022-04-14T18:25:18.076Z"
   },
   {
    "duration": 4,
    "start_time": "2022-04-14T18:25:18.087Z"
   },
   {
    "duration": 7,
    "start_time": "2022-04-14T18:25:18.092Z"
   },
   {
    "duration": 8,
    "start_time": "2022-04-14T18:25:18.100Z"
   },
   {
    "duration": 41,
    "start_time": "2022-04-14T18:25:18.110Z"
   },
   {
    "duration": 6,
    "start_time": "2022-04-14T18:25:18.153Z"
   },
   {
    "duration": 21,
    "start_time": "2022-04-14T18:25:28.467Z"
   },
   {
    "duration": 21,
    "start_time": "2022-04-14T18:25:35.988Z"
   },
   {
    "duration": 25,
    "start_time": "2022-04-14T18:25:38.133Z"
   }
  ],
  "kernelspec": {
   "display_name": "Python 3 (ipykernel)",
   "language": "python",
   "name": "python3"
  },
  "language_info": {
   "codemirror_mode": {
    "name": "ipython",
    "version": 3
   },
   "file_extension": ".py",
   "mimetype": "text/x-python",
   "name": "python",
   "nbconvert_exporter": "python",
   "pygments_lexer": "ipython3",
   "version": "3.9.12"
  },
  "toc": {
   "base_numbering": 1,
   "nav_menu": {},
   "number_sections": true,
   "sideBar": true,
   "skip_h1_title": true,
   "title_cell": "Оглавление",
   "title_sidebar": "Contents",
   "toc_cell": true,
   "toc_position": {
    "height": "calc(100% - 180px)",
    "left": "10px",
    "top": "150px",
    "width": "289.6px"
   },
   "toc_section_display": true,
   "toc_window_display": true
  }
 },
 "nbformat": 4,
 "nbformat_minor": 5
}
